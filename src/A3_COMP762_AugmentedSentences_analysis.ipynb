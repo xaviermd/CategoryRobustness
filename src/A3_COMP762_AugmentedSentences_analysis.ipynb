{
  "nbformat": 4,
  "nbformat_minor": 0,
  "metadata": {
    "colab": {
      "name": "A3 COMP762_AugmentedSentences_analysis",
      "provenance": [],
      "collapsed_sections": [],
      "toc_visible": true,
      "machine_shape": "hm"
    },
    "kernelspec": {
      "name": "python3",
      "display_name": "Python 3"
    },
    "accelerator": "GPU"
  },
  "cells": [
    {
      "cell_type": "markdown",
      "metadata": {
        "id": "0C3QCAi6I65y"
      },
      "source": [
        "#Utility functions, parameters, and Google Drive"
      ]
    },
    {
      "cell_type": "code",
      "metadata": {
        "id": "TFoc4u5gil6O",
        "cellView": "form",
        "colab": {
          "base_uri": "https://localhost:8080/",
          "height": 122
        },
        "outputId": "7aabe062-05d3-4cf5-960b-91fc3122fef2"
      },
      "source": [
        "#@title Google Drive {run: \"auto\"}\n",
        "from google.colab import drive\n",
        "import os\n",
        "\n",
        "drive.mount('/gdrive', force_remount=True)\n",
        "drive_folder = \"COMP762_IntentionMining\" # @param {type:\"string\"}\n",
        "drive_folder = os.path.join(\"/gdrive/My Drive/\", drive_folder)\n"
      ],
      "execution_count": null,
      "outputs": [
        {
          "output_type": "stream",
          "text": [
            "Go to this URL in a browser: https://accounts.google.com/o/oauth2/auth?client_id=947318989803-6bn6qk8qdgf4n4g3pfee6491hc0brc4i.apps.googleusercontent.com&redirect_uri=urn%3aietf%3awg%3aoauth%3a2.0%3aoob&response_type=code&scope=email%20https%3a%2f%2fwww.googleapis.com%2fauth%2fdocs.test%20https%3a%2f%2fwww.googleapis.com%2fauth%2fdrive%20https%3a%2f%2fwww.googleapis.com%2fauth%2fdrive.photos.readonly%20https%3a%2f%2fwww.googleapis.com%2fauth%2fpeopleapi.readonly\n",
            "\n",
            "Enter your authorization code:\n",
            "··········\n",
            "Mounted at /gdrive\n"
          ],
          "name": "stdout"
        }
      ]
    },
    {
      "cell_type": "code",
      "metadata": {
        "id": "wVdeDaRxhNGh",
        "cellView": "form",
        "colab": {
          "base_uri": "https://localhost:8080/",
          "height": 136
        },
        "outputId": "0006d6f5-b1e2-40fa-ca34-369857dcd781"
      },
      "source": [
        "# @title Download text files from Google Drive\n",
        "\n",
        "import os\n",
        "import gdown\n",
        "import zipfile\n",
        "import shutil\n",
        "\n",
        "zfile = \"Intention-Mining-data.zip\"\n",
        "url = \"https://drive.google.com/uc?id=1T4aW9vwu1A01-XUZ5AugoHhBR2IVrame\"\n",
        "print(\"Downloading {}:\".format(zfile))\n",
        "if not os.path.isfile(zfile):\n",
        "    gdown.download(url, zfile, 0)\n",
        "else:\n",
        "    print('File already exists. Continuing.')\n",
        "\n",
        "\n",
        "z = zipfile.ZipFile(zfile, 'r')\n",
        "print(\"Extracting data...\")\n",
        "# Remove old paths\n",
        "if os.path.exists('data'):\n",
        "    !rm -r data\n",
        "# Unzip data and runs\n",
        "with zipfile.ZipFile(zfile, 'r') as z:\n",
        "    for filename in z.namelist():\n",
        "        if filename.startswith(\"data/\"):\n",
        "            z.extract(filename)\n",
        "print(\"done\")"
      ],
      "execution_count": null,
      "outputs": [
        {
          "output_type": "stream",
          "text": [
            "Downloading Intention-Mining-data.zip:\n"
          ],
          "name": "stdout"
        },
        {
          "output_type": "stream",
          "text": [
            "Downloading...\n",
            "From: https://drive.google.com/uc?id=1T4aW9vwu1A01-XUZ5AugoHhBR2IVrame\n",
            "To: /content/Intention-Mining-data.zip\n",
            "100%|██████████| 238k/238k [00:00<00:00, 93.7MB/s]"
          ],
          "name": "stderr"
        },
        {
          "output_type": "stream",
          "text": [
            "Extracting data...\n",
            "done\n"
          ],
          "name": "stdout"
        },
        {
          "output_type": "stream",
          "text": [
            "\n"
          ],
          "name": "stderr"
        }
      ]
    },
    {
      "cell_type": "code",
      "metadata": {
        "id": "xfmlEAWgUlq7",
        "cellView": "form",
        "colab": {
          "base_uri": "https://localhost:8080/",
          "height": 1000
        },
        "outputId": "f6cd6d16-f319-4387-8d3b-adbbb7c9f57f"
      },
      "source": [
        "# @title Download Token, Sentence, StanfordFiles, GetAllText(), and GetAllCategories()\n",
        "import gdown\n",
        "\n",
        "gdown.download(\"https://drive.google.com/uc?id=1lsi836Dfkx0S_UUAJwTPRdqolW2UREl0\", 'aim_parsed_text.py', False)\n",
        "\n",
        "# Reload just in case\n",
        "import importlib, aim_parsed_text\n",
        "GetAllText = aim_parsed_text.GetAllText\n",
        "GetTextByCategories = aim_parsed_text.GetTextByCategories\n",
        "Token = aim_parsed_text.Token\n",
        "Sentence = aim_parsed_text.Sentence\n"
      ],
      "execution_count": null,
      "outputs": [
        {
          "output_type": "stream",
          "text": [
            "Downloading...\n",
            "From: https://drive.google.com/uc?id=1lsi836Dfkx0S_UUAJwTPRdqolW2UREl0\n",
            "To: /content/aim_parsed_text.py\n",
            "100%|██████████| 25.5k/25.5k [00:00<00:00, 30.1MB/s]\n"
          ],
          "name": "stderr"
        },
        {
          "output_type": "stream",
          "text": [
            "[nltk_data] Downloading package stopwords to /root/nltk_data...\n",
            "[nltk_data]   Unzipping corpora/stopwords.zip.\n",
            "Downloading Automating-Intention-Mining-parsed-data.tar.gz: "
          ],
          "name": "stdout"
        },
        {
          "output_type": "stream",
          "text": [
            "Downloading...\n",
            "From: https://drive.google.com/uc?id=1MYR04EN9wyEw5C-RhpAmX5Xnat-jiBSy\n",
            "To: /content/Automating-Intention-Mining-parsed-data.tar.gz\n",
            "5.81MB [00:00, 17.4MB/s]\n"
          ],
          "name": "stderr"
        },
        {
          "output_type": "stream",
          "text": [
            "done\n",
            "Extracting files... \n",
            "Extracting files... done\n",
            "\n",
            "\n",
            "====================================================================\n",
            "functions:\n",
            "  def GetAllText(\n",
            "    word, show_pos,\n",
            "    remove_punctuation, remove_stopwords,\n",
            "    get_ancestors, projects_to_exclude\n",
            "  )\n",
            "    Returns all text as a list.\n",
            "    (See parameter descriptions below)\n",
            "\n",
            "  def GetTextByCategories(\n",
            "    word, show_pos,\n",
            "    remove_punctuation, remove_stopwords,\n",
            "    get_ancestors, projects_to_exclude\n",
            ")\n",
            "    Returns a dictionary with category names as keys and lists of\n",
            "    sentences belonging to that category as values.\n",
            "\n",
            "    Parameters:\n",
            "      word: \"word\" (original text) or lemma.\n",
            "      show_pos: show Part-Of-Speech tag?\n",
            "      remove_punctuation: self-explanatory.\n",
            "      remove_stopwords: self-explanatory.\n",
            "      get_ancestors: if True, get each token's ancestor's label (chunk).\n",
            "      projects_to_exclude: self-explanatory. E.g., [\"DECA\", \"vscode\"]\n",
            "\n",
            "\n",
            "classes:\n",
            "  class Token\n",
            "    Token(default_format, properties)\n",
            "      default_format: function returning format string (e.g.,\n",
            "        \"{{lemma}}\")\n",
            "      properties: json token dictionary\n",
            "    Token[property]\n",
            "      returns property\n",
            "    str(Token)\n",
            "      prints token using default_format\n",
            "    Token.to_string(format)\n",
            "      prints token using @format\n",
            "\n",
            "  class Sentence\n",
            "    Sentence(json, format, get_ancestor)\n",
            "      json: json output produced by Stanford parser.\n",
            "      format: format used to display sentence's tokens (e.g.,\n",
            "        \"{{originalText}}/{{pos}}\" to get \"word/NN\")\n",
            "      get_ancestor: boolean; if true, get ancestor label (chunk).\n",
            "    Sentence[ix]\n",
            "      get/set token using []\n",
            "    Sentence.makeParseTree()\n",
            "      create parse tree representation of sentence\n",
            "    Sentence.setFormat(newFmt)\n",
            "      change sentence format\n",
            "    Sentence.withoutPunctuation()\n",
            "      remove punctuation from Sentence\n",
            "    Sentence.withoutStopWords()\n",
            "      remove stop words from Sentence\n",
            "    Sentence.to_string(fmt, after)\n",
            "      transform sentence to string using @format and printing @after\n",
            "      between tokens. Set @after=None to print the token with the text\n",
            "      that originally followed it.\n",
            "    str(Sentence)\n",
            "      transform sentence to string using current format\n",
            "\n",
            "  class StanfordFiles\n",
            "    StanfordFiles(projects)\n",
            "      create a dataset containing the sentences from the projects\n",
            "      in @projects (e.g., StanfordFiles([\"docker\", \"tensorlow\"]))\n",
            "    static StanfordFiles.Preprocess(dataset)\n",
            "      preprocess @dataset (remove stop words, remove punctuation,\n",
            "      and get lemma).\n",
            "    StanfordFiles.build_vocabulary()\n",
            "      create vocabulary (word->int and int->word) for text and labels.\n",
            "    StanfordFiles.word2tensor(pad_length, [dataset])\n",
            "      convert words to embedding indices using vocabulary and pad\n",
            "      sentences to @pad_length. Words can come from \\$self or from\n",
            "      @dataset.\n",
            "    StanfordFiles.shuffle()\n",
            "      stratify and shuffle data. Often used before split().\n",
            "      WARNING: data will then be in a label_1, label_2, label_2, ...\n",
            "      If you do not want this, make sure to set shuffle=True when\n",
            "      creating the DataLoader\n",
            "    StanfordFiles.split(training_validation_split)\n",
            "      split dataset into training and validation sets. The training set\n",
            "      contains @training_validation_split portion of all sentences and\n",
            "      the validation set, 1 - @training_validation_split.\n",
            "    StanfordFiles[ix]\n",
            "      You can use [] to get/set a sentence/label pair.\n",
            "    len(StanfordFiles)\n",
            "      You can use len(dataset) to get the number of elements in the\n",
            "      dataset.\n",
            "\n",
            "======================================================================\n",
            "\n"
          ],
          "name": "stdout"
        }
      ]
    },
    {
      "cell_type": "code",
      "metadata": {
        "id": "lqM-ncG_yBVk",
        "cellView": "form",
        "colab": {
          "base_uri": "https://localhost:8080/",
          "height": 221
        },
        "outputId": "ef1b990c-0c06-4736-8b70-7e548eaa5804"
      },
      "source": [
        "# @title Download models from Google Drive\n",
        "\n",
        "import os\n",
        "import gdown\n",
        "\n",
        "model_filenames_urls = \\\n",
        "{\n",
        "  \"AIM_NB_LG_SVM.joblib\": \"https://drive.google.com/uc?id=14pbOMjrMnGWpZo82DzIPQZ0OEMuacinF\",\n",
        "  \"AIM_LSTM.joblib\": \"https://drive.google.com/uc?id=1rr9OXO22qjbAzsyl1dIGjLKO5JeloIrZ\",\n",
        "  \"AIM_CNN.joblib\": \"https://drive.google.com/uc?id=1mImAql1KXWL9OWtxhpUuOq3duWzrSrif\"\n",
        "}\n",
        "for filename, url in model_filenames_urls.items():\n",
        "  gdown.download(url, filename, 0)"
      ],
      "execution_count": null,
      "outputs": [
        {
          "output_type": "stream",
          "text": [
            "Downloading...\n",
            "From: https://drive.google.com/uc?id=14pbOMjrMnGWpZo82DzIPQZ0OEMuacinF\n",
            "To: /content/AIM_NB_LG_SVM.joblib\n",
            "2.86MB [00:00, 261MB/s]\n",
            "Downloading...\n",
            "From: https://drive.google.com/uc?id=1rr9OXO22qjbAzsyl1dIGjLKO5JeloIrZ\n",
            "To: /content/AIM_LSTM.joblib\n",
            "119MB [00:00, 164MB/s]  \n",
            "Downloading...\n",
            "From: https://drive.google.com/uc?id=1mImAql1KXWL9OWtxhpUuOq3duWzrSrif\n",
            "To: /content/AIM_CNN.joblib\n",
            "75.5MB [00:00, 202MB/s] \n"
          ],
          "name": "stderr"
        }
      ]
    },
    {
      "cell_type": "code",
      "metadata": {
        "id": "aN1vdP6E7NT7",
        "cellView": "form"
      },
      "source": [
        "#@title Utility functions\n",
        "\n",
        "def log_progress(sequence, every=None, size=None, name='Items'):\n",
        "    from ipywidgets import IntProgress, HTML, VBox\n",
        "    from IPython.display import display\n",
        "    \n",
        "    is_iterator = False\n",
        "    if size is None:\n",
        "        try:\n",
        "            size = len(sequence)\n",
        "        except TypeError:\n",
        "            is_iterator = True\n",
        "    if size is not None:\n",
        "        if every is None:\n",
        "            if size <= 200:\n",
        "                every = 1\n",
        "            else:\n",
        "                every = int(size / 200)     # every 0.5%\n",
        "    else:\n",
        "        assert every is not None, 'sequence is iterator, set every'\n",
        "\n",
        "    if is_iterator:\n",
        "        progress = IntProgress(min=0, max=1, value=1)\n",
        "        progress.bar_style = 'info'\n",
        "    else:\n",
        "        progress = IntProgress(min=0, max=size, value=0)\n",
        "    label = HTML()\n",
        "    box = VBox(children=[label, progress])\n",
        "    display(box)\n",
        "        \n",
        "    index = 0\n",
        "    try:\n",
        "        for index, record in enumerate(sequence, 1):\n",
        "            if index == 1 or index % every == 0:\n",
        "                if is_iterator:\n",
        "                    label.value = '{name}: {index} / ?'.format(\n",
        "                        name=name,\n",
        "                        index=index\n",
        "                    )\n",
        "                else:\n",
        "                    progress.value = index\n",
        "                    label.value = u'{name}: {index} / {size}'.format(\n",
        "                        name=name,\n",
        "                        index=index,\n",
        "                        size=size\n",
        "                    )\n",
        "                    \n",
        "            yield record\n",
        "    except:\n",
        "        progress.bar_style = 'danger'\n",
        "        raise\n",
        "    else:\n",
        "        progress.bar_style = 'success'\n",
        "        progress.value = index\n",
        "        label.value = \"{name}: {index}\".format(\n",
        "            name=name,\n",
        "            index=str(index or '?')\n",
        "        )\n",
        "\n",
        "def try_makedirs(d):\n",
        "    import os\n",
        "    try:\n",
        "        os.makedirs(d)\n",
        "    except FileExistsError as e:\n",
        "        pass\n",
        "\n",
        "    \n",
        "def load_image(filename):\n",
        "    return \\\n",
        "        PIL.Image.open(filename)\\\n",
        "          .convert('RGB')\n",
        "\n",
        "    \n",
        "# def load_image(filename):\n",
        "#     return \\\n",
        "#         PIL.Image.open(filename)\\\n",
        "#           .resize((64,64), _interpolation_method)\\\n",
        "#           .convert('RGB')\n",
        "\n",
        "# def load_image(filename):\n",
        "#     return np.array(\n",
        "#         PIL.Image.open(filename)\\\n",
        "#           .resize((64,64), _interpolation_method)\\\n",
        "#           .convert('RGB'),\n",
        "#         dtype=np.float32\n",
        "#     )/255\n",
        "\n",
        "\n",
        "# def plot_results(\n",
        "#     results_1, model_1_name, model_1_color,\n",
        "#     # results_2, model_2_name, model_2_color\n",
        "# ):\n",
        "    \n",
        "    \n",
        "def plot_results_to_grid(\n",
        "    grid, where,\n",
        "    results, model_name, model_color,\n",
        "    learning_rate, lr_color\n",
        "):\n",
        "    import matplotlib.pyplot as plt\n",
        "    \n",
        "    with grid.output_to(where[0], where[1]):\n",
        "        res_y = results\n",
        "        res_x = np.where(np.invert(np.isnan(res_y)))[0]\n",
        "        res_y = res_y[res_x]\n",
        "        res_x += 1\n",
        "\n",
        "        learning_rate = np.array(learning_rate)\n",
        "        lr_x = np.where((learning_rate[0:-1] != learning_rate[1:]) * np.invert(np.isnan(learning_rate[0:-1])) * np.invert(np.isnan(learning_rate[1:])))\n",
        "        lr_x = np.repeat(2+np.reshape(lr_x[0], (1, -1)), 2, 0)\n",
        "        lr_y = np.repeat(np.array([[0], [100]], ndmin=2), lr_x.shape[1], 1)\n",
        "        lr_r = learning_rate[lr_x[0, :] -1]\n",
        "\n",
        "        # Show original lr\n",
        "        lr_x = np.concatenate((np.array([[0.5],[0.5]], ndmin=2), lr_x), 1)\n",
        "        lr_y = np.concatenate((np.array([[np.nan],[np.nan]], ndmin=2), lr_y), 1)\n",
        "        lr_r = np.concatenate((np.array(learning_rate[0], ndmin=1), lr_r))\n",
        "\n",
        "        # Alternate text y position to make it more readable       \n",
        "        lr_t = np.repeat([[80], [20]], (1+lr_r.size)/2, 1).T.flatten()\n",
        "        \n",
        "        grid.clear_cell()\n",
        "\n",
        "        res_plt = plt.plot(res_x, res_y, model_color + '-', res_x, res_y, model_color + 'o')\n",
        "        lr_plt = plt.plot(lr_x, lr_y, lr_color + '--')\n",
        "        for x, r, t in zip(lr_x.T, lr_r, lr_t):\n",
        "            plt.text(x[0] + results.shape[0]/100, t, \"lr = {}\".format(r), color=lr_color) #withdash=True, \n",
        "        \n",
        "        # plt.legend((one_plt[0], two_plt[0]), (model_1_name, model_2_name))\n",
        "        plt.legend([res_plt[0]], [model_name])\n",
        "        plt.title('Model accuracy improvement over time')\n",
        "        plt.xlabel('# of epochs')\n",
        "        plt.xlim(0.5, 0.5 + results.shape[0])\n",
        "        plt.xticks(np.floor(np.linspace(1, results.shape[0], 11)))\n",
        "        plt.ylabel('Accuracy (%)')\n",
        "        plt.ylim(0, 100)\n",
        "        plt.yticks(np.linspace(0, 100, 11));\n",
        "        plt.draw()\n",
        "\n",
        "        \n",
        "def elapsed_time(model_name, i):\n",
        "    import time\n",
        "    \n",
        "    if 0 == i:\n",
        "        elapsed_time.start = time.time()\n",
        "    else:\n",
        "        print(\n",
        "            \"{{{}}} The last training epoch took {} seconds.\\n\\n\".format(\n",
        "                model_name, time.time() - elapsed_time.start\n",
        "            )\n",
        "        )\n",
        "        \n",
        "\n",
        "class CatchIO:\n",
        "    def __init__(self):\n",
        "        self._stdout = None\n",
        "        self.buffer = None\n",
        "    \n",
        "    def __enter__(self):\n",
        "        import sys\n",
        "        import io\n",
        "        \n",
        "        self._stdout = sys.stdout\n",
        "        sys.stdout = io.StringIO()\n",
        "    \n",
        "    def __exit__(self, type_, value, traceback):\n",
        "        import sys\n",
        "        \n",
        "        self.buffer = sys.stdout.getvalue()\n",
        "        sys.stdout = self._stdout\n",
        "        if value is not None:\n",
        "            raise value\n"
      ],
      "execution_count": null,
      "outputs": []
    },
    {
      "cell_type": "markdown",
      "metadata": {
        "id": "YDVa_NYwJH_u"
      },
      "source": [
        "#Models and datasets"
      ]
    },
    {
      "cell_type": "code",
      "metadata": {
        "id": "gxuWtQ5tLCiy"
      },
      "source": [
        "# @title Automating Intention Mining CNN {display-mode: \"form\"}\n",
        "\n",
        "import torch.nn as nn\n",
        "import torch.nn.functional as F\n",
        "\n",
        "class AIM_CNN(nn.Module):\n",
        "    def __init__(self,\n",
        "        sequence_length, num_classes, vocab_size, embedding_size,\n",
        "        filter_sizes, num_filter, #, l2_reg_lambda\n",
        "    ):\n",
        "      super(AIM_CNN, self).__init__()\n",
        "      self.embed = nn.Embedding(vocab_size, embedding_size, padding_idx=None)\n",
        "      self.CBRs = nn.ModuleList([\n",
        "        nn.Sequential(\n",
        "            nn.Conv2d(1, num_filter, (fsize, embedding_size), stride=1),\n",
        "            nn.BatchNorm2d(embedding_size),\n",
        "            nn.ReLU()\n",
        "        ) \\\n",
        "        for fsize in filter_sizes\n",
        "      ])\n",
        "      self.drop = nn.Dropout(0.5)\n",
        "      self.classifier = nn.Linear(len(filter_sizes) * num_filter, num_classes)\n",
        "    \n",
        "    def forward_plus(self, x):\n",
        "      # Word index to embedded format\n",
        "      x = self.embed(x)\n",
        "      # Add channel dimension\n",
        "      x = torch.unsqueeze(x, 1)\n",
        "      z = torch.zeros((x.shape[0], 0, 1), device=x.device)\n",
        "      for cbr in self.CBRs:\n",
        "        y = cbr(x)\n",
        "        y = torch.squeeze(y, -1)\n",
        "        # Remove last dimension (size 1)\n",
        "        y = torch.squeeze(y, -1)\n",
        "        y = F.max_pool2d(y, (1, y.size(2)))\n",
        "        z = torch.cat((z, y), 1)\n",
        "\n",
        "      z = self.drop(z)\n",
        "      z = z.squeeze(-1)\n",
        "      z = self.classifier(z)\n",
        "      return (F.log_softmax(z, dim=1), z)\n",
        "    \n",
        "    def forward(self, x):\n",
        "      return self.forward_plus(x)[0]"
      ],
      "execution_count": null,
      "outputs": []
    },
    {
      "cell_type": "code",
      "metadata": {
        "id": "Ht1-4IV_Unfu",
        "cellView": "form"
      },
      "source": [
        "# @title LSTM\n",
        "\n",
        "import torch.nn as nn\n",
        "import torch.nn.functional as F\n",
        "\n",
        "class AIM_LSTM(nn.Module):\n",
        "    def __init__(self,\n",
        "        sequence_length, num_classes, vocab_size, embedding_size,\n",
        "         hidden_dim, n_layers\n",
        "         #, l2_reg_lambda\n",
        "    ):\n",
        "      super(AIM_LSTM, self).__init__()\n",
        "      self.embed = nn.Embedding(vocab_size, embedding_size, padding_idx=None)\n",
        "      self.lstm = nn.LSTM(embedding_size, \n",
        "                          hidden_dim, \n",
        "                          num_layers=n_layers, \n",
        "                          bidirectional=True, \n",
        "                          dropout=0.5)\n",
        "      self.drop = nn.Dropout(0.5)\n",
        "      self.classifier = nn.Linear(hidden_dim * 2, num_classes)\n",
        "    \n",
        "    def forward_plus(self, text):\n",
        "      text = text.t()\n",
        "      embedded = self.drop(self.embed(text))\n",
        "      packed_output, (hidden, cell) = self.lstm(embedded)\n",
        "      hidden = self.drop(torch.cat((hidden[-2,:,:], hidden[-1,:,:]), dim = 1))\n",
        "      return (\n",
        "        nn.functional.log_softmax(self.classifier(hidden), dim=1),\n",
        "        hidden\n",
        "      )\n",
        "\n",
        "    def forward(self, text):\n",
        "      return self.forward_plus(text)[0]"
      ],
      "execution_count": null,
      "outputs": []
    },
    {
      "cell_type": "code",
      "metadata": {
        "id": "alY6AQoXU_-g",
        "cellView": "form"
      },
      "source": [
        "# @title TextFiles(Dataset) {display-mode: \"form\"} [COMMENTED OUT]\n",
        "# from torch.utils.data import Dataset\n",
        "# import torchtext\n",
        "# import collections\n",
        "# import numpy as np\n",
        "# import torch\n",
        "# import warnings\n",
        "# import copy\n",
        "# import re\n",
        "# import nltk\n",
        "# nltk.download('punkt')\n",
        "# nltk.download('stopwords')\n",
        "# nltk.download('wordnet')\n",
        "# from nltk.tokenize import word_tokenize\n",
        "# from nltk.corpus import stopwords \n",
        "# from nltk.stem.wordnet import WordNetLemmatizer as lem\n",
        "# stop_words = set(stopwords.words('english')) \n",
        "# stop_words.add('would')\n",
        "\n",
        "# class TextFiles(Dataset):\n",
        "\n",
        "#     def __init__(self, paths, encoding='utf-8',\n",
        "#                  line_split_f=None, label_f=None):\n",
        "        \n",
        "#         if paths is None:\n",
        "#             paths = []\n",
        "\n",
        "#         self.text_vocab = None\n",
        "#         self.label_vocab = None\n",
        "#         self.text = []\n",
        "#         self.processed = None\n",
        "#         self.vec = None\n",
        "#         self.labels = []\n",
        "#         tmp = []\n",
        "#         for p in paths:\n",
        "#             with open(p, 'r', encoding=encoding) as f:\n",
        "#                 tmp = list(f)\n",
        "        \n",
        "#             # If a split function is specified, join text and let the function\n",
        "#             # handle it. Otherwise, use newlines to split.\n",
        "#             if line_split_f is not None:\n",
        "#                 self.text.extend(line_split_f(\"\".join(tmp)))\n",
        "#             else:\n",
        "#                 self.text.extend(tmp)\n",
        "        \n",
        "#             # Get true label for each entity\n",
        "#             if label_f is not None:\n",
        "#                 self.labels.extend([label_f(t, p, ix) for ix, t in enumerate(tmp)])\n",
        "#             else:\n",
        "#                 self.labels = None\n",
        "\n",
        "#         self.processed = copy.deepcopy(self.text)\n",
        "\n",
        "#     @staticmethod\n",
        "#     def Preprocess(dataset):\n",
        "#         for ix, (sent, label) in enumerate(dataset):\n",
        "#             sent = word_tokenize(sent)\n",
        "#             sent = [w.lower() for w in sent if re.fullmatch('[a-zA-Z.][a-zA-Z.]+', w)]\n",
        "#             lemmatizer = lem()\n",
        "#             sent = [lemmatizer.lemmatize(w) for w in sent]\n",
        "#             # Removing stop words seems to hurt the model's performance.\n",
        "#             # sent = [w for w in sent if w not in stop_words]\n",
        "#             dataset[ix] = (sent, label)\n",
        "\n",
        "#     def build_vocabulary(self):\n",
        "#         # Warning: assumes that text has already been preprocessed and split!\n",
        "#         # Create vocabularies from text and label\n",
        "\n",
        "#         self.text_vocab = torchtext.vocab.Vocab(\n",
        "#             collections.Counter(\n",
        "#                 [word for (sentence, label) in self for word in sentence]\n",
        "#             ), specials=['<unk>', '<pad>'], specials_first=True\n",
        "#         )\n",
        "#         self.label_vocab = torchtext.vocab.Vocab(\n",
        "#             collections.Counter([label for (sentence, label) in self]) , specials=[]\n",
        "#         )\n",
        "\n",
        "#     def word2tensor(self, pad_length, dataset=None):\n",
        "#         # Transforms text and labels to numerical indices using vocabulary built\n",
        "#         # using this dataset.\n",
        "#         #\n",
        "#         #   pad_length      Length to pad to (e.g., pad_length = 100, but\n",
        "#         #                   sentence is 75 characters, then 25 <pad> characters\n",
        "#         #                   will be added.\n",
        "#         #   dataset         Dataset to which to apply this. Iterating dataset\n",
        "#         #                   should return a (text, label) tuple. Default: self \n",
        "#         #                   (if dataset=None, use self).\n",
        "#         #\n",
        "#         # Warning: assumes that text has already been preprocessed and split!\n",
        "\n",
        "#         if dataset is None:\n",
        "#             dataset = self\n",
        "        \n",
        "#         if isinstance(dataset, TextFiles):\n",
        "#             vec = [[]] * len(self.processed)\n",
        "#             lab = [[]] * len(self.labels)\n",
        "\n",
        "#         # Text to numerical indices (tensors)\n",
        "#         for ix in range(len(dataset)):\n",
        "#             sentence = [self.text_vocab.stoi[word] for word in dataset[ix][0]]\n",
        "#             label = self.label_vocab.stoi[dataset[ix][1]]\n",
        "\n",
        "#             if pad_length is not None and len(sentence) > pad_length:\n",
        "#                 warnings.warn(\n",
        "#                     'The following sentence has {} characters which is longer '\\\n",
        "#                     'than your padding length ({}).\\nSentence = \"{}\"'\\\n",
        "#                     .format(len(sentence), pad_length, sentence)\n",
        "#                 )\n",
        "#             elif pad_length is not None:\n",
        "#                 sentence = sentence + [self.text_vocab.stoi['<pad>']]*(pad_length-len(sentence))\n",
        "\n",
        "#             if isinstance(dataset, TextFiles):\n",
        "#                 vec[ix] = torch.tensor(sentence)\n",
        "#                 lab[ix] = torch.tensor(label)\n",
        "#             else:\n",
        "#                 dataset[ix] = (torch.tensor(sentence), torch.tensor(label))\n",
        "        \n",
        "#         if isinstance(dataset, TextFiles):\n",
        "#             dataset.vec = vec\n",
        "#             dataset.labels = lab\n",
        "\n",
        "#     def shuffle(self):\n",
        "#         # Order the data such that the classes are ordered and proportionally\n",
        "#         # represented (e.g., if for each element from categories 1 and 2 there\n",
        "#         # are two from category 3, then [1, 2, 3, 3, 1, 2, 3, 3, ...])\n",
        "#         # but such that the instances of within the categories are random. \n",
        "#         old_text = self.text\n",
        "#         old_processed = self.processed\n",
        "#         old_vec = self.vec\n",
        "#         old_labels = self.labels\n",
        "#         L = np.array([{lab: ix for ix, lab in enumerate(set(self.labels))}.get(lab) for lab in self.labels])\n",
        "\n",
        "#         index = [np.where(L == ii)[0] for ii in set(L)]\n",
        "#         permuted = [np.random.permutation(ii.size) for ii in index]\n",
        "\n",
        "#         # CATegory ID's Sorted by category Size (number of elements in the category)\n",
        "#         cat_id_ss = np.argsort([c.size for c in index])\n",
        "\n",
        "#         ix = 0;\n",
        "#         ct = [0]*len(index)\n",
        "#         self.text = [[]]*len(self.text)\n",
        "#         self.processed = [[]]*len(self.processed)\n",
        "#         if self.vec is not None:\n",
        "#             self.vec = [[]]*len(self.vec)\n",
        "#         self.labels = [[]]*len(self.labels)\n",
        "#         for ii in range(len(L)):\n",
        "#             # Current category\n",
        "#             cix = cat_id_ss[ix]\n",
        "#             # Next category\n",
        "#             nix = cat_id_ss[(1 + ix) % len(cat_id_ss)]\n",
        "#             # Finished with a category? Remove it from the list of ID's\n",
        "#             while ct[cix] >= len(permuted[cix]):\n",
        "#                 # remove category\n",
        "#                 cat_id_ss = np.delete(cat_id_ss, ix)\n",
        "#                 # recalculate ix\n",
        "#                 ix = ix % len(cat_id_ss)\n",
        "#                 # recalculate current and next category\n",
        "#                 cix = cat_id_ss[ix]\n",
        "#                 nix = cat_id_ss[(1 + ix) % len(cat_id_ss)]\n",
        "                \n",
        "#             # Array index (within array index [see below])\n",
        "#             ax = permuted[cix][ct[cix]]\n",
        "#             # Permuted array index\n",
        "#             px = index[cix][ax]\n",
        "\n",
        "#             # Label = OldLabel[permuted_array_index]\n",
        "#             self.labels[ii] = old_labels[px]\n",
        "#             # Text = OldText[permuted_array_index]\n",
        "#             self.text[ii] = old_text[px]\n",
        "#             self.processed[ii] = old_processed[px]\n",
        "#             if self.vec is not None:\n",
        "#                 self.vec[ii] = old_vec[px]\n",
        "#             # Count this as one more instance of this category\n",
        "#             ct[cix] = 1 + ct[cix]\n",
        "#             # How do the category proportions compare? If the category has a higher proportion\n",
        "#             # of elements in the resulting array, move on to the next category.\n",
        "#             if ct[cix] / len(index[cix]) >= ct[nix] / len(index[nix]) :\n",
        "#                 ix = (1 + ix) % len(cat_id_ss)\n",
        "\n",
        "\n",
        "#     def split(self, training_validation_split):\n",
        "#         idx = int(np.ceil(len(self) * training_validation_split))\n",
        "\n",
        "#         train = TextFiles(paths=None, encoding=None, line_split_f=None, label_f=None)\n",
        "#         train.text = self.text[:idx]\n",
        "#         train.processed = self.processed[:idx]\n",
        "#         train.labels = self.labels[:idx]\n",
        "\n",
        "#         validation = TextFiles(paths=None, encoding=None, line_split_f=None, label_f=None)\n",
        "#         validation.text = self.text[idx:]\n",
        "#         validation.processed = self.processed[idx:]\n",
        "#         validation.labels = self.labels[idx:]\n",
        "\n",
        "#         if self.vec is not None:\n",
        "#             train.vec = self.vec[:idx]\n",
        "#             validation.vec = self.vec[idx:]\n",
        "\n",
        "#         return train, validation\n",
        "\n",
        "\n",
        "#     def __len__(self):\n",
        "#         return len(self.text)\n",
        "\n",
        "\n",
        "#     def __getitem__(self, idx):\n",
        "#         if 0 > idx or idx >= len(self):\n",
        "#             raise IndexError\n",
        "\n",
        "#         if self.vec is not None:\n",
        "#             t = self.vec[idx]\n",
        "#         else:\n",
        "#             t = self.processed[idx]\n",
        "\n",
        "#         if self.labels is None:\n",
        "#             label = idx\n",
        "#         else:\n",
        "#             label = self.labels[idx]\n",
        "\n",
        "#         return (t, label)\n",
        "\n",
        "\n",
        "#     def __setitem__(self, idx, value):\n",
        "#         if not isinstance(value, tuple):\n",
        "#             raise TypeError\n",
        "\n",
        "#         if isinstance(value[0], torch.Tensor) and self.vec is not None:\n",
        "#             self.vec[idx] = value[0];\n",
        "#         else:\n",
        "#             self.processed[idx] = value[0];\n",
        "\n",
        "#         if self.labels is not None:\n",
        "#             self.labels[idx] = value[1]\n",
        "\n",
        "\n",
        "# # def Text2Index(text, pad_length, vvv = None):\n",
        "# #     vocab = torchtext.vocab.Vocab(\n",
        "# #         collections.Counter(\n",
        "# #             \" \".join([t.strip() for t in text]).split()\n",
        "# #         ), specials=['<unk>', '<pad>'], specials_first=True\n",
        "# #     )\n",
        "# #     text = [[vocab.stoi[w] for w in sentence.split()] for sentence in text]\n",
        "# #     for ix,sentence in enumerate(text):\n",
        "# #         if len(sentence) > pad_length:\n",
        "# #             warnings.warn('The following sentence has {} characters which is longer than your padding length ({}).\\nSentence = \"{}\"'\\\n",
        "# #                 .format(len(sentence), pad_length, sentence)\n",
        "# #             )\n",
        "# #         else:\n",
        "# #             text[ix] = sentence + [vocab.stoi['<pad>']]*(pad_length-len(sentence))\n",
        "# #     if vvv is not None:\n",
        "# #         vvv.extend([vocab])\n",
        "# #     return text\n",
        "\n",
        "# # def Label2Index(labels):\n",
        "# #     vocab = torchtext.vocab.Vocab(collections.Counter(labels), specials=['<unk>', '<pad>'], specials_first=True)\n",
        "# #     return [vocab.stoi[lab] for lab in labels]"
      ],
      "execution_count": null,
      "outputs": []
    },
    {
      "cell_type": "code",
      "metadata": {
        "id": "3t3kFIzaaEnJ",
        "cellView": "form"
      },
      "source": [
        "# @title PreprocessForPredict() {display-mode: \"form\"} [COMMENTED OUT]\n",
        "# import re\n",
        "# import nltk\n",
        "# nltk.download('punkt')\n",
        "# nltk.download('stopwords')\n",
        "# nltk.download('wordnet')\n",
        "# from nltk.tokenize import word_tokenize\n",
        "# from nltk.corpus import stopwords \n",
        "# from nltk.stem.wordnet import WordNetLemmatizer as lem\n",
        "# stop_words = set(stopwords.words('english')) \n",
        "# stop_words.add('would')\n",
        "\n",
        "# def PreprocessForPredict(dataset):\n",
        "#     for ix, (sent, label) in enumerate(dataset):\n",
        "#         sent = word_tokenize(sent)\n",
        "#         sent = [w.lower() for w in sent if re.fullmatch('[a-zA-Z.][a-zA-Z.]+', w)]\n",
        "#         lemmatizer = lem()\n",
        "#         sent = [lemmatizer.lemmatize(w) for w in sent]\n",
        "#         # Removing stop words seems to hurt the model's performance.\n",
        "#         # sent = [w for w in sent if w not in stop_words]\n",
        "#         dataset[ix] = (sent, label)\n",
        "\n",
        "# # def preprocess(data):\n",
        "# #   filtered = []\n",
        "# #   for i in data:\n",
        "# #     sent = re.sub(r'[^a-zA-Z ]+', '', i).lower()\n",
        "# #     sent = word_tokenize(sent)\n",
        "# #     tok_sent = []\n",
        "# #     for w in sent:\n",
        "# #       if not w in stop_words:\n",
        "# #         lemmatized = lem().lemmatize(w)\n",
        "# #         tok_sent.append(lemmatized)\n",
        "# #     filtered.append(tok_sent)\n",
        "# #   return filtered\n"
      ],
      "execution_count": null,
      "outputs": []
    },
    {
      "cell_type": "code",
      "metadata": {
        "id": "1EoF29Fo1HKE",
        "cellView": "form"
      },
      "source": [
        "# @title word2tensor(dataset__or__list_of_tuples, pad_length)\n",
        "import torch\n",
        "\n",
        "def word2tensor(dataset, text_vocab, label_vocab, pad_length):\n",
        "    # Transforms text and labels to numerical indices using vocabulary built\n",
        "    # using this dataset.\n",
        "    #\n",
        "    #   pad_length      Length to pad to (e.g., pad_length = 100, but\n",
        "    #                   sentence is 75 characters, then 25 <pad> characters\n",
        "    #                   will be added.\n",
        "    #   dataset         Dataset to which to apply this. Iterating dataset\n",
        "    #                   should return a (text, label) tuple. Default: self \n",
        "    #                   (if dataset=None, use self).\n",
        "    #\n",
        "    # Warning: assumes that text has already been preprocessed and split!\n",
        "\n",
        "    out = []\n",
        "\n",
        "    # Text to numerical indices (tensors)\n",
        "    for ix in range(len(dataset)):\n",
        "        sentence = [text_vocab.stoi[word] for word in dataset[ix][0]]\n",
        "        \n",
        "        if label_vocab is not None:\n",
        "          label = label_vocab.stoi[dataset[ix][1]]\n",
        "        else:\n",
        "          label = []\n",
        "\n",
        "        if pad_length is not None and len(sentence) > pad_length:\n",
        "            warnings.warn(\n",
        "                'The following sentence has {} characters which is longer '\\\n",
        "                'than your padding length ({}).\\nSentence = \"{}\"'\\\n",
        "                .format(len(sentence), pad_length, sentence)\n",
        "            )\n",
        "        elif pad_length is not None:\n",
        "            sentence = sentence + [text_vocab.stoi['<pad>']]*(pad_length-len(sentence))\n",
        "\n",
        "        out.append((torch.tensor(sentence), torch.tensor(label)))\n",
        "    \n",
        "    return out"
      ],
      "execution_count": null,
      "outputs": []
    },
    {
      "cell_type": "code",
      "metadata": {
        "id": "g54Ru642KcgQ",
        "colab": {
          "base_uri": "https://localhost:8080/",
          "height": 34
        },
        "outputId": "925da86c-febf-4821-83b7-f2c2d3dc1fd2"
      },
      "source": [
        "#@title train(), validate(), and test() {display-mode: \"form\"}\n",
        "import torch.nn.functional as F\n",
        "import torch\n",
        "\n",
        "def train(model, model_name, device, train_loader, optimizer, epoch):\n",
        "    model.train()\n",
        "    for batch_idx, (data, target) in enumerate(train_loader):\n",
        "        data, target = data.to(device), target.to(device)\n",
        "        optimizer.zero_grad()\n",
        "        output = model(data)\n",
        "              \n",
        "        loss = F.nll_loss(output, target)\n",
        "        loss.backward()\n",
        "        optimizer.step()\n",
        "        if batch_idx % _log_interval == 0:\n",
        "            print('{{{}}} Train Epoch: {} [{}/{} ({:.0f}%)]\\tLoss: {:.6f}'.format(\n",
        "                    model_name, epoch, batch_idx * len(data),\n",
        "                    len(train_loader.dataset),\n",
        "                    100. * batch_idx / len(train_loader), loss.item()\n",
        "                )\n",
        "            )\n",
        "\n",
        "\n",
        "def validate(model, model_name, device, validation_loader):\n",
        "    model.eval()\n",
        "    validation_loss = 0\n",
        "    correct = 0\n",
        "    with torch.no_grad():\n",
        "        for data, target in validation_loader:\n",
        "            data, target = data.to(device), target.to(device)\n",
        "            output = model(data)\n",
        "\n",
        "            # sum up batch loss\n",
        "            validation_loss += F.nll_loss(output, target, reduction='sum').item()\n",
        "            # validation_loss += F.mse_loss(output, target, reduction='sum').item()\n",
        "            # get the index of the max log-probability\n",
        "            pred = output.argmax(dim=1, keepdim=True)\n",
        "            correct += pred.eq(target.view_as(pred)).sum().item()\n",
        "\n",
        "    validation_loss /= len(validation_loader.dataset)\n",
        "\n",
        "    print(\n",
        "        '\\n{{{}}} Validation set: Average loss: {:.4f}, Accuracy: {}/{} ({:.0f}%)\\n'\n",
        "        .format(\n",
        "            model_name, validation_loss, correct,\n",
        "            len(validation_loader.dataset),\n",
        "            100. * correct / len(validation_loader.dataset)\n",
        "        )\n",
        "    )\n",
        "\n",
        "    return validation_loss, 100. * correct / len(validation_loader.dataset)\n",
        "\n",
        "\n",
        "def test(model, model_name, device, test_loader):\n",
        "    model.eval()\n",
        "    test_loss = 0\n",
        "    correct = 0\n",
        "    predictions = []\n",
        "    with torch.no_grad():\n",
        "        for data, target in test_loader:\n",
        "            data, target = data.to(device), target.to(device)\n",
        "            output = model(data)\n",
        "\n",
        "            # sum up batch loss\n",
        "            # test_loss += F.mse_loss(output, target, reduction='sum').item()\n",
        "            test_loss += F.nll_loss(output, target, reduction='sum').item()\n",
        "            # get the index of the max log-probability\n",
        "            pred = output.argmax(dim=1, keepdim=True)\n",
        "            correct += pred.eq(target.view_as(pred)).sum().item()\n",
        "\n",
        "    test_loss /= len(test_loader.dataset)\n",
        "\n",
        "    print(\n",
        "        '\\n{{{}}} Test set: Average loss: {:.4f}, Accuracy: {}/{} ({:.0f}%)\\n'\n",
        "        .format(\n",
        "            model_name, test_loss, correct, len(test_loader.dataset),\n",
        "            100. * correct / len(test_loader.dataset)\n",
        "        )\n",
        "    )\n",
        "\n",
        "    return test_loss, 100. * correct / len(test_loader.dataset)\n",
        "\n",
        "torch.manual_seed(1)"
      ],
      "execution_count": null,
      "outputs": [
        {
          "output_type": "execute_result",
          "data": {
            "text/plain": [
              "<torch._C.Generator at 0x7f8a755b2e30>"
            ]
          },
          "metadata": {
            "tags": []
          },
          "execution_count": 10
        }
      ]
    },
    {
      "cell_type": "code",
      "metadata": {
        "id": "LNpjiJChKeto",
        "cellView": "form"
      },
      "source": [
        "# @title Predict(model, text_vocab, text) {display-mode: \"form\"} [COMMENTED OUT]\n",
        "\n",
        "# def Predict(model, text_vocab, label_vocab, text):\n",
        "#     # Not learning\n",
        "#     model.eval()\n",
        "#     # For strings\n",
        "#     if not isinstance(text, list):\n",
        "#         text = [text]\n",
        "#     # Create \"dataset\"\n",
        "#     text_labels = [(sentence, '') for sentence in text]\n",
        "#     PreprocessForPredict(text_labels)\n",
        "#     # Word 2 tensor + padding\n",
        "#     text_labels = word2tensor(text_labels, text_vocab, None, saved['params']['_padded_string_length'])\n",
        "#     # (text,label)->[text,text,...]\n",
        "#     text = torch.stack([sentence for sentence, label in text_labels], dim=0)\n",
        "#     # CUDA?\n",
        "#     text = text.to(next(model.parameters()).device)\n",
        "#     # Prediction\n",
        "#     return torch.argmax(model(text).cpu(), 1)"
      ],
      "execution_count": null,
      "outputs": []
    },
    {
      "cell_type": "code",
      "metadata": {
        "id": "Z1T6hl4XzeLx",
        "cellView": "form"
      },
      "source": [
        "# @title NNPredictStanford()\n",
        "\n",
        "def NNPredictStanford(model, text_vocab, label_vocab, pad_size, processed_text):\n",
        "    # Not learning\n",
        "    model.eval()\n",
        "    # Make list if not a list\n",
        "    if not isinstance(processed_text, list):\n",
        "        processed_text = [processed_text]\n",
        "    # Make dataset\n",
        "    text_labels = [(sentence, '') for sentence in processed_text]\n",
        "    # Word 2 tensor + padding\n",
        "    text_labels = word2tensor(text_labels, text_vocab, None, pad_size)\n",
        "    # (text,label)->[text,text,...]\n",
        "    text = torch.stack([sentence for sentence, label in text_labels], dim=0)\n",
        "    # CUDA?\n",
        "    text = text.to(next(model.parameters()).device)\n",
        "    # Prediction\n",
        "    return [label_vocab.itos[c] for c in torch.argmax(model(text).cpu(), 1)]"
      ],
      "execution_count": null,
      "outputs": []
    },
    {
      "cell_type": "markdown",
      "metadata": {
        "id": "IHt5Q3qKKV7_"
      },
      "source": [
        "#Analyses"
      ]
    },
    {
      "cell_type": "code",
      "metadata": {
        "id": "aSNbCxUR4dSg",
        "cellView": "code",
        "colab": {
          "base_uri": "https://localhost:8080/",
          "height": 1000
        },
        "outputId": "9d424063-e2d9-475d-d01e-24bb247b6c99"
      },
      "source": [
        "# @title Generate Augmented NP-swapped sentences\n",
        "from IPython.core.display import display, HTML\n",
        "import numpy as np\n",
        "\n",
        "def validate_noun_phrase(tree_1, subtree_1_index, tree_2, subtree_2_index):\n",
        "  subtree_1 = tree_1[subtree_1_index]\n",
        "  subtree_2 = tree_2[subtree_2_index]\n",
        "  nb_leaves_1 = len(subtree_1.leaves())\n",
        "  nb_leaves_2 = len(subtree_2.leaves())\n",
        "  \n",
        "  # At least two words, but not the whole sentence\n",
        "  return 1 < nb_leaves_1 and nb_leaves_1 < len(tree_1.leaves()) \\\n",
        "     and 1 < nb_leaves_2 and nb_leaves_2 < len(tree_2.leaves())\n",
        "\n",
        "text = GetTextByCategories(\n",
        "  word=\"word\", show_pos=False, remove_punctuation=False, remove_stopwords=False\n",
        ")\n",
        "categories = list(text.keys())\n",
        "\n",
        "swapped = {}\n",
        "for i in range(len(categories)):\n",
        "  cat_1 = categories[i]\n",
        "  for j in range(i, len(categories)):\n",
        "    cat_2 = categories[j]\n",
        "    swapped[cat_1, cat_2] = []\n",
        "    for k in range(0, 500, 2):\n",
        "      swap_1 = swap_2 = None\n",
        "      while swap_1 is None or swap_2 is None:\n",
        "        sent_1 = text[categories[i]][np.random.randint(len(text[categories[i]]))]\n",
        "        sent_2 = text[categories[j]][np.random.randint(len(text[categories[j]]))]\n",
        "        swap_1, swap_2, orig_1, orig_2 = Sentence.SwapPhrases(\n",
        "          sent_1, sent_2, \"NP\", validate_phrase=validate_noun_phrase,\n",
        "          prefix=['<span style=\"color: red\">', '<span style=\"color: blue\">'],\n",
        "          suffix=\"</span>\"\n",
        "        )\n",
        "        if swap_1 is None or swap_2 is None \\\n",
        "        or swap_1.withoutHTML() in swapped[cat_1, cat_2] \\\n",
        "        or swap_2.withoutHTML() in swapped[cat_1, cat_2]:\n",
        "          continue\n",
        "      swapped[cat_1, cat_2].extend([swap_1.withoutHTML(), swap_2.withoutHTML()])\n",
        "      if k < 3:\n",
        "        display(HTML(\"<b>O1:</b> \" + str(orig_1)))\n",
        "        display(HTML(\"<b>O2:</b> \" + str(orig_2)))\n",
        "        display(HTML(\"<b>S1:</b> \" + str(swap_1)))\n",
        "        display(HTML(\"<b>S2:</b> \" + str(swap_2)))\n",
        "        print()\n",
        "    print(\"\\n\")"
      ],
      "execution_count": null,
      "outputs": [
        {
          "output_type": "display_data",
          "data": {
            "text/html": [
              "<b>O1:</b> Then <span style=\"color: red\">no one </span>should hopefully need to worry about curl again.\n"
            ],
            "text/plain": [
              "<IPython.core.display.HTML object>"
            ]
          },
          "metadata": {
            "tags": []
          }
        },
        {
          "output_type": "display_data",
          "data": {
            "text/html": [
              "<b>O2:</b> I've always hated <span style=\"color: blue\">the idea of class-based grid markup</span>.\n"
            ],
            "text/plain": [
              "<IPython.core.display.HTML object>"
            ]
          },
          "metadata": {
            "tags": []
          }
        },
        {
          "output_type": "display_data",
          "data": {
            "text/html": [
              "<b>S1:</b> Then <span style=\"color: blue\">the idea of class-based grid markup</span>should hopefully need to worry about curl again.\n"
            ],
            "text/plain": [
              "<IPython.core.display.HTML object>"
            ]
          },
          "metadata": {
            "tags": []
          }
        },
        {
          "output_type": "display_data",
          "data": {
            "text/html": [
              "<b>S2:</b> I've always hated <span style=\"color: red\">no one </span>.\n"
            ],
            "text/plain": [
              "<IPython.core.display.HTML object>"
            ]
          },
          "metadata": {
            "tags": []
          }
        },
        {
          "output_type": "stream",
          "text": [
            "\n"
          ],
          "name": "stdout"
        },
        {
          "output_type": "display_data",
          "data": {
            "text/html": [
              "<b>O1:</b> I don't like <span style=\"color: red\">the approach </span>of having a million more media queries.\n"
            ],
            "text/plain": [
              "<IPython.core.display.HTML object>"
            ]
          },
          "metadata": {
            "tags": []
          }
        },
        {
          "output_type": "display_data",
          "data": {
            "text/html": [
              "<b>O2:</b> Dockerfile is awesome for straight builds, but it lacks <span style=\"color: blue\">support for important deploy options such as environment-related diffs</span>..."
            ],
            "text/plain": [
              "<IPython.core.display.HTML object>"
            ]
          },
          "metadata": {
            "tags": []
          }
        },
        {
          "output_type": "display_data",
          "data": {
            "text/html": [
              "<b>S1:</b> I don't like <span style=\"color: blue\">support for important deploy options such as environment-related diffs</span>of having a million more media queries.\n"
            ],
            "text/plain": [
              "<IPython.core.display.HTML object>"
            ]
          },
          "metadata": {
            "tags": []
          }
        },
        {
          "output_type": "display_data",
          "data": {
            "text/html": [
              "<b>S2:</b> Dockerfile is awesome for straight builds, but it lacks <span style=\"color: red\">the approach </span>..."
            ],
            "text/plain": [
              "<IPython.core.display.HTML object>"
            ]
          },
          "metadata": {
            "tags": []
          }
        },
        {
          "output_type": "stream",
          "text": [
            "\n"
          ],
          "name": "stdout"
        },
        {
          "output_type": "display_data",
          "data": {
            "text/html": [
              "<b>O1:</b> This would seem to make <span style=\"color: red\">the pre-trained Inception model </span>useless in practice.\n"
            ],
            "text/plain": [
              "<IPython.core.display.HTML object>"
            ]
          },
          "metadata": {
            "tags": []
          }
        },
        {
          "output_type": "display_data",
          "data": {
            "text/html": [
              "<b>O2:</b> there should be <span style=\"color: blue\">a docker command to get info about the image being pulled, specifically the total size of the download</span>."
            ],
            "text/plain": [
              "<IPython.core.display.HTML object>"
            ]
          },
          "metadata": {
            "tags": []
          }
        },
        {
          "output_type": "display_data",
          "data": {
            "text/html": [
              "<b>S1:</b> This would seem to make <span style=\"color: blue\">a docker command to get info about the image being pulled, specifically the total size of the download</span>useless in practice.\n"
            ],
            "text/plain": [
              "<IPython.core.display.HTML object>"
            ]
          },
          "metadata": {
            "tags": []
          }
        },
        {
          "output_type": "display_data",
          "data": {
            "text/html": [
              "<b>S2:</b> there should be <span style=\"color: red\">the pre-trained Inception model </span>."
            ],
            "text/plain": [
              "<IPython.core.display.HTML object>"
            ]
          },
          "metadata": {
            "tags": []
          }
        },
        {
          "output_type": "stream",
          "text": [
            "\n"
          ],
          "name": "stdout"
        },
        {
          "output_type": "display_data",
          "data": {
            "text/html": [
              "<b>O1:</b> I wish this suggestion was more helpful than \"you should make it good\", but I guess the point is that <span style=\"color: red\">look how different the C++ API and the python API are</span>.\n"
            ],
            "text/plain": [
              "<IPython.core.display.HTML object>"
            ]
          },
          "metadata": {
            "tags": []
          }
        },
        {
          "output_type": "display_data",
          "data": {
            "text/html": [
              "<b>O2:</b> As mentioned in the comments, it would also be very useful to allow <span style=\"color: blue\">any registry to be unsecure</span>, not just named ones, as Docker sometimes provides random ports, and some environments have many registries popping in and out of existence."
            ],
            "text/plain": [
              "<IPython.core.display.HTML object>"
            ]
          },
          "metadata": {
            "tags": []
          }
        },
        {
          "output_type": "display_data",
          "data": {
            "text/html": [
              "<b>S1:</b> I wish this suggestion was more helpful than \"you should make it good\", but I guess the point is that <span style=\"color: blue\">any registry to be unsecure</span>.\n"
            ],
            "text/plain": [
              "<IPython.core.display.HTML object>"
            ]
          },
          "metadata": {
            "tags": []
          }
        },
        {
          "output_type": "display_data",
          "data": {
            "text/html": [
              "<b>S2:</b> As mentioned in the comments, it would also be very useful to allow <span style=\"color: red\">look how different the C++ API and the python API are</span>, not just named ones, as Docker sometimes provides random ports, and some environments have many registries popping in and out of existence."
            ],
            "text/plain": [
              "<IPython.core.display.HTML object>"
            ]
          },
          "metadata": {
            "tags": []
          }
        },
        {
          "output_type": "stream",
          "text": [
            "\n"
          ],
          "name": "stdout"
        },
        {
          "output_type": "display_data",
          "data": {
            "text/html": [
              "<b>O1:</b> I'm not sure the CPU vs. <span style=\"color: red\">GPU aspect </span>is the only issue, since I'd be surprised if scipy used the GPU for matrix inverse.\n"
            ],
            "text/plain": [
              "<IPython.core.display.HTML object>"
            ]
          },
          "metadata": {
            "tags": []
          }
        },
        {
          "output_type": "display_data",
          "data": {
            "text/html": [
              "<b>O2:</b> However, to use the last state as <span style=\"color: blue\">the initial state for the next run</span>, one must create a tf.placeholder().\n"
            ],
            "text/plain": [
              "<IPython.core.display.HTML object>"
            ]
          },
          "metadata": {
            "tags": []
          }
        },
        {
          "output_type": "display_data",
          "data": {
            "text/html": [
              "<b>S1:</b> I'm not sure the CPU vs. <span style=\"color: blue\">the initial state for the next run</span>is the only issue, since I'd be surprised if scipy used the GPU for matrix inverse.\n"
            ],
            "text/plain": [
              "<IPython.core.display.HTML object>"
            ]
          },
          "metadata": {
            "tags": []
          }
        },
        {
          "output_type": "display_data",
          "data": {
            "text/html": [
              "<b>S2:</b> However, to use the last state as <span style=\"color: red\">GPU aspect </span>, one must create a tf.placeholder().\n"
            ],
            "text/plain": [
              "<IPython.core.display.HTML object>"
            ]
          },
          "metadata": {
            "tags": []
          }
        },
        {
          "output_type": "stream",
          "text": [
            "\n"
          ],
          "name": "stdout"
        },
        {
          "output_type": "display_data",
          "data": {
            "text/html": [
              "<b>O1:</b> That seems like a nice proof of concept but I think <span style=\"color: red\">an official binding </span>would probably want to bind more natively than going through Python :(\n"
            ],
            "text/plain": [
              "<IPython.core.display.HTML object>"
            ]
          },
          "metadata": {
            "tags": []
          }
        },
        {
          "output_type": "display_data",
          "data": {
            "text/html": [
              "<b>O2:</b> We need to use the standard unittest.TestCase framework, not your TensorFlowTestCase framework, <span style=\"color: blue\">so self.test_session </span>does not exist. \n"
            ],
            "text/plain": [
              "<IPython.core.display.HTML object>"
            ]
          },
          "metadata": {
            "tags": []
          }
        },
        {
          "output_type": "display_data",
          "data": {
            "text/html": [
              "<b>S1:</b> That seems like a nice proof of concept but I think <span style=\"color: blue\">so self.test_session </span>would probably want to bind more natively than going through Python :(\n"
            ],
            "text/plain": [
              "<IPython.core.display.HTML object>"
            ]
          },
          "metadata": {
            "tags": []
          }
        },
        {
          "output_type": "display_data",
          "data": {
            "text/html": [
              "<b>S2:</b> We need to use the standard unittest.TestCase framework, not your TensorFlowTestCase framework, <span style=\"color: red\">an official binding </span>does not exist. \n"
            ],
            "text/plain": [
              "<IPython.core.display.HTML object>"
            ]
          },
          "metadata": {
            "tags": []
          }
        },
        {
          "output_type": "stream",
          "text": [
            "\n"
          ],
          "name": "stdout"
        },
        {
          "output_type": "display_data",
          "data": {
            "text/html": [
              "<b>O1:</b> I'm not sure the CPU vs. GPU aspect is the only issue, since I'd be surprised if scipy used <span style=\"color: red\">the GPU </span>for matrix inverse.\n"
            ],
            "text/plain": [
              "<IPython.core.display.HTML object>"
            ]
          },
          "metadata": {
            "tags": []
          }
        },
        {
          "output_type": "display_data",
          "data": {
            "text/html": [
              "<b>O2:</b> Also, what does <span style=\"color: blue\">your filter table </span>look like ?"
            ],
            "text/plain": [
              "<IPython.core.display.HTML object>"
            ]
          },
          "metadata": {
            "tags": []
          }
        },
        {
          "output_type": "display_data",
          "data": {
            "text/html": [
              "<b>S1:</b> I'm not sure the CPU vs. GPU aspect is the only issue, since I'd be surprised if scipy used <span style=\"color: blue\">your filter table </span>for matrix inverse.\n"
            ],
            "text/plain": [
              "<IPython.core.display.HTML object>"
            ]
          },
          "metadata": {
            "tags": []
          }
        },
        {
          "output_type": "display_data",
          "data": {
            "text/html": [
              "<b>S2:</b> Also, what does <span style=\"color: red\">the GPU </span>look like ?"
            ],
            "text/plain": [
              "<IPython.core.display.HTML object>"
            ]
          },
          "metadata": {
            "tags": []
          }
        },
        {
          "output_type": "stream",
          "text": [
            "\n"
          ],
          "name": "stdout"
        },
        {
          "output_type": "display_data",
          "data": {
            "text/html": [
              "<b>O1:</b> I really like the idea of <span style=\"color: red\">two commands </span>(one for just doing a shear and one for shear with multiple images)."
            ],
            "text/plain": [
              "<IPython.core.display.HTML object>"
            ]
          },
          "metadata": {
            "tags": []
          }
        },
        {
          "output_type": "display_data",
          "data": {
            "text/html": [
              "<b>O2:</b> Where can I find out how to submit <span style=\"color: blue\">a proposal</span>? "
            ],
            "text/plain": [
              "<IPython.core.display.HTML object>"
            ]
          },
          "metadata": {
            "tags": []
          }
        },
        {
          "output_type": "display_data",
          "data": {
            "text/html": [
              "<b>S1:</b> I really like the idea of <span style=\"color: blue\">a proposal</span>(one for just doing a shear and one for shear with multiple images)."
            ],
            "text/plain": [
              "<IPython.core.display.HTML object>"
            ]
          },
          "metadata": {
            "tags": []
          }
        },
        {
          "output_type": "display_data",
          "data": {
            "text/html": [
              "<b>S2:</b> Where can I find out how to submit <span style=\"color: red\">two commands </span>? "
            ],
            "text/plain": [
              "<IPython.core.display.HTML object>"
            ]
          },
          "metadata": {
            "tags": []
          }
        },
        {
          "output_type": "stream",
          "text": [
            "\n"
          ],
          "name": "stdout"
        },
        {
          "output_type": "display_data",
          "data": {
            "text/html": [
              "<b>O1:</b> Also docker commit seems to me a bit confusing, docker save or <span style=\"color: red\">docker snapshot </span>could have been more appropriate."
            ],
            "text/plain": [
              "<IPython.core.display.HTML object>"
            ]
          },
          "metadata": {
            "tags": []
          }
        },
        {
          "output_type": "display_data",
          "data": {
            "text/html": [
              "<b>O2:</b> The problem is obviously related to extra padding added to boxes on OSX where on other platforms there is <span style=\"color: blue\">no padding</span>.\n"
            ],
            "text/plain": [
              "<IPython.core.display.HTML object>"
            ]
          },
          "metadata": {
            "tags": []
          }
        },
        {
          "output_type": "display_data",
          "data": {
            "text/html": [
              "<b>S1:</b> Also docker commit seems to me a bit confusing, docker save or <span style=\"color: blue\">no padding</span>could have been more appropriate."
            ],
            "text/plain": [
              "<IPython.core.display.HTML object>"
            ]
          },
          "metadata": {
            "tags": []
          }
        },
        {
          "output_type": "display_data",
          "data": {
            "text/html": [
              "<b>S2:</b> The problem is obviously related to extra padding added to boxes on OSX where on other platforms there is <span style=\"color: red\">docker snapshot </span>.\n"
            ],
            "text/plain": [
              "<IPython.core.display.HTML object>"
            ]
          },
          "metadata": {
            "tags": []
          }
        },
        {
          "output_type": "stream",
          "text": [
            "\n"
          ],
          "name": "stdout"
        },
        {
          "output_type": "display_data",
          "data": {
            "text/html": [
              "<b>O1:</b> While I do think the column selection behavior is <span style=\"color: red\">a major improvement </span>over previous behavior IMHO the lack of virtual space is limiting the use.\n"
            ],
            "text/plain": [
              "<IPython.core.display.HTML object>"
            ]
          },
          "metadata": {
            "tags": []
          }
        },
        {
          "output_type": "display_data",
          "data": {
            "text/html": [
              "<b>O2:</b> I am having <span style=\"color: blue\">this issue on Mac OS X since the march update\n",
              "</span>"
            ],
            "text/plain": [
              "<IPython.core.display.HTML object>"
            ]
          },
          "metadata": {
            "tags": []
          }
        },
        {
          "output_type": "display_data",
          "data": {
            "text/html": [
              "<b>S1:</b> While I do think the column selection behavior is <span style=\"color: blue\">this issue on Mac OS X since the march update\n",
              "</span>over previous behavior IMHO the lack of virtual space is limiting the use.\n"
            ],
            "text/plain": [
              "<IPython.core.display.HTML object>"
            ]
          },
          "metadata": {
            "tags": []
          }
        },
        {
          "output_type": "display_data",
          "data": {
            "text/html": [
              "<b>S2:</b> I am having <span style=\"color: red\">a major improvement </span>"
            ],
            "text/plain": [
              "<IPython.core.display.HTML object>"
            ]
          },
          "metadata": {
            "tags": []
          }
        },
        {
          "output_type": "stream",
          "text": [
            "\n"
          ],
          "name": "stdout"
        },
        {
          "output_type": "display_data",
          "data": {
            "text/html": [
              "<b>O1:</b> I guess it makes it easier to style columns externally if needed by separating .<span style=\"color: red\">col as a separate class</span>.\n"
            ],
            "text/plain": [
              "<IPython.core.display.HTML object>"
            ]
          },
          "metadata": {
            "tags": []
          }
        },
        {
          "output_type": "display_data",
          "data": {
            "text/html": [
              "<b>O2:</b> This way <span style=\"color: blue\">the plots </span>will work again.\n"
            ],
            "text/plain": [
              "<IPython.core.display.HTML object>"
            ]
          },
          "metadata": {
            "tags": []
          }
        },
        {
          "output_type": "display_data",
          "data": {
            "text/html": [
              "<b>S1:</b> I guess it makes it easier to style columns externally if needed by separating .<span style=\"color: blue\">the plots </span>.\n"
            ],
            "text/plain": [
              "<IPython.core.display.HTML object>"
            ]
          },
          "metadata": {
            "tags": []
          }
        },
        {
          "output_type": "display_data",
          "data": {
            "text/html": [
              "<b>S2:</b> This way <span style=\"color: red\">col as a separate class</span>will work again.\n"
            ],
            "text/plain": [
              "<IPython.core.display.HTML object>"
            ]
          },
          "metadata": {
            "tags": []
          }
        },
        {
          "output_type": "stream",
          "text": [
            "\n"
          ],
          "name": "stdout"
        },
        {
          "output_type": "display_data",
          "data": {
            "text/html": [
              "<b>O1:</b> As a result, their commit history looks <span style=\"color: red\">much cleaner</span>: \n"
            ],
            "text/plain": [
              "<IPython.core.display.HTML object>"
            ]
          },
          "metadata": {
            "tags": []
          }
        },
        {
          "output_type": "display_data",
          "data": {
            "text/html": [
              "<b>O2:</b> A best-practices solution from the massive Bootstrap community would be preferred over pointers to <span style=\"color: blue\">several separate projects headed in slightly similar directions but with potentially different technologies and not-quite the same goals</span>.\n"
            ],
            "text/plain": [
              "<IPython.core.display.HTML object>"
            ]
          },
          "metadata": {
            "tags": []
          }
        },
        {
          "output_type": "display_data",
          "data": {
            "text/html": [
              "<b>S1:</b> As a result, their commit history looks <span style=\"color: blue\">several separate projects headed in slightly similar directions but with potentially different technologies and not-quite the same goals</span>: \n"
            ],
            "text/plain": [
              "<IPython.core.display.HTML object>"
            ]
          },
          "metadata": {
            "tags": []
          }
        },
        {
          "output_type": "display_data",
          "data": {
            "text/html": [
              "<b>S2:</b> A best-practices solution from the massive Bootstrap community would be preferred over pointers to <span style=\"color: red\">much cleaner</span>.\n"
            ],
            "text/plain": [
              "<IPython.core.display.HTML object>"
            ]
          },
          "metadata": {
            "tags": []
          }
        },
        {
          "output_type": "stream",
          "text": [
            "\n"
          ],
          "name": "stdout"
        },
        {
          "output_type": "display_data",
          "data": {
            "text/html": [
              "<b>O1:</b> I believe that <span style=\"color: red\">the notifications </span>should be styled just like alerts, but also offering a white and black flavor.\n"
            ],
            "text/plain": [
              "<IPython.core.display.HTML object>"
            ]
          },
          "metadata": {
            "tags": []
          }
        },
        {
          "output_type": "display_data",
          "data": {
            "text/html": [
              "<b>O2:</b> Thanks thaJeztah, Sorry for late blocked by <span style=\"color: blue\">other issues</span>."
            ],
            "text/plain": [
              "<IPython.core.display.HTML object>"
            ]
          },
          "metadata": {
            "tags": []
          }
        },
        {
          "output_type": "display_data",
          "data": {
            "text/html": [
              "<b>S1:</b> I believe that <span style=\"color: blue\">other issues</span>should be styled just like alerts, but also offering a white and black flavor.\n"
            ],
            "text/plain": [
              "<IPython.core.display.HTML object>"
            ]
          },
          "metadata": {
            "tags": []
          }
        },
        {
          "output_type": "display_data",
          "data": {
            "text/html": [
              "<b>S2:</b> Thanks thaJeztah, Sorry for late blocked by <span style=\"color: red\">the notifications </span>."
            ],
            "text/plain": [
              "<IPython.core.display.HTML object>"
            ]
          },
          "metadata": {
            "tags": []
          }
        },
        {
          "output_type": "stream",
          "text": [
            "\n"
          ],
          "name": "stdout"
        },
        {
          "output_type": "display_data",
          "data": {
            "text/html": [
              "<b>O1:</b> It looks great and from <span style=\"color: red\">a UI perspective </span>it's really very useful.\n"
            ],
            "text/plain": [
              "<IPython.core.display.HTML object>"
            ]
          },
          "metadata": {
            "tags": []
          }
        },
        {
          "output_type": "display_data",
          "data": {
            "text/html": [
              "<b>O2:</b> Thank you for <span style=\"color: blue\">the explanation</span>. \n"
            ],
            "text/plain": [
              "<IPython.core.display.HTML object>"
            ]
          },
          "metadata": {
            "tags": []
          }
        },
        {
          "output_type": "display_data",
          "data": {
            "text/html": [
              "<b>S1:</b> It looks great and from <span style=\"color: blue\">the explanation</span>it's really very useful.\n"
            ],
            "text/plain": [
              "<IPython.core.display.HTML object>"
            ]
          },
          "metadata": {
            "tags": []
          }
        },
        {
          "output_type": "display_data",
          "data": {
            "text/html": [
              "<b>S2:</b> Thank you for <span style=\"color: red\">a UI perspective </span>. \n"
            ],
            "text/plain": [
              "<IPython.core.display.HTML object>"
            ]
          },
          "metadata": {
            "tags": []
          }
        },
        {
          "output_type": "stream",
          "text": [
            "\n",
            "\n",
            "\n",
            "\n"
          ],
          "name": "stdout"
        },
        {
          "output_type": "display_data",
          "data": {
            "text/html": [
              "<b>O1:</b> Ideally, it would be nice to express <span style=\"color: red\">the image </span>build steps in a Dockerfile."
            ],
            "text/plain": [
              "<IPython.core.display.HTML object>"
            ]
          },
          "metadata": {
            "tags": []
          }
        },
        {
          "output_type": "display_data",
          "data": {
            "text/html": [
              "<b>O2:</b> So, <span style=\"color: blue\">IMHO the fact that exited signal is not emitted when a state machine is stopped </span>is a bug and should be fixed.\n"
            ],
            "text/plain": [
              "<IPython.core.display.HTML object>"
            ]
          },
          "metadata": {
            "tags": []
          }
        },
        {
          "output_type": "display_data",
          "data": {
            "text/html": [
              "<b>S1:</b> Ideally, it would be nice to express <span style=\"color: blue\">IMHO the fact that exited signal is not emitted when a state machine is stopped </span>build steps in a Dockerfile."
            ],
            "text/plain": [
              "<IPython.core.display.HTML object>"
            ]
          },
          "metadata": {
            "tags": []
          }
        },
        {
          "output_type": "display_data",
          "data": {
            "text/html": [
              "<b>S2:</b> So, <span style=\"color: red\">the image </span>is a bug and should be fixed.\n"
            ],
            "text/plain": [
              "<IPython.core.display.HTML object>"
            ]
          },
          "metadata": {
            "tags": []
          }
        },
        {
          "output_type": "stream",
          "text": [
            "\n"
          ],
          "name": "stdout"
        },
        {
          "output_type": "display_data",
          "data": {
            "text/html": [
              "<b>O1:</b> I want to add <span style=\"color: red\">a new feature request </span>for bootstrap 4 : Card Flips .\n"
            ],
            "text/plain": [
              "<IPython.core.display.HTML object>"
            ]
          },
          "metadata": {
            "tags": []
          }
        },
        {
          "output_type": "display_data",
          "data": {
            "text/html": [
              "<b>O2:</b> At the absolute least we should have some means to use <span style=\"color: blue\">a custom suffix  comparison </span>(compare() overload that takes a function as a parameter?).\n"
            ],
            "text/plain": [
              "<IPython.core.display.HTML object>"
            ]
          },
          "metadata": {
            "tags": []
          }
        },
        {
          "output_type": "display_data",
          "data": {
            "text/html": [
              "<b>S1:</b> I want to add <span style=\"color: blue\">a custom suffix  comparison </span>for bootstrap 4 : Card Flips .\n"
            ],
            "text/plain": [
              "<IPython.core.display.HTML object>"
            ]
          },
          "metadata": {
            "tags": []
          }
        },
        {
          "output_type": "display_data",
          "data": {
            "text/html": [
              "<b>S2:</b> At the absolute least we should have some means to use <span style=\"color: red\">a new feature request </span>(compare() overload that takes a function as a parameter?).\n"
            ],
            "text/plain": [
              "<IPython.core.display.HTML object>"
            ]
          },
          "metadata": {
            "tags": []
          }
        },
        {
          "output_type": "stream",
          "text": [
            "\n"
          ],
          "name": "stdout"
        },
        {
          "output_type": "display_data",
          "data": {
            "text/html": [
              "<b>O1:</b> I really hope that the Visual Studio team would realize one day that there should be <span style=\"color: red\">one way to install extensions, install packages, install anything </span>and it's the Package Manager Console! \n"
            ],
            "text/plain": [
              "<IPython.core.display.HTML object>"
            ]
          },
          "metadata": {
            "tags": []
          }
        },
        {
          "output_type": "display_data",
          "data": {
            "text/html": [
              "<b>O2:</b> For example, many of <span style=\"color: blue\">mesos's protobufs </span>still contain required fields.\n"
            ],
            "text/plain": [
              "<IPython.core.display.HTML object>"
            ]
          },
          "metadata": {
            "tags": []
          }
        },
        {
          "output_type": "display_data",
          "data": {
            "text/html": [
              "<b>S1:</b> I really hope that the Visual Studio team would realize one day that there should be <span style=\"color: blue\">mesos's protobufs </span>and it's the Package Manager Console! \n"
            ],
            "text/plain": [
              "<IPython.core.display.HTML object>"
            ]
          },
          "metadata": {
            "tags": []
          }
        },
        {
          "output_type": "display_data",
          "data": {
            "text/html": [
              "<b>S2:</b> For example, many of <span style=\"color: red\">one way to install extensions, install packages, install anything </span>still contain required fields.\n"
            ],
            "text/plain": [
              "<IPython.core.display.HTML object>"
            ]
          },
          "metadata": {
            "tags": []
          }
        },
        {
          "output_type": "stream",
          "text": [
            "\n"
          ],
          "name": "stdout"
        },
        {
          "output_type": "display_data",
          "data": {
            "text/html": [
              "<b>O1:</b> We also should integrate all Qt modules into that repository for <span style=\"color: red\">simplicity and consistency\n",
              "</span>"
            ],
            "text/plain": [
              "<IPython.core.display.HTML object>"
            ]
          },
          "metadata": {
            "tags": []
          }
        },
        {
          "output_type": "display_data",
          "data": {
            "text/html": [
              "<b>O2:</b> <span style=\"color: blue\">Bootstrap 3 </span>is no longer being officially developed or supported.\n"
            ],
            "text/plain": [
              "<IPython.core.display.HTML object>"
            ]
          },
          "metadata": {
            "tags": []
          }
        },
        {
          "output_type": "display_data",
          "data": {
            "text/html": [
              "<b>S1:</b> We also should integrate all Qt modules into that repository for <span style=\"color: blue\">Bootstrap 3 </span>"
            ],
            "text/plain": [
              "<IPython.core.display.HTML object>"
            ]
          },
          "metadata": {
            "tags": []
          }
        },
        {
          "output_type": "display_data",
          "data": {
            "text/html": [
              "<b>S2:</b> <span style=\"color: red\">simplicity and consistency\n",
              "</span>is no longer being officially developed or supported.\n"
            ],
            "text/plain": [
              "<IPython.core.display.HTML object>"
            ]
          },
          "metadata": {
            "tags": []
          }
        },
        {
          "output_type": "stream",
          "text": [
            "\n"
          ],
          "name": "stdout"
        },
        {
          "output_type": "display_data",
          "data": {
            "text/html": [
              "<b>O1:</b> it would be also nice to have ouput of docker containers onput related to current opened project code inside the editor, I think with <span style=\"color: red\">terminal extension </span>it could be achievable.\n"
            ],
            "text/plain": [
              "<IPython.core.display.HTML object>"
            ]
          },
          "metadata": {
            "tags": []
          }
        },
        {
          "output_type": "display_data",
          "data": {
            "text/html": [
              "<b>O2:</b> Is there <span style=\"color: blue\">anything I can change within the demo code to improve the speed</span>?\n"
            ],
            "text/plain": [
              "<IPython.core.display.HTML object>"
            ]
          },
          "metadata": {
            "tags": []
          }
        },
        {
          "output_type": "display_data",
          "data": {
            "text/html": [
              "<b>S1:</b> it would be also nice to have ouput of docker containers onput related to current opened project code inside the editor, I think with <span style=\"color: blue\">anything I can change within the demo code to improve the speed</span>it could be achievable.\n"
            ],
            "text/plain": [
              "<IPython.core.display.HTML object>"
            ]
          },
          "metadata": {
            "tags": []
          }
        },
        {
          "output_type": "display_data",
          "data": {
            "text/html": [
              "<b>S2:</b> Is there <span style=\"color: red\">terminal extension </span>?\n"
            ],
            "text/plain": [
              "<IPython.core.display.HTML object>"
            ]
          },
          "metadata": {
            "tags": []
          }
        },
        {
          "output_type": "stream",
          "text": [
            "\n"
          ],
          "name": "stdout"
        },
        {
          "output_type": "display_data",
          "data": {
            "text/html": [
              "<b>O1:</b> I think configure need <span style=\"color: red\">an option to decide target environment</span>.\n"
            ],
            "text/plain": [
              "<IPython.core.display.HTML object>"
            ]
          },
          "metadata": {
            "tags": []
          }
        },
        {
          "output_type": "display_data",
          "data": {
            "text/html": [
              "<b>O2:</b> 2. What semantics should be used for <span style=\"color: blue\">version comparisons</span>? \n"
            ],
            "text/plain": [
              "<IPython.core.display.HTML object>"
            ]
          },
          "metadata": {
            "tags": []
          }
        },
        {
          "output_type": "display_data",
          "data": {
            "text/html": [
              "<b>S1:</b> I think configure need <span style=\"color: blue\">version comparisons</span>.\n"
            ],
            "text/plain": [
              "<IPython.core.display.HTML object>"
            ]
          },
          "metadata": {
            "tags": []
          }
        },
        {
          "output_type": "display_data",
          "data": {
            "text/html": [
              "<b>S2:</b> 2. What semantics should be used for <span style=\"color: red\">an option to decide target environment</span>? \n"
            ],
            "text/plain": [
              "<IPython.core.display.HTML object>"
            ]
          },
          "metadata": {
            "tags": []
          }
        },
        {
          "output_type": "stream",
          "text": [
            "\n"
          ],
          "name": "stdout"
        },
        {
          "output_type": "display_data",
          "data": {
            "text/html": [
              "<b>O1:</b> My suggection - to add this feature, that allow easily cconfigure how to run app and not just by parameter \"node\" and <span style=\"color: red\">entry point </span>to the site.\n"
            ],
            "text/plain": [
              "<IPython.core.display.HTML object>"
            ]
          },
          "metadata": {
            "tags": []
          }
        },
        {
          "output_type": "display_data",
          "data": {
            "text/html": [
              "<b>O2:</b> <span style=\"color: blue\">All of my crashes </span>happened when VSCode didn't have focus. \n"
            ],
            "text/plain": [
              "<IPython.core.display.HTML object>"
            ]
          },
          "metadata": {
            "tags": []
          }
        },
        {
          "output_type": "display_data",
          "data": {
            "text/html": [
              "<b>S1:</b> My suggection - to add this feature, that allow easily cconfigure how to run app and not just by parameter \"node\" and <span style=\"color: blue\">All of my crashes </span>to the site.\n"
            ],
            "text/plain": [
              "<IPython.core.display.HTML object>"
            ]
          },
          "metadata": {
            "tags": []
          }
        },
        {
          "output_type": "display_data",
          "data": {
            "text/html": [
              "<b>S2:</b> <span style=\"color: red\">entry point </span>happened when VSCode didn't have focus. \n"
            ],
            "text/plain": [
              "<IPython.core.display.HTML object>"
            ]
          },
          "metadata": {
            "tags": []
          }
        },
        {
          "output_type": "stream",
          "text": [
            "\n"
          ],
          "name": "stdout"
        },
        {
          "output_type": "display_data",
          "data": {
            "text/html": [
              "<b>O1:</b> So having a solution that specifically handles <span style=\"color: red\">tensorflow's </span>tensor would be amazing!\n"
            ],
            "text/plain": [
              "<IPython.core.display.HTML object>"
            ]
          },
          "metadata": {
            "tags": []
          }
        },
        {
          "output_type": "display_data",
          "data": {
            "text/html": [
              "<b>O2:</b> Displaying, hiding, and displaying <span style=\"color: blue\">the same modal multiple times </span>will sometimes fail, leaving the modal backdrop fade in place and no modal displayed.\n"
            ],
            "text/plain": [
              "<IPython.core.display.HTML object>"
            ]
          },
          "metadata": {
            "tags": []
          }
        },
        {
          "output_type": "display_data",
          "data": {
            "text/html": [
              "<b>S1:</b> So having a solution that specifically handles <span style=\"color: blue\">the same modal multiple times </span>tensor would be amazing!\n"
            ],
            "text/plain": [
              "<IPython.core.display.HTML object>"
            ]
          },
          "metadata": {
            "tags": []
          }
        },
        {
          "output_type": "display_data",
          "data": {
            "text/html": [
              "<b>S2:</b> Displaying, hiding, and displaying <span style=\"color: red\">tensorflow's </span>will sometimes fail, leaving the modal backdrop fade in place and no modal displayed.\n"
            ],
            "text/plain": [
              "<IPython.core.display.HTML object>"
            ]
          },
          "metadata": {
            "tags": []
          }
        },
        {
          "output_type": "stream",
          "text": [
            "\n"
          ],
          "name": "stdout"
        },
        {
          "output_type": "display_data",
          "data": {
            "text/html": [
              "<b>O1:</b> Currently we only support <span style=\"color: red\">Python 2.7</span>, but we should support Python 3.\n"
            ],
            "text/plain": [
              "<IPython.core.display.HTML object>"
            ]
          },
          "metadata": {
            "tags": []
          }
        },
        {
          "output_type": "display_data",
          "data": {
            "text/html": [
              "<b>O2:</b> To run the current version of <span style=\"color: blue\">the registry</span>, you can use the official image; https://github.com/docker/docker.github.io/blob/master/registry/deploying.md"
            ],
            "text/plain": [
              "<IPython.core.display.HTML object>"
            ]
          },
          "metadata": {
            "tags": []
          }
        },
        {
          "output_type": "display_data",
          "data": {
            "text/html": [
              "<b>S1:</b> Currently we only support <span style=\"color: blue\">the registry</span>, but we should support Python 3.\n"
            ],
            "text/plain": [
              "<IPython.core.display.HTML object>"
            ]
          },
          "metadata": {
            "tags": []
          }
        },
        {
          "output_type": "display_data",
          "data": {
            "text/html": [
              "<b>S2:</b> To run the current version of <span style=\"color: red\">Python 2.7</span>, you can use the official image; https://github.com/docker/docker.github.io/blob/master/registry/deploying.md"
            ],
            "text/plain": [
              "<IPython.core.display.HTML object>"
            ]
          },
          "metadata": {
            "tags": []
          }
        },
        {
          "output_type": "stream",
          "text": [
            "\n"
          ],
          "name": "stdout"
        },
        {
          "output_type": "display_data",
          "data": {
            "text/html": [
              "<b>O1:</b> This requires patching <span style=\"color: red\">the kernel, which isn't a proble</span>.\n"
            ],
            "text/plain": [
              "<IPython.core.display.HTML object>"
            ]
          },
          "metadata": {
            "tags": []
          }
        },
        {
          "output_type": "display_data",
          "data": {
            "text/html": [
              "<b>O2:</b> As a workaround, you can rm /<span style=\"color: blue\">etc/puppet/* instead of rm /etc/puppet, and that </span>will do the trick."
            ],
            "text/plain": [
              "<IPython.core.display.HTML object>"
            ]
          },
          "metadata": {
            "tags": []
          }
        },
        {
          "output_type": "display_data",
          "data": {
            "text/html": [
              "<b>S1:</b> This requires patching <span style=\"color: blue\">etc/puppet/* instead of rm /etc/puppet, and that </span>.\n"
            ],
            "text/plain": [
              "<IPython.core.display.HTML object>"
            ]
          },
          "metadata": {
            "tags": []
          }
        },
        {
          "output_type": "display_data",
          "data": {
            "text/html": [
              "<b>S2:</b> As a workaround, you can rm /<span style=\"color: red\">the kernel, which isn't a proble</span>will do the trick."
            ],
            "text/plain": [
              "<IPython.core.display.HTML object>"
            ]
          },
          "metadata": {
            "tags": []
          }
        },
        {
          "output_type": "stream",
          "text": [
            "\n"
          ],
          "name": "stdout"
        },
        {
          "output_type": "display_data",
          "data": {
            "text/html": [
              "<b>O1:</b> Really hope tensorflow will use github for <span style=\"color: red\">all the cooperation workflow</span>.\n"
            ],
            "text/plain": [
              "<IPython.core.display.HTML object>"
            ]
          },
          "metadata": {
            "tags": []
          }
        },
        {
          "output_type": "display_data",
          "data": {
            "text/html": [
              "<b>O2:</b> You made <span style=\"color: blue\">my day </span>!"
            ],
            "text/plain": [
              "<IPython.core.display.HTML object>"
            ]
          },
          "metadata": {
            "tags": []
          }
        },
        {
          "output_type": "display_data",
          "data": {
            "text/html": [
              "<b>S1:</b> Really hope tensorflow will use github for <span style=\"color: blue\">my day </span>.\n"
            ],
            "text/plain": [
              "<IPython.core.display.HTML object>"
            ]
          },
          "metadata": {
            "tags": []
          }
        },
        {
          "output_type": "display_data",
          "data": {
            "text/html": [
              "<b>S2:</b> You made <span style=\"color: red\">all the cooperation workflow</span>!"
            ],
            "text/plain": [
              "<IPython.core.display.HTML object>"
            ]
          },
          "metadata": {
            "tags": []
          }
        },
        {
          "output_type": "stream",
          "text": [
            "\n"
          ],
          "name": "stdout"
        },
        {
          "output_type": "display_data",
          "data": {
            "text/html": [
              "<b>O1:</b> I would like to use a model class to hold <span style=\"color: red\">a list </span>of item (or C++ QObject ) with custom methods / slot functions\n"
            ],
            "text/plain": [
              "<IPython.core.display.HTML object>"
            ]
          },
          "metadata": {
            "tags": []
          }
        },
        {
          "output_type": "display_data",
          "data": {
            "text/html": [
              "<b>O2:</b> <span style=\"color: blue\">Any help </span>would be great.\n"
            ],
            "text/plain": [
              "<IPython.core.display.HTML object>"
            ]
          },
          "metadata": {
            "tags": []
          }
        },
        {
          "output_type": "display_data",
          "data": {
            "text/html": [
              "<b>S1:</b> I would like to use a model class to hold <span style=\"color: blue\">Any help </span>of item (or C++ QObject ) with custom methods / slot functions\n"
            ],
            "text/plain": [
              "<IPython.core.display.HTML object>"
            ]
          },
          "metadata": {
            "tags": []
          }
        },
        {
          "output_type": "display_data",
          "data": {
            "text/html": [
              "<b>S2:</b> <span style=\"color: red\">a list </span>would be great.\n"
            ],
            "text/plain": [
              "<IPython.core.display.HTML object>"
            ]
          },
          "metadata": {
            "tags": []
          }
        },
        {
          "output_type": "stream",
          "text": [
            "\n",
            "\n",
            "\n",
            "\n"
          ],
          "name": "stdout"
        },
        {
          "output_type": "display_data",
          "data": {
            "text/html": [
              "<b>O1:</b> According to <span style=\"color: red\">our proxy </span>admin \"microsoft.com\" is completely unblocked.\n"
            ],
            "text/plain": [
              "<IPython.core.display.HTML object>"
            ]
          },
          "metadata": {
            "tags": []
          }
        },
        {
          "output_type": "display_data",
          "data": {
            "text/html": [
              "<b>O2:</b> Notifications are not just that, you have to take into account a situation with <span style=\"color: blue\">several notifications</span>.\n"
            ],
            "text/plain": [
              "<IPython.core.display.HTML object>"
            ]
          },
          "metadata": {
            "tags": []
          }
        },
        {
          "output_type": "display_data",
          "data": {
            "text/html": [
              "<b>S1:</b> According to <span style=\"color: blue\">several notifications</span>admin \"microsoft.com\" is completely unblocked.\n"
            ],
            "text/plain": [
              "<IPython.core.display.HTML object>"
            ]
          },
          "metadata": {
            "tags": []
          }
        },
        {
          "output_type": "display_data",
          "data": {
            "text/html": [
              "<b>S2:</b> Notifications are not just that, you have to take into account a situation with <span style=\"color: red\">our proxy </span>.\n"
            ],
            "text/plain": [
              "<IPython.core.display.HTML object>"
            ]
          },
          "metadata": {
            "tags": []
          }
        },
        {
          "output_type": "stream",
          "text": [
            "\n"
          ],
          "name": "stdout"
        },
        {
          "output_type": "display_data",
          "data": {
            "text/html": [
              "<b>O1:</b> Right now <span style=\"color: red\">the Docker Clustering (#8859) proposal </span>is missing both a preferred method of replication and any higher level organizational primitives/tools (labels). "
            ],
            "text/plain": [
              "<IPython.core.display.HTML object>"
            ]
          },
          "metadata": {
            "tags": []
          }
        },
        {
          "output_type": "display_data",
          "data": {
            "text/html": [
              "<b>O2:</b> <span style=\"color: blue\">The reason </span>is that some content on the website I am building needs different column settings for medium and large devices.\n"
            ],
            "text/plain": [
              "<IPython.core.display.HTML object>"
            ]
          },
          "metadata": {
            "tags": []
          }
        },
        {
          "output_type": "display_data",
          "data": {
            "text/html": [
              "<b>S1:</b> Right now <span style=\"color: blue\">The reason </span>is missing both a preferred method of replication and any higher level organizational primitives/tools (labels). "
            ],
            "text/plain": [
              "<IPython.core.display.HTML object>"
            ]
          },
          "metadata": {
            "tags": []
          }
        },
        {
          "output_type": "display_data",
          "data": {
            "text/html": [
              "<b>S2:</b> <span style=\"color: red\">the Docker Clustering (#8859) proposal </span>is that some content on the website I am building needs different column settings for medium and large devices.\n"
            ],
            "text/plain": [
              "<IPython.core.display.HTML object>"
            ]
          },
          "metadata": {
            "tags": []
          }
        },
        {
          "output_type": "stream",
          "text": [
            "\n"
          ],
          "name": "stdout"
        },
        {
          "output_type": "display_data",
          "data": {
            "text/html": [
              "<b>O1:</b> <span style=\"color: red\">A registry </span>running behind a reverse proxy (Apache 2.2). "
            ],
            "text/plain": [
              "<IPython.core.display.HTML object>"
            ]
          },
          "metadata": {
            "tags": []
          }
        },
        {
          "output_type": "display_data",
          "data": {
            "text/html": [
              "<b>O2:</b> When releasing software for other people to use, normally you'd package it elsewhere to -prefix, otherwise how do you untangle the Qt files from <span style=\"color: blue\">the rest </span>of your files?\n"
            ],
            "text/plain": [
              "<IPython.core.display.HTML object>"
            ]
          },
          "metadata": {
            "tags": []
          }
        },
        {
          "output_type": "display_data",
          "data": {
            "text/html": [
              "<b>S1:</b> <span style=\"color: blue\">the rest </span>running behind a reverse proxy (Apache 2.2). "
            ],
            "text/plain": [
              "<IPython.core.display.HTML object>"
            ]
          },
          "metadata": {
            "tags": []
          }
        },
        {
          "output_type": "display_data",
          "data": {
            "text/html": [
              "<b>S2:</b> When releasing software for other people to use, normally you'd package it elsewhere to -prefix, otherwise how do you untangle the Qt files from <span style=\"color: red\">A registry </span>of your files?\n"
            ],
            "text/plain": [
              "<IPython.core.display.HTML object>"
            ]
          },
          "metadata": {
            "tags": []
          }
        },
        {
          "output_type": "stream",
          "text": [
            "\n"
          ],
          "name": "stdout"
        },
        {
          "output_type": "display_data",
          "data": {
            "text/html": [
              "<b>O1:</b> Pods also share <span style=\"color: red\">a resource hierarchy</span>, though the individual containers within a pod may also have their own specific resource limits, these resource limits are subdivisions of the resources allocated to the entire pod."
            ],
            "text/plain": [
              "<IPython.core.display.HTML object>"
            ]
          },
          "metadata": {
            "tags": []
          }
        },
        {
          "output_type": "display_data",
          "data": {
            "text/html": [
              "<b>O2:</b> On Friday 01 August 2014 23:16:40 Marc Mutz wrote:  That leaves <span style=\"color: blue\">the question </span>how to deal with the documentation for these  implicit members.\n"
            ],
            "text/plain": [
              "<IPython.core.display.HTML object>"
            ]
          },
          "metadata": {
            "tags": []
          }
        },
        {
          "output_type": "display_data",
          "data": {
            "text/html": [
              "<b>S1:</b> Pods also share <span style=\"color: blue\">the question </span>, though the individual containers within a pod may also have their own specific resource limits, these resource limits are subdivisions of the resources allocated to the entire pod."
            ],
            "text/plain": [
              "<IPython.core.display.HTML object>"
            ]
          },
          "metadata": {
            "tags": []
          }
        },
        {
          "output_type": "display_data",
          "data": {
            "text/html": [
              "<b>S2:</b> On Friday 01 August 2014 23:16:40 Marc Mutz wrote:  That leaves <span style=\"color: red\">a resource hierarchy</span>how to deal with the documentation for these  implicit members.\n"
            ],
            "text/plain": [
              "<IPython.core.display.HTML object>"
            ]
          },
          "metadata": {
            "tags": []
          }
        },
        {
          "output_type": "stream",
          "text": [
            "\n"
          ],
          "name": "stdout"
        },
        {
          "output_type": "display_data",
          "data": {
            "text/html": [
              "<b>O1:</b> This would allow you to apply uppercase or lowercase to multiple items throughout the site and make one simple change in <span style=\"color: red\">_variables.scss\n",
              "</span>"
            ],
            "text/plain": [
              "<IPython.core.display.HTML object>"
            ]
          },
          "metadata": {
            "tags": []
          }
        },
        {
          "output_type": "display_data",
          "data": {
            "text/html": [
              "<b>O2:</b> Running <span style=\"color: blue\">the code </span>above gives this error:\n"
            ],
            "text/plain": [
              "<IPython.core.display.HTML object>"
            ]
          },
          "metadata": {
            "tags": []
          }
        },
        {
          "output_type": "display_data",
          "data": {
            "text/html": [
              "<b>S1:</b> This would allow you to apply uppercase or lowercase to multiple items throughout the site and make one simple change in <span style=\"color: blue\">the code </span>"
            ],
            "text/plain": [
              "<IPython.core.display.HTML object>"
            ]
          },
          "metadata": {
            "tags": []
          }
        },
        {
          "output_type": "display_data",
          "data": {
            "text/html": [
              "<b>S2:</b> Running <span style=\"color: red\">_variables.scss\n",
              "</span>above gives this error:\n"
            ],
            "text/plain": [
              "<IPython.core.display.HTML object>"
            ]
          },
          "metadata": {
            "tags": []
          }
        },
        {
          "output_type": "stream",
          "text": [
            "\n"
          ],
          "name": "stdout"
        },
        {
          "output_type": "display_data",
          "data": {
            "text/html": [
              "<b>O1:</b> Our current internal distributed extensions are somewhat entangled with <span style=\"color: red\">Google internal infrastructure</span>, which is why we released the single-machine version first.\n"
            ],
            "text/plain": [
              "<IPython.core.display.HTML object>"
            ]
          },
          "metadata": {
            "tags": []
          }
        },
        {
          "output_type": "display_data",
          "data": {
            "text/html": [
              "<b>O2:</b> I believe I am also seeing the same bug in <span style=\"color: blue\">Safari 7.0 </span>on OS X Mavericks.\n"
            ],
            "text/plain": [
              "<IPython.core.display.HTML object>"
            ]
          },
          "metadata": {
            "tags": []
          }
        },
        {
          "output_type": "display_data",
          "data": {
            "text/html": [
              "<b>S1:</b> Our current internal distributed extensions are somewhat entangled with <span style=\"color: blue\">Safari 7.0 </span>, which is why we released the single-machine version first.\n"
            ],
            "text/plain": [
              "<IPython.core.display.HTML object>"
            ]
          },
          "metadata": {
            "tags": []
          }
        },
        {
          "output_type": "display_data",
          "data": {
            "text/html": [
              "<b>S2:</b> I believe I am also seeing the same bug in <span style=\"color: red\">Google internal infrastructure</span>on OS X Mavericks.\n"
            ],
            "text/plain": [
              "<IPython.core.display.HTML object>"
            ]
          },
          "metadata": {
            "tags": []
          }
        },
        {
          "output_type": "stream",
          "text": [
            "\n"
          ],
          "name": "stdout"
        },
        {
          "output_type": "display_data",
          "data": {
            "text/html": [
              "<b>O1:</b> <span style=\"color: red\">The elapsed times </span>for 100 training steps were 4:20 and 14:36, respectively. \n"
            ],
            "text/plain": [
              "<IPython.core.display.HTML object>"
            ]
          },
          "metadata": {
            "tags": []
          }
        },
        {
          "output_type": "display_data",
          "data": {
            "text/html": [
              "<b>O2:</b> For people looking for <span style=\"color: blue\">an alternative solution </span>that closes on an outside click by default and doesn't require two clicks after that, this worked perfectly out of the box for me with the default options:\n"
            ],
            "text/plain": [
              "<IPython.core.display.HTML object>"
            ]
          },
          "metadata": {
            "tags": []
          }
        },
        {
          "output_type": "display_data",
          "data": {
            "text/html": [
              "<b>S1:</b> <span style=\"color: blue\">an alternative solution </span>for 100 training steps were 4:20 and 14:36, respectively. \n"
            ],
            "text/plain": [
              "<IPython.core.display.HTML object>"
            ]
          },
          "metadata": {
            "tags": []
          }
        },
        {
          "output_type": "display_data",
          "data": {
            "text/html": [
              "<b>S2:</b> For people looking for <span style=\"color: red\">The elapsed times </span>that closes on an outside click by default and doesn't require two clicks after that, this worked perfectly out of the box for me with the default options:\n"
            ],
            "text/plain": [
              "<IPython.core.display.HTML object>"
            ]
          },
          "metadata": {
            "tags": []
          }
        },
        {
          "output_type": "stream",
          "text": [
            "\n"
          ],
          "name": "stdout"
        },
        {
          "output_type": "display_data",
          "data": {
            "text/html": [
              "<b>O1:</b> I was initially confused by <span style=\"color: red\">the use of \"rank\" </span>to describe the number of dimensions of the array. \n"
            ],
            "text/plain": [
              "<IPython.core.display.HTML object>"
            ]
          },
          "metadata": {
            "tags": []
          }
        },
        {
          "output_type": "display_data",
          "data": {
            "text/html": [
              "<b>O2:</b> All we need to do is build all Qt dylibs with install_name = @rpath/pathrelative_to_lib_folder/some.dylib and make sure qmake adds following linker flags to <span style=\"color: blue\">all apps </span>linking to Qt\n"
            ],
            "text/plain": [
              "<IPython.core.display.HTML object>"
            ]
          },
          "metadata": {
            "tags": []
          }
        },
        {
          "output_type": "display_data",
          "data": {
            "text/html": [
              "<b>S1:</b> I was initially confused by <span style=\"color: blue\">all apps </span>to describe the number of dimensions of the array. \n"
            ],
            "text/plain": [
              "<IPython.core.display.HTML object>"
            ]
          },
          "metadata": {
            "tags": []
          }
        },
        {
          "output_type": "display_data",
          "data": {
            "text/html": [
              "<b>S2:</b> All we need to do is build all Qt dylibs with install_name = @rpath/pathrelative_to_lib_folder/some.dylib and make sure qmake adds following linker flags to <span style=\"color: red\">the use of \"rank\" </span>linking to Qt\n"
            ],
            "text/plain": [
              "<IPython.core.display.HTML object>"
            ]
          },
          "metadata": {
            "tags": []
          }
        },
        {
          "output_type": "stream",
          "text": [
            "\n"
          ],
          "name": "stdout"
        },
        {
          "output_type": "display_data",
          "data": {
            "text/html": [
              "<b>O1:</b> Upon receiving the request the server extracts the TGS from <span style=\"color: red\">the HTTP Authorization header </span>and validates it. "
            ],
            "text/plain": [
              "<IPython.core.display.HTML object>"
            ]
          },
          "metadata": {
            "tags": []
          }
        },
        {
          "output_type": "display_data",
          "data": {
            "text/html": [
              "<b>O2:</b> Forgive my offense and really <span style=\"color: blue\">thanks for any help\n",
              "</span>"
            ],
            "text/plain": [
              "<IPython.core.display.HTML object>"
            ]
          },
          "metadata": {
            "tags": []
          }
        },
        {
          "output_type": "display_data",
          "data": {
            "text/html": [
              "<b>S1:</b> Upon receiving the request the server extracts the TGS from <span style=\"color: blue\">thanks for any help\n",
              "</span>and validates it. "
            ],
            "text/plain": [
              "<IPython.core.display.HTML object>"
            ]
          },
          "metadata": {
            "tags": []
          }
        },
        {
          "output_type": "display_data",
          "data": {
            "text/html": [
              "<b>S2:</b> Forgive my offense and really <span style=\"color: red\">the HTTP Authorization header </span>"
            ],
            "text/plain": [
              "<IPython.core.display.HTML object>"
            ]
          },
          "metadata": {
            "tags": []
          }
        },
        {
          "output_type": "stream",
          "text": [
            "\n"
          ],
          "name": "stdout"
        },
        {
          "output_type": "display_data",
          "data": {
            "text/html": [
              "<b>O1:</b> Yes, we do plan on making it available as <span style=\"color: red\">open source</span>, and we'll welcome contributions!\n"
            ],
            "text/plain": [
              "<IPython.core.display.HTML object>"
            ]
          },
          "metadata": {
            "tags": []
          }
        },
        {
          "output_type": "display_data",
          "data": {
            "text/html": [
              "<b>O2:</b> Thanks for <span style=\"color: blue\">the info on using Bazel</span>. \n"
            ],
            "text/plain": [
              "<IPython.core.display.HTML object>"
            ]
          },
          "metadata": {
            "tags": []
          }
        },
        {
          "output_type": "display_data",
          "data": {
            "text/html": [
              "<b>S1:</b> Yes, we do plan on making it available as <span style=\"color: blue\">the info on using Bazel</span>, and we'll welcome contributions!\n"
            ],
            "text/plain": [
              "<IPython.core.display.HTML object>"
            ]
          },
          "metadata": {
            "tags": []
          }
        },
        {
          "output_type": "display_data",
          "data": {
            "text/html": [
              "<b>S2:</b> Thanks for <span style=\"color: red\">open source</span>. \n"
            ],
            "text/plain": [
              "<IPython.core.display.HTML object>"
            ]
          },
          "metadata": {
            "tags": []
          }
        },
        {
          "output_type": "stream",
          "text": [
            "\n",
            "\n",
            "\n",
            "\n"
          ],
          "name": "stdout"
        },
        {
          "output_type": "display_data",
          "data": {
            "text/html": [
              "<b>O1:</b> can you please take <span style=\"color: red\">a look </span>?"
            ],
            "text/plain": [
              "<IPython.core.display.HTML object>"
            ]
          },
          "metadata": {
            "tags": []
          }
        },
        {
          "output_type": "display_data",
          "data": {
            "text/html": [
              "<b>O2:</b> How <span style=\"color: blue\">about splitting </span>up the work?"
            ],
            "text/plain": [
              "<IPython.core.display.HTML object>"
            ]
          },
          "metadata": {
            "tags": []
          }
        },
        {
          "output_type": "display_data",
          "data": {
            "text/html": [
              "<b>S1:</b> can you please take <span style=\"color: blue\">about splitting </span>?"
            ],
            "text/plain": [
              "<IPython.core.display.HTML object>"
            ]
          },
          "metadata": {
            "tags": []
          }
        },
        {
          "output_type": "display_data",
          "data": {
            "text/html": [
              "<b>S2:</b> How <span style=\"color: red\">a look </span>up the work?"
            ],
            "text/plain": [
              "<IPython.core.display.HTML object>"
            ]
          },
          "metadata": {
            "tags": []
          }
        },
        {
          "output_type": "stream",
          "text": [
            "\n"
          ],
          "name": "stdout"
        },
        {
          "output_type": "display_data",
          "data": {
            "text/html": [
              "<b>O1:</b> Can I give it <span style=\"color: red\">a try to fix it</span>?"
            ],
            "text/plain": [
              "<IPython.core.display.HTML object>"
            ]
          },
          "metadata": {
            "tags": []
          }
        },
        {
          "output_type": "display_data",
          "data": {
            "text/html": [
              "<b>O2:</b> what's <span style=\"color: blue\">the status on this one</span>?"
            ],
            "text/plain": [
              "<IPython.core.display.HTML object>"
            ]
          },
          "metadata": {
            "tags": []
          }
        },
        {
          "output_type": "display_data",
          "data": {
            "text/html": [
              "<b>S1:</b> Can I give it <span style=\"color: blue\">the status on this one</span>?"
            ],
            "text/plain": [
              "<IPython.core.display.HTML object>"
            ]
          },
          "metadata": {
            "tags": []
          }
        },
        {
          "output_type": "display_data",
          "data": {
            "text/html": [
              "<b>S2:</b> what's <span style=\"color: red\">a try to fix it</span>?"
            ],
            "text/plain": [
              "<IPython.core.display.HTML object>"
            ]
          },
          "metadata": {
            "tags": []
          }
        },
        {
          "output_type": "stream",
          "text": [
            "\n"
          ],
          "name": "stdout"
        },
        {
          "output_type": "display_data",
          "data": {
            "text/html": [
              "<b>O1:</b> Are you sure your docker-py instance is talking to <span style=\"color: red\">the same daemon </span>as the CLI?"
            ],
            "text/plain": [
              "<IPython.core.display.HTML object>"
            ]
          },
          "metadata": {
            "tags": []
          }
        },
        {
          "output_type": "display_data",
          "data": {
            "text/html": [
              "<b>O2:</b> The problem is that after <span style=\"color: blue\">a timeout </span>occurs a enqueue or dequeueop throws an error\n"
            ],
            "text/plain": [
              "<IPython.core.display.HTML object>"
            ]
          },
          "metadata": {
            "tags": []
          }
        },
        {
          "output_type": "display_data",
          "data": {
            "text/html": [
              "<b>S1:</b> Are you sure your docker-py instance is talking to <span style=\"color: blue\">a timeout </span>as the CLI?"
            ],
            "text/plain": [
              "<IPython.core.display.HTML object>"
            ]
          },
          "metadata": {
            "tags": []
          }
        },
        {
          "output_type": "display_data",
          "data": {
            "text/html": [
              "<b>S2:</b> The problem is that after <span style=\"color: red\">the same daemon </span>occurs a enqueue or dequeueop throws an error\n"
            ],
            "text/plain": [
              "<IPython.core.display.HTML object>"
            ]
          },
          "metadata": {
            "tags": []
          }
        },
        {
          "output_type": "stream",
          "text": [
            "\n"
          ],
          "name": "stdout"
        },
        {
          "output_type": "display_data",
          "data": {
            "text/html": [
              "<b>O1:</b> What is <span style=\"color: red\">the real name of bottle_neck tensor</span>? \n"
            ],
            "text/plain": [
              "<IPython.core.display.HTML object>"
            ]
          },
          "metadata": {
            "tags": []
          }
        },
        {
          "output_type": "display_data",
          "data": {
            "text/html": [
              "<b>O2:</b> I have <span style=\"color: blue\">the same problem </span>on aarch64 platform.\n"
            ],
            "text/plain": [
              "<IPython.core.display.HTML object>"
            ]
          },
          "metadata": {
            "tags": []
          }
        },
        {
          "output_type": "display_data",
          "data": {
            "text/html": [
              "<b>S1:</b> What is <span style=\"color: blue\">the same problem </span>? \n"
            ],
            "text/plain": [
              "<IPython.core.display.HTML object>"
            ]
          },
          "metadata": {
            "tags": []
          }
        },
        {
          "output_type": "display_data",
          "data": {
            "text/html": [
              "<b>S2:</b> I have <span style=\"color: red\">the real name of bottle_neck tensor</span>on aarch64 platform.\n"
            ],
            "text/plain": [
              "<IPython.core.display.HTML object>"
            ]
          },
          "metadata": {
            "tags": []
          }
        },
        {
          "output_type": "stream",
          "text": [
            "\n"
          ],
          "name": "stdout"
        },
        {
          "output_type": "display_data",
          "data": {
            "text/html": [
              "<b>O1:</b> Do others have <span style=\"color: red\">a need for this</span>?"
            ],
            "text/plain": [
              "<IPython.core.display.HTML object>"
            ]
          },
          "metadata": {
            "tags": []
          }
        },
        {
          "output_type": "display_data",
          "data": {
            "text/html": [
              "<b>O2:</b> If you want to be able to serialize your collections and avoid this warning, you can call <span style=\"color: blue\">the tf.register_proto_function() function for your collection</span>.\n"
            ],
            "text/plain": [
              "<IPython.core.display.HTML object>"
            ]
          },
          "metadata": {
            "tags": []
          }
        },
        {
          "output_type": "display_data",
          "data": {
            "text/html": [
              "<b>S1:</b> Do others have <span style=\"color: blue\">the tf.register_proto_function() function for your collection</span>?"
            ],
            "text/plain": [
              "<IPython.core.display.HTML object>"
            ]
          },
          "metadata": {
            "tags": []
          }
        },
        {
          "output_type": "display_data",
          "data": {
            "text/html": [
              "<b>S2:</b> If you want to be able to serialize your collections and avoid this warning, you can call <span style=\"color: red\">a need for this</span>.\n"
            ],
            "text/plain": [
              "<IPython.core.display.HTML object>"
            ]
          },
          "metadata": {
            "tags": []
          }
        },
        {
          "output_type": "stream",
          "text": [
            "\n"
          ],
          "name": "stdout"
        },
        {
          "output_type": "display_data",
          "data": {
            "text/html": [
              "<b>O1:</b> What's <span style=\"color: red\">the status of this issue</span>?"
            ],
            "text/plain": [
              "<IPython.core.display.HTML object>"
            ]
          },
          "metadata": {
            "tags": []
          }
        },
        {
          "output_type": "display_data",
          "data": {
            "text/html": [
              "<b>O2:</b> I would propose that the existence of these words be used to identify <span style=\"color: blue\">this suffix </span>but still perform the compare lexicographically\n"
            ],
            "text/plain": [
              "<IPython.core.display.HTML object>"
            ]
          },
          "metadata": {
            "tags": []
          }
        },
        {
          "output_type": "display_data",
          "data": {
            "text/html": [
              "<b>S1:</b> What's <span style=\"color: blue\">this suffix </span>?"
            ],
            "text/plain": [
              "<IPython.core.display.HTML object>"
            ]
          },
          "metadata": {
            "tags": []
          }
        },
        {
          "output_type": "display_data",
          "data": {
            "text/html": [
              "<b>S2:</b> I would propose that the existence of these words be used to identify <span style=\"color: red\">the status of this issue</span>but still perform the compare lexicographically\n"
            ],
            "text/plain": [
              "<IPython.core.display.HTML object>"
            ]
          },
          "metadata": {
            "tags": []
          }
        },
        {
          "output_type": "stream",
          "text": [
            "\n"
          ],
          "name": "stdout"
        },
        {
          "output_type": "display_data",
          "data": {
            "text/html": [
              "<b>O1:</b> Could you link/attach <span style=\"color: red\">a simple example that reproduces the problem</span>?\n"
            ],
            "text/plain": [
              "<IPython.core.display.HTML object>"
            ]
          },
          "metadata": {
            "tags": []
          }
        },
        {
          "output_type": "display_data",
          "data": {
            "text/html": [
              "<b>O2:</b> <span style=\"color: blue\">Good luck </span>with it.\n"
            ],
            "text/plain": [
              "<IPython.core.display.HTML object>"
            ]
          },
          "metadata": {
            "tags": []
          }
        },
        {
          "output_type": "display_data",
          "data": {
            "text/html": [
              "<b>S1:</b> Could you link/attach <span style=\"color: blue\">Good luck </span>?\n"
            ],
            "text/plain": [
              "<IPython.core.display.HTML object>"
            ]
          },
          "metadata": {
            "tags": []
          }
        },
        {
          "output_type": "display_data",
          "data": {
            "text/html": [
              "<b>S2:</b> <span style=\"color: red\">a simple example that reproduces the problem</span>with it.\n"
            ],
            "text/plain": [
              "<IPython.core.display.HTML object>"
            ]
          },
          "metadata": {
            "tags": []
          }
        },
        {
          "output_type": "stream",
          "text": [
            "\n"
          ],
          "name": "stdout"
        },
        {
          "output_type": "display_data",
          "data": {
            "text/html": [
              "<b>O1:</b> out of curiosity, are you pushing to <span style=\"color: red\">a private docker/distribution registry </span>that you're running? "
            ],
            "text/plain": [
              "<IPython.core.display.HTML object>"
            ]
          },
          "metadata": {
            "tags": []
          }
        },
        {
          "output_type": "display_data",
          "data": {
            "text/html": [
              "<b>O2:</b> Thank <span style=\"color: blue\">u man</span>!\n"
            ],
            "text/plain": [
              "<IPython.core.display.HTML object>"
            ]
          },
          "metadata": {
            "tags": []
          }
        },
        {
          "output_type": "display_data",
          "data": {
            "text/html": [
              "<b>S1:</b> out of curiosity, are you pushing to <span style=\"color: blue\">u man</span>that you're running? "
            ],
            "text/plain": [
              "<IPython.core.display.HTML object>"
            ]
          },
          "metadata": {
            "tags": []
          }
        },
        {
          "output_type": "display_data",
          "data": {
            "text/html": [
              "<b>S2:</b> Thank <span style=\"color: red\">a private docker/distribution registry </span>!\n"
            ],
            "text/plain": [
              "<IPython.core.display.HTML object>"
            ]
          },
          "metadata": {
            "tags": []
          }
        },
        {
          "output_type": "stream",
          "text": [
            "\n",
            "\n",
            "\n",
            "\n"
          ],
          "name": "stdout"
        },
        {
          "output_type": "display_data",
          "data": {
            "text/html": [
              "<b>O1:</b> Hi, I tried:sudo brctl addif docker0 veth44dac6e,but get response:<span style=\"color: red\">device veth44dac6e </span>is already a member of a bridge; can't enslave it to bridge docker0,Issue is still randomly happening; today again."
            ],
            "text/plain": [
              "<IPython.core.display.HTML object>"
            ]
          },
          "metadata": {
            "tags": []
          }
        },
        {
          "output_type": "display_data",
          "data": {
            "text/html": [
              "<b>O2:</b> I can confirm encountering <span style=\"color: blue\">this issue on the the docker os x beta-15 (current version)</span>."
            ],
            "text/plain": [
              "<IPython.core.display.HTML object>"
            ]
          },
          "metadata": {
            "tags": []
          }
        },
        {
          "output_type": "display_data",
          "data": {
            "text/html": [
              "<b>S1:</b> Hi, I tried:sudo brctl addif docker0 veth44dac6e,but get response:<span style=\"color: blue\">this issue on the the docker os x beta-15 (current version)</span>is already a member of a bridge; can't enslave it to bridge docker0,Issue is still randomly happening; today again."
            ],
            "text/plain": [
              "<IPython.core.display.HTML object>"
            ]
          },
          "metadata": {
            "tags": []
          }
        },
        {
          "output_type": "display_data",
          "data": {
            "text/html": [
              "<b>S2:</b> I can confirm encountering <span style=\"color: red\">device veth44dac6e </span>."
            ],
            "text/plain": [
              "<IPython.core.display.HTML object>"
            ]
          },
          "metadata": {
            "tags": []
          }
        },
        {
          "output_type": "stream",
          "text": [
            "\n"
          ],
          "name": "stdout"
        },
        {
          "output_type": "display_data",
          "data": {
            "text/html": [
              "<b>O1:</b> This won't work for <span style=\"color: red\">apps launched directly via Finder/Dock\n",
              "</span>"
            ],
            "text/plain": [
              "<IPython.core.display.HTML object>"
            ]
          },
          "metadata": {
            "tags": []
          }
        },
        {
          "output_type": "display_data",
          "data": {
            "text/html": [
              "<b>O2:</b> <span style=\"color: blue\">COPY command </span>in Dockerfile fails intermittently with no such file or directory"
            ],
            "text/plain": [
              "<IPython.core.display.HTML object>"
            ]
          },
          "metadata": {
            "tags": []
          }
        },
        {
          "output_type": "display_data",
          "data": {
            "text/html": [
              "<b>S1:</b> This won't work for <span style=\"color: blue\">COPY command </span>"
            ],
            "text/plain": [
              "<IPython.core.display.HTML object>"
            ]
          },
          "metadata": {
            "tags": []
          }
        },
        {
          "output_type": "display_data",
          "data": {
            "text/html": [
              "<b>S2:</b> <span style=\"color: red\">apps launched directly via Finder/Dock\n",
              "</span>in Dockerfile fails intermittently with no such file or directory"
            ],
            "text/plain": [
              "<IPython.core.display.HTML object>"
            ]
          },
          "metadata": {
            "tags": []
          }
        },
        {
          "output_type": "stream",
          "text": [
            "\n"
          ],
          "name": "stdout"
        },
        {
          "output_type": "display_data",
          "data": {
            "text/html": [
              "<b>O1:</b> <span style=\"color: red\">The generated moc code </span>won't work if you don't.\n"
            ],
            "text/plain": [
              "<IPython.core.display.HTML object>"
            ]
          },
          "metadata": {
            "tags": []
          }
        },
        {
          "output_type": "display_data",
          "data": {
            "text/html": [
              "<b>O2:</b> #10347 has been proposed as <span style=\"color: blue\">a fix </span>to this problem. "
            ],
            "text/plain": [
              "<IPython.core.display.HTML object>"
            ]
          },
          "metadata": {
            "tags": []
          }
        },
        {
          "output_type": "display_data",
          "data": {
            "text/html": [
              "<b>S1:</b> <span style=\"color: blue\">a fix </span>won't work if you don't.\n"
            ],
            "text/plain": [
              "<IPython.core.display.HTML object>"
            ]
          },
          "metadata": {
            "tags": []
          }
        },
        {
          "output_type": "display_data",
          "data": {
            "text/html": [
              "<b>S2:</b> #10347 has been proposed as <span style=\"color: red\">The generated moc code </span>to this problem. "
            ],
            "text/plain": [
              "<IPython.core.display.HTML object>"
            ]
          },
          "metadata": {
            "tags": []
          }
        },
        {
          "output_type": "stream",
          "text": [
            "\n"
          ],
          "name": "stdout"
        },
        {
          "output_type": "display_data",
          "data": {
            "text/html": [
              "<b>O1:</b> See <span style=\"color: red\">the same error </span>when running MNIST test.\n"
            ],
            "text/plain": [
              "<IPython.core.display.HTML object>"
            ]
          },
          "metadata": {
            "tags": []
          }
        },
        {
          "output_type": "display_data",
          "data": {
            "text/html": [
              "<b>O2:</b> Try this, the last log of <span style=\"color: blue\">$.fn.button </span>should be the jquery-ui version: \n"
            ],
            "text/plain": [
              "<IPython.core.display.HTML object>"
            ]
          },
          "metadata": {
            "tags": []
          }
        },
        {
          "output_type": "display_data",
          "data": {
            "text/html": [
              "<b>S1:</b> See <span style=\"color: blue\">$.fn.button </span>when running MNIST test.\n"
            ],
            "text/plain": [
              "<IPython.core.display.HTML object>"
            ]
          },
          "metadata": {
            "tags": []
          }
        },
        {
          "output_type": "display_data",
          "data": {
            "text/html": [
              "<b>S2:</b> Try this, the last log of <span style=\"color: red\">the same error </span>should be the jquery-ui version: \n"
            ],
            "text/plain": [
              "<IPython.core.display.HTML object>"
            ]
          },
          "metadata": {
            "tags": []
          }
        },
        {
          "output_type": "stream",
          "text": [
            "\n"
          ],
          "name": "stdout"
        },
        {
          "output_type": "display_data",
          "data": {
            "text/html": [
              "<b>O1:</b> However, when i want to set stride > 1 for 1d conv using conv2d with h = 1, i got an error \"ValueError: Current implementation only supports equal length strides in the row and <span style=\"color: red\">column dimensions</span>\". \n"
            ],
            "text/plain": [
              "<IPython.core.display.HTML object>"
            ]
          },
          "metadata": {
            "tags": []
          }
        },
        {
          "output_type": "display_data",
          "data": {
            "text/html": [
              "<b>O2:</b> Thanks for pointing me in <span style=\"color: blue\">the right direction</span>! \n"
            ],
            "text/plain": [
              "<IPython.core.display.HTML object>"
            ]
          },
          "metadata": {
            "tags": []
          }
        },
        {
          "output_type": "display_data",
          "data": {
            "text/html": [
              "<b>S1:</b> However, when i want to set stride > 1 for 1d conv using conv2d with h = 1, i got an error \"ValueError: Current implementation only supports equal length strides in the row and <span style=\"color: blue\">the right direction</span>\". \n"
            ],
            "text/plain": [
              "<IPython.core.display.HTML object>"
            ]
          },
          "metadata": {
            "tags": []
          }
        },
        {
          "output_type": "display_data",
          "data": {
            "text/html": [
              "<b>S2:</b> Thanks for pointing me in <span style=\"color: red\">column dimensions</span>! \n"
            ],
            "text/plain": [
              "<IPython.core.display.HTML object>"
            ]
          },
          "metadata": {
            "tags": []
          }
        },
        {
          "output_type": "stream",
          "text": [
            "\n"
          ],
          "name": "stdout"
        },
        {
          "output_type": "display_data",
          "data": {
            "text/html": [
              "<b>O1:</b> Hovering .table-striped rows remain broken with <span style=\"color: red\">@mchiocca's </span>fix.\n"
            ],
            "text/plain": [
              "<IPython.core.display.HTML object>"
            ]
          },
          "metadata": {
            "tags": []
          }
        },
        {
          "output_type": "display_data",
          "data": {
            "text/html": [
              "<b>O2:</b> <span style=\"color: blue\">Any help </span>would be greatly appreciated. \n"
            ],
            "text/plain": [
              "<IPython.core.display.HTML object>"
            ]
          },
          "metadata": {
            "tags": []
          }
        },
        {
          "output_type": "display_data",
          "data": {
            "text/html": [
              "<b>S1:</b> Hovering .table-striped rows remain broken with <span style=\"color: blue\">Any help </span>fix.\n"
            ],
            "text/plain": [
              "<IPython.core.display.HTML object>"
            ]
          },
          "metadata": {
            "tags": []
          }
        },
        {
          "output_type": "display_data",
          "data": {
            "text/html": [
              "<b>S2:</b> <span style=\"color: red\">@mchiocca's </span>would be greatly appreciated. \n"
            ],
            "text/plain": [
              "<IPython.core.display.HTML object>"
            ]
          },
          "metadata": {
            "tags": []
          }
        },
        {
          "output_type": "stream",
          "text": [
            "\n",
            "\n",
            "\n",
            "\n"
          ],
          "name": "stdout"
        },
        {
          "output_type": "display_data",
          "data": {
            "text/html": [
              "<b>O1:</b> It is a very good idea to have <span style=\"color: red\">the Qt files treated as system files\n",
              "</span>"
            ],
            "text/plain": [
              "<IPython.core.display.HTML object>"
            ]
          },
          "metadata": {
            "tags": []
          }
        },
        {
          "output_type": "display_data",
          "data": {
            "text/html": [
              "<b>O2:</b> This solution will work only if you are going to launch the app in terminal or your tool (i.e. Qt Creator) will be able to figure out it needs to set <span style=\"color: blue\">DYLD_LIBRARY_</span>PATH which is far to complicated.\n"
            ],
            "text/plain": [
              "<IPython.core.display.HTML object>"
            ]
          },
          "metadata": {
            "tags": []
          }
        },
        {
          "output_type": "display_data",
          "data": {
            "text/html": [
              "<b>S1:</b> It is a very good idea to have <span style=\"color: blue\">DYLD_LIBRARY_</span>"
            ],
            "text/plain": [
              "<IPython.core.display.HTML object>"
            ]
          },
          "metadata": {
            "tags": []
          }
        },
        {
          "output_type": "display_data",
          "data": {
            "text/html": [
              "<b>S2:</b> This solution will work only if you are going to launch the app in terminal or your tool (i.e. Qt Creator) will be able to figure out it needs to set <span style=\"color: red\">the Qt files treated as system files\n",
              "</span>PATH which is far to complicated.\n"
            ],
            "text/plain": [
              "<IPython.core.display.HTML object>"
            ]
          },
          "metadata": {
            "tags": []
          }
        },
        {
          "output_type": "stream",
          "text": [
            "\n"
          ],
          "name": "stdout"
        },
        {
          "output_type": "display_data",
          "data": {
            "text/html": [
              "<b>O1:</b> So instead, you need to run the compile_ios_<span style=\"color: red\">tensorflow.sh script</span>:\n"
            ],
            "text/plain": [
              "<IPython.core.display.HTML object>"
            ]
          },
          "metadata": {
            "tags": []
          }
        },
        {
          "output_type": "display_data",
          "data": {
            "text/html": [
              "<b>O2:</b> You can just have a cc_library rule with <span style=\"color: blue\">the name tensorflow </span>and the build target will build a shared library called libtensorflow.so.\n"
            ],
            "text/plain": [
              "<IPython.core.display.HTML object>"
            ]
          },
          "metadata": {
            "tags": []
          }
        },
        {
          "output_type": "display_data",
          "data": {
            "text/html": [
              "<b>S1:</b> So instead, you need to run the compile_ios_<span style=\"color: blue\">the name tensorflow </span>:\n"
            ],
            "text/plain": [
              "<IPython.core.display.HTML object>"
            ]
          },
          "metadata": {
            "tags": []
          }
        },
        {
          "output_type": "display_data",
          "data": {
            "text/html": [
              "<b>S2:</b> You can just have a cc_library rule with <span style=\"color: red\">tensorflow.sh script</span>and the build target will build a shared library called libtensorflow.so.\n"
            ],
            "text/plain": [
              "<IPython.core.display.HTML object>"
            ]
          },
          "metadata": {
            "tags": []
          }
        },
        {
          "output_type": "stream",
          "text": [
            "\n"
          ],
          "name": "stdout"
        },
        {
          "output_type": "display_data",
          "data": {
            "text/html": [
              "<b>O1:</b> I would suggest keeping pico (because it's <span style=\"color: red\">the smallest</span>) and get rid of emacs and vim\n"
            ],
            "text/plain": [
              "<IPython.core.display.HTML object>"
            ]
          },
          "metadata": {
            "tags": []
          }
        },
        {
          "output_type": "display_data",
          "data": {
            "text/html": [
              "<b>O2:</b> Yes, <span style=\"color: blue\">very cool</span>. \n"
            ],
            "text/plain": [
              "<IPython.core.display.HTML object>"
            ]
          },
          "metadata": {
            "tags": []
          }
        },
        {
          "output_type": "display_data",
          "data": {
            "text/html": [
              "<b>S1:</b> I would suggest keeping pico (because it's <span style=\"color: blue\">very cool</span>) and get rid of emacs and vim\n"
            ],
            "text/plain": [
              "<IPython.core.display.HTML object>"
            ]
          },
          "metadata": {
            "tags": []
          }
        },
        {
          "output_type": "display_data",
          "data": {
            "text/html": [
              "<b>S2:</b> Yes, <span style=\"color: red\">the smallest</span>. \n"
            ],
            "text/plain": [
              "<IPython.core.display.HTML object>"
            ]
          },
          "metadata": {
            "tags": []
          }
        },
        {
          "output_type": "stream",
          "text": [
            "\n"
          ],
          "name": "stdout"
        },
        {
          "output_type": "display_data",
          "data": {
            "text/html": [
              "<b>O1:</b> Another fix is to add fade to this style in <span style=\"color: red\">your custom.css</span>. Line 5098 in the bootstrap.css file.\n"
            ],
            "text/plain": [
              "<IPython.core.display.HTML object>"
            ]
          },
          "metadata": {
            "tags": []
          }
        },
        {
          "output_type": "display_data",
          "data": {
            "text/html": [
              "<b>O2:</b> Thanks for <span style=\"color: blue\">the response, vrv</span>.\n"
            ],
            "text/plain": [
              "<IPython.core.display.HTML object>"
            ]
          },
          "metadata": {
            "tags": []
          }
        },
        {
          "output_type": "display_data",
          "data": {
            "text/html": [
              "<b>S1:</b> Another fix is to add fade to this style in <span style=\"color: blue\">the response, vrv</span>. Line 5098 in the bootstrap.css file.\n"
            ],
            "text/plain": [
              "<IPython.core.display.HTML object>"
            ]
          },
          "metadata": {
            "tags": []
          }
        },
        {
          "output_type": "display_data",
          "data": {
            "text/html": [
              "<b>S2:</b> Thanks for <span style=\"color: red\">your custom.css</span>.\n"
            ],
            "text/plain": [
              "<IPython.core.display.HTML object>"
            ]
          },
          "metadata": {
            "tags": []
          }
        },
        {
          "output_type": "stream",
          "text": [
            "\n",
            "\n",
            "\n",
            "\n"
          ],
          "name": "stdout"
        },
        {
          "output_type": "display_data",
          "data": {
            "text/html": [
              "<b>O1:</b> It's just <span style=\"color: red\">my personal experience</span>.\n"
            ],
            "text/plain": [
              "<IPython.core.display.HTML object>"
            ]
          },
          "metadata": {
            "tags": []
          }
        },
        {
          "output_type": "display_data",
          "data": {
            "text/html": [
              "<b>O2:</b> Thanks for <span style=\"color: blue\">the suggestion</span>. \n"
            ],
            "text/plain": [
              "<IPython.core.display.HTML object>"
            ]
          },
          "metadata": {
            "tags": []
          }
        },
        {
          "output_type": "display_data",
          "data": {
            "text/html": [
              "<b>S1:</b> It's just <span style=\"color: blue\">the suggestion</span>.\n"
            ],
            "text/plain": [
              "<IPython.core.display.HTML object>"
            ]
          },
          "metadata": {
            "tags": []
          }
        },
        {
          "output_type": "display_data",
          "data": {
            "text/html": [
              "<b>S2:</b> Thanks for <span style=\"color: red\">my personal experience</span>. \n"
            ],
            "text/plain": [
              "<IPython.core.display.HTML object>"
            ]
          },
          "metadata": {
            "tags": []
          }
        },
        {
          "output_type": "stream",
          "text": [
            "\n"
          ],
          "name": "stdout"
        },
        {
          "output_type": "display_data",
          "data": {
            "text/html": [
              "<b>O1:</b> thanks for <span style=\"color: red\">the heads-up\n",
              "</span>"
            ],
            "text/plain": [
              "<IPython.core.display.HTML object>"
            ]
          },
          "metadata": {
            "tags": []
          }
        },
        {
          "output_type": "display_data",
          "data": {
            "text/html": [
              "<b>O2:</b> sorry for <span style=\"color: blue\">the delay </span>here. "
            ],
            "text/plain": [
              "<IPython.core.display.HTML object>"
            ]
          },
          "metadata": {
            "tags": []
          }
        },
        {
          "output_type": "display_data",
          "data": {
            "text/html": [
              "<b>S1:</b> thanks for <span style=\"color: blue\">the delay </span>"
            ],
            "text/plain": [
              "<IPython.core.display.HTML object>"
            ]
          },
          "metadata": {
            "tags": []
          }
        },
        {
          "output_type": "display_data",
          "data": {
            "text/html": [
              "<b>S2:</b> sorry for <span style=\"color: red\">the heads-up\n",
              "</span>here. "
            ],
            "text/plain": [
              "<IPython.core.display.HTML object>"
            ]
          },
          "metadata": {
            "tags": []
          }
        },
        {
          "output_type": "stream",
          "text": [
            "\n",
            "\n",
            "\n",
            "\n"
          ],
          "name": "stdout"
        }
      ]
    },
    {
      "cell_type": "code",
      "metadata": {
        "id": "Bb59Mp5HoV2f",
        "colab": {
          "base_uri": "https://localhost:8080/",
          "height": 361
        },
        "outputId": "6d946bfe-f063-4dd3-e2a2-0c7e4e98a612"
      },
      "source": [
        "import matplotlib.pyplot as plt\n",
        "import joblib\n",
        "import nltk\n",
        "from nltk.corpus import stopwords\n",
        "stopwords.words('english')\n",
        "\n",
        "# NaiveBayes, LogisticRegression, and SVM\n",
        "models, nb_lg_svm_params, label_to_int = \\\n",
        "  joblib.load(\"AIM_NB_LG_SVM.joblib\")\n",
        "\n",
        "train_valid_set = aim_parsed_text.StanfordFiles([\"bootstrap\", \"docker\", \"tensorflow\", \"vscode\"])\n",
        "train_valid_set.shuffle()\n",
        "train_valid_set.Preprocess(train_valid_set)\n",
        "\n",
        "test_set = aim_parsed_text.StanfordFiles([\"DECA\"])\n",
        "train_valid_set.Preprocess(test_set)\n",
        "\n",
        "ttt = [sent for sent, _ in test_set][:20]\n",
        "\n",
        "for model_name in models:\n",
        "  models[model_name]['tfidf'].preprocessor = lambda x: x\n",
        "  models[model_name]['tfidf'].tokenizer = lambda sent: [str(t) for t in sent.tokens]\n",
        "  prediction = models[model_name].predict(train_valid_set.processed)\n",
        "  print(models[model_name].predict(ttt))\n",
        "\n",
        "  # train\n",
        "  train_count = 0;\n",
        "  for lab, pre in zip(train_valid_set.labels, prediction):\n",
        "    if label_to_int[lab] == pre:\n",
        "      train_count = 1 + train_count\n",
        "  prediction = models[model_name].predict(test_set.processed)\n",
        "\n",
        "  # test\n",
        "  test_count = 0;\n",
        "  for lab, pre in zip(test_set.labels, prediction):\n",
        "    if label_to_int[lab] == pre:\n",
        "      test_count = 1 + test_count\n",
        "\n",
        "  #print\n",
        "  print(train_count / len(train_valid_set.processed), test_count / len(test_set.processed))\n",
        "\n",
        "#prediction = models['NaiveBayes'].predict(test_set.processed)"
      ],
      "execution_count": null,
      "outputs": [
        {
          "output_type": "stream",
          "text": [
            "/usr/local/lib/python3.6/dist-packages/sklearn/base.py:318: UserWarning: Trying to unpickle estimator TfidfTransformer from version 0.22.1 when using version 0.22.2.post1. This might lead to breaking code or invalid results. Use at your own risk.\n",
            "  UserWarning)\n",
            "/usr/local/lib/python3.6/dist-packages/sklearn/base.py:318: UserWarning: Trying to unpickle estimator TfidfVectorizer from version 0.22.1 when using version 0.22.2.post1. This might lead to breaking code or invalid results. Use at your own risk.\n",
            "  UserWarning)\n",
            "/usr/local/lib/python3.6/dist-packages/sklearn/base.py:318: UserWarning: Trying to unpickle estimator MultinomialNB from version 0.22.1 when using version 0.22.2.post1. This might lead to breaking code or invalid results. Use at your own risk.\n",
            "  UserWarning)\n",
            "/usr/local/lib/python3.6/dist-packages/sklearn/base.py:318: UserWarning: Trying to unpickle estimator Pipeline from version 0.22.1 when using version 0.22.2.post1. This might lead to breaking code or invalid results. Use at your own risk.\n",
            "  UserWarning)\n",
            "/usr/local/lib/python3.6/dist-packages/sklearn/base.py:318: UserWarning: Trying to unpickle estimator LogisticRegression from version 0.22.1 when using version 0.22.2.post1. This might lead to breaking code or invalid results. Use at your own risk.\n",
            "  UserWarning)\n",
            "/usr/local/lib/python3.6/dist-packages/sklearn/base.py:318: UserWarning: Trying to unpickle estimator SVC from version 0.22.1 when using version 0.22.2.post1. This might lead to breaking code or invalid results. Use at your own risk.\n",
            "  UserWarning)\n"
          ],
          "name": "stderr"
        },
        {
          "output_type": "stream",
          "text": [
            "[0 6 5 3 5 5 1 1 1 5 1 5 5 5 5 5 5 1 5 0]\n",
            "0.9036434251895691 0.25413223140495866\n",
            "[0 6 5 3 5 5 1 4 1 5 1 5 1 0 1 5 5 6 0 0]\n",
            "0.963935638986499 0.365702479338843\n",
            "[0 6 5 3 2 5 1 0 1 5 1 5 5 2 5 5 5 1 0 5]\n",
            "0.9750323654521916 0.36363636363636365\n"
          ],
          "name": "stdout"
        }
      ]
    },
    {
      "cell_type": "code",
      "metadata": {
        "id": "hzi9VPCx1hgY",
        "cellView": "code",
        "colab": {
          "base_uri": "https://localhost:8080/",
          "height": 289
        },
        "outputId": "d900a04a-8d83-465a-988d-caff52d41f30"
      },
      "source": [
        "# @title Define var models = {'LSTM', lstm_predict(...), ...} \n",
        "import joblib\n",
        "\n",
        "#### NOTE\n",
        "# This function is *crucial*! If the lambda function is created directly in the\n",
        "# loop, the pipeline that is used is the last one (since the lambda expression\n",
        "# *closes* over the global pipeline) [In other words, the loop does not have scope\n",
        "# so the variable that is used is the general one.] \n",
        "def create_model_predict_func(pipeline, int_to_label):\n",
        "  return lambda sent: [int_to_label[cat] for cat in pipeline.predict(sent)]\n",
        "\n",
        "models = {}\n",
        "\n",
        "# NaiveBayes, LogisticRegression, and SVM\n",
        "nb_lg_svm, nb_lg_svm_params, nb_lg_svm_label_vocab = \\\n",
        "  joblib.load('AIM_NB_LG_SVM.joblib')\n",
        "nb_lg_svm_label_vocab = [cat for cat, _ in sorted(nb_lg_svm_label_vocab.items(), key=lambda tup: tup[1])]\n",
        "for model_name, pipeline in nb_lg_svm.items():\n",
        "  pipeline['tfidf'].preprocessor = lambda sent: sent\n",
        "  pipeline['tfidf'].tokenizer = lambda sent: [str(t) for t in sent.tokens] \n",
        "  models[model_name] = create_model_predict_func(pipeline, nb_lg_svm_label_vocab)\n",
        "\n",
        "# LSTM\n",
        "lstm_params, lstm_model = joblib.load('AIM_LSTM.joblib')\n",
        "lstm_model = lstm_model['DECA']\n",
        "models['LSTM'] = lambda processed_text: NNPredictStanford \\\n",
        "(\n",
        "  lstm_model['model'], lstm_model['text_vocab'], lstm_model['label_vocab'],\n",
        "  lstm_params['_padded_string_length'], processed_text\n",
        ")\n",
        "\n",
        "# CNN\n",
        "cnn_params, cnn_model = joblib.load('AIM_CNN.joblib')\n",
        "cnn_model = cnn_model['DECA']\n",
        "models['CNN'] = lambda processed_text: NNPredictStanford \\\n",
        "(\n",
        "  cnn_model['model'], cnn_model['text_vocab'], cnn_model['label_vocab'],\n",
        "  cnn_params['_padded_string_length'], processed_text\n",
        ")\n",
        "ttt.append(models['LSTM']([sent for sent, _ in test_set]))\n",
        "ttt.append(models['CNN']([sent for sent, _ in test_set]))\n",
        "np.sum([a == b for a, b in zip(ttt[3], [lab for _, lab in test_set])]) / len(test_set)\n",
        "\n",
        "# Make sure that all models are working as expected\n",
        "test_set = aim_parsed_text.StanfordFiles([\"DECA\"])\n",
        "test_set.Preprocess(test_set)\n",
        "sentences = [sent for sent, _ in test_set]\n",
        "labels = [lab for _, lab in test_set]\n",
        "ttt = [\n",
        "  models['NaiveBayes'](sentences),\n",
        "  models['LogisticRegression'](sentences),\n",
        "  models['SVM'](sentences),\n",
        "  models['LSTM'](sentences),\n",
        "  models['CNN'](sentences)\n",
        "]\n",
        "print(\n",
        "  \"{:.6f} {:.6f} {:.6f} {:.6f} {:.6f}\".format(\n",
        "    np.sum([a == b for a, b in zip(ttt[0], labels)]) / len(ttt[0]), \n",
        "    np.sum([a == b for a, b in zip(ttt[1], labels)]) / len(ttt[0]),\n",
        "    np.sum([a == b for a, b in zip(ttt[2], labels)]) / len(ttt[0]),\n",
        "    np.sum([a == b for a, b in zip(ttt[3], labels)]) / len(ttt[0]),\n",
        "    np.sum([a == b for a, b in zip(ttt[4], labels)]) / len(ttt[0])\n",
        "  )\n",
        ")\n",
        "print(\n",
        "  \"{:.6f} {:.6f} {:.6f} {:.6f} {:.6f}\".format(\n",
        "    np.sum([a == b for a, b in zip(ttt[0], ttt[1])]) / len(ttt[0]), \n",
        "    np.sum([a == b for a, b in zip(ttt[0], ttt[2])]) / len(ttt[0]),\n",
        "    np.sum([a == b for a, b in zip(ttt[1], ttt[2])]) / len(ttt[0]),\n",
        "    np.sum([a == b for a, b in zip(ttt[0], ttt[3])]) / len(ttt[0]),\n",
        "    np.sum([a == b for a, b in zip(ttt[3], ttt[4])]) / len(ttt[0])\n",
        "  )\n",
        ")\n"
      ],
      "execution_count": null,
      "outputs": [
        {
          "output_type": "stream",
          "text": [
            "/usr/local/lib/python3.6/dist-packages/sklearn/base.py:318: UserWarning: Trying to unpickle estimator TfidfTransformer from version 0.22.1 when using version 0.22.2.post1. This might lead to breaking code or invalid results. Use at your own risk.\n",
            "  UserWarning)\n",
            "/usr/local/lib/python3.6/dist-packages/sklearn/base.py:318: UserWarning: Trying to unpickle estimator TfidfVectorizer from version 0.22.1 when using version 0.22.2.post1. This might lead to breaking code or invalid results. Use at your own risk.\n",
            "  UserWarning)\n",
            "/usr/local/lib/python3.6/dist-packages/sklearn/base.py:318: UserWarning: Trying to unpickle estimator MultinomialNB from version 0.22.1 when using version 0.22.2.post1. This might lead to breaking code or invalid results. Use at your own risk.\n",
            "  UserWarning)\n",
            "/usr/local/lib/python3.6/dist-packages/sklearn/base.py:318: UserWarning: Trying to unpickle estimator Pipeline from version 0.22.1 when using version 0.22.2.post1. This might lead to breaking code or invalid results. Use at your own risk.\n",
            "  UserWarning)\n",
            "/usr/local/lib/python3.6/dist-packages/sklearn/base.py:318: UserWarning: Trying to unpickle estimator LogisticRegression from version 0.22.1 when using version 0.22.2.post1. This might lead to breaking code or invalid results. Use at your own risk.\n",
            "  UserWarning)\n",
            "/usr/local/lib/python3.6/dist-packages/sklearn/base.py:318: UserWarning: Trying to unpickle estimator SVC from version 0.22.1 when using version 0.22.2.post1. This might lead to breaking code or invalid results. Use at your own risk.\n",
            "  UserWarning)\n"
          ],
          "name": "stderr"
        },
        {
          "output_type": "stream",
          "text": [
            "0.254132 0.365702 0.363636 0.274793 0.271694\n",
            "0.621901 0.561983 0.720041 0.258264 0.457645\n"
          ],
          "name": "stdout"
        }
      ]
    },
    {
      "cell_type": "code",
      "metadata": {
        "id": "Vy7KvMp_n9aX",
        "cellView": "code",
        "colab": {
          "base_uri": "https://localhost:8080/",
          "height": 1000
        },
        "outputId": "24fee0e6-5bc1-42d3-80f6-faf23c142b52"
      },
      "source": [
        "# @title Confusion matrices\n",
        "\n",
        "# TODO:\n",
        "#  * Change code so that augmented sentences are created *within* project\n",
        "#  * Models are trained using other data (include DECA?)\n",
        "#     e.g., For bootstrap, models are trained using tensorflow, docker, vscode,\n",
        "#           and DECA. Augmented sentences are created using bootstrap sentences\n",
        "#           and \"tested\" using model described above.\n",
        "\n",
        "import pandas as pd\n",
        "import numpy as np\n",
        "\n",
        "acc = {}\n",
        "array = {}\n",
        "upper_tri = {}\n",
        "count = np.zeros((len(categories), len(categories)))\n",
        "cat2int = {cat:ix for ix, cat in enumerate(categories)}\n",
        "for model_name, model in models.items():\n",
        "  print(model_name)\n",
        "\n",
        "  acc[model_name] = np.zeros((len(categories), len(categories), len(list(swapped.values())[0])), dtype=np.bool)\n",
        "  array[model_name] = np.zeros((len(categories), len(categories)))\n",
        "\n",
        "  for target_categories, swapped_sentences in swapped.items():\n",
        "    res = [c in target_categories for c in model(swapped_sentences)]\n",
        "    tcix = cat2int[target_categories[0]]\n",
        "    tcjx = cat2int[target_categories[1]]\n",
        "    acc[model_name][tcix, tcjx, :] = acc[model_name][tcjx, tcix] = np.array(res)\n",
        "\n",
        "  array[model_name] = pd.DataFrame(np.mean(acc[model_name], axis=2), categories, categories)\n",
        "\n",
        "  upper_tri[model_name] = array[model_name]\n",
        "  for ix in range(upper_tri[model_name].shape[0]):\n",
        "    for jx in range(ix):\n",
        "      upper_tri[model_name].iloc[ix,jx] = ''\n",
        "  \n",
        "  display(upper_tri[model_name])\n",
        "\n",
        "import joblib\n",
        "import os\n",
        "\n",
        "array\n",
        "\n",
        "#joblib.dump(array, os.path.join(drive_folder, \"out\", \"Augmented_swapped_matrices.joblib\"), compress=9)\n",
        "array = joblib.load(os.path.join(drive_folder, \"out\", \"Augmented_swapped_matrices.joblib\"))\n",
        "mat = array['LSTM']\n",
        "upper = [mat.iloc[ix,jx] for ix in range(mat.shape[0]) for jx in range(mat.shape[1]) if ix < jx]\n",
        "print(upper)"
      ],
      "execution_count": null,
      "outputs": [
        {
          "output_type": "stream",
          "text": [
            "NaiveBayes\n"
          ],
          "name": "stdout"
        },
        {
          "output_type": "display_data",
          "data": {
            "text/html": [
              "<div>\n",
              "<style scoped>\n",
              "    .dataframe tbody tr th:only-of-type {\n",
              "        vertical-align: middle;\n",
              "    }\n",
              "\n",
              "    .dataframe tbody tr th {\n",
              "        vertical-align: top;\n",
              "    }\n",
              "\n",
              "    .dataframe thead th {\n",
              "        text-align: right;\n",
              "    }\n",
              "</style>\n",
              "<table border=\"1\" class=\"dataframe\">\n",
              "  <thead>\n",
              "    <tr style=\"text-align: right;\">\n",
              "      <th></th>\n",
              "      <th>aspect evaluation</th>\n",
              "      <th>feature request</th>\n",
              "      <th>information giving</th>\n",
              "      <th>information seeking</th>\n",
              "      <th>problem discovery</th>\n",
              "      <th>solution proposal</th>\n",
              "      <th>others</th>\n",
              "    </tr>\n",
              "  </thead>\n",
              "  <tbody>\n",
              "    <tr>\n",
              "      <th>aspect evaluation</th>\n",
              "      <td>0.9</td>\n",
              "      <td>0.814</td>\n",
              "      <td>0.906</td>\n",
              "      <td>0.788</td>\n",
              "      <td>0.796</td>\n",
              "      <td>0.772</td>\n",
              "      <td>0.710</td>\n",
              "    </tr>\n",
              "    <tr>\n",
              "      <th>feature request</th>\n",
              "      <td></td>\n",
              "      <td>0.648</td>\n",
              "      <td>0.808</td>\n",
              "      <td>0.592</td>\n",
              "      <td>0.54</td>\n",
              "      <td>0.582</td>\n",
              "      <td>0.520</td>\n",
              "    </tr>\n",
              "    <tr>\n",
              "      <th>information giving</th>\n",
              "      <td></td>\n",
              "      <td></td>\n",
              "      <td>0.878</td>\n",
              "      <td>0.878</td>\n",
              "      <td>0.858</td>\n",
              "      <td>0.806</td>\n",
              "      <td>0.748</td>\n",
              "    </tr>\n",
              "    <tr>\n",
              "      <th>information seeking</th>\n",
              "      <td></td>\n",
              "      <td></td>\n",
              "      <td></td>\n",
              "      <td>0.59</td>\n",
              "      <td>0.704</td>\n",
              "      <td>0.66</td>\n",
              "      <td>0.546</td>\n",
              "    </tr>\n",
              "    <tr>\n",
              "      <th>problem discovery</th>\n",
              "      <td></td>\n",
              "      <td></td>\n",
              "      <td></td>\n",
              "      <td></td>\n",
              "      <td>0.702</td>\n",
              "      <td>0.678</td>\n",
              "      <td>0.604</td>\n",
              "    </tr>\n",
              "    <tr>\n",
              "      <th>solution proposal</th>\n",
              "      <td></td>\n",
              "      <td></td>\n",
              "      <td></td>\n",
              "      <td></td>\n",
              "      <td></td>\n",
              "      <td>0.664</td>\n",
              "      <td>0.470</td>\n",
              "    </tr>\n",
              "    <tr>\n",
              "      <th>others</th>\n",
              "      <td></td>\n",
              "      <td></td>\n",
              "      <td></td>\n",
              "      <td></td>\n",
              "      <td></td>\n",
              "      <td></td>\n",
              "      <td>0.664</td>\n",
              "    </tr>\n",
              "  </tbody>\n",
              "</table>\n",
              "</div>"
            ],
            "text/plain": [
              "                    aspect evaluation feature request  ... solution proposal others\n",
              "aspect evaluation                 0.9           0.814  ...             0.772  0.710\n",
              "feature request                                 0.648  ...             0.582  0.520\n",
              "information giving                                     ...             0.806  0.748\n",
              "information seeking                                    ...              0.66  0.546\n",
              "problem discovery                                      ...             0.678  0.604\n",
              "solution proposal                                      ...             0.664  0.470\n",
              "others                                                 ...                    0.664\n",
              "\n",
              "[7 rows x 7 columns]"
            ]
          },
          "metadata": {
            "tags": []
          }
        },
        {
          "output_type": "stream",
          "text": [
            "LogisticRegression\n"
          ],
          "name": "stdout"
        },
        {
          "output_type": "display_data",
          "data": {
            "text/html": [
              "<div>\n",
              "<style scoped>\n",
              "    .dataframe tbody tr th:only-of-type {\n",
              "        vertical-align: middle;\n",
              "    }\n",
              "\n",
              "    .dataframe tbody tr th {\n",
              "        vertical-align: top;\n",
              "    }\n",
              "\n",
              "    .dataframe thead th {\n",
              "        text-align: right;\n",
              "    }\n",
              "</style>\n",
              "<table border=\"1\" class=\"dataframe\">\n",
              "  <thead>\n",
              "    <tr style=\"text-align: right;\">\n",
              "      <th></th>\n",
              "      <th>aspect evaluation</th>\n",
              "      <th>feature request</th>\n",
              "      <th>information giving</th>\n",
              "      <th>information seeking</th>\n",
              "      <th>problem discovery</th>\n",
              "      <th>solution proposal</th>\n",
              "      <th>others</th>\n",
              "    </tr>\n",
              "  </thead>\n",
              "  <tbody>\n",
              "    <tr>\n",
              "      <th>aspect evaluation</th>\n",
              "      <td>0.862</td>\n",
              "      <td>0.808</td>\n",
              "      <td>0.88</td>\n",
              "      <td>0.774</td>\n",
              "      <td>0.746</td>\n",
              "      <td>0.73</td>\n",
              "      <td>0.624</td>\n",
              "    </tr>\n",
              "    <tr>\n",
              "      <th>feature request</th>\n",
              "      <td></td>\n",
              "      <td>0.66</td>\n",
              "      <td>0.798</td>\n",
              "      <td>0.62</td>\n",
              "      <td>0.594</td>\n",
              "      <td>0.614</td>\n",
              "      <td>0.518</td>\n",
              "    </tr>\n",
              "    <tr>\n",
              "      <th>information giving</th>\n",
              "      <td></td>\n",
              "      <td></td>\n",
              "      <td>0.822</td>\n",
              "      <td>0.874</td>\n",
              "      <td>0.834</td>\n",
              "      <td>0.764</td>\n",
              "      <td>0.714</td>\n",
              "    </tr>\n",
              "    <tr>\n",
              "      <th>information seeking</th>\n",
              "      <td></td>\n",
              "      <td></td>\n",
              "      <td></td>\n",
              "      <td>0.686</td>\n",
              "      <td>0.736</td>\n",
              "      <td>0.668</td>\n",
              "      <td>0.648</td>\n",
              "    </tr>\n",
              "    <tr>\n",
              "      <th>problem discovery</th>\n",
              "      <td></td>\n",
              "      <td></td>\n",
              "      <td></td>\n",
              "      <td></td>\n",
              "      <td>0.666</td>\n",
              "      <td>0.676</td>\n",
              "      <td>0.574</td>\n",
              "    </tr>\n",
              "    <tr>\n",
              "      <th>solution proposal</th>\n",
              "      <td></td>\n",
              "      <td></td>\n",
              "      <td></td>\n",
              "      <td></td>\n",
              "      <td></td>\n",
              "      <td>0.662</td>\n",
              "      <td>0.484</td>\n",
              "    </tr>\n",
              "    <tr>\n",
              "      <th>others</th>\n",
              "      <td></td>\n",
              "      <td></td>\n",
              "      <td></td>\n",
              "      <td></td>\n",
              "      <td></td>\n",
              "      <td></td>\n",
              "      <td>0.556</td>\n",
              "    </tr>\n",
              "  </tbody>\n",
              "</table>\n",
              "</div>"
            ],
            "text/plain": [
              "                    aspect evaluation feature request  ... solution proposal others\n",
              "aspect evaluation               0.862           0.808  ...              0.73  0.624\n",
              "feature request                                  0.66  ...             0.614  0.518\n",
              "information giving                                     ...             0.764  0.714\n",
              "information seeking                                    ...             0.668  0.648\n",
              "problem discovery                                      ...             0.676  0.574\n",
              "solution proposal                                      ...             0.662  0.484\n",
              "others                                                 ...                    0.556\n",
              "\n",
              "[7 rows x 7 columns]"
            ]
          },
          "metadata": {
            "tags": []
          }
        },
        {
          "output_type": "stream",
          "text": [
            "SVM\n"
          ],
          "name": "stdout"
        },
        {
          "output_type": "display_data",
          "data": {
            "text/html": [
              "<div>\n",
              "<style scoped>\n",
              "    .dataframe tbody tr th:only-of-type {\n",
              "        vertical-align: middle;\n",
              "    }\n",
              "\n",
              "    .dataframe tbody tr th {\n",
              "        vertical-align: top;\n",
              "    }\n",
              "\n",
              "    .dataframe thead th {\n",
              "        text-align: right;\n",
              "    }\n",
              "</style>\n",
              "<table border=\"1\" class=\"dataframe\">\n",
              "  <thead>\n",
              "    <tr style=\"text-align: right;\">\n",
              "      <th></th>\n",
              "      <th>aspect evaluation</th>\n",
              "      <th>feature request</th>\n",
              "      <th>information giving</th>\n",
              "      <th>information seeking</th>\n",
              "      <th>problem discovery</th>\n",
              "      <th>solution proposal</th>\n",
              "      <th>others</th>\n",
              "    </tr>\n",
              "  </thead>\n",
              "  <tbody>\n",
              "    <tr>\n",
              "      <th>aspect evaluation</th>\n",
              "      <td>0.872</td>\n",
              "      <td>0.82</td>\n",
              "      <td>0.932</td>\n",
              "      <td>0.674</td>\n",
              "      <td>0.744</td>\n",
              "      <td>0.714</td>\n",
              "      <td>0.608</td>\n",
              "    </tr>\n",
              "    <tr>\n",
              "      <th>feature request</th>\n",
              "      <td></td>\n",
              "      <td>0.664</td>\n",
              "      <td>0.828</td>\n",
              "      <td>0.544</td>\n",
              "      <td>0.598</td>\n",
              "      <td>0.61</td>\n",
              "      <td>0.496</td>\n",
              "    </tr>\n",
              "    <tr>\n",
              "      <th>information giving</th>\n",
              "      <td></td>\n",
              "      <td></td>\n",
              "      <td>0.894</td>\n",
              "      <td>0.864</td>\n",
              "      <td>0.886</td>\n",
              "      <td>0.81</td>\n",
              "      <td>0.798</td>\n",
              "    </tr>\n",
              "    <tr>\n",
              "      <th>information seeking</th>\n",
              "      <td></td>\n",
              "      <td></td>\n",
              "      <td></td>\n",
              "      <td>0.51</td>\n",
              "      <td>0.664</td>\n",
              "      <td>0.588</td>\n",
              "      <td>0.466</td>\n",
              "    </tr>\n",
              "    <tr>\n",
              "      <th>problem discovery</th>\n",
              "      <td></td>\n",
              "      <td></td>\n",
              "      <td></td>\n",
              "      <td></td>\n",
              "      <td>0.682</td>\n",
              "      <td>0.674</td>\n",
              "      <td>0.564</td>\n",
              "    </tr>\n",
              "    <tr>\n",
              "      <th>solution proposal</th>\n",
              "      <td></td>\n",
              "      <td></td>\n",
              "      <td></td>\n",
              "      <td></td>\n",
              "      <td></td>\n",
              "      <td>0.63</td>\n",
              "      <td>0.416</td>\n",
              "    </tr>\n",
              "    <tr>\n",
              "      <th>others</th>\n",
              "      <td></td>\n",
              "      <td></td>\n",
              "      <td></td>\n",
              "      <td></td>\n",
              "      <td></td>\n",
              "      <td></td>\n",
              "      <td>0.484</td>\n",
              "    </tr>\n",
              "  </tbody>\n",
              "</table>\n",
              "</div>"
            ],
            "text/plain": [
              "                    aspect evaluation feature request  ... solution proposal others\n",
              "aspect evaluation               0.872            0.82  ...             0.714  0.608\n",
              "feature request                                 0.664  ...              0.61  0.496\n",
              "information giving                                     ...              0.81  0.798\n",
              "information seeking                                    ...             0.588  0.466\n",
              "problem discovery                                      ...             0.674  0.564\n",
              "solution proposal                                      ...              0.63  0.416\n",
              "others                                                 ...                    0.484\n",
              "\n",
              "[7 rows x 7 columns]"
            ]
          },
          "metadata": {
            "tags": []
          }
        },
        {
          "output_type": "stream",
          "text": [
            "LSTM\n"
          ],
          "name": "stdout"
        },
        {
          "output_type": "display_data",
          "data": {
            "text/html": [
              "<div>\n",
              "<style scoped>\n",
              "    .dataframe tbody tr th:only-of-type {\n",
              "        vertical-align: middle;\n",
              "    }\n",
              "\n",
              "    .dataframe tbody tr th {\n",
              "        vertical-align: top;\n",
              "    }\n",
              "\n",
              "    .dataframe thead th {\n",
              "        text-align: right;\n",
              "    }\n",
              "</style>\n",
              "<table border=\"1\" class=\"dataframe\">\n",
              "  <thead>\n",
              "    <tr style=\"text-align: right;\">\n",
              "      <th></th>\n",
              "      <th>aspect evaluation</th>\n",
              "      <th>feature request</th>\n",
              "      <th>information giving</th>\n",
              "      <th>information seeking</th>\n",
              "      <th>problem discovery</th>\n",
              "      <th>solution proposal</th>\n",
              "      <th>others</th>\n",
              "    </tr>\n",
              "  </thead>\n",
              "  <tbody>\n",
              "    <tr>\n",
              "      <th>aspect evaluation</th>\n",
              "      <td>0.916</td>\n",
              "      <td>0.872</td>\n",
              "      <td>0.916</td>\n",
              "      <td>0.916</td>\n",
              "      <td>0.864</td>\n",
              "      <td>0.82</td>\n",
              "      <td>0.838</td>\n",
              "    </tr>\n",
              "    <tr>\n",
              "      <th>feature request</th>\n",
              "      <td></td>\n",
              "      <td>0.776</td>\n",
              "      <td>0.88</td>\n",
              "      <td>0.862</td>\n",
              "      <td>0.748</td>\n",
              "      <td>0.776</td>\n",
              "      <td>0.800</td>\n",
              "    </tr>\n",
              "    <tr>\n",
              "      <th>information giving</th>\n",
              "      <td></td>\n",
              "      <td></td>\n",
              "      <td>0.868</td>\n",
              "      <td>0.9</td>\n",
              "      <td>0.928</td>\n",
              "      <td>0.902</td>\n",
              "      <td>0.874</td>\n",
              "    </tr>\n",
              "    <tr>\n",
              "      <th>information seeking</th>\n",
              "      <td></td>\n",
              "      <td></td>\n",
              "      <td></td>\n",
              "      <td>0.992</td>\n",
              "      <td>0.878</td>\n",
              "      <td>0.868</td>\n",
              "      <td>0.852</td>\n",
              "    </tr>\n",
              "    <tr>\n",
              "      <th>problem discovery</th>\n",
              "      <td></td>\n",
              "      <td></td>\n",
              "      <td></td>\n",
              "      <td></td>\n",
              "      <td>0.854</td>\n",
              "      <td>0.828</td>\n",
              "      <td>0.830</td>\n",
              "    </tr>\n",
              "    <tr>\n",
              "      <th>solution proposal</th>\n",
              "      <td></td>\n",
              "      <td></td>\n",
              "      <td></td>\n",
              "      <td></td>\n",
              "      <td></td>\n",
              "      <td>0.798</td>\n",
              "      <td>0.748</td>\n",
              "    </tr>\n",
              "    <tr>\n",
              "      <th>others</th>\n",
              "      <td></td>\n",
              "      <td></td>\n",
              "      <td></td>\n",
              "      <td></td>\n",
              "      <td></td>\n",
              "      <td></td>\n",
              "      <td>0.870</td>\n",
              "    </tr>\n",
              "  </tbody>\n",
              "</table>\n",
              "</div>"
            ],
            "text/plain": [
              "                    aspect evaluation feature request  ... solution proposal others\n",
              "aspect evaluation               0.916           0.872  ...              0.82  0.838\n",
              "feature request                                 0.776  ...             0.776  0.800\n",
              "information giving                                     ...             0.902  0.874\n",
              "information seeking                                    ...             0.868  0.852\n",
              "problem discovery                                      ...             0.828  0.830\n",
              "solution proposal                                      ...             0.798  0.748\n",
              "others                                                 ...                    0.870\n",
              "\n",
              "[7 rows x 7 columns]"
            ]
          },
          "metadata": {
            "tags": []
          }
        },
        {
          "output_type": "stream",
          "text": [
            "CNN\n"
          ],
          "name": "stdout"
        },
        {
          "output_type": "display_data",
          "data": {
            "text/html": [
              "<div>\n",
              "<style scoped>\n",
              "    .dataframe tbody tr th:only-of-type {\n",
              "        vertical-align: middle;\n",
              "    }\n",
              "\n",
              "    .dataframe tbody tr th {\n",
              "        vertical-align: top;\n",
              "    }\n",
              "\n",
              "    .dataframe thead th {\n",
              "        text-align: right;\n",
              "    }\n",
              "</style>\n",
              "<table border=\"1\" class=\"dataframe\">\n",
              "  <thead>\n",
              "    <tr style=\"text-align: right;\">\n",
              "      <th></th>\n",
              "      <th>aspect evaluation</th>\n",
              "      <th>feature request</th>\n",
              "      <th>information giving</th>\n",
              "      <th>information seeking</th>\n",
              "      <th>problem discovery</th>\n",
              "      <th>solution proposal</th>\n",
              "      <th>others</th>\n",
              "    </tr>\n",
              "  </thead>\n",
              "  <tbody>\n",
              "    <tr>\n",
              "      <th>aspect evaluation</th>\n",
              "      <td>0.932</td>\n",
              "      <td>0.886</td>\n",
              "      <td>0.958</td>\n",
              "      <td>0.936</td>\n",
              "      <td>0.88</td>\n",
              "      <td>0.852</td>\n",
              "      <td>0.838</td>\n",
              "    </tr>\n",
              "    <tr>\n",
              "      <th>feature request</th>\n",
              "      <td></td>\n",
              "      <td>0.716</td>\n",
              "      <td>0.89</td>\n",
              "      <td>0.836</td>\n",
              "      <td>0.738</td>\n",
              "      <td>0.792</td>\n",
              "      <td>0.770</td>\n",
              "    </tr>\n",
              "    <tr>\n",
              "      <th>information giving</th>\n",
              "      <td></td>\n",
              "      <td></td>\n",
              "      <td>0.93</td>\n",
              "      <td>0.922</td>\n",
              "      <td>0.942</td>\n",
              "      <td>0.876</td>\n",
              "      <td>0.922</td>\n",
              "    </tr>\n",
              "    <tr>\n",
              "      <th>information seeking</th>\n",
              "      <td></td>\n",
              "      <td></td>\n",
              "      <td></td>\n",
              "      <td>0.982</td>\n",
              "      <td>0.856</td>\n",
              "      <td>0.84</td>\n",
              "      <td>0.826</td>\n",
              "    </tr>\n",
              "    <tr>\n",
              "      <th>problem discovery</th>\n",
              "      <td></td>\n",
              "      <td></td>\n",
              "      <td></td>\n",
              "      <td></td>\n",
              "      <td>0.858</td>\n",
              "      <td>0.798</td>\n",
              "      <td>0.728</td>\n",
              "    </tr>\n",
              "    <tr>\n",
              "      <th>solution proposal</th>\n",
              "      <td></td>\n",
              "      <td></td>\n",
              "      <td></td>\n",
              "      <td></td>\n",
              "      <td></td>\n",
              "      <td>0.768</td>\n",
              "      <td>0.776</td>\n",
              "    </tr>\n",
              "    <tr>\n",
              "      <th>others</th>\n",
              "      <td></td>\n",
              "      <td></td>\n",
              "      <td></td>\n",
              "      <td></td>\n",
              "      <td></td>\n",
              "      <td></td>\n",
              "      <td>0.948</td>\n",
              "    </tr>\n",
              "  </tbody>\n",
              "</table>\n",
              "</div>"
            ],
            "text/plain": [
              "                    aspect evaluation feature request  ... solution proposal others\n",
              "aspect evaluation               0.932           0.886  ...             0.852  0.838\n",
              "feature request                                 0.716  ...             0.792  0.770\n",
              "information giving                                     ...             0.876  0.922\n",
              "information seeking                                    ...              0.84  0.826\n",
              "problem discovery                                      ...             0.798  0.728\n",
              "solution proposal                                      ...             0.768  0.776\n",
              "others                                                 ...                    0.948\n",
              "\n",
              "[7 rows x 7 columns]"
            ]
          },
          "metadata": {
            "tags": []
          }
        },
        {
          "output_type": "stream",
          "text": [
            "[0.92, 0.918, 0.922, 0.878, 0.818, 0.896, 0.838, 0.842, 0.764, 0.776, 0.826, 0.87, 0.91, 0.86, 0.814, 0.886, 0.848, 0.858, 0.786, 0.854, 0.786]\n"
          ],
          "name": "stdout"
        }
      ]
    },
    {
      "cell_type": "code",
      "metadata": {
        "id": "zlWjMb4wjTf-",
        "cellView": "code"
      },
      "source": [
        "# @title X\n",
        "import pandas as pd\n",
        "import numpy as np\n",
        "import joblib\n",
        "\n",
        "array = joblib.load(os.path.join(drive_folder, \"out\", \"Augmented_swapped_matrices.joblib\"))\n",
        "over = joblib.load(os.path.join(drive_folder, \"out\", \"tfidf_inout_overlap.joblib\"))\n",
        "\n",
        "mat0 = array['SVM']\n",
        "upper0 = [mat0.iloc[ix,jx] for ix in range(mat0.shape[0]) for jx in range(mat0.shape[1]) if ix < jx]\n",
        "mat1 = array['CNN']\n",
        "upper1 = [mat1.iloc[ix,jx] for ix in range(mat1.shape[0]) for jx in range(mat1.shape[1]) if ix < jx]\n",
        "mat2 = array['LSTM']\n",
        "upper2 = [mat2.iloc[ix,jx] for ix in range(mat2.shape[0]) for jx in range(mat2.shape[1]) if ix < jx]\n",
        "mat3 = over[0]\n",
        "upper3 = [mat3.iloc[ix,jx] for ix in range(mat3.shape[0]) for jx in range(mat3.shape[1]) if ix < jx]\n",
        "mat4 = over[1]\n",
        "upper4 = [mat4.iloc[ix,jx] for ix in range(mat4.shape[0]) for jx in range(mat4.shape[1]) if ix < jx]\n",
        "\n",
        "results = pd.DataFrame(np.corrcoef(np.row_stack((upper0, upper1, upper2, upper3, upper4))), index=[\"SVM\", \"CNN\", \"LSTM\", \"tfidf\", \"inout\"], columns=[\"SVM\", \"CNN\", \"LSTM\", \"tfidf\", \"inout\"])\n",
        "results.index\n",
        "for ii in range(len(results.index)):\n",
        "  for jj in range(len(results.columns)):\n",
        "    if ii >= jj:\n",
        "      results.iloc[ii,jj] = \"\"\n",
        "    else:\n",
        "      results.iloc[ii, jj] = \"{:.2f}\".format(results.iloc[ii,jj])\n",
        "display(results)"
      ],
      "execution_count": null,
      "outputs": []
    },
    {
      "cell_type": "code",
      "metadata": {
        "id": "eipldNz8xqXZ",
        "cellView": "code"
      },
      "source": [
        "# @title Bag of words MDS - computations\n",
        "import sklearn.manifold\n",
        "import matplotlib.pyplot as plt\n",
        "import numpy as np\n",
        "import joblib\n",
        "import os\n",
        "\n",
        "array = joblib.load(os.path.join(drive_folder, \"out\", \"Augmented_swapped_matrices.joblib\"))\n",
        "mat = array['CNN']\n",
        "for ii in range(len(mat.index)):\n",
        "  for jj in range(len(mat.columns)):\n",
        "    if ii == jj:\n",
        "      mat.iloc[ii,jj] = 1.0\n",
        "    elif ii >= jj:\n",
        "      mat.iloc[ii, jj] = mat.iloc[jj, ii]\n",
        "\n",
        "print(mat)\n",
        "\n",
        "mds_r = sklearn.manifold.MDS(dissimilarity=\"euclidean\", metric=True)\n",
        "mds_r = mds_r.fit_transform(mat)\n",
        "plt.figure(figsize=(7,7))\n",
        "colors = [[1, 0, 0], [0, 1, 0], [0, 0, 1], [0, 1, 1], [.75, .75, 0], [1, 0, 1], [0.25,0.25, 1]]\n",
        "categories = [\n",
        "  'aspect evaluation', 'feature request', 'information giving',\n",
        "  'information seeking', 'problem discovery', 'solution proposal', 'others'\n",
        "]\n",
        "categories = [c.replace(' ', '\\n') for c in categories]\n",
        "a = []\n",
        "plt.rcParams.update({'font.size':16})\n",
        "for ix, (color, cat) in enumerate(zip(colors, categories)):\n",
        "  plt.scatter(mds_r[ix,0], mds_r[ix,1], c=np.array(color, ndmin=2))\n",
        "  a.append(plt.text(mds_r[ix, 0]+.005, mds_r[ix, 1], cat))\n",
        "a[0]._y = a[0]._y - 0.03\n",
        "a[1]._y = a[1]._y - 0.02\n",
        "a[4]._x, a[4]._y = a[4]._x - 0.1, a[4]._y - 0.02\n",
        "plt.show()"
      ],
      "execution_count": null,
      "outputs": []
    },
    {
      "cell_type": "code",
      "metadata": {
        "id": "DL3VhHIfxXcS"
      },
      "source": [
        "import sklearn.manifold\n",
        "import matplotlib.pyplot as plt\n",
        "import numpy as np\n",
        "import joblib\n",
        " \n",
        "# plt.figure(figsize=(7,7))\n",
        "# _, ax = plt.subplots(nrows=1, ncols=2, figsize=(10,4))\n",
        "\n",
        "plt.figure(figsize=(7,7))\n",
        "ax = [plt]\n",
        "colors = [[1, 0, 0], [0, 1, 0], [0, 0, 1], [0, 1, 1], [1, 1, 0], [1, 0, 1], [0.25,0.25, 1]]\n",
        "for ii in range(len(label_names)):\n",
        "    colors[ii].extend([0.5])\n",
        "    ax[0].scatter(\n",
        "        [x for x,lab in zip(mds_r[:,0],label) if ii == lab],\n",
        "        [y for y,lab in zip(mds_r[:,1],label) if ii == lab],\n",
        "        c = np.array(colors[ii], ndmin=2)\n",
        "    )\n",
        "\n",
        "# predicted = []\n",
        "# for target_project in set(project):\n",
        "#     predicted.extend([int(predictions[target_project][t]) for t,p in zip(text, project) if p == target_project])\n",
        "\n",
        "# predictions = Predict(aim.cpu(), text)\n",
        "# colors = [[1, 0, 0], [0, 1, 0], [0, 0, 1], [0, 1, 1], [1, 1, 0], [1, 0, 1], [0.25,0.25, 1]]\n",
        "# ct = 0\n",
        "# for ii in range(len(label_names)):\n",
        "#     colors[ii].extend([0.5])\n",
        "#     ct += len([x for x,pre in zip(mds_r[:,0],predicted) if ii == pre])\n",
        "#     ax[1].scatter(\n",
        "#         [x for x,pre in zip(mds_r[:,0],predicted) if ii == pre],\n",
        "#         [y for y,pre in zip(mds_r[:,1],predicted) if ii == pre],\n",
        "#         c = np.array(colors[ii], ndmin=2)\n",
        "#     )\n",
        "# plt.show();\n"
      ],
      "execution_count": null,
      "outputs": []
    }
  ]
}