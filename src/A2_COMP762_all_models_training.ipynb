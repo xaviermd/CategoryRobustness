{
  "nbformat": 4,
  "nbformat_minor": 0,
  "metadata": {
    "colab": {
      "name": "A2 COMP762_all_models_training",
      "provenance": [],
      "collapsed_sections": [],
      "toc_visible": true,
      "machine_shape": "hm"
    },
    "kernelspec": {
      "name": "python3",
      "display_name": "Python 3"
    },
    "accelerator": "GPU"
  },
  "cells": [
    {
      "cell_type": "markdown",
      "metadata": {
        "id": "0C3QCAi6I65y"
      },
      "source": [
        "#Utility functions, parameters, and Google Drive\n"
      ]
    },
    {
      "cell_type": "code",
      "metadata": {
        "id": "_Y7B7ac5RJlH"
      },
      "source": [
        "# @title General parameters { run: \"auto\", display-mode: \"form\" }\n",
        "\n",
        "_replace_data_files = True  # @param {type:\"boolean\"}\n",
        "_device = \"cuda\"  # @param {type:\"string\"}\n",
        "_nb_epochs = 21  # @param {type:\"integer\"}\n",
        "_train_valid_split = 0.9  #@param {type:\"slider\", min:0.5, max:0.95, step:0.05}\n",
        "_padded_string_length = 500  # @param {type:\"integer\"}\n",
        "_embedding_size = 128  # @param {type:\"integer\"}\n",
        "_filter_sizes = (3,4,5)  # @param {type:\"raw\"}\n",
        "_num_filter = 128  # @param {type:\"integer\"}\n",
        "_batch_size = 128  # @param {type:\"integer\"}\n",
        "_learning_rate = 0.01  # @param {type:\"number\"}\n",
        "_momentum = 0.1  # @param {type:\"number\"}\n",
        "_weight_decay = 0  # @param {type:\"number\"}\n",
        "_step_size = 10  # @param {type:\"integer\"}\n",
        "_gamma = 0.5  # @param {type:\"number\"}\n",
        "_log_interval = 1  # @param {type:\"integer\"}\n"
      ],
      "execution_count": null,
      "outputs": []
    },
    {
      "cell_type": "code",
      "metadata": {
        "id": "TFoc4u5gil6O",
        "colab": {
          "base_uri": "https://localhost:8080/",
          "height": 34
        },
        "outputId": "260c798c-9cf6-4f48-e1dc-254d543035ca"
      },
      "source": [
        "#@title Google Drive {run: \"auto\"}\n",
        "from google.colab import drive\n",
        "import os\n",
        "\n",
        "drive.mount('/gdrive', force_remount=True)\n",
        "drive_folder = \"COMP762_IntentionMining\" # @param {type:\"string\"}\n",
        "drive_folder = os.path.join(\"/gdrive/My Drive/\", drive_folder)\n"
      ],
      "execution_count": null,
      "outputs": [
        {
          "output_type": "stream",
          "text": [
            "Mounted at /gdrive\n"
          ],
          "name": "stdout"
        }
      ]
    },
    {
      "cell_type": "code",
      "metadata": {
        "id": "wVdeDaRxhNGh",
        "cellView": "form",
        "colab": {
          "base_uri": "https://localhost:8080/",
          "height": 136
        },
        "outputId": "c01c806b-57e9-4419-a7f0-35225ba02cee"
      },
      "source": [
        "# @title Download data from Google Drive\n",
        "\n",
        "import os\n",
        "import gdown\n",
        "import zipfile\n",
        "import shutil\n",
        "\n",
        "zfile = \"Intention-Mining-data.zip\"\n",
        "url = \"https://drive.google.com/uc?id=1T4aW9vwu1A01-XUZ5AugoHhBR2IVrame\"\n",
        "print(\"Downloading {}:\".format(zfile))\n",
        "if not os.path.isfile(zfile):\n",
        "    gdown.download(url, zfile, 0)\n",
        "else:\n",
        "    print('File already exists. Continuing.')\n",
        "\n",
        "\n",
        "z = zipfile.ZipFile(zfile, 'r')\n",
        "print(\"Extracting data...\")\n",
        "# Remove old paths\n",
        "if os.path.exists('data'):\n",
        "    !rm -r data\n",
        "# Unzip data and runs\n",
        "with zipfile.ZipFile(zfile, 'r') as z:\n",
        "    for filename in z.namelist():\n",
        "        if filename.startswith(\"data/\"):\n",
        "            z.extract(filename)\n",
        "print(\"done\")"
      ],
      "execution_count": null,
      "outputs": [
        {
          "output_type": "stream",
          "text": [
            "Downloading Intention-Mining-data.zip:\n"
          ],
          "name": "stdout"
        },
        {
          "output_type": "stream",
          "text": [
            "Downloading...\n",
            "From: https://drive.google.com/uc?id=1T4aW9vwu1A01-XUZ5AugoHhBR2IVrame\n",
            "To: /content/Intention-Mining-data.zip\n",
            "100%|██████████| 238k/238k [00:00<00:00, 95.6MB/s]"
          ],
          "name": "stderr"
        },
        {
          "output_type": "stream",
          "text": [
            "Extracting data...\n",
            "done\n"
          ],
          "name": "stdout"
        },
        {
          "output_type": "stream",
          "text": [
            "\n"
          ],
          "name": "stderr"
        }
      ]
    },
    {
      "cell_type": "code",
      "metadata": {
        "id": "0bHwvzJVIlaA",
        "colab": {
          "base_uri": "https://localhost:8080/",
          "height": 1000
        },
        "outputId": "bffba156-4d91-46de-8151-63d87f9b1df4"
      },
      "source": [
        "# @title Download Token, Sentence, StanfordFiles, GetAllText(), and GetAllCategories()\n",
        "import gdown\n",
        "\n",
        "gdown.download(\"https://drive.google.com/uc?id=1lsi836Dfkx0S_UUAJwTPRdqolW2UREl0\", 'aim_parsed_text.py', False)\n",
        "\n",
        "# Reload just in case\n",
        "import importlib, aim_parsed_text\n",
        "GetAllText = aim_parsed_text.GetAllText\n",
        "GetTextByCategories = aim_parsed_text.GetTextByCategories\n",
        "Token = aim_parsed_text.Token\n",
        "Sentence = aim_parsed_text.Sentence\n",
        "StanfordFiles = aim_parsed_text.StanfordFiles\n"
      ],
      "execution_count": null,
      "outputs": [
        {
          "output_type": "stream",
          "text": [
            "Downloading...\n",
            "From: https://drive.google.com/uc?id=1lsi836Dfkx0S_UUAJwTPRdqolW2UREl0\n",
            "To: /content/aim_parsed_text.py\n",
            "100%|██████████| 25.5k/25.5k [00:00<00:00, 25.1MB/s]\n"
          ],
          "name": "stderr"
        },
        {
          "output_type": "stream",
          "text": [
            "[nltk_data] Downloading package stopwords to /root/nltk_data...\n",
            "[nltk_data]   Unzipping corpora/stopwords.zip.\n",
            "Downloading Automating-Intention-Mining-parsed-data.tar.gz: "
          ],
          "name": "stdout"
        },
        {
          "output_type": "stream",
          "text": [
            "Downloading...\n",
            "From: https://drive.google.com/uc?id=1MYR04EN9wyEw5C-RhpAmX5Xnat-jiBSy\n",
            "To: /content/Automating-Intention-Mining-parsed-data.tar.gz\n",
            "5.81MB [00:00, 183MB/s]\n"
          ],
          "name": "stderr"
        },
        {
          "output_type": "stream",
          "text": [
            "done\n",
            "Extracting files... \n",
            "Extracting files... done\n",
            "\n",
            "\n",
            "====================================================================\n",
            "functions:\n",
            "  def GetAllText(\n",
            "    word, show_pos,\n",
            "    remove_punctuation, remove_stopwords,\n",
            "    get_ancestors, projects_to_exclude\n",
            "  )\n",
            "    Returns all text as a list.\n",
            "    (See parameter descriptions below)\n",
            "\n",
            "  def GetTextByCategories(\n",
            "    word, show_pos,\n",
            "    remove_punctuation, remove_stopwords,\n",
            "    get_ancestors, projects_to_exclude\n",
            ")\n",
            "    Returns a dictionary with category names as keys and lists of\n",
            "    sentences belonging to that category as values.\n",
            "\n",
            "    Parameters:\n",
            "      word: \"word\" (original text) or lemma.\n",
            "      show_pos: show Part-Of-Speech tag?\n",
            "      remove_punctuation: self-explanatory.\n",
            "      remove_stopwords: self-explanatory.\n",
            "      get_ancestors: if True, get each token's ancestor's label (chunk).\n",
            "      projects_to_exclude: self-explanatory. E.g., [\"DECA\", \"vscode\"]\n",
            "\n",
            "\n",
            "classes:\n",
            "  class Token\n",
            "    Token(default_format, properties)\n",
            "      default_format: function returning format string (e.g.,\n",
            "        \"{{lemma}}\")\n",
            "      properties: json token dictionary\n",
            "    Token[property]\n",
            "      returns property\n",
            "    str(Token)\n",
            "      prints token using default_format\n",
            "    Token.to_string(format)\n",
            "      prints token using @format\n",
            "\n",
            "  class Sentence\n",
            "    Sentence(json, format, get_ancestor)\n",
            "      json: json output produced by Stanford parser.\n",
            "      format: format used to display sentence's tokens (e.g.,\n",
            "        \"{{originalText}}/{{pos}}\" to get \"word/NN\")\n",
            "      get_ancestor: boolean; if true, get ancestor label (chunk).\n",
            "    Sentence[ix]\n",
            "      get/set token using []\n",
            "    Sentence.makeParseTree()\n",
            "      create parse tree representation of sentence\n",
            "    Sentence.setFormat(newFmt)\n",
            "      change sentence format\n",
            "    Sentence.withoutPunctuation()\n",
            "      remove punctuation from Sentence\n",
            "    Sentence.withoutStopWords()\n",
            "      remove stop words from Sentence\n",
            "    Sentence.to_string(fmt, after)\n",
            "      transform sentence to string using @format and printing @after\n",
            "      between tokens. Set @after=None to print the token with the text\n",
            "      that originally followed it.\n",
            "    str(Sentence)\n",
            "      transform sentence to string using current format\n",
            "\n",
            "  class StanfordFiles\n",
            "    StanfordFiles(projects)\n",
            "      create a dataset containing the sentences from the projects\n",
            "      in @projects (e.g., StanfordFiles([\"docker\", \"tensorlow\"]))\n",
            "    static StanfordFiles.Preprocess(dataset)\n",
            "      preprocess @dataset (remove stop words, remove punctuation,\n",
            "      and get lemma).\n",
            "    StanfordFiles.build_vocabulary()\n",
            "      create vocabulary (word->int and int->word) for text and labels.\n",
            "    StanfordFiles.word2tensor(pad_length, [dataset])\n",
            "      convert words to embedding indices using vocabulary and pad\n",
            "      sentences to @pad_length. Words can come from \\$self or from\n",
            "      @dataset.\n",
            "    StanfordFiles.shuffle()\n",
            "      stratify and shuffle data. Often used before split().\n",
            "      WARNING: data will then be in a label_1, label_2, label_2, ...\n",
            "      If you do not want this, make sure to set shuffle=True when\n",
            "      creating the DataLoader\n",
            "    StanfordFiles.split(training_validation_split)\n",
            "      split dataset into training and validation sets. The training set\n",
            "      contains @training_validation_split portion of all sentences and\n",
            "      the validation set, 1 - @training_validation_split.\n",
            "    StanfordFiles[ix]\n",
            "      You can use [] to get/set a sentence/label pair.\n",
            "    len(StanfordFiles)\n",
            "      You can use len(dataset) to get the number of elements in the\n",
            "      dataset.\n",
            "\n",
            "======================================================================\n",
            "\n"
          ],
          "name": "stdout"
        }
      ]
    },
    {
      "cell_type": "code",
      "metadata": {
        "id": "cY3JI74eV5Rw"
      },
      "source": [
        "# @title Download datasets from Google Drive, and define Sentence, Token, GetAllText() and GetTextByCategories() [COMMENTED OUT] {display-mode: \"form\"}\n",
        "\n",
        "# import os\n",
        "# import gdown\n",
        "# import json\n",
        "# import re\n",
        "# import nltk\n",
        "# nltk.download('stopwords')\n",
        "\n",
        "# class Token:\n",
        "#   def __init__(self, default_format, properties):\n",
        "#     if not callable(default_format):\n",
        "#       self.default_format = lambda: default_format\n",
        "#     else:\n",
        "#       self.default_format = default_format\n",
        "#     self.properties = properties\n",
        "  \n",
        "#   def __getitem__(self, ix):\n",
        "#     return self.properties.__getitem__(ix)\n",
        "\n",
        "#   def __setitem__(self, ix, val):\n",
        "#     return self.properties.__setitem__(ix, val)\n",
        "\n",
        "#   def to_string(self, format_):\n",
        "#     return format_.format(**self.properties)\n",
        "\n",
        "#   def __string_rep(self):\n",
        "#     return self.to_string(self.default_format())\n",
        "\n",
        "#   def __str__(self):\n",
        "#     return self.__string_rep()\n",
        "  \n",
        "#   def __repr__(self):\n",
        "#     return self.__str__() + \": \" + self.properties.__repr__()\n",
        "\n",
        "#   def __hash__(self):\n",
        "#     return self.__string_rep().__hash__()\n",
        "\n",
        "#   def __eq__(self, other):\n",
        "#     return self.__string_rep() == other.__string_rep()\n",
        "  \n",
        "#   def __gt__(self, other):\n",
        "#     return self.__string_rep() > other.__string_rep()\n",
        "    \n",
        "#   def __lt__(self, other):\n",
        "#     return self.__string_rep() < other.__string_rep()\n",
        "\n",
        "\n",
        "# class Sentence:\n",
        "#   def __init__(self, json_, fmt, get_ancestor):\n",
        "#     self.json = {**json_}\n",
        "#     self.fmt = fmt\n",
        "#     # Lowercase lemmata (plural of lemma)\n",
        "#     for t in self.json['tokens']:\n",
        "#       t['lemma'] = t['lemma'].lower()\n",
        "#     # Create tokens\n",
        "#     self.tokens = \\\n",
        "#     [\n",
        "#       Token(self.getFormat, token) \n",
        "#       for token in self.json['tokens']\n",
        "#     ]\n",
        "#     # Find each token's ancestor\n",
        "#     if get_ancestor:\n",
        "#       tree = self.makeParseTree()\n",
        "#       for ix, token in enumerate(self.tokens):\n",
        "#         tree_ix = tree.leaf_treeposition(ix)\n",
        "#         token[\"ancestor\"] = tree[tree_ix[:-2]].label()\n",
        "  \n",
        "#   def __getitem__(self, ix):\n",
        "#     return self.tokens[ix]\n",
        "  \n",
        "#   def __setitem__(self, ix, val):\n",
        "#     self.tokens[ix] = val\n",
        "\n",
        "#   def getFormat(self):\n",
        "#     return self.fmt\n",
        "  \n",
        "#   def setFormat(self, newFmt):\n",
        "#     self.fmt = newFmt\n",
        "  \n",
        "#   def withoutPunctuation(self):\n",
        "#     without = Sentence({**self.json}, self.getFormat(), False)\n",
        "#     # Remove punctuation from parse\n",
        "#     parse = self.json[\"parse\"]\n",
        "#     punct_ix = list(re.finditer(\"\\([^a-zA-Z0-9(]\\S* \\S*[^a-zA-Z0-9)]\\)\", parse))\n",
        "#     for m in reversed(punct_ix):\n",
        "#       parse = parse[:m.start()]+ parse[m.end():]\n",
        "#     without.json[\"parse\"] = parse\n",
        "#     # Remove punctuation from tokens\n",
        "#     tokens = []\n",
        "#     for ix, t in enumerate(self.tokens):\n",
        "#       if t[\"pos\"][0].isalpha():\n",
        "#         tokens.append(Token(without.getFormat, {**t.properties}))\n",
        "#       elif 0 < len(tokens):\n",
        "#         tokens[-1][\"after\"] += t[\"after\"]\n",
        "#     without.tokens = tokens\n",
        "#     # Done, leave the other fields untouched\n",
        "#     return without\n",
        "\n",
        "#   def withoutStopWords(self):\n",
        "#     without = Sentence({**self.json}, self.getFormat(), False)\n",
        "#     # Remove stopwords from tokens\n",
        "#     tokens = []\n",
        "#     for ix, t in enumerate(self.tokens):\n",
        "#       if t[\"lemma\"].lower() not in stopwords.words('english'):\n",
        "#         tokens.append(Token(without.getFormat, {**t.properties}))\n",
        "#     without.tokens = tokens\n",
        "#     # Done, leave the other fields untouched\n",
        "#     return without\n",
        "\n",
        "#   def makeParseTree(self):\n",
        "#     from nltk.tree import Tree\n",
        "#     parse = self.json['parse']\n",
        "#     # Replace words with indices in parse string\n",
        "#     indices = list(enumerate(re.finditer('\\s[^ )]+\\)', parse)))\n",
        "#     for ix, match in reversed(indices):\n",
        "#       parse = parse[:match.start() + 1] + str(ix) + parse[match.end()-1:]\n",
        "#     # Use parse string to create a tree\n",
        "#     tree = Tree.fromstring(parse)\n",
        "#     # Replace indices in tree with tokens\n",
        "#     for lix, leaf in enumerate([leaf for leaf in tree.leaves() if leaf.isnumeric()]):\n",
        "#       tree[tree.leaf_treeposition(lix)] = self.tokens[int(leaf)]\n",
        "#     return tree\n",
        "  \n",
        "#   def to_string(self, fmt=None, after=None):\n",
        "#     if fmt is None:\n",
        "#       fmt = self.fmt\n",
        "#     out = ''\n",
        "#     for t in self.tokens:\n",
        "#       out += t.to_string(fmt) + (t[\"after\"] if after is None else after)\n",
        "#     return out\n",
        "\n",
        "#   def __str__(self):\n",
        "#     return self.to_string()\n",
        "  \n",
        "#   def __repr__(self):\n",
        "#     return self.__str__().strip() + \": \" + repr(self.json)\n",
        "  \n",
        "#   def __len__(self):\n",
        "#     return len(self.tokens)\n",
        "\n",
        "#   @staticmethod\n",
        "#   def __findLabelInTree(tree, label):\n",
        "#     return [p for p in tree.treepositions() if isinstance(tree[p], nltk.tree.Tree) and label == tree[p].label()]\n",
        "  \n",
        "#   @staticmethod\n",
        "#   def __getParseStringFromTreeWithTokens(tree):\n",
        "#     tree_copy = tree.copy(deep=True)\n",
        "#     for lix in range(len(tree_copy.leaves())):\n",
        "#       tree_copy[tree_copy.leaf_treeposition(lix)] = \\\n",
        "#         tree_copy[tree_copy.leaf_treeposition(lix)].to_string(\"{originalText}\")\n",
        "#     return str(tree_copy)\n",
        "  \n",
        "#   @staticmethod\n",
        "#   def __treeToSentence(tree, fmt):\n",
        "#     return Sentence(\n",
        "#       {\n",
        "#         \"parse\": Sentence.__getParseStringFromTreeWithTokens(tree),\n",
        "#         \"tokens\": [token.properties for token in tree.leaves()]\n",
        "#       },\n",
        "#       fmt, False\n",
        "#     )\n",
        "  \n",
        "#   @staticmethod\n",
        "#   def SwapPhrases(sentence_1, sentence_2, label, prefix=None, suffix=None):\n",
        "#     import numpy\n",
        "    \n",
        "#     # Build a tree from each sentence\n",
        "#     tree_1 = sentence_1.makeParseTree()\n",
        "#     tree_2 = sentence_2.makeParseTree()\n",
        "#     # Find phrase in both trees\n",
        "#     tree_1_phrases = Sentence.__findLabelInTree(tree_1, label)\n",
        "#     tree_2_phrases = Sentence.__findLabelInTree(tree_2, label)\n",
        "#     # If there is nothing to swap, return\n",
        "#     if 0 == len(tree_1_phrases) or 0 == len(tree_2_phrases):\n",
        "#       return (None, None)\n",
        "#     # Pick a phrase at random from each sentence\n",
        "#     tree_1_index = tree_1_phrases[np.random.randint(len(tree_1_phrases))]\n",
        "#     tree_2_index = tree_2_phrases[np.random.randint(len(tree_2_phrases))]\n",
        "#     # DEBUG #\n",
        "#     if prefix is not None:\n",
        "#       if isinstance(prefix, str):\n",
        "#         prefix = [prefix, prefix]\n",
        "#       keys = [\"originalText\", \"lemma\"]\n",
        "#       for k in keys:\n",
        "#         tree_1[tree_1_index].leaves()[0][k] = \\\n",
        "#           prefix[0] + tree_1[tree_1_index].leaves()[0][k]\n",
        "#         tree_2[tree_2_index].leaves()[0][k] = \\\n",
        "#           prefix[1] + tree_2[tree_2_index].leaves()[0][k]\n",
        "#     if suffix is not None:\n",
        "#       if isinstance(suffix, str):\n",
        "#         suffix = [suffix, suffix]\n",
        "#       keys = [\"originalText\", \"lemma\"]\n",
        "#       for k in keys:\n",
        "#         tree_1[tree_1_index].leaves()[-1][k] = \\\n",
        "#           tree_1[tree_1_index].leaves()[-1][k] + suffix[0]\n",
        "#         tree_2[tree_2_index].leaves()[-1][k] = \\\n",
        "#           tree_2[tree_2_index].leaves()[-1][k] + suffix[1]\n",
        "#     #########\n",
        "#     # Swap\n",
        "#     swap = tree_1[tree_1_index]\n",
        "#     tree_1[tree_1_index] = tree_2[tree_2_index]\n",
        "#     tree_2[tree_2_index] = swap\n",
        "#     # Create Sentences\n",
        "#     #   Create copy, convert leaves to strings (lemma), and get parse string\n",
        "#     return \\\n",
        "#     (\n",
        "#       Sentence.__treeToSentence(tree_1, sentence_1.fmt),\n",
        "#       Sentence.__treeToSentence(tree_2, sentence_2.fmt)\n",
        "#     )\n",
        "\n",
        "\n",
        "# archive = \"Automating-Intention-Mining-parsed-data.tar.gz\"\n",
        "# url = \"https://drive.google.com/uc?id=1MYR04EN9wyEw5C-RhpAmX5Xnat-jiBSy\"\n",
        "# print(\"Downloading {}: \".format(archive), end=\"\")\n",
        "# if not os.path.isfile(archive):\n",
        "#   gdown.download(url, archive, 0)\n",
        "# else:\n",
        "#   print('file already exists. Skipping download.')\n",
        "# print(\"done\")\n",
        "\n",
        "# # Remove old paths\n",
        "# parsed_folder = 'parsed'\n",
        "# if os.path.exists(parsed_folder):\n",
        "#   !rm -r parsed\n",
        "\n",
        "# print(\"Extracting files... \")\n",
        "# !tar xvf Automating-Intention-Mining-parsed-data.tar.gz\n",
        "# print(\"Extracting files... done\")\n",
        "\n",
        "# # Load data\n",
        "# projects = ['DECA', 'bootstrap', 'docker', 'tensorflow', 'vscode']\n",
        "# categories = [\n",
        "#   'aspect evaluation', 'feature request', 'information giving',\n",
        "#   'information seeking', 'problem discovery', 'solution proposal', 'others'\n",
        "# ]\n",
        "\n",
        "# _parsed_cat_proj = {}\n",
        "# for c in categories:\n",
        "#   _parsed_cat_proj[c] = {}\n",
        "#   for p in projects:\n",
        "#     with open(os.path.join(parsed_folder, p, c + \".json\"), 'r', encoding='latin-1') \\\n",
        "#       as f:\n",
        "#       j = json.load(f)\n",
        "#       assert c == j[\"docId\"]\n",
        "#       _parsed_cat_proj[c][p] = j[\"sentences\"]\n",
        "#       # for s in j[\"sentences\"]:\n",
        "#       #   _parsed_cat_proj[c][p].append(Sentence(s, \"{lemma}/{pos}\"))\n",
        "\n",
        "# def GetAllText(\n",
        "#   word=\"word\", show_pos=False, remove_punctuation=False, remove_stopwords=False,\n",
        "#   get_ancestors=True, projects_to_exclude=None\n",
        "# ):\n",
        "\n",
        "#   if word == \"word\":\n",
        "#     fmt = \"{originalText}\"\n",
        "#   elif word == \"lemma\":\n",
        "#     fmt = \"{lemma}\"\n",
        "#   else:\n",
        "#     raise Exception(\"Value (\\\"{}\\\") for @word not recognized.\")\n",
        "#   if show_pos:\n",
        "#     fmt += \"/{pos}\"\n",
        "\n",
        "#   if remove_stopwords:\n",
        "#     constructor1 = lambda *args: Sentence(*args).withoutStopWords()\n",
        "#   else:\n",
        "#     constructor1 = lambda *args: Sentence(*args)\n",
        "\n",
        "#   if remove_punctuation:\n",
        "#     constructor2 = lambda *args: constructor1(*args).withoutPunctuation()\n",
        "#   else:\n",
        "#     constructor2 = constructor1\n",
        "\n",
        "#   if projects_to_exclude is None:\n",
        "#     projects_to_exclude = []\n",
        "#   elif isinstance(projects_to_exclude, str):\n",
        "#     projects_to_exclude = [projects_to_exclude]\n",
        "\n",
        "#   projects_to_exclude = [p.lower() for p in projects_to_exclude]\n",
        "\n",
        "#   return \\\n",
        "#   [\n",
        "#     constructor2(sentence, fmt, get_ancestors)\n",
        "#     for category_name, projects in _parsed_cat_proj.items()\n",
        "#     for project_name, project_text in projects.items()\n",
        "#     for sentence in project_text\n",
        "#     if project_name.lower() not in projects_to_exclude\n",
        "#   ]\n",
        "\n",
        "\n",
        "# def GetTextByCategories(\n",
        "#   word=\"word\", show_pos=False, remove_punctuation=False, remove_stopwords=False,\n",
        "#   get_ancestors=True, projects_to_exclude=None\n",
        "# ):\n",
        "\n",
        "#   if word == \"word\":\n",
        "#     fmt = \"{originalText}\"\n",
        "#   elif word == \"lemma\":\n",
        "#     fmt = \"{lemma}\"\n",
        "#   else:\n",
        "#     raise Exception(\"Value (\\\"{}\\\") for @word not recognized.\")\n",
        "#   if show_pos:\n",
        "#     fmt += \"/{pos}\"\n",
        "\n",
        "#   if remove_stopwords:\n",
        "#     constructor1 = lambda *args: Sentence(*args).withoutStopWords()\n",
        "#   else:\n",
        "#     constructor1 = lambda *args: Sentence(*args)\n",
        "\n",
        "#   if remove_punctuation:\n",
        "#     constructor2 = lambda *args: constructor1(*args).withoutPunctuation()\n",
        "#   else:\n",
        "#     constructor2 = constructor1\n",
        "\n",
        "#   if projects_to_exclude is None:\n",
        "#     projects_to_exclude = []\n",
        "#   elif isinstance(projects_to_exclude, str):\n",
        "#     projects_to_exclude = [projects_to_exclude]\n",
        "\n",
        "#   projects_to_exclude = [p.lower() for p in projects_to_exclude]\n",
        "\n",
        "#   return \\\n",
        "#   {\n",
        "#     category_name:\n",
        "#     [\n",
        "#       constructor2(sentence, fmt, get_ancestors)\n",
        "#       for project_name, project_text in projects.items()\n",
        "#       for sentence in project_text\n",
        "#       if project_name.lower() not in projects_to_exclude\n",
        "#     ]\n",
        "#     for category_name, projects in _parsed_cat_proj.items()\n",
        "#   }\n",
        "\n",
        "\n",
        "# print(\n",
        "#   '\\n\\n=======================================\\n'\n",
        "#   + 'Use GetAllText() to get all text as a list.\\n'\n",
        "#   + 'Use GetTextByCategories() to get a dictionary with category names as\\n'\n",
        "#   + '  keys and lists of sentences belonging to that category as values.\\n'\n",
        "#   + '=======================================\\n'\n",
        "# )"
      ],
      "execution_count": null,
      "outputs": []
    },
    {
      "cell_type": "code",
      "metadata": {
        "id": "aN1vdP6E7NT7"
      },
      "source": [
        "#@title Utility functions\n",
        "\n",
        "def log_progress(sequence, every=None, size=None, name='Items'):\n",
        "    from ipywidgets import IntProgress, HTML, VBox\n",
        "    from IPython.display import display\n",
        "    \n",
        "    is_iterator = False\n",
        "    if size is None:\n",
        "        try:\n",
        "            size = len(sequence)\n",
        "        except TypeError:\n",
        "            is_iterator = True\n",
        "    if size is not None:\n",
        "        if every is None:\n",
        "            if size <= 200:\n",
        "                every = 1\n",
        "            else:\n",
        "                every = int(size / 200)     # every 0.5%\n",
        "    else:\n",
        "        assert every is not None, 'sequence is iterator, set every'\n",
        "\n",
        "    if is_iterator:\n",
        "        progress = IntProgress(min=0, max=1, value=1)\n",
        "        progress.bar_style = 'info'\n",
        "    else:\n",
        "        progress = IntProgress(min=0, max=size, value=0)\n",
        "    label = HTML()\n",
        "    box = VBox(children=[label, progress])\n",
        "    display(box)\n",
        "        \n",
        "    index = 0\n",
        "    try:\n",
        "        for index, record in enumerate(sequence, 1):\n",
        "            if index == 1 or index % every == 0:\n",
        "                if is_iterator:\n",
        "                    label.value = '{name}: {index} / ?'.format(\n",
        "                        name=name,\n",
        "                        index=index\n",
        "                    )\n",
        "                else:\n",
        "                    progress.value = index\n",
        "                    label.value = u'{name}: {index} / {size}'.format(\n",
        "                        name=name,\n",
        "                        index=index,\n",
        "                        size=size\n",
        "                    )\n",
        "                    \n",
        "            yield record\n",
        "    except:\n",
        "        progress.bar_style = 'danger'\n",
        "        raise\n",
        "    else:\n",
        "        progress.bar_style = 'success'\n",
        "        progress.value = index\n",
        "        label.value = \"{name}: {index}\".format(\n",
        "            name=name,\n",
        "            index=str(index or '?')\n",
        "        )\n",
        "\n",
        "def try_makedirs(d):\n",
        "    import os\n",
        "    try:\n",
        "        os.makedirs(d)\n",
        "    except FileExistsError as e:\n",
        "        pass\n",
        "\n",
        "    \n",
        "def load_image(filename):\n",
        "    return \\\n",
        "        PIL.Image.open(filename)\\\n",
        "          .convert('RGB')\n",
        "\n",
        "    \n",
        "# def load_image(filename):\n",
        "#     return \\\n",
        "#         PIL.Image.open(filename)\\\n",
        "#           .resize((64,64), _interpolation_method)\\\n",
        "#           .convert('RGB')\n",
        "\n",
        "# def load_image(filename):\n",
        "#     return np.array(\n",
        "#         PIL.Image.open(filename)\\\n",
        "#           .resize((64,64), _interpolation_method)\\\n",
        "#           .convert('RGB'),\n",
        "#         dtype=np.float32\n",
        "#     )/255\n",
        "\n",
        "\n",
        "# def plot_results(\n",
        "#     results_1, model_1_name, model_1_color,\n",
        "#     # results_2, model_2_name, model_2_color\n",
        "# ):\n",
        "    \n",
        "    \n",
        "def plot_results_to_grid(\n",
        "    grid, where,\n",
        "    results, model_name, model_color,\n",
        "    learning_rate, lr_color\n",
        "):\n",
        "    import matplotlib.pyplot as plt\n",
        "    \n",
        "    with grid.output_to(where[0], where[1]):\n",
        "        res_y = results\n",
        "        res_x = np.where(np.invert(np.isnan(res_y)))[0]\n",
        "        res_y = res_y[res_x]\n",
        "        res_x += 1\n",
        "\n",
        "        learning_rate = np.array(learning_rate)\n",
        "        lr_x = np.where((learning_rate[0:-1] != learning_rate[1:]) * np.invert(np.isnan(learning_rate[0:-1])) * np.invert(np.isnan(learning_rate[1:])))\n",
        "        lr_x = np.repeat(2+np.reshape(lr_x[0], (1, -1)), 2, 0)\n",
        "        lr_y = np.repeat(np.array([[0], [100]], ndmin=2), lr_x.shape[1], 1)\n",
        "        lr_r = learning_rate[lr_x[0, :] -1]\n",
        "\n",
        "        # Show original lr\n",
        "        lr_x = np.concatenate((np.array([[0.5],[0.5]], ndmin=2), lr_x), 1)\n",
        "        lr_y = np.concatenate((np.array([[np.nan],[np.nan]], ndmin=2), lr_y), 1)\n",
        "        lr_r = np.concatenate((np.array(learning_rate[0], ndmin=1), lr_r))\n",
        "\n",
        "        # Alternate text y position to make it more readable       \n",
        "        lr_t = np.repeat([[80], [20]], (1+lr_r.size)/2, 1).T.flatten()\n",
        "        \n",
        "        grid.clear_cell()\n",
        "\n",
        "        res_plt = plt.plot(res_x, res_y, model_color + '-', res_x, res_y, model_color + 'o')\n",
        "        lr_plt = plt.plot(lr_x, lr_y, lr_color + '--')\n",
        "        for x, r, t in zip(lr_x.T, lr_r, lr_t):\n",
        "            plt.text(x[0] + results.shape[0]/100, t, \"lr = {}\".format(r), color=lr_color) #withdash=True, \n",
        "        \n",
        "        # plt.legend((one_plt[0], two_plt[0]), (model_1_name, model_2_name))\n",
        "        plt.legend([res_plt[0]], [model_name])\n",
        "        plt.title('Model accuracy improvement over time')\n",
        "        plt.xlabel('# of epochs')\n",
        "        plt.xlim(0.5, 0.5 + results.shape[0])\n",
        "        plt.xticks(np.floor(np.linspace(1, results.shape[0], 11)))\n",
        "        plt.ylabel('Accuracy (%)')\n",
        "        plt.ylim(0, 100)\n",
        "        plt.yticks(np.linspace(0, 100, 11));\n",
        "        plt.draw()\n",
        "\n",
        "        \n",
        "def elapsed_time(model_name, i):\n",
        "    import time\n",
        "    \n",
        "    if 0 == i:\n",
        "        elapsed_time.start = time.time()\n",
        "    else:\n",
        "        print(\n",
        "            \"{{{}}} The last training epoch took {} seconds.\\n\\n\".format(\n",
        "                model_name, time.time() - elapsed_time.start\n",
        "            )\n",
        "        )\n",
        "        \n",
        "\n",
        "class CatchIO:\n",
        "    def __init__(self):\n",
        "        self._stdout = None\n",
        "        self.buffer = None\n",
        "    \n",
        "    def __enter__(self):\n",
        "        import sys\n",
        "        import io\n",
        "        \n",
        "        self._stdout = sys.stdout\n",
        "        sys.stdout = io.StringIO()\n",
        "    \n",
        "    def __exit__(self, type_, value, traceback):\n",
        "        import sys\n",
        "        \n",
        "        self.buffer = sys.stdout.getvalue()\n",
        "        sys.stdout = self._stdout\n",
        "        if value is not None:\n",
        "            raise value\n"
      ],
      "execution_count": null,
      "outputs": []
    },
    {
      "cell_type": "markdown",
      "metadata": {
        "id": "YDVa_NYwJH_u"
      },
      "source": [
        "#Models and datasets"
      ]
    },
    {
      "cell_type": "code",
      "metadata": {
        "id": "gxuWtQ5tLCiy"
      },
      "source": [
        "# @title Automating Intention Mining CNN {display-mode: \"form\"}\n",
        "\n",
        "import torch.nn as nn\n",
        "import torch.nn.functional as F\n",
        "\n",
        "class AIM_CNN(nn.Module):\n",
        "    def __init__(self,\n",
        "        sequence_length, num_classes, vocab_size, embedding_size,\n",
        "        filter_sizes, num_filter, #, l2_reg_lambda\n",
        "    ):\n",
        "      super(AIM_CNN, self).__init__()\n",
        "      self.embed = nn.Embedding(vocab_size, embedding_size, padding_idx=None)\n",
        "      self.CBRs = nn.ModuleList([\n",
        "        nn.Sequential(\n",
        "            nn.Conv2d(1, num_filter, (fsize, embedding_size), stride=1),\n",
        "            nn.BatchNorm2d(embedding_size),\n",
        "            nn.ReLU()\n",
        "        ) \\\n",
        "        for fsize in filter_sizes\n",
        "      ])\n",
        "      self.drop = nn.Dropout(0.5)\n",
        "      self.classifier = nn.Linear(len(filter_sizes) * num_filter, num_classes)\n",
        "    \n",
        "    def forward_plus(self, x):\n",
        "      # Word index to embedded format\n",
        "      x = self.embed(x)\n",
        "      # Add channel dimension\n",
        "      x = torch.unsqueeze(x, 1)\n",
        "      z = torch.zeros((x.shape[0], 0, 1), device=x.device)\n",
        "      for cbr in self.CBRs:\n",
        "        y = cbr(x)\n",
        "        y = torch.squeeze(y, -1)\n",
        "        # Remove last dimension (size 1)\n",
        "        y = torch.squeeze(y, -1)\n",
        "        y = F.max_pool2d(y, (1, y.size(2)))\n",
        "        z = torch.cat((z, y), 1)\n",
        "\n",
        "      z = self.drop(z)\n",
        "      z = z.squeeze(-1)\n",
        "      z = self.classifier(z)\n",
        "      return (F.log_softmax(z, dim=1), z)\n",
        "    \n",
        "    def forward(self, x):\n",
        "      return self.forward_plus(x)[0]"
      ],
      "execution_count": null,
      "outputs": []
    },
    {
      "cell_type": "code",
      "metadata": {
        "id": "Ht1-4IV_Unfu"
      },
      "source": [
        "# @title LSTM\n",
        "\n",
        "import torch.nn as nn\n",
        "import torch.nn.functional as F\n",
        "\n",
        "class AIM_LSTM(nn.Module):\n",
        "    def __init__(self,\n",
        "        sequence_length, num_classes, vocab_size, embedding_size,\n",
        "         hidden_dim, n_layers\n",
        "         #, l2_reg_lambda\n",
        "    ):\n",
        "      super(AIM_LSTM, self).__init__()\n",
        "      self.embed = nn.Embedding(vocab_size, embedding_size, padding_idx=None)\n",
        "      self.lstm = nn.LSTM(embedding_size, \n",
        "                          hidden_dim, \n",
        "                          num_layers=n_layers, \n",
        "                          bidirectional=True, \n",
        "                          dropout=0.5)\n",
        "      self.drop = nn.Dropout(0.5)\n",
        "      self.classifier = nn.Linear(hidden_dim * 2, num_classes)\n",
        "    \n",
        "    def forward_plus(self, text):\n",
        "      text = text.t()\n",
        "      embedded = self.drop(self.embed(text))\n",
        "      packed_output, (hidden, cell) = self.lstm(embedded)\n",
        "      hidden = self.drop(torch.cat((hidden[-2,:,:], hidden[-1,:,:]), dim = 1))\n",
        "      return (\n",
        "        nn.functional.log_softmax(self.classifier(hidden), dim=1),\n",
        "        hidden\n",
        "      )\n",
        "\n",
        "    def forward(self, text):\n",
        "      return self.forward_plus(text)[0]"
      ],
      "execution_count": null,
      "outputs": []
    },
    {
      "cell_type": "code",
      "metadata": {
        "id": "alY6AQoXU_-g"
      },
      "source": [
        "# @title TextFiles(Dataset) [COMMENTED OUT] {display-mode: \"form\"}\n",
        "# from torch.utils.data import Dataset\n",
        "# import torchtext\n",
        "# import collections\n",
        "# import numpy as np\n",
        "# import torch\n",
        "# import warnings\n",
        "# import copy\n",
        "# import re\n",
        "# import nltk\n",
        "# nltk.download('punkt')\n",
        "# nltk.download('stopwords')\n",
        "# nltk.download('wordnet')\n",
        "# from nltk.tokenize import word_tokenize\n",
        "# from nltk.corpus import stopwords \n",
        "# from nltk.stem.wordnet import WordNetLemmatizer as lem\n",
        "# stop_words = set(stopwords.words('english')) \n",
        "# stop_words.add('would')\n",
        "\n",
        "# class TextFiles(Dataset):\n",
        "\n",
        "#     def __init__(self, paths, encoding='utf-8',\n",
        "#                  line_split_f=None, label_f=None):\n",
        "        \n",
        "#         if paths is None:\n",
        "#             paths = []\n",
        "\n",
        "#         self.text_vocab = None\n",
        "#         self.label_vocab = None\n",
        "#         self.text = []\n",
        "#         self.processed = None\n",
        "#         self.vec = None\n",
        "#         self.labels = []\n",
        "#         tmp = []\n",
        "#         for p in paths:\n",
        "#             with open(p, 'r', encoding=encoding) as f:\n",
        "#                 tmp = list(f)\n",
        "        \n",
        "#             # If a split function is specified, join text and let the function\n",
        "#             # handle it. Otherwise, use newlines to split.\n",
        "#             if line_split_f is not None:\n",
        "#                 self.text.extend(line_split_f(\"\".join(tmp)))\n",
        "#             else:\n",
        "#                 self.text.extend(tmp)\n",
        "        \n",
        "#             # Get true label for each entity\n",
        "#             if label_f is not None:\n",
        "#                 self.labels.extend([label_f(t, p, ix) for ix, t in enumerate(tmp)])\n",
        "#             else:\n",
        "#                 self.labels = None\n",
        "\n",
        "#         self.processed = copy.deepcopy(self.text)\n",
        "\n",
        "#     @staticmethod\n",
        "#     def Preprocess(dataset):\n",
        "#         for ix, (sent, label) in enumerate(dataset):\n",
        "#             sent = word_tokenize(sent)\n",
        "#             sent = [w.lower() for w in sent if re.fullmatch('[a-zA-Z.][a-zA-Z.]+', w)]\n",
        "#             lemmatizer = lem()\n",
        "#             sent = [lemmatizer.lemmatize(w) for w in sent]\n",
        "#             # Removing stop words seems to hurt the model's performance.\n",
        "#             # sent = [w for w in sent if w not in stop_words]\n",
        "#             dataset[ix] = (sent, label)\n",
        "\n",
        "#     def build_vocabulary(self):\n",
        "#         # Warning: assumes that text has already been preprocessed and split!\n",
        "#         # Create vocabularies from text and label\n",
        "\n",
        "#         self.text_vocab = torchtext.vocab.Vocab(\n",
        "#             collections.Counter(\n",
        "#                 [word for (sentence, label) in self for word in sentence]\n",
        "#             ), specials=['<unk>', '<pad>'], specials_first=True\n",
        "#         )\n",
        "#         self.label_vocab = torchtext.vocab.Vocab(\n",
        "#             collections.Counter([label for (sentence, label) in self]) , specials=[]\n",
        "#         )\n",
        "\n",
        "#     def word2tensor(self, pad_length, dataset=None):\n",
        "#         # Transforms text and labels to numerical indices using vocabulary built\n",
        "#         # using this dataset.\n",
        "#         #\n",
        "#         #   pad_length      Length to pad to (e.g., pad_length = 100, but\n",
        "#         #                   sentence is 75 characters, then 25 <pad> characters\n",
        "#         #                   will be added.\n",
        "#         #   dataset         Dataset to which to apply this. Iterating dataset\n",
        "#         #                   should return a (text, label) tuple. Default: self \n",
        "#         #                   (if dataset=None, use self).\n",
        "#         #\n",
        "#         # Warning: assumes that text has already been preprocessed and split!\n",
        "\n",
        "#         if dataset is None:\n",
        "#             dataset = self\n",
        "        \n",
        "#         if isinstance(dataset, TextFiles):\n",
        "#             vec = [[]] * len(self.processed)\n",
        "#             lab = [[]] * len(self.labels)\n",
        "\n",
        "#         # Text to numerical indices (tensors)\n",
        "#         for ix in range(len(dataset)):\n",
        "#             sentence = [self.text_vocab.stoi[word] for word in dataset[ix][0]]\n",
        "#             label = self.label_vocab.stoi[dataset[ix][1]]\n",
        "\n",
        "#             if pad_length is not None and len(sentence) > pad_length:\n",
        "#                 warnings.warn(\n",
        "#                     'The following sentence has {} characters which is longer '\\\n",
        "#                     'than your padding length ({}).\\nSentence = \"{}\"'\\\n",
        "#                     .format(len(sentence), pad_length, sentence)\n",
        "#                 )\n",
        "#             elif pad_length is not None:\n",
        "#                 sentence = sentence + [self.text_vocab.stoi['<pad>']]*(pad_length-len(sentence))\n",
        "\n",
        "#             if isinstance(dataset, TextFiles):\n",
        "#                 vec[ix] = torch.tensor(sentence)\n",
        "#                 lab[ix] = torch.tensor(label)\n",
        "#             else:\n",
        "#                 dataset[ix] = (torch.tensor(sentence), torch.tensor(label))\n",
        "        \n",
        "#         if isinstance(dataset, TextFiles):\n",
        "#             dataset.vec = vec\n",
        "#             dataset.labels = lab\n",
        "\n",
        "#     def shuffle(self):\n",
        "#         # Order the data such that the classes are ordered and proportionally\n",
        "#         # represented (e.g., if for each element from categories 1 and 2 there\n",
        "#         # are two from category 3, then [1, 2, 3, 3, 1, 2, 3, 3, ...])\n",
        "#         # but such that the instances of within the categories are random. \n",
        "#         old_text = self.text\n",
        "#         old_processed = self.processed\n",
        "#         old_vec = self.vec\n",
        "#         old_labels = self.labels\n",
        "#         L = np.array([{lab: ix for ix, lab in enumerate(set(self.labels))}.get(lab) for lab in self.labels])\n",
        "\n",
        "#         index = [np.where(L == ii)[0] for ii in set(L)]\n",
        "#         permuted = [np.random.permutation(ii.size) for ii in index]\n",
        "\n",
        "#         # CATegory ID's Sorted by category Size (number of elements in the category)\n",
        "#         cat_id_ss = np.argsort([c.size for c in index])\n",
        "\n",
        "#         ix = 0;\n",
        "#         ct = [0]*len(index)\n",
        "#         self.text = [[]]*len(self.text)\n",
        "#         self.processed = [[]]*len(self.processed)\n",
        "#         if self.vec is not None:\n",
        "#             self.vec = [[]]*len(self.vec)\n",
        "#         self.labels = [[]]*len(self.labels)\n",
        "#         for ii in range(len(L)):\n",
        "#             # Current category\n",
        "#             cix = cat_id_ss[ix]\n",
        "#             # Next category\n",
        "#             nix = cat_id_ss[(1 + ix) % len(cat_id_ss)]\n",
        "#             # Finished with a category? Remove it from the list of ID's\n",
        "#             while ct[cix] >= len(permuted[cix]):\n",
        "#                 # remove category\n",
        "#                 cat_id_ss = np.delete(cat_id_ss, ix)\n",
        "#                 # recalculate ix\n",
        "#                 ix = ix % len(cat_id_ss)\n",
        "#                 # recalculate current and next category\n",
        "#                 cix = cat_id_ss[ix]\n",
        "#                 nix = cat_id_ss[(1 + ix) % len(cat_id_ss)]\n",
        "                \n",
        "#             # Array index (within array index [see below])\n",
        "#             ax = permuted[cix][ct[cix]]\n",
        "#             # Permuted array index\n",
        "#             px = index[cix][ax]\n",
        "\n",
        "#             # Label = OldLabel[permuted_array_index]\n",
        "#             self.labels[ii] = old_labels[px]\n",
        "#             # Text = OldText[permuted_array_index]\n",
        "#             self.text[ii] = old_text[px]\n",
        "#             self.processed[ii] = old_processed[px]\n",
        "#             if self.vec is not None:\n",
        "#                 self.vec[ii] = old_vec[px]\n",
        "#             # Count this as one more instance of this category\n",
        "#             ct[cix] = 1 + ct[cix]\n",
        "#             # How do the category proportions compare? If the category has a higher proportion\n",
        "#             # of elements in the resulting array, move on to the next category.\n",
        "#             if ct[cix] / len(index[cix]) >= ct[nix] / len(index[nix]) :\n",
        "#                 ix = (1 + ix) % len(cat_id_ss)\n",
        "\n",
        "\n",
        "#     def split(self, training_validation_split):\n",
        "#         idx = int(np.ceil(len(self) * training_validation_split))\n",
        "\n",
        "#         train = TextFiles(paths=None, encoding=None, line_split_f=None, label_f=None)\n",
        "#         train.text = self.text[:idx]\n",
        "#         train.processed = self.processed[:idx]\n",
        "#         train.labels = self.labels[:idx]\n",
        "\n",
        "#         validation = TextFiles(paths=None, encoding=None, line_split_f=None, label_f=None)\n",
        "#         validation.text = self.text[idx:]\n",
        "#         validation.processed = self.processed[idx:]\n",
        "#         validation.labels = self.labels[idx:]\n",
        "\n",
        "#         if self.vec is not None:\n",
        "#             train.vec = self.vec[:idx]\n",
        "#             validation.vec = self.vec[idx:]\n",
        "\n",
        "#         return train, validation\n",
        "\n",
        "\n",
        "#     def __len__(self):\n",
        "#         return len(self.text)\n",
        "\n",
        "\n",
        "#     def __getitem__(self, idx):\n",
        "#         if 0 > idx or idx >= len(self):\n",
        "#             raise IndexError\n",
        "\n",
        "#         if self.vec is not None:\n",
        "#             t = self.vec[idx]\n",
        "#         else:\n",
        "#             t = self.processed[idx]\n",
        "\n",
        "#         if self.labels is None:\n",
        "#             label = idx\n",
        "#         else:\n",
        "#             label = self.labels[idx]\n",
        "\n",
        "#         return (t, label)\n",
        "\n",
        "\n",
        "#     def __setitem__(self, idx, value):\n",
        "#         if not isinstance(value, tuple):\n",
        "#             raise TypeError\n",
        "\n",
        "#         if isinstance(value[0], torch.Tensor) and self.vec is not None:\n",
        "#             self.vec[idx] = value[0];\n",
        "#         else:\n",
        "#             self.processed[idx] = value[0];\n",
        "\n",
        "#         if self.labels is not None:\n",
        "#             self.labels[idx] = value[1]\n",
        "\n",
        "\n",
        "# # def Text2Index(text, pad_length, vvv = None):\n",
        "# #     vocab = torchtext.vocab.Vocab(\n",
        "# #         collections.Counter(\n",
        "# #             \" \".join([t.strip() for t in text]).split()\n",
        "# #         ), specials=['<unk>', '<pad>'], specials_first=True\n",
        "# #     )\n",
        "# #     text = [[vocab.stoi[w] for w in sentence.split()] for sentence in text]\n",
        "# #     for ix,sentence in enumerate(text):\n",
        "# #         if len(sentence) > pad_length:\n",
        "# #             warnings.warn('The following sentence has {} characters which is longer than your padding length ({}).\\nSentence = \"{}\"'\\\n",
        "# #                 .format(len(sentence), pad_length, sentence)\n",
        "# #             )\n",
        "# #         else:\n",
        "# #             text[ix] = sentence + [vocab.stoi['<pad>']]*(pad_length-len(sentence))\n",
        "# #     if vvv is not None:\n",
        "# #         vvv.extend([vocab])\n",
        "# #     return text\n",
        "\n",
        "# # def Label2Index(labels):\n",
        "# #     vocab = torchtext.vocab.Vocab(collections.Counter(labels), specials=['<unk>', '<pad>'], specials_first=True)\n",
        "# #     return [vocab.stoi[lab] for lab in labels]"
      ],
      "execution_count": null,
      "outputs": []
    },
    {
      "cell_type": "code",
      "metadata": {
        "id": "GH35l1QAU5Sg"
      },
      "source": [
        "# @title StanfordFiles(Dataset) [COMMENTED OUT] {display-mode: \"form\"}\n",
        "# from torch.utils.data import Dataset\n",
        "# import torchtext\n",
        "# import collections\n",
        "# import numpy as np\n",
        "# import torch\n",
        "# import warnings\n",
        "# import copy\n",
        "\n",
        "# class StanfordFiles(Dataset):\n",
        "\n",
        "#     def __init__(self, projects):\n",
        "#       self.text_vocab = None\n",
        "#       self.label_vocab = None\n",
        "#       self.vec = None\n",
        "\n",
        "#       if projects is None:\n",
        "#         projects = []\n",
        "\n",
        "#       all_projects = [\"DECA\", \"bootstrap\", \"docker\", \"tensorflow\", \"vscode\"]\n",
        "#       projects_to_exclude = [p for p in all_projects if p not in projects]\n",
        "#       text_by_cat = GetTextByCategories(\n",
        "#         word=\"word\", show_pos=False, get_ancestors=True,\n",
        "#         remove_punctuation=False, remove_stopwords=False,\n",
        "#         projects_to_exclude=projects_to_exclude\n",
        "#       )\n",
        "\n",
        "#       self.text = []\n",
        "#       self.processed = []\n",
        "#       self.labels = []\n",
        "#       for cat, sentences in text_by_cat.items():\n",
        "#         for sent in sentences:\n",
        "#           self.text.append(sent)\n",
        "#           self.labels.append(cat)\n",
        "#           self.processed.append(Sentence(sent.json, sent.getFormat(), False))\n",
        "      \n",
        "\n",
        "#     @staticmethod\n",
        "#     def Preprocess(dataset):\n",
        "#       dataset.processed = []\n",
        "#       for sent in dataset.text:\n",
        "#         dataset.processed.append(sent.withoutStopWords().withoutPunctuation())\n",
        "#         dataset.processed[-1].setFormat(\"{lemma}\")\n",
        "\n",
        "#     def build_vocabulary(self):\n",
        "#         # Warning: assumes that text has already been preprocessed and split!\n",
        "#         # Create vocabularies from text and label\n",
        "\n",
        "#         self.text_vocab = torchtext.vocab.Vocab(\n",
        "#             collections.Counter(\n",
        "#                 [word for (sentence, label) in self for word in sentence]\n",
        "#             ), specials=['<unk>', '<pad>'], specials_first=True\n",
        "#         )\n",
        "#         self.label_vocab = torchtext.vocab.Vocab(\n",
        "#             collections.Counter([label for (sentence, label) in self]) , specials=[]\n",
        "#         )\n",
        "\n",
        "#     def word2tensor(self, pad_length, dataset=None):\n",
        "#         # Transforms text and labels to numerical indices using vocabulary built\n",
        "#         # using this dataset.\n",
        "#         #\n",
        "#         #   pad_length      Length to pad to (e.g., pad_length = 100, but\n",
        "#         #                   sentence is 75 characters, then 25 <pad> characters\n",
        "#         #                   will be added.\n",
        "#         #   dataset         Dataset to which to apply this. Iterating dataset\n",
        "#         #                   should return a (text, label) tuple. Default: self \n",
        "#         #                   (if dataset=None, use self).\n",
        "#         #\n",
        "#         # Warning: assumes that text has already been preprocessed and split!\n",
        "\n",
        "#         if dataset is None:\n",
        "#             dataset = self\n",
        "        \n",
        "#         if isinstance(dataset, StanfordFiles):\n",
        "#             vec = [[]] * len(self.processed)\n",
        "#             lab = [[]] * len(self.labels)\n",
        "\n",
        "#         # Text to numerical indices (tensors)\n",
        "#         for ix in range(len(dataset)):\n",
        "#             sentence = [self.text_vocab.stoi[word] for word in dataset[ix][0]]\n",
        "#             label = self.label_vocab.stoi[dataset[ix][1]]\n",
        "\n",
        "#             if pad_length is not None and len(sentence) > pad_length:\n",
        "#                 warnings.warn(\n",
        "#                     'The following sentence has {} characters which is longer '\\\n",
        "#                     'than your padding length ({}).\\nSentence = \"{}\"'\\\n",
        "#                     .format(len(sentence), pad_length, sentence)\n",
        "#                 )\n",
        "#             elif pad_length is not None:\n",
        "#                 sentence = sentence + [self.text_vocab.stoi['<pad>']]*(pad_length-len(sentence))\n",
        "\n",
        "#             if isinstance(dataset, StanfordFiles):\n",
        "#                 vec[ix] = torch.tensor(sentence)\n",
        "#                 lab[ix] = torch.tensor(label)\n",
        "#             else:\n",
        "#                 dataset[ix] = (torch.tensor(sentence), torch.tensor(label))\n",
        "        \n",
        "#         if isinstance(dataset, StanfordFiles):\n",
        "#             dataset.vec = vec\n",
        "#             dataset.labels = lab\n",
        "\n",
        "#     def shuffle(self):\n",
        "#         # Order the data such that the classes are ordered and proportionally\n",
        "#         # represented (e.g., if for each element from categories 1 and 2 there\n",
        "#         # are two from category 3, then [1, 2, 3, 3, 1, 2, 3, 3, ...])\n",
        "#         # but such that the instances of within the categories are random. \n",
        "#         old_text = self.text\n",
        "#         old_processed = self.processed\n",
        "#         old_vec = self.vec\n",
        "#         old_labels = self.labels\n",
        "#         L = np.array([{lab: ix for ix, lab in enumerate(set(self.labels))}.get(lab) for lab in self.labels])\n",
        "\n",
        "#         index = [np.where(L == ii)[0] for ii in set(L)]\n",
        "#         permuted = [np.random.permutation(ii.size) for ii in index]\n",
        "\n",
        "#         # CATegory ID's Sorted by category Size (number of elements in the category)\n",
        "#         cat_id_ss = np.argsort([c.size for c in index])\n",
        "\n",
        "#         ix = 0;\n",
        "#         ct = [0]*len(index)\n",
        "#         self.text = [[]]*len(self.text)\n",
        "#         self.processed = [[]]*len(self.processed)\n",
        "#         if self.vec is not None:\n",
        "#             self.vec = [[]]*len(self.vec)\n",
        "#         self.labels = [[]]*len(self.labels)\n",
        "#         for ii in range(len(L)):\n",
        "#             # Current category\n",
        "#             cix = cat_id_ss[ix]\n",
        "#             # Next category\n",
        "#             nix = cat_id_ss[(1 + ix) % len(cat_id_ss)]\n",
        "#             # Finished with a category? Remove it from the list of ID's\n",
        "#             while ct[cix] >= len(permuted[cix]):\n",
        "#                 # remove category\n",
        "#                 cat_id_ss = np.delete(cat_id_ss, ix)\n",
        "#                 # recalculate ix\n",
        "#                 ix = ix % len(cat_id_ss)\n",
        "#                 # recalculate current and next category\n",
        "#                 cix = cat_id_ss[ix]\n",
        "#                 nix = cat_id_ss[(1 + ix) % len(cat_id_ss)]\n",
        "                \n",
        "#             # Array index (within array index [see below])\n",
        "#             ax = permuted[cix][ct[cix]]\n",
        "#             # Permuted array index\n",
        "#             px = index[cix][ax]\n",
        "\n",
        "#             # Label = OldLabel[permuted_array_index]\n",
        "#             self.labels[ii] = old_labels[px]\n",
        "#             # Text = OldText[permuted_array_index]\n",
        "#             self.text[ii] = old_text[px]\n",
        "#             self.processed[ii] = old_processed[px]\n",
        "#             if self.vec is not None:\n",
        "#                 self.vec[ii] = old_vec[px]\n",
        "#             # Count this as one more instance of this category\n",
        "#             ct[cix] = 1 + ct[cix]\n",
        "#             # How do the category proportions compare? If the category has a higher proportion\n",
        "#             # of elements in the resulting array, move on to the next category.\n",
        "#             if ct[cix] / len(index[cix]) >= ct[nix] / len(index[nix]) :\n",
        "#                 ix = (1 + ix) % len(cat_id_ss)\n",
        "\n",
        "\n",
        "#     def split(self, training_validation_split):\n",
        "#         idx = int(np.ceil(len(self) * training_validation_split))\n",
        "\n",
        "#         train = StanfordFiles(projects=None)\n",
        "#         train.text = self.text[:idx]\n",
        "#         train.processed = self.processed[:idx]\n",
        "#         train.labels = self.labels[:idx]\n",
        "\n",
        "#         validation = StanfordFiles(projects=None)\n",
        "#         validation.text = self.text[idx:]\n",
        "#         validation.processed = self.processed[idx:]\n",
        "#         validation.labels = self.labels[idx:]\n",
        "\n",
        "#         if self.vec is not None:\n",
        "#             train.vec = self.vec[:idx]\n",
        "#             validation.vec = self.vec[idx:]\n",
        "\n",
        "#         return train, validation\n",
        "\n",
        "\n",
        "#     def __len__(self):\n",
        "#         return len(self.text)\n",
        "\n",
        "\n",
        "#     def __getitem__(self, idx):\n",
        "#         if 0 > idx or idx >= len(self):\n",
        "#             raise IndexError\n",
        "\n",
        "#         if self.vec is not None:\n",
        "#             t = self.vec[idx]\n",
        "#         else:\n",
        "#             t = self.processed[idx]\n",
        "\n",
        "#         if self.labels is None:\n",
        "#             label = idx\n",
        "#         else:\n",
        "#             label = self.labels[idx]\n",
        "\n",
        "#         return (t, label)\n",
        "\n",
        "\n",
        "#     def __setitem__(self, idx, value):\n",
        "#         if not isinstance(value, tuple):\n",
        "#             raise TypeError\n",
        "\n",
        "#         if isinstance(value[0], torch.Tensor) and self.vec is not None:\n",
        "#             self.vec[idx] = value[0];\n",
        "#         else:\n",
        "#             self.processed[idx] = value[0];\n",
        "\n",
        "#         if self.labels is not None:\n",
        "#             self.labels[idx] = value[1]\n",
        "\n",
        "\n",
        "# # def Text2Index(text, pad_length, vvv = None):\n",
        "# #     vocab = torchtext.vocab.Vocab(\n",
        "# #         collections.Counter(\n",
        "# #             \" \".join([t.strip() for t in text]).split()\n",
        "# #         ), specials=['<unk>', '<pad>'], specials_first=True\n",
        "# #     )\n",
        "# #     text = [[vocab.stoi[w] for w in sentence.split()] for sentence in text]\n",
        "# #     for ix,sentence in enumerate(text):\n",
        "# #         if len(sentence) > pad_length:\n",
        "# #             warnings.warn('The following sentence has {} characters which is longer than your padding length ({}).\\nSentence = \"{}\"'\\\n",
        "# #                 .format(len(sentence), pad_length, sentence)\n",
        "# #             )\n",
        "# #         else:\n",
        "# #             text[ix] = sentence + [vocab.stoi['<pad>']]*(pad_length-len(sentence))\n",
        "# #     if vvv is not None:\n",
        "# #         vvv.extend([vocab])\n",
        "# #     return text\n",
        "\n",
        "# # def Label2Index(labels):\n",
        "# #     vocab = torchtext.vocab.Vocab(collections.Counter(labels), specials=['<unk>', '<pad>'], specials_first=True)\n",
        "# #     return [vocab.stoi[lab] for lab in labels]\n"
      ],
      "execution_count": null,
      "outputs": []
    },
    {
      "cell_type": "code",
      "metadata": {
        "id": "3t3kFIzaaEnJ"
      },
      "source": [
        "# @title preprocess() [COMMENTED OUT] {display-mode: \"form\"}\n",
        "# import re\n",
        "# import nltk\n",
        "# nltk.download('punkt')\n",
        "# nltk.download('stopwords')\n",
        "# nltk.download('wordnet')\n",
        "# from nltk.tokenize import word_tokenize\n",
        "# from nltk.corpus import stopwords \n",
        "# from nltk.stem.wordnet import WordNetLemmatizer as lem\n",
        "# stop_words = set(stopwords.words('english')) \n",
        "# stop_words.add('would')\n",
        "\n",
        "# def PreprocessForPredict(dataset):\n",
        "#     for ix, (sent, label) in enumerate(dataset):\n",
        "#         sent = word_tokenize(sent)\n",
        "#         sent = [w.lower() for w in sent if re.fullmatch('[a-zA-Z.][a-zA-Z.]+', w)]\n",
        "#         lemmatizer = lem()\n",
        "#         sent = [lemmatizer.lemmatize(w) for w in sent]\n",
        "#         # Removing stop words seems to hurt the model's performance.\n",
        "#         # sent = [w for w in sent if w not in stop_words]\n",
        "#         dataset[ix] = (sent, label)\n",
        "\n",
        "# # def preprocess(data):\n",
        "# #   filtered = []\n",
        "# #   for i in data:\n",
        "# #     sent = re.sub(r'[^a-zA-Z ]+', '', i).lower()\n",
        "# #     sent = word_tokenize(sent)\n",
        "# #     tok_sent = []\n",
        "# #     for w in sent:\n",
        "# #       if not w in stop_words:\n",
        "# #         lemmatized = lem().lemmatize(w)\n",
        "# #         tok_sent.append(lemmatized)\n",
        "# #     filtered.append(tok_sent)\n",
        "# #   return filtered\n"
      ],
      "execution_count": null,
      "outputs": []
    },
    {
      "cell_type": "code",
      "metadata": {
        "id": "g54Ru642KcgQ",
        "colab": {
          "base_uri": "https://localhost:8080/",
          "height": 34
        },
        "outputId": "5ea8fb55-7b6c-4cca-be04-d7278dc69fed"
      },
      "source": [
        "#@title train(), validate(), and test() {display-mode: \"form\"}\n",
        "import torch.nn.functional as F\n",
        "import torch\n",
        "\n",
        "def train(model, model_name, device, train_loader, optimizer, epoch):\n",
        "    model.train()\n",
        "    for batch_idx, (data, target) in enumerate(train_loader):\n",
        "        data, target = data.to(device), target.to(device)\n",
        "        optimizer.zero_grad()\n",
        "        output = model(data)\n",
        "              \n",
        "        loss = F.nll_loss(output, target)\n",
        "        loss.backward()\n",
        "        optimizer.step()\n",
        "        if batch_idx % _log_interval == 0:\n",
        "            print('{{{}}} Train Epoch: {} [{}/{} ({:.0f}%)]\\tLoss: {:.6f}'.format(\n",
        "                    model_name, epoch, batch_idx * len(data),\n",
        "                    len(train_loader.dataset),\n",
        "                    100. * batch_idx / len(train_loader), loss.item()\n",
        "                )\n",
        "            )\n",
        "\n",
        "\n",
        "def validate(model, model_name, device, validation_loader):\n",
        "    model.eval()\n",
        "    validation_loss = 0\n",
        "    correct = 0\n",
        "    with torch.no_grad():\n",
        "        for data, target in validation_loader:\n",
        "            data, target = data.to(device), target.to(device)\n",
        "            output = model(data)\n",
        "\n",
        "            # sum up batch loss\n",
        "            validation_loss += F.nll_loss(output, target, reduction='sum').item()\n",
        "            # validation_loss += F.mse_loss(output, target, reduction='sum').item()\n",
        "            # get the index of the max log-probability\n",
        "            pred = output.argmax(dim=1, keepdim=True)\n",
        "            correct += pred.eq(target.view_as(pred)).sum().item()\n",
        "\n",
        "    validation_loss /= len(validation_loader.dataset)\n",
        "\n",
        "    print(\n",
        "        '\\n{{{}}} Validation set: Average loss: {:.4f}, Accuracy: {}/{} ({:.0f}%)\\n'\n",
        "        .format(\n",
        "            model_name, validation_loss, correct,\n",
        "            len(validation_loader.dataset),\n",
        "            100. * correct / len(validation_loader.dataset)\n",
        "        )\n",
        "    )\n",
        "\n",
        "    return validation_loss, 100. * correct / len(validation_loader.dataset)\n",
        "\n",
        "\n",
        "def test(model, model_name, device, test_loader):\n",
        "    model.eval()\n",
        "    test_loss = 0\n",
        "    correct = 0\n",
        "    predictions = []\n",
        "    with torch.no_grad():\n",
        "        for data, target in test_loader:\n",
        "            data, target = data.to(device), target.to(device)\n",
        "            output = model(data)\n",
        "\n",
        "            # sum up batch loss\n",
        "            # test_loss += F.mse_loss(output, target, reduction='sum').item()\n",
        "            test_loss += F.nll_loss(output, target, reduction='sum').item()\n",
        "            # get the index of the max log-probability\n",
        "            pred = output.argmax(dim=1, keepdim=True)\n",
        "            correct += pred.eq(target.view_as(pred)).sum().item()\n",
        "\n",
        "    test_loss /= len(test_loader.dataset)\n",
        "\n",
        "    print(\n",
        "        '\\n{{{}}} Test set: Average loss: {:.4f}, Accuracy: {}/{} ({:.0f}%)\\n\\n'\n",
        "        .format(\n",
        "            model_name, test_loss, correct, len(test_loader.dataset),\n",
        "            100. * correct / len(test_loader.dataset)\n",
        "        )\n",
        "    )\n",
        "\n",
        "    return test_loss, 100. * correct / len(test_loader.dataset)\n",
        "\n",
        "torch.manual_seed(1)"
      ],
      "execution_count": null,
      "outputs": [
        {
          "output_type": "execute_result",
          "data": {
            "text/plain": [
              "<torch._C.Generator at 0x7fa293d5dd90>"
            ]
          },
          "metadata": {
            "tags": []
          },
          "execution_count": 10
        }
      ]
    },
    {
      "cell_type": "code",
      "metadata": {
        "id": "LNpjiJChKeto"
      },
      "source": [
        "# @title Predict(model, text_vocab, text) [COMMENTED OUT] {display-mode: \"form\"}\n",
        "\n",
        "# def Predict(model, text_vocab, text):\n",
        "#     # Not learning\n",
        "#     model.eval()\n",
        "#     # For strings\n",
        "#     if not isinstance(text, list):\n",
        "#         text = [text]\n",
        "#     # Create \"dataset\"\n",
        "#     text_labels = [(sentence, '') for sentence in text]\n",
        "#     PreprocessForPredit(text_labels)\n",
        "#     # Word 2 tensor + padding\n",
        "#     text_labels = word2tensor(text_labels, text_vocab, None, saved['params']['_padded_string_length'])\n",
        "#     # (text,label)->[text,text,...]\n",
        "#     text = torch.stack([sentence for sentence, label in text_labels], dim=0)\n",
        "#     # CUDA?\n",
        "#     text = text.to(next(model.parameters()).device)\n",
        "#     # Prediction\n",
        "#     return torch.argmax(model(text).cpu(), 1)"
      ],
      "execution_count": null,
      "outputs": []
    },
    {
      "cell_type": "markdown",
      "metadata": {
        "id": "IHt5Q3qKKV7_"
      },
      "source": [
        "#Training and results"
      ]
    },
    {
      "cell_type": "code",
      "metadata": {
        "id": "CGBvGBpoDi4d",
        "cellView": "form"
      },
      "source": [
        "# @title Useful definitions\n",
        "import os\n",
        "\n",
        "drive_savefolder = \"out\" #@param {type:\"string\"}\n",
        "drive_savefolder = os.path.join(drive_folder, drive_savefolder)\n",
        "\n",
        "drive_datafolder = \"data/\"  # @param {type:\"string\"}\n",
        "drive_datafolder = os.path.join(drive_folder, drive_datafolder)\n",
        "\n",
        "categories = [\n",
        "  'aspect evaluation',\n",
        "  'feature request',\n",
        "  'information giving',\n",
        "  'information seeking',\n",
        "  'problem discovery',\n",
        "  'solution proposal',\n",
        "  'others'\n",
        "]"
      ],
      "execution_count": null,
      "outputs": []
    },
    {
      "cell_type": "code",
      "metadata": {
        "id": "T-nAG-DJRkTk",
        "colab": {
          "base_uri": "https://localhost:8080/",
          "height": 204
        },
        "outputId": "aef2d4d6-c7bf-4f83-d2d2-3b38f024d6a3"
      },
      "source": [
        "# @title Train_NB_LR_SVM()\n",
        "from sklearn.naive_bayes import MultinomialNB\n",
        "from sklearn.linear_model import LogisticRegression\n",
        "from sklearn.svm import SVC\n",
        "from torch.utils.data import DataLoader\n",
        "from sklearn.model_selection import GridSearchCV\n",
        "from sklearn.pipeline import Pipeline\n",
        "from sklearn.feature_extraction.text import TfidfVectorizer\n",
        "from google.colab import widgets\n",
        "import numpy as np\n",
        "import inspect\n",
        "import joblib\n",
        "import datetime\n",
        "\n",
        "def Train_NB_LR_SVM(train_valid_set, test_set, description, grid):\n",
        "    # Make copies so we can edit the sets as needed\n",
        "    train_valid_set = train_valid_set.clone()\n",
        "    test_set = test_set.clone()\n",
        "    # Stratified shuffle\n",
        "    train_valid_set.shuffle()\n",
        "    train_valid_set.Preprocess(train_valid_set)\n",
        "    test_set.shuffle()\n",
        "    test_set.Preprocess(test_set)\n",
        "\n",
        "    # Separate sentences and labels\n",
        "    train_valid_sentences = []\n",
        "    train_valid_labels = []\n",
        "    for sentence, label in train_valid_set:\n",
        "      train_valid_sentences.append(sentence)\n",
        "      train_valid_labels.append(label)\n",
        "    test_sentences = []\n",
        "    test_labels = []\n",
        "    for sentence, label in test_set:\n",
        "      test_sentences.append(sentence)\n",
        "      test_labels.append(label)\n",
        "\n",
        "    # Convert labels to integer\n",
        "    label_to_int = {lab: ix for ix, lab in enumerate(set(categories))}\n",
        "    train_valid_labels = [label_to_int[lab] for lab in train_valid_labels]\n",
        "    test_labels = [label_to_int[lab] for lab in test_labels]\n",
        "\n",
        "    # Initialize models\n",
        "    models = {\n",
        "        'NaiveBayes': MultinomialNB(),\n",
        "        'LogisticRegression': LogisticRegression(solver='liblinear'),\n",
        "        'SVM': SVC()\n",
        "    }\n",
        "    # Define grid search parameters\n",
        "    parameters = {\n",
        "      'all': {\n",
        "        'tfidf__ngram_range': [(1,1), (1,2), (1,3)]\n",
        "      },\n",
        "      'NaiveBayes': {\n",
        "        'model__alpha': [0.001, 0.01, 0.1, 1, 10, 100, 1000]\n",
        "      },\n",
        "      'LogisticRegression': {\n",
        "        'model__C': [0.001, 0.01, 0.1, 1, 10, 100, 1000]\n",
        "      },\n",
        "      'SVM': [\n",
        "        {\n",
        "          'model__kernel': ['rbf'],\n",
        "          'model__gamma': [1e-3, 1e-4],\n",
        "          'model__C': [1, 10, 100, 1000]\n",
        "        },\n",
        "        {\n",
        "          'model__kernel': ['linear'],\n",
        "          'model__C': [1, 10, 100, 1000]\n",
        "        }\n",
        "      ]\n",
        "    }\n",
        "    # Use grid search to find best parameters\n",
        "    for model_name in models:\n",
        "      with grid.output_to(0, 0):\n",
        "        print(description + \": \" + model_name)\n",
        "    \n",
        "      params = parameters[model_name]\n",
        "      # Make them all lists\n",
        "      if not isinstance(params, list):\n",
        "        params = [params]\n",
        "      # Copy \"all\" parameters to model-specific parameter dictionaries\n",
        "      for ix, p in enumerate(params):\n",
        "        params[ix] = {**p, **parameters[\"all\"]}\n",
        "      \n",
        "      grid_search = GridSearchCV(\n",
        "        Pipeline([\n",
        "          ('tfidf', TfidfVectorizer(\n",
        "            analyzer='word', ngram_range=(1, 1),\n",
        "            # no preprocessing or tokenization; already done\n",
        "            preprocessor=lambda x: x,\n",
        "            tokenizer=lambda sent: [str(t) for t in sent.tokens]\n",
        "          )),\n",
        "          ('model', models[model_name])\n",
        "        ]),\n",
        "        parameters[model_name], cv=3, n_jobs=-1 if model_name.lower() != \"svm\" else 1, verbose=3\n",
        "      )\n",
        "      with grid.output_to(1, 0):\n",
        "        grid_search.fit(train_valid_sentences, train_valid_labels)\n",
        "    \n",
        "      models[model_name] = grid_search.best_estimator_\n",
        "      models[model_name]['tfidf'].preprocessor = \\\n",
        "        inspect.getsourcelines(models[model_name]['tfidf'].preprocessor)\n",
        "      models[model_name]['tfidf'].tokenizer = \\\n",
        "        inspect.getsourcelines(models[model_name]['tfidf'].tokenizer)\n",
        "    \n",
        "    # Save\n",
        "    filename = os.path.join(\n",
        "        drive_savefolder, 'NB_LG_SVM_{}_{}.joblib'.format(\n",
        "          description,\n",
        "          datetime.datetime.now().strftime(\"%Y-%m-%d_%H%M%S\")\n",
        "        )\n",
        "    )\n",
        "    jfile = joblib.dump(\n",
        "      {\n",
        "        'models': models,\n",
        "        'parameters': parameters,\n",
        "        'label_to_int': label_to_int,\n",
        "        'train_valid_sentences': train_valid_sentences,\n",
        "        'train_valid_labels': train_valid_labels,\n",
        "        'test_sentences': test_sentences,\n",
        "        'test_labels': test_labels\n",
        "      }, filename, compress=9)\n",
        "    with grid.output_to(0, 0):\n",
        "      print(\"Models written to {}\".format(jfile))\n",
        "    \n",
        "    # Replace data files?\n",
        "    if _replace_data_files:\n",
        "      datafilename = os.path.join(\n",
        "        drive_datafolder,\n",
        "        'AIM_NB_LG_SVM_{}.joblib'.format(description)\n",
        "      )\n",
        "      with open(jfile[0], 'rb') as fin, open(datafilename, 'wb') as fout:\n",
        "            fout.write(fin.read())\n",
        "      with grid.output_to(0, 0):\n",
        "        print(\"Updated {}\".format(datafilename))\n",
        "    \n",
        "\n",
        "\n",
        "# How many sentences per category are there in each project?\n",
        "from collections import Counter\n",
        "import pandas as pd\n",
        "\n",
        "projects = [\"bootstrap\", \"docker\", \"tensorflow\", \"vscode\", \"DECA\"]\n",
        "df = pd.DataFrame(index=projects, columns=categories)\n",
        "for project in projects:\n",
        "  for category, count in Counter(StanfordFiles(project).labels).items():\n",
        "    df[category][project] = count\n",
        "display(df)\n",
        "\n",
        "# # REMOVED: not enough data\n",
        "# # Individual projects (Bootstrap, Docker, Tensorflow, VSCode, and DECA) within 90% train/valid and 10% test\n",
        "# for project in [\"bootstrap\", \"docker\", \"tensorflow\", \"vscode\", \"DECA\"]:\n",
        "#   train_valid_test_set = StanfordFiles(project)\n",
        "#   train_valid_test_set.shuffle()\n",
        "#   Train_NB_LR_SVM(*train_valid_test_set.split(0.9), project + \"_within_0.9\")\n",
        "\n"
      ],
      "execution_count": null,
      "outputs": [
        {
          "output_type": "display_data",
          "data": {
            "text/html": [
              "<div>\n",
              "<style scoped>\n",
              "    .dataframe tbody tr th:only-of-type {\n",
              "        vertical-align: middle;\n",
              "    }\n",
              "\n",
              "    .dataframe tbody tr th {\n",
              "        vertical-align: top;\n",
              "    }\n",
              "\n",
              "    .dataframe thead th {\n",
              "        text-align: right;\n",
              "    }\n",
              "</style>\n",
              "<table border=\"1\" class=\"dataframe\">\n",
              "  <thead>\n",
              "    <tr style=\"text-align: right;\">\n",
              "      <th></th>\n",
              "      <th>aspect evaluation</th>\n",
              "      <th>feature request</th>\n",
              "      <th>information giving</th>\n",
              "      <th>information seeking</th>\n",
              "      <th>problem discovery</th>\n",
              "      <th>solution proposal</th>\n",
              "      <th>others</th>\n",
              "    </tr>\n",
              "  </thead>\n",
              "  <tbody>\n",
              "    <tr>\n",
              "      <th>bootstrap</th>\n",
              "      <td>159</td>\n",
              "      <td>107</td>\n",
              "      <td>305</td>\n",
              "      <td>192</td>\n",
              "      <td>132</td>\n",
              "      <td>109</td>\n",
              "      <td>119</td>\n",
              "    </tr>\n",
              "    <tr>\n",
              "      <th>docker</th>\n",
              "      <td>184</td>\n",
              "      <td>128</td>\n",
              "      <td>287</td>\n",
              "      <td>263</td>\n",
              "      <td>127</td>\n",
              "      <td>129</td>\n",
              "      <td>98</td>\n",
              "    </tr>\n",
              "    <tr>\n",
              "      <th>tensorflow</th>\n",
              "      <td>349</td>\n",
              "      <td>213</td>\n",
              "      <td>542</td>\n",
              "      <td>359</td>\n",
              "      <td>400</td>\n",
              "      <td>274</td>\n",
              "      <td>118</td>\n",
              "    </tr>\n",
              "    <tr>\n",
              "      <th>vscode</th>\n",
              "      <td>159</td>\n",
              "      <td>88</td>\n",
              "      <td>194</td>\n",
              "      <td>148</td>\n",
              "      <td>103</td>\n",
              "      <td>59</td>\n",
              "      <td>62</td>\n",
              "    </tr>\n",
              "    <tr>\n",
              "      <th>DECA</th>\n",
              "      <td>1</td>\n",
              "      <td>187</td>\n",
              "      <td>167</td>\n",
              "      <td>264</td>\n",
              "      <td>170</td>\n",
              "      <td>178</td>\n",
              "      <td>1</td>\n",
              "    </tr>\n",
              "  </tbody>\n",
              "</table>\n",
              "</div>"
            ],
            "text/plain": [
              "           aspect evaluation feature request  ... solution proposal others\n",
              "bootstrap                159             107  ...               109    119\n",
              "docker                   184             128  ...               129     98\n",
              "tensorflow               349             213  ...               274    118\n",
              "vscode                   159              88  ...                59     62\n",
              "DECA                       1             187  ...               178      1\n",
              "\n",
              "[5 rows x 7 columns]"
            ]
          },
          "metadata": {
            "tags": []
          }
        }
      ]
    },
    {
      "cell_type": "code",
      "metadata": {
        "id": "svmF3hoKTyB6"
      },
      "source": [
        "# @title Train_LSTM()\n",
        "from torch.utils.data import DataLoader\n",
        "import torch.optim as optim\n",
        "import torch\n",
        "import numpy as np\n",
        "from google.colab import widgets\n",
        "import matplotlib.pyplot as plt\n",
        "import joblib\n",
        "import datetime\n",
        "import copy\n",
        "import math\n",
        "import os\n",
        "\n",
        "def Train_LSTM(train_valid_set, test_set, description, grid):\n",
        "    # Make copies so we can edit the sets as needed\n",
        "    train_valid_set = train_valid_set.clone()\n",
        "    test_set = test_set.clone()\n",
        "    #   Stratified shuffle\n",
        "    train_valid_set.shuffle()\n",
        "    test_set.shuffle()\n",
        "    # Remove punctuation and stopwords\n",
        "    train_valid_set.Preprocess(train_valid_set)\n",
        "    test_set.Preprocess(test_set)\n",
        "    # Split training and validation sets\n",
        "    train_set, valid_set = train_valid_set.split(_train_valid_split)\n",
        "    \n",
        "    # Build vocabulary\n",
        "    train_set.build_vocabulary()\n",
        "    # Transform text and labels into numerical (padded) vectors and values\n",
        "    train_set.word2tensor(_padded_string_length)\n",
        "    #   Train loader\n",
        "    train_loader = DataLoader(train_set, batch_size=_batch_size, shuffle=True)\n",
        "    \n",
        "    # Validation\n",
        "    #   * DO NOT BUILD VOCAB * (use train_set's vocab instead)\n",
        "    #   Word 2 tensor(vec)\n",
        "    train_set.word2tensor(_padded_string_length, valid_set)\n",
        "    #   Valid loader\n",
        "    valid_loader = DataLoader(valid_set, batch_size=_batch_size, shuffle=True)\n",
        "    \n",
        "    # Test\n",
        "    #   * DO NOT BUILD VOCAB * (use train_set's vocab instead)\n",
        "    #   Word 2 tensor(vec)\n",
        "    train_set.word2tensor(_padded_string_length, test_set)\n",
        "    #   Test loader\n",
        "    test_loader = DataLoader(test_set, batch_size=_batch_size, shuffle=True)\n",
        "  \n",
        "    # Initialize model\n",
        "    aim_lstm = AIM_LSTM(\n",
        "      sequence_length=_padded_string_length,\n",
        "      num_classes=len(categories),\n",
        "      vocab_size=len(train_set.text_vocab),\n",
        "      embedding_size=_embedding_size,\n",
        "      hidden_dim=256,\n",
        "      n_layers=2\n",
        "    ).to(_device)\n",
        "    aim_lstm_opt = optim.Adam(\n",
        "        aim_lstm.parameters(), lr=_learning_rate\n",
        "    )\n",
        "    # aim_lstm_opt = optim.SGD(\n",
        "    #     aim.parameters(), lr=_learning_rate, momentum=_momentum,\n",
        "    #     weight_decay=_weight_decay\n",
        "    # )\n",
        "    aim_lstm_sch = optim.lr_scheduler.StepLR(aim_lstm_opt, _step_size, _gamma)\n",
        "    # aim_lstm_sch = optim.lr_scheduler.ReduceLROnPlateau(aim_lstm_opt, patience=10, factor=_gamma, verbose=True)\n",
        "      \n",
        "    # Prepare plot\n",
        "    validation_results = np.full((_nb_epochs, 3), np.nan)\n",
        "    plot_results_to_grid(grid, (1, 0),\n",
        "                        validation_results[:, 1], \"validation\", 'g',\n",
        "                        validation_results[:, 2], 'b'\n",
        "                        )\n",
        "  \n",
        "    # Train\n",
        "    for epoch in range(1, _nb_epochs + 1):\n",
        "      # Display training output\n",
        "      with grid.output_to(2, 0):\n",
        "        train(aim_lstm, \"LSTM\", _device, train_loader, aim_lstm_opt, epoch)\n",
        "        validation_results[epoch-1, 0:2] = validate(aim_lstm, \"LSTM\", _device, valid_loader)\n",
        "        validation_results[epoch-1, 2] = aim_lstm_opt.param_groups[0]['lr']\n",
        "        aim_lstm_sch.step()\n",
        "        # aim_lstm_sch.step(validation_results[epoch-1, 0])\n",
        "  \n",
        "      plot_results_to_grid(grid, (1, 0),\n",
        "                          validation_results[:, 1], \"validation\", 'g',\n",
        "                          validation_results[:, 2], 'b'\n",
        "                          )\n",
        "  \n",
        "    with grid.output_to(2, 0):\n",
        "      test_results = test(aim_lstm, \"LSTM\", _device, test_loader)\n",
        "  \n",
        "\n",
        "    params_to_save = \\\n",
        "    {\n",
        "      \"_device\": _device,\n",
        "      \"_nb_epochs\": _nb_epochs,\n",
        "      \"_train_valid_split\": _train_valid_split,\n",
        "      \"_padded_string_length\": _padded_string_length,\n",
        "      \"_embedding_size\": _embedding_size,\n",
        "      \"_filter_sizes\": _filter_sizes,\n",
        "      \"_num_filter\": _num_filter,\n",
        "      \"_batch_size\": _batch_size,\n",
        "      \"_learning_rate\": _learning_rate,\n",
        "      \"_momentum\": _momentum,\n",
        "      \"_weight_decay\": _weight_decay,\n",
        "      \"_step_size\": _step_size,\n",
        "      \"_gamma\": _gamma,\n",
        "      \"_log_interval\": _log_interval\n",
        "    }\n",
        "    \n",
        "    jfile = joblib.dump \\\n",
        "    (\n",
        "      {\n",
        "        'parameters': params_to_save,\n",
        "        'model': aim_lstm.cpu(),\n",
        "        'text_vocab': train_set.text_vocab,\n",
        "        'label_vocab': train_set.label_vocab,\n",
        "        'validation_results': validation_results,\n",
        "        'test_results': test_results,\n",
        "        'train_set': list(zip(\n",
        "          [str(sentence) for sentence in train_set.text],\n",
        "          [[str(token) for token in sentence] for sentence in train_set.processed],\n",
        "          train_set.vec,\n",
        "          [train_set.label_vocab.itos[lab] for lab in train_set.labels]\n",
        "        )),\n",
        "        'valid_set': list(zip(\n",
        "          [str(sentence) for sentence in valid_set.text],\n",
        "          [[str(token) for token in sentence] for sentence in valid_set.processed],\n",
        "          valid_set.vec,\n",
        "          [train_set.label_vocab.itos[lab] for lab in valid_set.labels]\n",
        "        )),\n",
        "        'test_set': list(zip(\n",
        "          [str(sentence) for sentence in test_set.text],\n",
        "          [[str(token) for token in sentence] for sentence in test_set.processed],\n",
        "          test_set.vec,\n",
        "          [train_set.label_vocab.itos[lab] for lab in test_set.labels]\n",
        "        )),\n",
        "      }, os.path.join(\n",
        "        '/gdrive/My Drive/', drive_savefolder, 'AIM_LSTM_{}_{}.joblib'.format(\n",
        "          description, datetime.datetime.now().strftime(\"%Y-%m-%d_%H%M%S\")\n",
        "        )\n",
        "      )\n",
        "    )\n",
        "    with grid.output_to(0, 0):\n",
        "      print(\"Models written to {}\".format(jfile))\n",
        "      \n",
        "    # Replace data files?\n",
        "    if _replace_data_files:\n",
        "      datafilename = os.path.join(\n",
        "        drive_datafolder, 'AIM_LSTM_{}.joblib'.format(description)\n",
        "      )\n",
        "      with open(jfile[0], 'rb') as fin, open(datafilename, 'wb') as fout:\n",
        "        fout.write(fin.read())\n",
        "      with grid.output_to(0, 0):\n",
        "        print(\"Updated {}\".format(datafilename))"
      ],
      "execution_count": null,
      "outputs": []
    },
    {
      "cell_type": "code",
      "metadata": {
        "id": "_82cIvtUXj0H"
      },
      "source": [
        "# @title Train_AIM_CNN()\n",
        "from torch.utils.data import DataLoader\n",
        "import torch.optim as optim\n",
        "import torch\n",
        "import numpy as np\n",
        "from google.colab import widgets\n",
        "import matplotlib.pyplot as plt\n",
        "import joblib\n",
        "import datetime\n",
        "import copy\n",
        "import math\n",
        "import os\n",
        "\n",
        "def Train_AIM_CNN(train_valid_set, test_set, description, grid):\n",
        "    # Make copies so we can edit the sets as needed\n",
        "    train_valid_set = train_valid_set.clone()\n",
        "    test_set = test_set.clone()\n",
        "    # Stratified shuffle\n",
        "    train_valid_set.shuffle()\n",
        "    test_set.shuffle()\n",
        "    # Remove punctuation and stopwords\n",
        "    train_valid_set.Preprocess(train_valid_set)\n",
        "    test_set.Preprocess(test_set)\n",
        "    # Split training and validation sets\n",
        "    train_set, valid_set = train_valid_set.split(_train_valid_split)\n",
        "    \n",
        "    # Build vocabulary\n",
        "    train_set.build_vocabulary()\n",
        "    # Transform text and labels into numerical (padded) vectors and values\n",
        "    train_set.word2tensor(_padded_string_length)\n",
        "    #   Train loader\n",
        "    train_loader = DataLoader(train_set, batch_size=_batch_size, shuffle=True)\n",
        "    \n",
        "    # Validation\n",
        "    #   * DO NOT BUILD VOCAB * (use train_set's vocab instead)\n",
        "    #   Word 2 tensor(vec)\n",
        "    train_set.word2tensor(_padded_string_length, valid_set)\n",
        "    #   Valid loader\n",
        "    valid_loader = DataLoader(valid_set, batch_size=_batch_size, shuffle=True)\n",
        "    \n",
        "    # Test\n",
        "    #   * DO NOT BUILD VOCAB * (use train_set's vocab instead)\n",
        "    #   Word 2 tensor(vec)\n",
        "    train_set.word2tensor(_padded_string_length, test_set)\n",
        "    #   Test loader\n",
        "    test_loader = DataLoader(test_set, batch_size=_batch_size, shuffle=True)\n",
        "  \n",
        "    # Initialize model\n",
        "    aim_cnn = AIM_CNN(\n",
        "      sequence_length=_padded_string_length,\n",
        "      num_classes=len(categories),\n",
        "      vocab_size=len(train_set.text_vocab),\n",
        "      embedding_size=_embedding_size,\n",
        "      filter_sizes=_filter_sizes,\n",
        "      num_filter=_num_filter\n",
        "    ).to(_device)\n",
        "    aim_cnn_opt = optim.Adam(\n",
        "      aim_cnn.parameters(), lr=_learning_rate\n",
        "    )\n",
        "    aim_cnn_sch = optim.lr_scheduler.StepLR(aim_cnn_opt, _step_size, _gamma)\n",
        "\n",
        "    # Prepare plot\n",
        "    validation_results = np.full((_nb_epochs, 3), np.nan)\n",
        "    plot_results_to_grid(grid, (1, 0),\n",
        "                        validation_results[:, 1], \"validation\", 'g',\n",
        "                        validation_results[:, 2], 'b'\n",
        "                        )\n",
        "  \n",
        "    # Train\n",
        "    for epoch in range(1, _nb_epochs + 1):\n",
        "      # Display training output\n",
        "      with grid.output_to(2, 0):\n",
        "        train(aim_cnn, \"CNN\", _device, train_loader, aim_cnn_opt, epoch)\n",
        "        validation_results[epoch-1, 0:2] = validate(aim_cnn, \"CNN\", _device, valid_loader)\n",
        "        validation_results[epoch-1, 2] = aim_cnn_opt.param_groups[0]['lr']\n",
        "        aim_cnn_sch.step()\n",
        "        # aim_cnn_sch.step(validation_results[epoch-1, 0])\n",
        "  \n",
        "      plot_results_to_grid(grid, (1, 0),\n",
        "                          validation_results[:, 1], \"validation\", 'g',\n",
        "                          validation_results[:, 2], 'b'\n",
        "                          )\n",
        "  \n",
        "    with grid.output_to(2, 0):\n",
        "      test_results = test(aim_cnn, \"CNN\", _device, test_loader)\n",
        "\n",
        "    params_to_save = \\\n",
        "    {\n",
        "      \"_device\": _device,\n",
        "      \"_nb_epochs\": _nb_epochs,\n",
        "      \"_train_valid_split\": _train_valid_split,\n",
        "      \"_padded_string_length\": _padded_string_length,\n",
        "      \"_embedding_size\": _embedding_size,\n",
        "      \"_filter_sizes\": _filter_sizes,\n",
        "      \"_num_filter\": _num_filter,\n",
        "      \"_batch_size\": _batch_size,\n",
        "      \"_learning_rate\": _learning_rate,\n",
        "      \"_momentum\": _momentum,\n",
        "      \"_weight_decay\": _weight_decay,\n",
        "      \"_step_size\": _step_size,\n",
        "      \"_gamma\": _gamma,\n",
        "      \"_log_interval\": _log_interval\n",
        "    }\n",
        "    \n",
        "    jfile = joblib.dump \\\n",
        "    (\n",
        "      {\n",
        "        'parameters': params_to_save,\n",
        "        'model': aim_cnn.cpu(),\n",
        "        'text_vocab': train_set.text_vocab,\n",
        "        'label_vocab': train_set.label_vocab,\n",
        "        'validation_results': validation_results,\n",
        "        'test_results': test_results,\n",
        "        'train_set': list(zip(\n",
        "          [str(sentence) for sentence in train_set.text],\n",
        "          [[str(token) for token in sentence] for sentence in train_set.processed],\n",
        "          train_set.vec,\n",
        "          [train_set.label_vocab.itos[lab] for lab in train_set.labels]\n",
        "        )),\n",
        "        'valid_set': list(zip(\n",
        "          [str(sentence) for sentence in valid_set.text],\n",
        "          [[str(token) for token in sentence] for sentence in valid_set.processed],\n",
        "          valid_set.vec,\n",
        "          [train_set.label_vocab.itos[lab] for lab in valid_set.labels]\n",
        "        )),\n",
        "        'test_set': list(zip(\n",
        "          [str(sentence) for sentence in test_set.text],\n",
        "          [[str(token) for token in sentence] for sentence in test_set.processed],\n",
        "          test_set.vec,\n",
        "          [train_set.label_vocab.itos[lab] for lab in test_set.labels]\n",
        "        )),\n",
        "      }, os.path.join(\n",
        "        '/gdrive/My Drive/', drive_savefolder, 'AIM_CNN_{}_{}.joblib'.format(\n",
        "          description, datetime.datetime.now().strftime(\"%Y-%m-%d_%H%M%S\")\n",
        "        )\n",
        "      )\n",
        "    )\n",
        "    # jfile = joblib.dump(\n",
        "    #   (params_to_save, to_save),\n",
        "    #   os.path.join(\n",
        "    #     '/gdrive/My Drive/', drive_savefolder, 'AIM_CNN_{}_{}.joblib'.format(\n",
        "    #       description, datetime.datetime.now().strftime(\"%Y-%m-%d_%H%M%S\")\n",
        "    #     )\n",
        "    #   )\n",
        "    # )\n",
        "    with grid.output_to(0, 0):\n",
        "      print(\"Models written to {}\".format(jfile))\n",
        "      \n",
        "    # Replace data files?\n",
        "    if _replace_data_files:\n",
        "      datafilename = os.path.join(\n",
        "        drive_datafolder, 'AIM_CNN_{}.joblib'.format(description)\n",
        "      )\n",
        "      with open(jfile[0], 'rb') as fin, open(datafilename, 'wb') as fout:\n",
        "        fout.write(fin.read())\n",
        "      with grid.output_to(0, 0):\n",
        "        print(\"Updated {}\".format(datafilename))"
      ],
      "execution_count": null,
      "outputs": []
    },
    {
      "cell_type": "markdown",
      "metadata": {
        "id": "3YbQfVHuurjy"
      },
      "source": [
        "#Test"
      ]
    },
    {
      "cell_type": "code",
      "metadata": {
        "id": "mnLXnewEt2e7"
      },
      "source": [
        "# train_valid_test_set = StanfordFiles([\"bootstrap\", \"docker\", \"tensorflow\", \"vscode\"])\n",
        "# train_valid_test_set.shuffle()\n",
        "# train_valid_set, test_set = train_valid_test_set.split(0.9)\n",
        "\n",
        "# #   Stratified shuffle\n",
        "# train_valid_set.shuffle()\n",
        "# test_set.shuffle()\n",
        "# # Remove punctuation and stopwords\n",
        "# train_valid_set.Preprocess(train_valid_set)\n",
        "# test_set.Preprocess(test_set)\n",
        "# # Split training and validation sets\n",
        "# train_set, valid_set = train_valid_set.split(_train_valid_split)\n",
        "\n",
        "# # Build vocabulary\n",
        "# train_set.build_vocabulary()\n",
        "# # Transform text and labels into numerical (padded) vectors and values\n",
        "# train_set.word2tensor(_padded_string_length)\n",
        "# #   Word 2 tensor(vec)\n",
        "# train_set.word2tensor(_padded_string_length, valid_set)\n",
        "# #   Word 2 tensor(vec)\n",
        "# train_set.word2tensor(_padded_string_length, test_set)\n",
        "\n",
        "# d = {\n",
        "#   'train_set': list(zip(\n",
        "#     [str(sentence) for sentence in train_set.text],\n",
        "#     [str(sentence) for sentence in train_set.processed],\n",
        "#     train_set.vec,\n",
        "#     [train_set.label_vocab.itos[lab] for lab in train_set.labels]\n",
        "#   )),\n",
        "# }\n",
        "\n",
        "# print('Dumping...')\n",
        "# joblib.dump(d, \"a.joblib\", compress=9)\n",
        "#   # 'valid_set': list(zip(\n",
        "#   #   [str(sentence) for sentence in valid_set.text],\n",
        "#   #   [str(sentence) for sentence in valid_set.processed],\n",
        "#   #   [list(vec) for vec in valid_set.vec],\n",
        "#   #   [train_set.label_vocab.itos[lab] for lab in valid_set.labels]\n",
        "#   # )),\n",
        "#   # 'test_set': list(zip(\n",
        "#   #   [str(sentence) for sentence in test_set.text],\n",
        "#   #   [str(sentence) for sentence in test_set.processed],\n",
        "#   #   [list(vec) for vec in test_set.vec],\n",
        "#   #   [train_set.label_vocab.itos[lab] for lab in test_set.labels]\n",
        "#   # ))\n",
        "# # }"
      ],
      "execution_count": null,
      "outputs": []
    },
    {
      "cell_type": "code",
      "metadata": {
        "id": "o0J-ewPwDB-g",
        "cellView": "code",
        "colab": {
          "base_uri": "https://localhost:8080/",
          "height": 1000
        },
        "outputId": "fcc1e4c0-8cc7-4f99-8374-ee31d0168f3e"
      },
      "source": [
        "# @title Training\n",
        "\n",
        "grid = widgets.Grid(3, 1)\n",
        "\n",
        "# Bootstrap, Docker, Tensorflow, VSCode split 90% train/valid and 10% test\n",
        "# train_valid_test_set = StanfordFiles([\"bootstrap\", \"docker\", \"tensorflow\", \"vscode\"])\n",
        "# train_valid_test_set.shuffle()\n",
        "# train_valid_set, test_set = train_valid_test_set.split(0.9)\n",
        "# Train_NB_LR_SVM(train_valid_set, test_set, \"bdtv_within_0.9\", grid)\n",
        "# Train_LSTM(train_valid_set, test_set, \"bdtv_within_0.9\", grid)\n",
        "# Train_AIM_CNN(train_valid_set, test_set, \"bdtv_within_0.9\", grid)\n",
        "\n",
        "# grid.remove()\n",
        "# print(\"DONE\")\n",
        "\n",
        "# Within project (Bootstrap, Docker, Tensorflow, VSCode, and DECA) within 90% train/valid and 10% test\n",
        "projects = [\"bootstrap\", \"docker\", \"tensorflow\", \"vscode\", \"DECA\"]\n",
        "# for project in projects:\n",
        "project = projects[4]\n",
        "train_valid_test_set = StanfordFiles([project])\n",
        "train_valid_test_set.shuffle()\n",
        "train_valid_set, test_set = train_valid_test_set.split(0.9)\n",
        "Train_NB_LR_SVM(train_valid_set, test_set, project + \"_within_0.9\", grid)\n",
        "Train_LSTM(train_valid_set, test_set, project + \"_within_0.9\", grid)\n",
        "Train_AIM_CNN(train_valid_set, test_set, project + \"_within_0.9\", grid)\n",
        "\n",
        "drive.flush_and_unmount()\n",
        "\n",
        "# # Cross projects (Bootstrap, Docker, Tensorflow, VSCode, and DECA) within 90% train/valid and 10% test\n",
        "# projects = [\"bootstrap\", \"docker\", \"tensorflow\", \"vscode\", \"DECA\"]\n",
        "# for test_project in projects:\n",
        "#   train_valid_set = StanfordFiles([p for p in projects if p != test_project])\n",
        "#   test_set = StanfordFiles([test_project])\n",
        "#   Train_NB_LR_SVM(train_valid_set, test_set, project + \"_cross\", grid)\n",
        "#   Train_LSTM(train_valid_set, test_set, project + \"_cross\", grid)\n",
        "#   Train_AIM_CNN(train_valid_set, test_set, project + \"_cross\", grid)"
      ],
      "execution_count": null,
      "outputs": [
        {
          "output_type": "display_data",
          "data": {
            "text/html": [
              "<style>\n",
              "       table#id10, #id10 > tbody > tr > th, #id10 > tbody > tr > td {\n",
              "         border: 1px solid lightgray;\n",
              "         border-collapse:collapse;\n",
              "         \n",
              "        }</style>"
            ],
            "text/plain": [
              "<IPython.core.display.HTML object>"
            ]
          },
          "metadata": {
            "tags": [
              "outputarea_id10"
            ]
          }
        },
        {
          "output_type": "display_data",
          "data": {
            "text/html": [
              "<table id=id10><tr><td id=id10-0-0></td></tr><tr><td id=id10-1-0></td></tr><tr><td id=id10-2-0></td></tr></table>"
            ],
            "text/plain": [
              "<IPython.core.display.HTML object>"
            ]
          },
          "metadata": {
            "tags": [
              "outputarea_id10"
            ]
          }
        },
        {
          "output_type": "display_data",
          "data": {
            "application/javascript": [
              "window[\"116ffc40-6ef6-11ea-a626-0242ac1c0002\"] = google.colab.output.getActiveOutputArea();\n",
              "//# sourceURL=js_bf01c5b7d7"
            ],
            "text/plain": [
              "<IPython.core.display.Javascript object>"
            ]
          },
          "metadata": {
            "tags": [
              "id10-0-0",
              "outputarea_id10"
            ]
          }
        },
        {
          "output_type": "display_data",
          "data": {
            "application/javascript": [
              "window[\"11703174-6ef6-11ea-a626-0242ac1c0002\"] = document.querySelector(\"#id10-0-0\");\n",
              "//# sourceURL=js_0ff65a7963"
            ],
            "text/plain": [
              "<IPython.core.display.Javascript object>"
            ]
          },
          "metadata": {
            "tags": [
              "id10-0-0",
              "outputarea_id10"
            ]
          }
        },
        {
          "output_type": "display_data",
          "data": {
            "application/javascript": [
              "window[\"11706162-6ef6-11ea-a626-0242ac1c0002\"] = google.colab.output.setActiveOutputArea(window[\"11703174-6ef6-11ea-a626-0242ac1c0002\"]);\n",
              "//# sourceURL=js_681d5cdd4e"
            ],
            "text/plain": [
              "<IPython.core.display.Javascript object>"
            ]
          },
          "metadata": {
            "tags": [
              "id10-0-0",
              "outputarea_id10"
            ]
          }
        },
        {
          "output_type": "stream",
          "text": [
            "DECA_within_0.9: NaiveBayes\n"
          ],
          "name": "stdout"
        },
        {
          "output_type": "display_data",
          "data": {
            "application/javascript": [
              "window[\"1170f9b0-6ef6-11ea-a626-0242ac1c0002\"] = google.colab.output.setActiveOutputArea(window[\"116ffc40-6ef6-11ea-a626-0242ac1c0002\"]);\n",
              "//# sourceURL=js_bbebfc20ca"
            ],
            "text/plain": [
              "<IPython.core.display.Javascript object>"
            ]
          },
          "metadata": {
            "tags": [
              "id10-0-0",
              "outputarea_id10"
            ]
          }
        },
        {
          "output_type": "display_data",
          "data": {
            "application/javascript": [
              "window[\"1171e302-6ef6-11ea-a626-0242ac1c0002\"] = google.colab.output.getActiveOutputArea();\n",
              "//# sourceURL=js_eccb736224"
            ],
            "text/plain": [
              "<IPython.core.display.Javascript object>"
            ]
          },
          "metadata": {
            "tags": [
              "id10-1-0",
              "outputarea_id10"
            ]
          }
        },
        {
          "output_type": "display_data",
          "data": {
            "application/javascript": [
              "window[\"11720ff8-6ef6-11ea-a626-0242ac1c0002\"] = document.querySelector(\"#id10-1-0\");\n",
              "//# sourceURL=js_7acae9d780"
            ],
            "text/plain": [
              "<IPython.core.display.Javascript object>"
            ]
          },
          "metadata": {
            "tags": [
              "id10-1-0",
              "outputarea_id10"
            ]
          }
        },
        {
          "output_type": "display_data",
          "data": {
            "application/javascript": [
              "window[\"11723d98-6ef6-11ea-a626-0242ac1c0002\"] = google.colab.output.setActiveOutputArea(window[\"11720ff8-6ef6-11ea-a626-0242ac1c0002\"]);\n",
              "//# sourceURL=js_22cb30983f"
            ],
            "text/plain": [
              "<IPython.core.display.Javascript object>"
            ]
          },
          "metadata": {
            "tags": [
              "id10-1-0",
              "outputarea_id10"
            ]
          }
        },
        {
          "output_type": "display_data",
          "data": {
            "application/javascript": [
              "window[\"32d159ce-6ef6-11ea-a626-0242ac1c0002\"] = google.colab.output.setActiveOutputArea(window[\"1171e302-6ef6-11ea-a626-0242ac1c0002\"]);\n",
              "//# sourceURL=js_eb335d1aaf"
            ],
            "text/plain": [
              "<IPython.core.display.Javascript object>"
            ]
          },
          "metadata": {
            "tags": [
              "id10-1-0",
              "outputarea_id10"
            ]
          }
        },
        {
          "output_type": "display_data",
          "data": {
            "application/javascript": [
              "window[\"32d27066-6ef6-11ea-a626-0242ac1c0002\"] = google.colab.output.getActiveOutputArea();\n",
              "//# sourceURL=js_b082aebf4e"
            ],
            "text/plain": [
              "<IPython.core.display.Javascript object>"
            ]
          },
          "metadata": {
            "tags": [
              "id10-0-0",
              "outputarea_id10"
            ]
          }
        },
        {
          "output_type": "display_data",
          "data": {
            "application/javascript": [
              "window[\"32d2a36a-6ef6-11ea-a626-0242ac1c0002\"] = document.querySelector(\"#id10-0-0\");\n",
              "//# sourceURL=js_e9b9cc19b4"
            ],
            "text/plain": [
              "<IPython.core.display.Javascript object>"
            ]
          },
          "metadata": {
            "tags": [
              "id10-0-0",
              "outputarea_id10"
            ]
          }
        },
        {
          "output_type": "display_data",
          "data": {
            "application/javascript": [
              "window[\"32d2e1ea-6ef6-11ea-a626-0242ac1c0002\"] = google.colab.output.setActiveOutputArea(window[\"32d2a36a-6ef6-11ea-a626-0242ac1c0002\"]);\n",
              "//# sourceURL=js_755ceb051b"
            ],
            "text/plain": [
              "<IPython.core.display.Javascript object>"
            ]
          },
          "metadata": {
            "tags": [
              "id10-0-0",
              "outputarea_id10"
            ]
          }
        },
        {
          "output_type": "stream",
          "text": [
            "DECA_within_0.9: LogisticRegression\n"
          ],
          "name": "stdout"
        },
        {
          "output_type": "display_data",
          "data": {
            "application/javascript": [
              "window[\"32d36f98-6ef6-11ea-a626-0242ac1c0002\"] = google.colab.output.setActiveOutputArea(window[\"32d27066-6ef6-11ea-a626-0242ac1c0002\"]);\n",
              "//# sourceURL=js_ed4fb8d372"
            ],
            "text/plain": [
              "<IPython.core.display.Javascript object>"
            ]
          },
          "metadata": {
            "tags": [
              "id10-0-0",
              "outputarea_id10"
            ]
          }
        },
        {
          "output_type": "display_data",
          "data": {
            "application/javascript": [
              "window[\"32d45cc8-6ef6-11ea-a626-0242ac1c0002\"] = google.colab.output.getActiveOutputArea();\n",
              "//# sourceURL=js_7ccf2c6c59"
            ],
            "text/plain": [
              "<IPython.core.display.Javascript object>"
            ]
          },
          "metadata": {
            "tags": [
              "id10-1-0",
              "outputarea_id10"
            ]
          }
        },
        {
          "output_type": "display_data",
          "data": {
            "application/javascript": [
              "window[\"32d490a8-6ef6-11ea-a626-0242ac1c0002\"] = document.querySelector(\"#id10-1-0\");\n",
              "//# sourceURL=js_d393cc2095"
            ],
            "text/plain": [
              "<IPython.core.display.Javascript object>"
            ]
          },
          "metadata": {
            "tags": [
              "id10-1-0",
              "outputarea_id10"
            ]
          }
        },
        {
          "output_type": "display_data",
          "data": {
            "application/javascript": [
              "window[\"32d4baf6-6ef6-11ea-a626-0242ac1c0002\"] = google.colab.output.setActiveOutputArea(window[\"32d490a8-6ef6-11ea-a626-0242ac1c0002\"]);\n",
              "//# sourceURL=js_f798de403c"
            ],
            "text/plain": [
              "<IPython.core.display.Javascript object>"
            ]
          },
          "metadata": {
            "tags": [
              "id10-1-0",
              "outputarea_id10"
            ]
          }
        },
        {
          "output_type": "display_data",
          "data": {
            "application/javascript": [
              "window[\"53d1066a-6ef6-11ea-a626-0242ac1c0002\"] = google.colab.output.setActiveOutputArea(window[\"32d45cc8-6ef6-11ea-a626-0242ac1c0002\"]);\n",
              "//# sourceURL=js_4cec6ee611"
            ],
            "text/plain": [
              "<IPython.core.display.Javascript object>"
            ]
          },
          "metadata": {
            "tags": [
              "id10-1-0",
              "outputarea_id10"
            ]
          }
        },
        {
          "output_type": "display_data",
          "data": {
            "application/javascript": [
              "window[\"53d2764e-6ef6-11ea-a626-0242ac1c0002\"] = google.colab.output.getActiveOutputArea();\n",
              "//# sourceURL=js_507b8e43d0"
            ],
            "text/plain": [
              "<IPython.core.display.Javascript object>"
            ]
          },
          "metadata": {
            "tags": [
              "id10-0-0",
              "outputarea_id10"
            ]
          }
        },
        {
          "output_type": "display_data",
          "data": {
            "application/javascript": [
              "window[\"53d29dea-6ef6-11ea-a626-0242ac1c0002\"] = document.querySelector(\"#id10-0-0\");\n",
              "//# sourceURL=js_ac526424ce"
            ],
            "text/plain": [
              "<IPython.core.display.Javascript object>"
            ]
          },
          "metadata": {
            "tags": [
              "id10-0-0",
              "outputarea_id10"
            ]
          }
        },
        {
          "output_type": "display_data",
          "data": {
            "application/javascript": [
              "window[\"53d2cd6a-6ef6-11ea-a626-0242ac1c0002\"] = google.colab.output.setActiveOutputArea(window[\"53d29dea-6ef6-11ea-a626-0242ac1c0002\"]);\n",
              "//# sourceURL=js_744ff682f0"
            ],
            "text/plain": [
              "<IPython.core.display.Javascript object>"
            ]
          },
          "metadata": {
            "tags": [
              "id10-0-0",
              "outputarea_id10"
            ]
          }
        },
        {
          "output_type": "stream",
          "text": [
            "DECA_within_0.9: SVM\n"
          ],
          "name": "stdout"
        },
        {
          "output_type": "display_data",
          "data": {
            "application/javascript": [
              "window[\"53d362b6-6ef6-11ea-a626-0242ac1c0002\"] = google.colab.output.setActiveOutputArea(window[\"53d2764e-6ef6-11ea-a626-0242ac1c0002\"]);\n",
              "//# sourceURL=js_ccc7181302"
            ],
            "text/plain": [
              "<IPython.core.display.Javascript object>"
            ]
          },
          "metadata": {
            "tags": [
              "id10-0-0",
              "outputarea_id10"
            ]
          }
        },
        {
          "output_type": "display_data",
          "data": {
            "application/javascript": [
              "window[\"53d42520-6ef6-11ea-a626-0242ac1c0002\"] = google.colab.output.getActiveOutputArea();\n",
              "//# sourceURL=js_60c388a96c"
            ],
            "text/plain": [
              "<IPython.core.display.Javascript object>"
            ]
          },
          "metadata": {
            "tags": [
              "id10-1-0",
              "outputarea_id10"
            ]
          }
        },
        {
          "output_type": "display_data",
          "data": {
            "application/javascript": [
              "window[\"53d4559a-6ef6-11ea-a626-0242ac1c0002\"] = document.querySelector(\"#id10-1-0\");\n",
              "//# sourceURL=js_ae6021507c"
            ],
            "text/plain": [
              "<IPython.core.display.Javascript object>"
            ]
          },
          "metadata": {
            "tags": [
              "id10-1-0",
              "outputarea_id10"
            ]
          }
        },
        {
          "output_type": "display_data",
          "data": {
            "application/javascript": [
              "window[\"53d47bc4-6ef6-11ea-a626-0242ac1c0002\"] = google.colab.output.setActiveOutputArea(window[\"53d4559a-6ef6-11ea-a626-0242ac1c0002\"]);\n",
              "//# sourceURL=js_686fe06404"
            ],
            "text/plain": [
              "<IPython.core.display.Javascript object>"
            ]
          },
          "metadata": {
            "tags": [
              "id10-1-0",
              "outputarea_id10"
            ]
          }
        },
        {
          "output_type": "display_data",
          "data": {
            "application/javascript": [
              "window[\"5c140458-6ef6-11ea-a626-0242ac1c0002\"] = google.colab.output.setActiveOutputArea(window[\"53d42520-6ef6-11ea-a626-0242ac1c0002\"]);\n",
              "//# sourceURL=js_7d8c781f0d"
            ],
            "text/plain": [
              "<IPython.core.display.Javascript object>"
            ]
          },
          "metadata": {
            "tags": [
              "id10-1-0",
              "outputarea_id10"
            ]
          }
        },
        {
          "output_type": "display_data",
          "data": {
            "application/javascript": [
              "window[\"5ffc87b6-6ef6-11ea-a626-0242ac1c0002\"] = google.colab.output.getActiveOutputArea();\n",
              "//# sourceURL=js_4280bbbe74"
            ],
            "text/plain": [
              "<IPython.core.display.Javascript object>"
            ]
          },
          "metadata": {
            "tags": [
              "id10-0-0",
              "outputarea_id10"
            ]
          }
        },
        {
          "output_type": "display_data",
          "data": {
            "application/javascript": [
              "window[\"5ffcd3ce-6ef6-11ea-a626-0242ac1c0002\"] = document.querySelector(\"#id10-0-0\");\n",
              "//# sourceURL=js_cc930f6e7d"
            ],
            "text/plain": [
              "<IPython.core.display.Javascript object>"
            ]
          },
          "metadata": {
            "tags": [
              "id10-0-0",
              "outputarea_id10"
            ]
          }
        },
        {
          "output_type": "display_data",
          "data": {
            "application/javascript": [
              "window[\"5ffd0d8a-6ef6-11ea-a626-0242ac1c0002\"] = google.colab.output.setActiveOutputArea(window[\"5ffcd3ce-6ef6-11ea-a626-0242ac1c0002\"]);\n",
              "//# sourceURL=js_fd802558e5"
            ],
            "text/plain": [
              "<IPython.core.display.Javascript object>"
            ]
          },
          "metadata": {
            "tags": [
              "id10-0-0",
              "outputarea_id10"
            ]
          }
        },
        {
          "output_type": "stream",
          "text": [
            "Models written to ['/gdrive/My Drive/COMP762_IntentionMining/out/NB_LG_SVM_DECA_within_0.9_2020-03-26_001137.joblib']\n"
          ],
          "name": "stdout"
        },
        {
          "output_type": "display_data",
          "data": {
            "application/javascript": [
              "window[\"5ffddab2-6ef6-11ea-a626-0242ac1c0002\"] = google.colab.output.setActiveOutputArea(window[\"5ffc87b6-6ef6-11ea-a626-0242ac1c0002\"]);\n",
              "//# sourceURL=js_cb422b6150"
            ],
            "text/plain": [
              "<IPython.core.display.Javascript object>"
            ]
          },
          "metadata": {
            "tags": [
              "id10-0-0",
              "outputarea_id10"
            ]
          }
        },
        {
          "output_type": "display_data",
          "data": {
            "application/javascript": [
              "window[\"6000cb14-6ef6-11ea-a626-0242ac1c0002\"] = google.colab.output.getActiveOutputArea();\n",
              "//# sourceURL=js_cf6679dbdb"
            ],
            "text/plain": [
              "<IPython.core.display.Javascript object>"
            ]
          },
          "metadata": {
            "tags": [
              "id10-0-0",
              "outputarea_id10"
            ]
          }
        },
        {
          "output_type": "display_data",
          "data": {
            "application/javascript": [
              "window[\"60010a7a-6ef6-11ea-a626-0242ac1c0002\"] = document.querySelector(\"#id10-0-0\");\n",
              "//# sourceURL=js_fd41a71c35"
            ],
            "text/plain": [
              "<IPython.core.display.Javascript object>"
            ]
          },
          "metadata": {
            "tags": [
              "id10-0-0",
              "outputarea_id10"
            ]
          }
        },
        {
          "output_type": "display_data",
          "data": {
            "application/javascript": [
              "window[\"600146de-6ef6-11ea-a626-0242ac1c0002\"] = google.colab.output.setActiveOutputArea(window[\"60010a7a-6ef6-11ea-a626-0242ac1c0002\"]);\n",
              "//# sourceURL=js_e26a920913"
            ],
            "text/plain": [
              "<IPython.core.display.Javascript object>"
            ]
          },
          "metadata": {
            "tags": [
              "id10-0-0",
              "outputarea_id10"
            ]
          }
        },
        {
          "output_type": "stream",
          "text": [
            "Updated /gdrive/My Drive/COMP762_IntentionMining/data/AIM_NB_LG_SVM_DECA_within_0.9.joblib\n"
          ],
          "name": "stdout"
        },
        {
          "output_type": "display_data",
          "data": {
            "application/javascript": [
              "window[\"600202a4-6ef6-11ea-a626-0242ac1c0002\"] = google.colab.output.setActiveOutputArea(window[\"6000cb14-6ef6-11ea-a626-0242ac1c0002\"]);\n",
              "//# sourceURL=js_24878f6740"
            ],
            "text/plain": [
              "<IPython.core.display.Javascript object>"
            ]
          },
          "metadata": {
            "tags": [
              "id10-0-0",
              "outputarea_id10"
            ]
          }
        },
        {
          "output_type": "display_data",
          "data": {
            "application/javascript": [
              "window[\"61642f0a-6ef6-11ea-a626-0242ac1c0002\"] = google.colab.output.getActiveOutputArea();\n",
              "//# sourceURL=js_4974cce882"
            ],
            "text/plain": [
              "<IPython.core.display.Javascript object>"
            ]
          },
          "metadata": {
            "tags": [
              "id10-1-0",
              "outputarea_id10"
            ]
          }
        },
        {
          "output_type": "display_data",
          "data": {
            "application/javascript": [
              "window[\"61646b14-6ef6-11ea-a626-0242ac1c0002\"] = document.querySelector(\"#id10-1-0\");\n",
              "//# sourceURL=js_b2fe48c010"
            ],
            "text/plain": [
              "<IPython.core.display.Javascript object>"
            ]
          },
          "metadata": {
            "tags": [
              "id10-1-0",
              "outputarea_id10"
            ]
          }
        },
        {
          "output_type": "display_data",
          "data": {
            "application/javascript": [
              "window[\"616492b0-6ef6-11ea-a626-0242ac1c0002\"] = google.colab.output.setActiveOutputArea(window[\"61646b14-6ef6-11ea-a626-0242ac1c0002\"]);\n",
              "//# sourceURL=js_a6d1d30081"
            ],
            "text/plain": [
              "<IPython.core.display.Javascript object>"
            ]
          },
          "metadata": {
            "tags": [
              "id10-1-0",
              "outputarea_id10"
            ]
          }
        },
        {
          "output_type": "display_data",
          "data": {
            "application/javascript": [
              "window[\"6179f7e0-6ef6-11ea-a626-0242ac1c0002\"] = google.colab.output.setActiveOutputArea(window[\"61642f0a-6ef6-11ea-a626-0242ac1c0002\"]);\n",
              "//# sourceURL=js_7c4c90eccf"
            ],
            "text/plain": [
              "<IPython.core.display.Javascript object>"
            ]
          },
          "metadata": {
            "tags": [
              "id10-1-0",
              "outputarea_id10"
            ]
          }
        },
        {
          "output_type": "display_data",
          "data": {
            "application/javascript": [
              "window[\"617b158a-6ef6-11ea-a626-0242ac1c0002\"] = google.colab.output.getActiveOutputArea();\n",
              "//# sourceURL=js_d478ba116e"
            ],
            "text/plain": [
              "<IPython.core.display.Javascript object>"
            ]
          },
          "metadata": {
            "tags": [
              "id10-2-0",
              "outputarea_id10"
            ]
          }
        },
        {
          "output_type": "display_data",
          "data": {
            "application/javascript": [
              "window[\"617b4f50-6ef6-11ea-a626-0242ac1c0002\"] = document.querySelector(\"#id10-2-0\");\n",
              "//# sourceURL=js_084a6162a2"
            ],
            "text/plain": [
              "<IPython.core.display.Javascript object>"
            ]
          },
          "metadata": {
            "tags": [
              "id10-2-0",
              "outputarea_id10"
            ]
          }
        },
        {
          "output_type": "display_data",
          "data": {
            "application/javascript": [
              "window[\"617b87c2-6ef6-11ea-a626-0242ac1c0002\"] = google.colab.output.setActiveOutputArea(window[\"617b4f50-6ef6-11ea-a626-0242ac1c0002\"]);\n",
              "//# sourceURL=js_ae7fb2d0c1"
            ],
            "text/plain": [
              "<IPython.core.display.Javascript object>"
            ]
          },
          "metadata": {
            "tags": [
              "id10-2-0",
              "outputarea_id10"
            ]
          }
        },
        {
          "output_type": "stream",
          "text": [
            "{LSTM} Train Epoch: 1 [0/785 (0%)]\tLoss: 1.928367\n",
            "{LSTM} Train Epoch: 1 [128/785 (14%)]\tLoss: 1.444789\n",
            "{LSTM} Train Epoch: 1 [256/785 (29%)]\tLoss: 2.114598\n",
            "{LSTM} Train Epoch: 1 [384/785 (43%)]\tLoss: 1.490038\n",
            "{LSTM} Train Epoch: 1 [512/785 (57%)]\tLoss: 1.330620\n",
            "{LSTM} Train Epoch: 1 [640/785 (71%)]\tLoss: 1.250117\n",
            "{LSTM} Train Epoch: 1 [102/785 (86%)]\tLoss: 1.173944\n",
            "\n",
            "{LSTM} Validation set: Average loss: 4.9520, Accuracy: 13/87 (15%)\n",
            "\n"
          ],
          "name": "stdout"
        },
        {
          "output_type": "display_data",
          "data": {
            "application/javascript": [
              "window[\"62beef48-6ef6-11ea-a626-0242ac1c0002\"] = google.colab.output.setActiveOutputArea(window[\"617b158a-6ef6-11ea-a626-0242ac1c0002\"]);\n",
              "//# sourceURL=js_a7b002dd2b"
            ],
            "text/plain": [
              "<IPython.core.display.Javascript object>"
            ]
          },
          "metadata": {
            "tags": [
              "id10-2-0",
              "outputarea_id10"
            ]
          }
        },
        {
          "output_type": "display_data",
          "data": {
            "application/javascript": [
              "window[\"62bffab4-6ef6-11ea-a626-0242ac1c0002\"] = google.colab.output.getActiveOutputArea();\n",
              "//# sourceURL=js_75176d0b60"
            ],
            "text/plain": [
              "<IPython.core.display.Javascript object>"
            ]
          },
          "metadata": {
            "tags": [
              "id10-1-0",
              "outputarea_id10"
            ]
          }
        },
        {
          "output_type": "display_data",
          "data": {
            "application/javascript": [
              "window[\"62c02b7e-6ef6-11ea-a626-0242ac1c0002\"] = document.querySelector(\"#id10-1-0\");\n",
              "//# sourceURL=js_4e242350e8"
            ],
            "text/plain": [
              "<IPython.core.display.Javascript object>"
            ]
          },
          "metadata": {
            "tags": [
              "id10-1-0",
              "outputarea_id10"
            ]
          }
        },
        {
          "output_type": "display_data",
          "data": {
            "application/javascript": [
              "window[\"62c062d8-6ef6-11ea-a626-0242ac1c0002\"] = google.colab.output.setActiveOutputArea(window[\"62c02b7e-6ef6-11ea-a626-0242ac1c0002\"]);\n",
              "//# sourceURL=js_3730f64f8b"
            ],
            "text/plain": [
              "<IPython.core.display.Javascript object>"
            ]
          },
          "metadata": {
            "tags": [
              "id10-1-0",
              "outputarea_id10"
            ]
          }
        },
        {
          "output_type": "display_data",
          "data": {
            "application/javascript": [
              "window[\"62d5fad0-6ef6-11ea-a626-0242ac1c0002\"] = google.colab.output.setActiveOutputArea(window[\"62bffab4-6ef6-11ea-a626-0242ac1c0002\"]);\n",
              "//# sourceURL=js_c043031d1e"
            ],
            "text/plain": [
              "<IPython.core.display.Javascript object>"
            ]
          },
          "metadata": {
            "tags": [
              "id10-1-0",
              "outputarea_id10"
            ]
          }
        },
        {
          "output_type": "display_data",
          "data": {
            "application/javascript": [
              "window[\"62d73422-6ef6-11ea-a626-0242ac1c0002\"] = google.colab.output.getActiveOutputArea();\n",
              "//# sourceURL=js_b7a95529ec"
            ],
            "text/plain": [
              "<IPython.core.display.Javascript object>"
            ]
          },
          "metadata": {
            "tags": [
              "id10-2-0",
              "outputarea_id10"
            ]
          }
        },
        {
          "output_type": "display_data",
          "data": {
            "application/javascript": [
              "window[\"62d76546-6ef6-11ea-a626-0242ac1c0002\"] = document.querySelector(\"#id10-2-0\");\n",
              "//# sourceURL=js_e2504e8a59"
            ],
            "text/plain": [
              "<IPython.core.display.Javascript object>"
            ]
          },
          "metadata": {
            "tags": [
              "id10-2-0",
              "outputarea_id10"
            ]
          }
        },
        {
          "output_type": "display_data",
          "data": {
            "application/javascript": [
              "window[\"62d79548-6ef6-11ea-a626-0242ac1c0002\"] = google.colab.output.setActiveOutputArea(window[\"62d76546-6ef6-11ea-a626-0242ac1c0002\"]);\n",
              "//# sourceURL=js_e271da4cf5"
            ],
            "text/plain": [
              "<IPython.core.display.Javascript object>"
            ]
          },
          "metadata": {
            "tags": [
              "id10-2-0",
              "outputarea_id10"
            ]
          }
        },
        {
          "output_type": "stream",
          "text": [
            "{LSTM} Train Epoch: 2 [0/785 (0%)]\tLoss: 1.103858\n",
            "{LSTM} Train Epoch: 2 [128/785 (14%)]\tLoss: 1.264226\n",
            "{LSTM} Train Epoch: 2 [256/785 (29%)]\tLoss: 1.091145\n",
            "{LSTM} Train Epoch: 2 [384/785 (43%)]\tLoss: 1.045711\n",
            "{LSTM} Train Epoch: 2 [512/785 (57%)]\tLoss: 1.139388\n",
            "{LSTM} Train Epoch: 2 [640/785 (71%)]\tLoss: 0.938623\n",
            "{LSTM} Train Epoch: 2 [102/785 (86%)]\tLoss: 1.220357\n",
            "\n",
            "{LSTM} Validation set: Average loss: 5.1910, Accuracy: 11/87 (13%)\n",
            "\n"
          ],
          "name": "stdout"
        },
        {
          "output_type": "display_data",
          "data": {
            "application/javascript": [
              "window[\"6419cdc2-6ef6-11ea-a626-0242ac1c0002\"] = google.colab.output.setActiveOutputArea(window[\"62d73422-6ef6-11ea-a626-0242ac1c0002\"]);\n",
              "//# sourceURL=js_ccf216c6aa"
            ],
            "text/plain": [
              "<IPython.core.display.Javascript object>"
            ]
          },
          "metadata": {
            "tags": [
              "id10-2-0",
              "outputarea_id10"
            ]
          }
        },
        {
          "output_type": "display_data",
          "data": {
            "application/javascript": [
              "window[\"641b021e-6ef6-11ea-a626-0242ac1c0002\"] = google.colab.output.getActiveOutputArea();\n",
              "//# sourceURL=js_2f7863dc7e"
            ],
            "text/plain": [
              "<IPython.core.display.Javascript object>"
            ]
          },
          "metadata": {
            "tags": [
              "id10-1-0",
              "outputarea_id10"
            ]
          }
        },
        {
          "output_type": "display_data",
          "data": {
            "application/javascript": [
              "window[\"641b3b58-6ef6-11ea-a626-0242ac1c0002\"] = document.querySelector(\"#id10-1-0\");\n",
              "//# sourceURL=js_5ba96a2860"
            ],
            "text/plain": [
              "<IPython.core.display.Javascript object>"
            ]
          },
          "metadata": {
            "tags": [
              "id10-1-0",
              "outputarea_id10"
            ]
          }
        },
        {
          "output_type": "display_data",
          "data": {
            "application/javascript": [
              "window[\"641b69f2-6ef6-11ea-a626-0242ac1c0002\"] = google.colab.output.setActiveOutputArea(window[\"641b3b58-6ef6-11ea-a626-0242ac1c0002\"]);\n",
              "//# sourceURL=js_341ba7c5dc"
            ],
            "text/plain": [
              "<IPython.core.display.Javascript object>"
            ]
          },
          "metadata": {
            "tags": [
              "id10-1-0",
              "outputarea_id10"
            ]
          }
        },
        {
          "output_type": "display_data",
          "data": {
            "application/javascript": [
              "window[\"6431ecf4-6ef6-11ea-a626-0242ac1c0002\"] = google.colab.output.setActiveOutputArea(window[\"641b021e-6ef6-11ea-a626-0242ac1c0002\"]);\n",
              "//# sourceURL=js_658125474b"
            ],
            "text/plain": [
              "<IPython.core.display.Javascript object>"
            ]
          },
          "metadata": {
            "tags": [
              "id10-1-0",
              "outputarea_id10"
            ]
          }
        },
        {
          "output_type": "display_data",
          "data": {
            "application/javascript": [
              "window[\"6433f7a6-6ef6-11ea-a626-0242ac1c0002\"] = google.colab.output.getActiveOutputArea();\n",
              "//# sourceURL=js_3195f12d15"
            ],
            "text/plain": [
              "<IPython.core.display.Javascript object>"
            ]
          },
          "metadata": {
            "tags": [
              "id10-2-0",
              "outputarea_id10"
            ]
          }
        },
        {
          "output_type": "display_data",
          "data": {
            "application/javascript": [
              "window[\"64343464-6ef6-11ea-a626-0242ac1c0002\"] = document.querySelector(\"#id10-2-0\");\n",
              "//# sourceURL=js_2e61b3ea42"
            ],
            "text/plain": [
              "<IPython.core.display.Javascript object>"
            ]
          },
          "metadata": {
            "tags": [
              "id10-2-0",
              "outputarea_id10"
            ]
          }
        },
        {
          "output_type": "display_data",
          "data": {
            "application/javascript": [
              "window[\"643470e6-6ef6-11ea-a626-0242ac1c0002\"] = google.colab.output.setActiveOutputArea(window[\"64343464-6ef6-11ea-a626-0242ac1c0002\"]);\n",
              "//# sourceURL=js_ecf9ef45ce"
            ],
            "text/plain": [
              "<IPython.core.display.Javascript object>"
            ]
          },
          "metadata": {
            "tags": [
              "id10-2-0",
              "outputarea_id10"
            ]
          }
        },
        {
          "output_type": "stream",
          "text": [
            "{LSTM} Train Epoch: 3 [0/785 (0%)]\tLoss: 0.859068\n",
            "{LSTM} Train Epoch: 3 [128/785 (14%)]\tLoss: 0.825720\n",
            "{LSTM} Train Epoch: 3 [256/785 (29%)]\tLoss: 0.915245\n",
            "{LSTM} Train Epoch: 3 [384/785 (43%)]\tLoss: 0.940597\n",
            "{LSTM} Train Epoch: 3 [512/785 (57%)]\tLoss: 0.866516\n",
            "{LSTM} Train Epoch: 3 [640/785 (71%)]\tLoss: 0.859853\n",
            "{LSTM} Train Epoch: 3 [102/785 (86%)]\tLoss: 1.027709\n",
            "\n",
            "{LSTM} Validation set: Average loss: 4.2371, Accuracy: 14/87 (16%)\n",
            "\n"
          ],
          "name": "stdout"
        },
        {
          "output_type": "display_data",
          "data": {
            "application/javascript": [
              "window[\"657713d2-6ef6-11ea-a626-0242ac1c0002\"] = google.colab.output.setActiveOutputArea(window[\"6433f7a6-6ef6-11ea-a626-0242ac1c0002\"]);\n",
              "//# sourceURL=js_6320bf29e8"
            ],
            "text/plain": [
              "<IPython.core.display.Javascript object>"
            ]
          },
          "metadata": {
            "tags": [
              "id10-2-0",
              "outputarea_id10"
            ]
          }
        },
        {
          "output_type": "display_data",
          "data": {
            "application/javascript": [
              "window[\"65786a2a-6ef6-11ea-a626-0242ac1c0002\"] = google.colab.output.getActiveOutputArea();\n",
              "//# sourceURL=js_370abb10f3"
            ],
            "text/plain": [
              "<IPython.core.display.Javascript object>"
            ]
          },
          "metadata": {
            "tags": [
              "id10-1-0",
              "outputarea_id10"
            ]
          }
        },
        {
          "output_type": "display_data",
          "data": {
            "application/javascript": [
              "window[\"6578a0b2-6ef6-11ea-a626-0242ac1c0002\"] = document.querySelector(\"#id10-1-0\");\n",
              "//# sourceURL=js_7990c99c0e"
            ],
            "text/plain": [
              "<IPython.core.display.Javascript object>"
            ]
          },
          "metadata": {
            "tags": [
              "id10-1-0",
              "outputarea_id10"
            ]
          }
        },
        {
          "output_type": "display_data",
          "data": {
            "application/javascript": [
              "window[\"6578d974-6ef6-11ea-a626-0242ac1c0002\"] = google.colab.output.setActiveOutputArea(window[\"6578a0b2-6ef6-11ea-a626-0242ac1c0002\"]);\n",
              "//# sourceURL=js_65b84c3cb9"
            ],
            "text/plain": [
              "<IPython.core.display.Javascript object>"
            ]
          },
          "metadata": {
            "tags": [
              "id10-1-0",
              "outputarea_id10"
            ]
          }
        },
        {
          "output_type": "display_data",
          "data": {
            "application/javascript": [
              "window[\"65903ede-6ef6-11ea-a626-0242ac1c0002\"] = google.colab.output.setActiveOutputArea(window[\"65786a2a-6ef6-11ea-a626-0242ac1c0002\"]);\n",
              "//# sourceURL=js_d4699d6380"
            ],
            "text/plain": [
              "<IPython.core.display.Javascript object>"
            ]
          },
          "metadata": {
            "tags": [
              "id10-1-0",
              "outputarea_id10"
            ]
          }
        },
        {
          "output_type": "display_data",
          "data": {
            "application/javascript": [
              "window[\"6591f0e4-6ef6-11ea-a626-0242ac1c0002\"] = google.colab.output.getActiveOutputArea();\n",
              "//# sourceURL=js_b2c31eb801"
            ],
            "text/plain": [
              "<IPython.core.display.Javascript object>"
            ]
          },
          "metadata": {
            "tags": [
              "id10-2-0",
              "outputarea_id10"
            ]
          }
        },
        {
          "output_type": "display_data",
          "data": {
            "application/javascript": [
              "window[\"65922f32-6ef6-11ea-a626-0242ac1c0002\"] = document.querySelector(\"#id10-2-0\");\n",
              "//# sourceURL=js_5b1938bfab"
            ],
            "text/plain": [
              "<IPython.core.display.Javascript object>"
            ]
          },
          "metadata": {
            "tags": [
              "id10-2-0",
              "outputarea_id10"
            ]
          }
        },
        {
          "output_type": "display_data",
          "data": {
            "application/javascript": [
              "window[\"65926a74-6ef6-11ea-a626-0242ac1c0002\"] = google.colab.output.setActiveOutputArea(window[\"65922f32-6ef6-11ea-a626-0242ac1c0002\"]);\n",
              "//# sourceURL=js_e04d2f0c89"
            ],
            "text/plain": [
              "<IPython.core.display.Javascript object>"
            ]
          },
          "metadata": {
            "tags": [
              "id10-2-0",
              "outputarea_id10"
            ]
          }
        },
        {
          "output_type": "stream",
          "text": [
            "{LSTM} Train Epoch: 4 [0/785 (0%)]\tLoss: 0.685253\n",
            "{LSTM} Train Epoch: 4 [128/785 (14%)]\tLoss: 0.953759\n",
            "{LSTM} Train Epoch: 4 [256/785 (29%)]\tLoss: 0.842342\n",
            "{LSTM} Train Epoch: 4 [384/785 (43%)]\tLoss: 0.753559\n",
            "{LSTM} Train Epoch: 4 [512/785 (57%)]\tLoss: 0.634658\n",
            "{LSTM} Train Epoch: 4 [640/785 (71%)]\tLoss: 0.749260\n",
            "{LSTM} Train Epoch: 4 [102/785 (86%)]\tLoss: 0.566462\n",
            "\n",
            "{LSTM} Validation set: Average loss: 4.1846, Accuracy: 12/87 (14%)\n",
            "\n"
          ],
          "name": "stdout"
        },
        {
          "output_type": "display_data",
          "data": {
            "application/javascript": [
              "window[\"66d36e7e-6ef6-11ea-a626-0242ac1c0002\"] = google.colab.output.setActiveOutputArea(window[\"6591f0e4-6ef6-11ea-a626-0242ac1c0002\"]);\n",
              "//# sourceURL=js_d016691c83"
            ],
            "text/plain": [
              "<IPython.core.display.Javascript object>"
            ]
          },
          "metadata": {
            "tags": [
              "id10-2-0",
              "outputarea_id10"
            ]
          }
        },
        {
          "output_type": "display_data",
          "data": {
            "application/javascript": [
              "window[\"66d492a4-6ef6-11ea-a626-0242ac1c0002\"] = google.colab.output.getActiveOutputArea();\n",
              "//# sourceURL=js_4f5df5ae2f"
            ],
            "text/plain": [
              "<IPython.core.display.Javascript object>"
            ]
          },
          "metadata": {
            "tags": [
              "id10-1-0",
              "outputarea_id10"
            ]
          }
        },
        {
          "output_type": "display_data",
          "data": {
            "application/javascript": [
              "window[\"66d4cae4-6ef6-11ea-a626-0242ac1c0002\"] = document.querySelector(\"#id10-1-0\");\n",
              "//# sourceURL=js_bdd618a3fa"
            ],
            "text/plain": [
              "<IPython.core.display.Javascript object>"
            ]
          },
          "metadata": {
            "tags": [
              "id10-1-0",
              "outputarea_id10"
            ]
          }
        },
        {
          "output_type": "display_data",
          "data": {
            "application/javascript": [
              "window[\"66d50392-6ef6-11ea-a626-0242ac1c0002\"] = google.colab.output.setActiveOutputArea(window[\"66d4cae4-6ef6-11ea-a626-0242ac1c0002\"]);\n",
              "//# sourceURL=js_39c38ee9b2"
            ],
            "text/plain": [
              "<IPython.core.display.Javascript object>"
            ]
          },
          "metadata": {
            "tags": [
              "id10-1-0",
              "outputarea_id10"
            ]
          }
        },
        {
          "output_type": "display_data",
          "data": {
            "application/javascript": [
              "window[\"66ea62be-6ef6-11ea-a626-0242ac1c0002\"] = google.colab.output.setActiveOutputArea(window[\"66d492a4-6ef6-11ea-a626-0242ac1c0002\"]);\n",
              "//# sourceURL=js_3312820db6"
            ],
            "text/plain": [
              "<IPython.core.display.Javascript object>"
            ]
          },
          "metadata": {
            "tags": [
              "id10-1-0",
              "outputarea_id10"
            ]
          }
        },
        {
          "output_type": "display_data",
          "data": {
            "application/javascript": [
              "window[\"66eb79c4-6ef6-11ea-a626-0242ac1c0002\"] = google.colab.output.getActiveOutputArea();\n",
              "//# sourceURL=js_bfa4ccf90d"
            ],
            "text/plain": [
              "<IPython.core.display.Javascript object>"
            ]
          },
          "metadata": {
            "tags": [
              "id10-2-0",
              "outputarea_id10"
            ]
          }
        },
        {
          "output_type": "display_data",
          "data": {
            "application/javascript": [
              "window[\"66ebac00-6ef6-11ea-a626-0242ac1c0002\"] = document.querySelector(\"#id10-2-0\");\n",
              "//# sourceURL=js_5cad00f726"
            ],
            "text/plain": [
              "<IPython.core.display.Javascript object>"
            ]
          },
          "metadata": {
            "tags": [
              "id10-2-0",
              "outputarea_id10"
            ]
          }
        },
        {
          "output_type": "display_data",
          "data": {
            "application/javascript": [
              "window[\"66ebde5a-6ef6-11ea-a626-0242ac1c0002\"] = google.colab.output.setActiveOutputArea(window[\"66ebac00-6ef6-11ea-a626-0242ac1c0002\"]);\n",
              "//# sourceURL=js_9cfcebf21c"
            ],
            "text/plain": [
              "<IPython.core.display.Javascript object>"
            ]
          },
          "metadata": {
            "tags": [
              "id10-2-0",
              "outputarea_id10"
            ]
          }
        },
        {
          "output_type": "stream",
          "text": [
            "{LSTM} Train Epoch: 5 [0/785 (0%)]\tLoss: 0.452698\n",
            "{LSTM} Train Epoch: 5 [128/785 (14%)]\tLoss: 0.452191\n",
            "{LSTM} Train Epoch: 5 [256/785 (29%)]\tLoss: 0.517181\n",
            "{LSTM} Train Epoch: 5 [384/785 (43%)]\tLoss: 0.693691\n",
            "{LSTM} Train Epoch: 5 [512/785 (57%)]\tLoss: 0.674370\n",
            "{LSTM} Train Epoch: 5 [640/785 (71%)]\tLoss: 0.652158\n",
            "{LSTM} Train Epoch: 5 [102/785 (86%)]\tLoss: 0.654753\n",
            "\n",
            "{LSTM} Validation set: Average loss: 4.6603, Accuracy: 13/87 (15%)\n",
            "\n"
          ],
          "name": "stdout"
        },
        {
          "output_type": "display_data",
          "data": {
            "application/javascript": [
              "window[\"682d361a-6ef6-11ea-a626-0242ac1c0002\"] = google.colab.output.setActiveOutputArea(window[\"66eb79c4-6ef6-11ea-a626-0242ac1c0002\"]);\n",
              "//# sourceURL=js_1668e49d9d"
            ],
            "text/plain": [
              "<IPython.core.display.Javascript object>"
            ]
          },
          "metadata": {
            "tags": [
              "id10-2-0",
              "outputarea_id10"
            ]
          }
        },
        {
          "output_type": "display_data",
          "data": {
            "application/javascript": [
              "window[\"682df5be-6ef6-11ea-a626-0242ac1c0002\"] = google.colab.output.getActiveOutputArea();\n",
              "//# sourceURL=js_97a445e627"
            ],
            "text/plain": [
              "<IPython.core.display.Javascript object>"
            ]
          },
          "metadata": {
            "tags": [
              "id10-1-0",
              "outputarea_id10"
            ]
          }
        },
        {
          "output_type": "display_data",
          "data": {
            "application/javascript": [
              "window[\"682e1d3c-6ef6-11ea-a626-0242ac1c0002\"] = document.querySelector(\"#id10-1-0\");\n",
              "//# sourceURL=js_d053cf1e62"
            ],
            "text/plain": [
              "<IPython.core.display.Javascript object>"
            ]
          },
          "metadata": {
            "tags": [
              "id10-1-0",
              "outputarea_id10"
            ]
          }
        },
        {
          "output_type": "display_data",
          "data": {
            "application/javascript": [
              "window[\"682e4190-6ef6-11ea-a626-0242ac1c0002\"] = google.colab.output.setActiveOutputArea(window[\"682e1d3c-6ef6-11ea-a626-0242ac1c0002\"]);\n",
              "//# sourceURL=js_01afa6cbff"
            ],
            "text/plain": [
              "<IPython.core.display.Javascript object>"
            ]
          },
          "metadata": {
            "tags": [
              "id10-1-0",
              "outputarea_id10"
            ]
          }
        },
        {
          "output_type": "display_data",
          "data": {
            "application/javascript": [
              "window[\"6843e1b2-6ef6-11ea-a626-0242ac1c0002\"] = google.colab.output.setActiveOutputArea(window[\"682df5be-6ef6-11ea-a626-0242ac1c0002\"]);\n",
              "//# sourceURL=js_bd5a35a75e"
            ],
            "text/plain": [
              "<IPython.core.display.Javascript object>"
            ]
          },
          "metadata": {
            "tags": [
              "id10-1-0",
              "outputarea_id10"
            ]
          }
        },
        {
          "output_type": "display_data",
          "data": {
            "application/javascript": [
              "window[\"68453350-6ef6-11ea-a626-0242ac1c0002\"] = google.colab.output.getActiveOutputArea();\n",
              "//# sourceURL=js_914d5a175b"
            ],
            "text/plain": [
              "<IPython.core.display.Javascript object>"
            ]
          },
          "metadata": {
            "tags": [
              "id10-2-0",
              "outputarea_id10"
            ]
          }
        },
        {
          "output_type": "display_data",
          "data": {
            "application/javascript": [
              "window[\"68456a1e-6ef6-11ea-a626-0242ac1c0002\"] = document.querySelector(\"#id10-2-0\");\n",
              "//# sourceURL=js_8ce732f9eb"
            ],
            "text/plain": [
              "<IPython.core.display.Javascript object>"
            ]
          },
          "metadata": {
            "tags": [
              "id10-2-0",
              "outputarea_id10"
            ]
          }
        },
        {
          "output_type": "display_data",
          "data": {
            "application/javascript": [
              "window[\"68459e76-6ef6-11ea-a626-0242ac1c0002\"] = google.colab.output.setActiveOutputArea(window[\"68456a1e-6ef6-11ea-a626-0242ac1c0002\"]);\n",
              "//# sourceURL=js_9916890662"
            ],
            "text/plain": [
              "<IPython.core.display.Javascript object>"
            ]
          },
          "metadata": {
            "tags": [
              "id10-2-0",
              "outputarea_id10"
            ]
          }
        },
        {
          "output_type": "stream",
          "text": [
            "{LSTM} Train Epoch: 6 [0/785 (0%)]\tLoss: 0.534264\n",
            "{LSTM} Train Epoch: 6 [128/785 (14%)]\tLoss: 0.493206\n",
            "{LSTM} Train Epoch: 6 [256/785 (29%)]\tLoss: 0.460896\n",
            "{LSTM} Train Epoch: 6 [384/785 (43%)]\tLoss: 0.446834\n",
            "{LSTM} Train Epoch: 6 [512/785 (57%)]\tLoss: 0.505359\n",
            "{LSTM} Train Epoch: 6 [640/785 (71%)]\tLoss: 0.462902\n",
            "{LSTM} Train Epoch: 6 [102/785 (86%)]\tLoss: 0.708919\n",
            "\n",
            "{LSTM} Validation set: Average loss: 4.0603, Accuracy: 14/87 (16%)\n",
            "\n"
          ],
          "name": "stdout"
        },
        {
          "output_type": "display_data",
          "data": {
            "application/javascript": [
              "window[\"6986dd9a-6ef6-11ea-a626-0242ac1c0002\"] = google.colab.output.setActiveOutputArea(window[\"68453350-6ef6-11ea-a626-0242ac1c0002\"]);\n",
              "//# sourceURL=js_fb6f637bec"
            ],
            "text/plain": [
              "<IPython.core.display.Javascript object>"
            ]
          },
          "metadata": {
            "tags": [
              "id10-2-0",
              "outputarea_id10"
            ]
          }
        },
        {
          "output_type": "display_data",
          "data": {
            "application/javascript": [
              "window[\"6988acec-6ef6-11ea-a626-0242ac1c0002\"] = google.colab.output.getActiveOutputArea();\n",
              "//# sourceURL=js_cf4b4c774b"
            ],
            "text/plain": [
              "<IPython.core.display.Javascript object>"
            ]
          },
          "metadata": {
            "tags": [
              "id10-1-0",
              "outputarea_id10"
            ]
          }
        },
        {
          "output_type": "display_data",
          "data": {
            "application/javascript": [
              "window[\"6988ddde-6ef6-11ea-a626-0242ac1c0002\"] = document.querySelector(\"#id10-1-0\");\n",
              "//# sourceURL=js_0e9b921ad9"
            ],
            "text/plain": [
              "<IPython.core.display.Javascript object>"
            ]
          },
          "metadata": {
            "tags": [
              "id10-1-0",
              "outputarea_id10"
            ]
          }
        },
        {
          "output_type": "display_data",
          "data": {
            "application/javascript": [
              "window[\"698908b8-6ef6-11ea-a626-0242ac1c0002\"] = google.colab.output.setActiveOutputArea(window[\"6988ddde-6ef6-11ea-a626-0242ac1c0002\"]);\n",
              "//# sourceURL=js_5197d0ac0d"
            ],
            "text/plain": [
              "<IPython.core.display.Javascript object>"
            ]
          },
          "metadata": {
            "tags": [
              "id10-1-0",
              "outputarea_id10"
            ]
          }
        },
        {
          "output_type": "display_data",
          "data": {
            "application/javascript": [
              "window[\"699e0e16-6ef6-11ea-a626-0242ac1c0002\"] = google.colab.output.setActiveOutputArea(window[\"6988acec-6ef6-11ea-a626-0242ac1c0002\"]);\n",
              "//# sourceURL=js_4dd88e2510"
            ],
            "text/plain": [
              "<IPython.core.display.Javascript object>"
            ]
          },
          "metadata": {
            "tags": [
              "id10-1-0",
              "outputarea_id10"
            ]
          }
        },
        {
          "output_type": "display_data",
          "data": {
            "application/javascript": [
              "window[\"699efd26-6ef6-11ea-a626-0242ac1c0002\"] = google.colab.output.getActiveOutputArea();\n",
              "//# sourceURL=js_5aaf056cb1"
            ],
            "text/plain": [
              "<IPython.core.display.Javascript object>"
            ]
          },
          "metadata": {
            "tags": [
              "id10-2-0",
              "outputarea_id10"
            ]
          }
        },
        {
          "output_type": "display_data",
          "data": {
            "application/javascript": [
              "window[\"699f2b5c-6ef6-11ea-a626-0242ac1c0002\"] = document.querySelector(\"#id10-2-0\");\n",
              "//# sourceURL=js_945e592e26"
            ],
            "text/plain": [
              "<IPython.core.display.Javascript object>"
            ]
          },
          "metadata": {
            "tags": [
              "id10-2-0",
              "outputarea_id10"
            ]
          }
        },
        {
          "output_type": "display_data",
          "data": {
            "application/javascript": [
              "window[\"699f5aaa-6ef6-11ea-a626-0242ac1c0002\"] = google.colab.output.setActiveOutputArea(window[\"699f2b5c-6ef6-11ea-a626-0242ac1c0002\"]);\n",
              "//# sourceURL=js_6e3ddc301c"
            ],
            "text/plain": [
              "<IPython.core.display.Javascript object>"
            ]
          },
          "metadata": {
            "tags": [
              "id10-2-0",
              "outputarea_id10"
            ]
          }
        },
        {
          "output_type": "stream",
          "text": [
            "{LSTM} Train Epoch: 7 [0/785 (0%)]\tLoss: 0.452358\n",
            "{LSTM} Train Epoch: 7 [128/785 (14%)]\tLoss: 0.460284\n",
            "{LSTM} Train Epoch: 7 [256/785 (29%)]\tLoss: 0.408792\n",
            "{LSTM} Train Epoch: 7 [384/785 (43%)]\tLoss: 0.374750\n",
            "{LSTM} Train Epoch: 7 [512/785 (57%)]\tLoss: 0.468607\n",
            "{LSTM} Train Epoch: 7 [640/785 (71%)]\tLoss: 0.365971\n",
            "{LSTM} Train Epoch: 7 [102/785 (86%)]\tLoss: 0.592274\n",
            "\n",
            "{LSTM} Validation set: Average loss: 3.7713, Accuracy: 15/87 (17%)\n",
            "\n"
          ],
          "name": "stdout"
        },
        {
          "output_type": "display_data",
          "data": {
            "application/javascript": [
              "window[\"6ae07250-6ef6-11ea-a626-0242ac1c0002\"] = google.colab.output.setActiveOutputArea(window[\"699efd26-6ef6-11ea-a626-0242ac1c0002\"]);\n",
              "//# sourceURL=js_3dd2659c23"
            ],
            "text/plain": [
              "<IPython.core.display.Javascript object>"
            ]
          },
          "metadata": {
            "tags": [
              "id10-2-0",
              "outputarea_id10"
            ]
          }
        },
        {
          "output_type": "display_data",
          "data": {
            "application/javascript": [
              "window[\"6ae16174-6ef6-11ea-a626-0242ac1c0002\"] = google.colab.output.getActiveOutputArea();\n",
              "//# sourceURL=js_4f7bb5177e"
            ],
            "text/plain": [
              "<IPython.core.display.Javascript object>"
            ]
          },
          "metadata": {
            "tags": [
              "id10-1-0",
              "outputarea_id10"
            ]
          }
        },
        {
          "output_type": "display_data",
          "data": {
            "application/javascript": [
              "window[\"6ae18dca-6ef6-11ea-a626-0242ac1c0002\"] = document.querySelector(\"#id10-1-0\");\n",
              "//# sourceURL=js_4ebe6eef89"
            ],
            "text/plain": [
              "<IPython.core.display.Javascript object>"
            ]
          },
          "metadata": {
            "tags": [
              "id10-1-0",
              "outputarea_id10"
            ]
          }
        },
        {
          "output_type": "display_data",
          "data": {
            "application/javascript": [
              "window[\"6ae1b980-6ef6-11ea-a626-0242ac1c0002\"] = google.colab.output.setActiveOutputArea(window[\"6ae18dca-6ef6-11ea-a626-0242ac1c0002\"]);\n",
              "//# sourceURL=js_35421ee305"
            ],
            "text/plain": [
              "<IPython.core.display.Javascript object>"
            ]
          },
          "metadata": {
            "tags": [
              "id10-1-0",
              "outputarea_id10"
            ]
          }
        },
        {
          "output_type": "display_data",
          "data": {
            "application/javascript": [
              "window[\"6af7c7c0-6ef6-11ea-a626-0242ac1c0002\"] = google.colab.output.setActiveOutputArea(window[\"6ae16174-6ef6-11ea-a626-0242ac1c0002\"]);\n",
              "//# sourceURL=js_56361711d9"
            ],
            "text/plain": [
              "<IPython.core.display.Javascript object>"
            ]
          },
          "metadata": {
            "tags": [
              "id10-1-0",
              "outputarea_id10"
            ]
          }
        },
        {
          "output_type": "display_data",
          "data": {
            "application/javascript": [
              "window[\"6af90b44-6ef6-11ea-a626-0242ac1c0002\"] = google.colab.output.getActiveOutputArea();\n",
              "//# sourceURL=js_c98275effb"
            ],
            "text/plain": [
              "<IPython.core.display.Javascript object>"
            ]
          },
          "metadata": {
            "tags": [
              "id10-2-0",
              "outputarea_id10"
            ]
          }
        },
        {
          "output_type": "display_data",
          "data": {
            "application/javascript": [
              "window[\"6af9453c-6ef6-11ea-a626-0242ac1c0002\"] = document.querySelector(\"#id10-2-0\");\n",
              "//# sourceURL=js_f78bfed98f"
            ],
            "text/plain": [
              "<IPython.core.display.Javascript object>"
            ]
          },
          "metadata": {
            "tags": [
              "id10-2-0",
              "outputarea_id10"
            ]
          }
        },
        {
          "output_type": "display_data",
          "data": {
            "application/javascript": [
              "window[\"6af98880-6ef6-11ea-a626-0242ac1c0002\"] = google.colab.output.setActiveOutputArea(window[\"6af9453c-6ef6-11ea-a626-0242ac1c0002\"]);\n",
              "//# sourceURL=js_abc49e00b5"
            ],
            "text/plain": [
              "<IPython.core.display.Javascript object>"
            ]
          },
          "metadata": {
            "tags": [
              "id10-2-0",
              "outputarea_id10"
            ]
          }
        },
        {
          "output_type": "stream",
          "text": [
            "{LSTM} Train Epoch: 8 [0/785 (0%)]\tLoss: 0.267643\n",
            "{LSTM} Train Epoch: 8 [128/785 (14%)]\tLoss: 0.334653\n",
            "{LSTM} Train Epoch: 8 [256/785 (29%)]\tLoss: 0.381290\n",
            "{LSTM} Train Epoch: 8 [384/785 (43%)]\tLoss: 0.487985\n",
            "{LSTM} Train Epoch: 8 [512/785 (57%)]\tLoss: 0.275509\n",
            "{LSTM} Train Epoch: 8 [640/785 (71%)]\tLoss: 0.203835\n",
            "{LSTM} Train Epoch: 8 [102/785 (86%)]\tLoss: 0.239018\n",
            "\n",
            "{LSTM} Validation set: Average loss: 4.1802, Accuracy: 15/87 (17%)\n",
            "\n"
          ],
          "name": "stdout"
        },
        {
          "output_type": "display_data",
          "data": {
            "application/javascript": [
              "window[\"6c3ac088-6ef6-11ea-a626-0242ac1c0002\"] = google.colab.output.setActiveOutputArea(window[\"6af90b44-6ef6-11ea-a626-0242ac1c0002\"]);\n",
              "//# sourceURL=js_b744eb3552"
            ],
            "text/plain": [
              "<IPython.core.display.Javascript object>"
            ]
          },
          "metadata": {
            "tags": [
              "id10-2-0",
              "outputarea_id10"
            ]
          }
        },
        {
          "output_type": "display_data",
          "data": {
            "application/javascript": [
              "window[\"6c3bbd76-6ef6-11ea-a626-0242ac1c0002\"] = google.colab.output.getActiveOutputArea();\n",
              "//# sourceURL=js_4405564b0e"
            ],
            "text/plain": [
              "<IPython.core.display.Javascript object>"
            ]
          },
          "metadata": {
            "tags": [
              "id10-1-0",
              "outputarea_id10"
            ]
          }
        },
        {
          "output_type": "display_data",
          "data": {
            "application/javascript": [
              "window[\"6c3bebb6-6ef6-11ea-a626-0242ac1c0002\"] = document.querySelector(\"#id10-1-0\");\n",
              "//# sourceURL=js_eb29e12c1d"
            ],
            "text/plain": [
              "<IPython.core.display.Javascript object>"
            ]
          },
          "metadata": {
            "tags": [
              "id10-1-0",
              "outputarea_id10"
            ]
          }
        },
        {
          "output_type": "display_data",
          "data": {
            "application/javascript": [
              "window[\"6c3c180c-6ef6-11ea-a626-0242ac1c0002\"] = google.colab.output.setActiveOutputArea(window[\"6c3bebb6-6ef6-11ea-a626-0242ac1c0002\"]);\n",
              "//# sourceURL=js_f357785ffc"
            ],
            "text/plain": [
              "<IPython.core.display.Javascript object>"
            ]
          },
          "metadata": {
            "tags": [
              "id10-1-0",
              "outputarea_id10"
            ]
          }
        },
        {
          "output_type": "display_data",
          "data": {
            "application/javascript": [
              "window[\"6c51f726-6ef6-11ea-a626-0242ac1c0002\"] = google.colab.output.setActiveOutputArea(window[\"6c3bbd76-6ef6-11ea-a626-0242ac1c0002\"]);\n",
              "//# sourceURL=js_eebfc35f83"
            ],
            "text/plain": [
              "<IPython.core.display.Javascript object>"
            ]
          },
          "metadata": {
            "tags": [
              "id10-1-0",
              "outputarea_id10"
            ]
          }
        },
        {
          "output_type": "display_data",
          "data": {
            "application/javascript": [
              "window[\"6c52d330-6ef6-11ea-a626-0242ac1c0002\"] = google.colab.output.getActiveOutputArea();\n",
              "//# sourceURL=js_61d73d363c"
            ],
            "text/plain": [
              "<IPython.core.display.Javascript object>"
            ]
          },
          "metadata": {
            "tags": [
              "id10-2-0",
              "outputarea_id10"
            ]
          }
        },
        {
          "output_type": "display_data",
          "data": {
            "application/javascript": [
              "window[\"6c52fbc6-6ef6-11ea-a626-0242ac1c0002\"] = document.querySelector(\"#id10-2-0\");\n",
              "//# sourceURL=js_e145b36342"
            ],
            "text/plain": [
              "<IPython.core.display.Javascript object>"
            ]
          },
          "metadata": {
            "tags": [
              "id10-2-0",
              "outputarea_id10"
            ]
          }
        },
        {
          "output_type": "display_data",
          "data": {
            "application/javascript": [
              "window[\"6c53240c-6ef6-11ea-a626-0242ac1c0002\"] = google.colab.output.setActiveOutputArea(window[\"6c52fbc6-6ef6-11ea-a626-0242ac1c0002\"]);\n",
              "//# sourceURL=js_8214ea1982"
            ],
            "text/plain": [
              "<IPython.core.display.Javascript object>"
            ]
          },
          "metadata": {
            "tags": [
              "id10-2-0",
              "outputarea_id10"
            ]
          }
        },
        {
          "output_type": "stream",
          "text": [
            "{LSTM} Train Epoch: 9 [0/785 (0%)]\tLoss: 0.273312\n",
            "{LSTM} Train Epoch: 9 [128/785 (14%)]\tLoss: 0.204939\n",
            "{LSTM} Train Epoch: 9 [256/785 (29%)]\tLoss: 0.344629\n",
            "{LSTM} Train Epoch: 9 [384/785 (43%)]\tLoss: 0.261953\n",
            "{LSTM} Train Epoch: 9 [512/785 (57%)]\tLoss: 0.406001\n",
            "{LSTM} Train Epoch: 9 [640/785 (71%)]\tLoss: 0.334719\n",
            "{LSTM} Train Epoch: 9 [102/785 (86%)]\tLoss: 0.073550\n",
            "\n",
            "{LSTM} Validation set: Average loss: 4.4665, Accuracy: 14/87 (16%)\n",
            "\n"
          ],
          "name": "stdout"
        },
        {
          "output_type": "display_data",
          "data": {
            "application/javascript": [
              "window[\"6d93522e-6ef6-11ea-a626-0242ac1c0002\"] = google.colab.output.setActiveOutputArea(window[\"6c52d330-6ef6-11ea-a626-0242ac1c0002\"]);\n",
              "//# sourceURL=js_e37bb8183a"
            ],
            "text/plain": [
              "<IPython.core.display.Javascript object>"
            ]
          },
          "metadata": {
            "tags": [
              "id10-2-0",
              "outputarea_id10"
            ]
          }
        },
        {
          "output_type": "display_data",
          "data": {
            "application/javascript": [
              "window[\"6d9483c4-6ef6-11ea-a626-0242ac1c0002\"] = google.colab.output.getActiveOutputArea();\n",
              "//# sourceURL=js_b677777ad1"
            ],
            "text/plain": [
              "<IPython.core.display.Javascript object>"
            ]
          },
          "metadata": {
            "tags": [
              "id10-1-0",
              "outputarea_id10"
            ]
          }
        },
        {
          "output_type": "display_data",
          "data": {
            "application/javascript": [
              "window[\"6d94b6c8-6ef6-11ea-a626-0242ac1c0002\"] = document.querySelector(\"#id10-1-0\");\n",
              "//# sourceURL=js_40f0b9196e"
            ],
            "text/plain": [
              "<IPython.core.display.Javascript object>"
            ]
          },
          "metadata": {
            "tags": [
              "id10-1-0",
              "outputarea_id10"
            ]
          }
        },
        {
          "output_type": "display_data",
          "data": {
            "application/javascript": [
              "window[\"6d950402-6ef6-11ea-a626-0242ac1c0002\"] = google.colab.output.setActiveOutputArea(window[\"6d94b6c8-6ef6-11ea-a626-0242ac1c0002\"]);\n",
              "//# sourceURL=js_92ff26bb9e"
            ],
            "text/plain": [
              "<IPython.core.display.Javascript object>"
            ]
          },
          "metadata": {
            "tags": [
              "id10-1-0",
              "outputarea_id10"
            ]
          }
        },
        {
          "output_type": "display_data",
          "data": {
            "application/javascript": [
              "window[\"6daa5622-6ef6-11ea-a626-0242ac1c0002\"] = google.colab.output.setActiveOutputArea(window[\"6d9483c4-6ef6-11ea-a626-0242ac1c0002\"]);\n",
              "//# sourceURL=js_5ea821a2da"
            ],
            "text/plain": [
              "<IPython.core.display.Javascript object>"
            ]
          },
          "metadata": {
            "tags": [
              "id10-1-0",
              "outputarea_id10"
            ]
          }
        },
        {
          "output_type": "display_data",
          "data": {
            "application/javascript": [
              "window[\"6dac4b58-6ef6-11ea-a626-0242ac1c0002\"] = google.colab.output.getActiveOutputArea();\n",
              "//# sourceURL=js_98342617ae"
            ],
            "text/plain": [
              "<IPython.core.display.Javascript object>"
            ]
          },
          "metadata": {
            "tags": [
              "id10-2-0",
              "outputarea_id10"
            ]
          }
        },
        {
          "output_type": "display_data",
          "data": {
            "application/javascript": [
              "window[\"6dac8582-6ef6-11ea-a626-0242ac1c0002\"] = document.querySelector(\"#id10-2-0\");\n",
              "//# sourceURL=js_73663d4820"
            ],
            "text/plain": [
              "<IPython.core.display.Javascript object>"
            ]
          },
          "metadata": {
            "tags": [
              "id10-2-0",
              "outputarea_id10"
            ]
          }
        },
        {
          "output_type": "display_data",
          "data": {
            "application/javascript": [
              "window[\"6dacbfa2-6ef6-11ea-a626-0242ac1c0002\"] = google.colab.output.setActiveOutputArea(window[\"6dac8582-6ef6-11ea-a626-0242ac1c0002\"]);\n",
              "//# sourceURL=js_59b0e60215"
            ],
            "text/plain": [
              "<IPython.core.display.Javascript object>"
            ]
          },
          "metadata": {
            "tags": [
              "id10-2-0",
              "outputarea_id10"
            ]
          }
        },
        {
          "output_type": "stream",
          "text": [
            "{LSTM} Train Epoch: 10 [0/785 (0%)]\tLoss: 0.152513\n",
            "{LSTM} Train Epoch: 10 [128/785 (14%)]\tLoss: 0.138318\n",
            "{LSTM} Train Epoch: 10 [256/785 (29%)]\tLoss: 0.409591\n",
            "{LSTM} Train Epoch: 10 [384/785 (43%)]\tLoss: 0.316793\n",
            "{LSTM} Train Epoch: 10 [512/785 (57%)]\tLoss: 0.259894\n",
            "{LSTM} Train Epoch: 10 [640/785 (71%)]\tLoss: 0.199513\n",
            "{LSTM} Train Epoch: 10 [102/785 (86%)]\tLoss: 0.309017\n",
            "\n",
            "{LSTM} Validation set: Average loss: 3.9338, Accuracy: 17/87 (20%)\n",
            "\n"
          ],
          "name": "stdout"
        },
        {
          "output_type": "display_data",
          "data": {
            "application/javascript": [
              "window[\"6eef3110-6ef6-11ea-a626-0242ac1c0002\"] = google.colab.output.setActiveOutputArea(window[\"6dac4b58-6ef6-11ea-a626-0242ac1c0002\"]);\n",
              "//# sourceURL=js_61a4d39877"
            ],
            "text/plain": [
              "<IPython.core.display.Javascript object>"
            ]
          },
          "metadata": {
            "tags": [
              "id10-2-0",
              "outputarea_id10"
            ]
          }
        },
        {
          "output_type": "display_data",
          "data": {
            "application/javascript": [
              "window[\"6ef03826-6ef6-11ea-a626-0242ac1c0002\"] = google.colab.output.getActiveOutputArea();\n",
              "//# sourceURL=js_faabaaee41"
            ],
            "text/plain": [
              "<IPython.core.display.Javascript object>"
            ]
          },
          "metadata": {
            "tags": [
              "id10-1-0",
              "outputarea_id10"
            ]
          }
        },
        {
          "output_type": "display_data",
          "data": {
            "application/javascript": [
              "window[\"6ef06238-6ef6-11ea-a626-0242ac1c0002\"] = document.querySelector(\"#id10-1-0\");\n",
              "//# sourceURL=js_0cf6629c35"
            ],
            "text/plain": [
              "<IPython.core.display.Javascript object>"
            ]
          },
          "metadata": {
            "tags": [
              "id10-1-0",
              "outputarea_id10"
            ]
          }
        },
        {
          "output_type": "display_data",
          "data": {
            "application/javascript": [
              "window[\"6ef08dda-6ef6-11ea-a626-0242ac1c0002\"] = google.colab.output.setActiveOutputArea(window[\"6ef06238-6ef6-11ea-a626-0242ac1c0002\"]);\n",
              "//# sourceURL=js_c8677623ba"
            ],
            "text/plain": [
              "<IPython.core.display.Javascript object>"
            ]
          },
          "metadata": {
            "tags": [
              "id10-1-0",
              "outputarea_id10"
            ]
          }
        },
        {
          "output_type": "display_data",
          "data": {
            "application/javascript": [
              "window[\"6f06415c-6ef6-11ea-a626-0242ac1c0002\"] = google.colab.output.setActiveOutputArea(window[\"6ef03826-6ef6-11ea-a626-0242ac1c0002\"]);\n",
              "//# sourceURL=js_a8f5806c4f"
            ],
            "text/plain": [
              "<IPython.core.display.Javascript object>"
            ]
          },
          "metadata": {
            "tags": [
              "id10-1-0",
              "outputarea_id10"
            ]
          }
        },
        {
          "output_type": "display_data",
          "data": {
            "application/javascript": [
              "window[\"6f075042-6ef6-11ea-a626-0242ac1c0002\"] = google.colab.output.getActiveOutputArea();\n",
              "//# sourceURL=js_49b967a41a"
            ],
            "text/plain": [
              "<IPython.core.display.Javascript object>"
            ]
          },
          "metadata": {
            "tags": [
              "id10-2-0",
              "outputarea_id10"
            ]
          }
        },
        {
          "output_type": "display_data",
          "data": {
            "application/javascript": [
              "window[\"6f078ec2-6ef6-11ea-a626-0242ac1c0002\"] = document.querySelector(\"#id10-2-0\");\n",
              "//# sourceURL=js_28c9aa8d4a"
            ],
            "text/plain": [
              "<IPython.core.display.Javascript object>"
            ]
          },
          "metadata": {
            "tags": [
              "id10-2-0",
              "outputarea_id10"
            ]
          }
        },
        {
          "output_type": "display_data",
          "data": {
            "application/javascript": [
              "window[\"6f07c400-6ef6-11ea-a626-0242ac1c0002\"] = google.colab.output.setActiveOutputArea(window[\"6f078ec2-6ef6-11ea-a626-0242ac1c0002\"]);\n",
              "//# sourceURL=js_b0668b3673"
            ],
            "text/plain": [
              "<IPython.core.display.Javascript object>"
            ]
          },
          "metadata": {
            "tags": [
              "id10-2-0",
              "outputarea_id10"
            ]
          }
        },
        {
          "output_type": "stream",
          "text": [
            "{LSTM} Train Epoch: 11 [0/785 (0%)]\tLoss: 0.183564\n",
            "{LSTM} Train Epoch: 11 [128/785 (14%)]\tLoss: 0.162455\n",
            "{LSTM} Train Epoch: 11 [256/785 (29%)]\tLoss: 0.196659\n",
            "{LSTM} Train Epoch: 11 [384/785 (43%)]\tLoss: 0.305224\n",
            "{LSTM} Train Epoch: 11 [512/785 (57%)]\tLoss: 0.291993\n",
            "{LSTM} Train Epoch: 11 [640/785 (71%)]\tLoss: 0.296440\n",
            "{LSTM} Train Epoch: 11 [102/785 (86%)]\tLoss: 0.131224\n",
            "\n",
            "{LSTM} Validation set: Average loss: 4.0289, Accuracy: 16/87 (18%)\n",
            "\n"
          ],
          "name": "stdout"
        },
        {
          "output_type": "display_data",
          "data": {
            "application/javascript": [
              "window[\"704a5364-6ef6-11ea-a626-0242ac1c0002\"] = google.colab.output.setActiveOutputArea(window[\"6f075042-6ef6-11ea-a626-0242ac1c0002\"]);\n",
              "//# sourceURL=js_40346942c3"
            ],
            "text/plain": [
              "<IPython.core.display.Javascript object>"
            ]
          },
          "metadata": {
            "tags": [
              "id10-2-0",
              "outputarea_id10"
            ]
          }
        },
        {
          "output_type": "display_data",
          "data": {
            "application/javascript": [
              "window[\"704bb3ee-6ef6-11ea-a626-0242ac1c0002\"] = google.colab.output.getActiveOutputArea();\n",
              "//# sourceURL=js_852f3796da"
            ],
            "text/plain": [
              "<IPython.core.display.Javascript object>"
            ]
          },
          "metadata": {
            "tags": [
              "id10-1-0",
              "outputarea_id10"
            ]
          }
        },
        {
          "output_type": "display_data",
          "data": {
            "application/javascript": [
              "window[\"704bd9b4-6ef6-11ea-a626-0242ac1c0002\"] = document.querySelector(\"#id10-1-0\");\n",
              "//# sourceURL=js_d60a7e94b3"
            ],
            "text/plain": [
              "<IPython.core.display.Javascript object>"
            ]
          },
          "metadata": {
            "tags": [
              "id10-1-0",
              "outputarea_id10"
            ]
          }
        },
        {
          "output_type": "display_data",
          "data": {
            "application/javascript": [
              "window[\"704c02fe-6ef6-11ea-a626-0242ac1c0002\"] = google.colab.output.setActiveOutputArea(window[\"704bd9b4-6ef6-11ea-a626-0242ac1c0002\"]);\n",
              "//# sourceURL=js_fb9bdaec75"
            ],
            "text/plain": [
              "<IPython.core.display.Javascript object>"
            ]
          },
          "metadata": {
            "tags": [
              "id10-1-0",
              "outputarea_id10"
            ]
          }
        },
        {
          "output_type": "display_data",
          "data": {
            "application/javascript": [
              "window[\"7064b9e8-6ef6-11ea-a626-0242ac1c0002\"] = google.colab.output.setActiveOutputArea(window[\"704bb3ee-6ef6-11ea-a626-0242ac1c0002\"]);\n",
              "//# sourceURL=js_aa5a7dfbde"
            ],
            "text/plain": [
              "<IPython.core.display.Javascript object>"
            ]
          },
          "metadata": {
            "tags": [
              "id10-1-0",
              "outputarea_id10"
            ]
          }
        },
        {
          "output_type": "display_data",
          "data": {
            "application/javascript": [
              "window[\"706600be-6ef6-11ea-a626-0242ac1c0002\"] = google.colab.output.getActiveOutputArea();\n",
              "//# sourceURL=js_d9400b9b43"
            ],
            "text/plain": [
              "<IPython.core.display.Javascript object>"
            ]
          },
          "metadata": {
            "tags": [
              "id10-2-0",
              "outputarea_id10"
            ]
          }
        },
        {
          "output_type": "display_data",
          "data": {
            "application/javascript": [
              "window[\"706630fc-6ef6-11ea-a626-0242ac1c0002\"] = document.querySelector(\"#id10-2-0\");\n",
              "//# sourceURL=js_50bbaf9111"
            ],
            "text/plain": [
              "<IPython.core.display.Javascript object>"
            ]
          },
          "metadata": {
            "tags": [
              "id10-2-0",
              "outputarea_id10"
            ]
          }
        },
        {
          "output_type": "display_data",
          "data": {
            "application/javascript": [
              "window[\"706661e4-6ef6-11ea-a626-0242ac1c0002\"] = google.colab.output.setActiveOutputArea(window[\"706630fc-6ef6-11ea-a626-0242ac1c0002\"]);\n",
              "//# sourceURL=js_3c2e949130"
            ],
            "text/plain": [
              "<IPython.core.display.Javascript object>"
            ]
          },
          "metadata": {
            "tags": [
              "id10-2-0",
              "outputarea_id10"
            ]
          }
        },
        {
          "output_type": "stream",
          "text": [
            "{LSTM} Train Epoch: 12 [0/785 (0%)]\tLoss: 0.199921\n",
            "{LSTM} Train Epoch: 12 [128/785 (14%)]\tLoss: 0.133736\n",
            "{LSTM} Train Epoch: 12 [256/785 (29%)]\tLoss: 0.187149\n",
            "{LSTM} Train Epoch: 12 [384/785 (43%)]\tLoss: 0.128670\n",
            "{LSTM} Train Epoch: 12 [512/785 (57%)]\tLoss: 0.212248\n",
            "{LSTM} Train Epoch: 12 [640/785 (71%)]\tLoss: 0.206274\n",
            "{LSTM} Train Epoch: 12 [102/785 (86%)]\tLoss: 0.311870\n",
            "\n",
            "{LSTM} Validation set: Average loss: 4.3403, Accuracy: 17/87 (20%)\n",
            "\n"
          ],
          "name": "stdout"
        },
        {
          "output_type": "display_data",
          "data": {
            "application/javascript": [
              "window[\"71a6c9d6-6ef6-11ea-a626-0242ac1c0002\"] = google.colab.output.setActiveOutputArea(window[\"706600be-6ef6-11ea-a626-0242ac1c0002\"]);\n",
              "//# sourceURL=js_cba7285c49"
            ],
            "text/plain": [
              "<IPython.core.display.Javascript object>"
            ]
          },
          "metadata": {
            "tags": [
              "id10-2-0",
              "outputarea_id10"
            ]
          }
        },
        {
          "output_type": "display_data",
          "data": {
            "application/javascript": [
              "window[\"71a7c610-6ef6-11ea-a626-0242ac1c0002\"] = google.colab.output.getActiveOutputArea();\n",
              "//# sourceURL=js_fafe139e4b"
            ],
            "text/plain": [
              "<IPython.core.display.Javascript object>"
            ]
          },
          "metadata": {
            "tags": [
              "id10-1-0",
              "outputarea_id10"
            ]
          }
        },
        {
          "output_type": "display_data",
          "data": {
            "application/javascript": [
              "window[\"71a7eece-6ef6-11ea-a626-0242ac1c0002\"] = document.querySelector(\"#id10-1-0\");\n",
              "//# sourceURL=js_975655d2fb"
            ],
            "text/plain": [
              "<IPython.core.display.Javascript object>"
            ]
          },
          "metadata": {
            "tags": [
              "id10-1-0",
              "outputarea_id10"
            ]
          }
        },
        {
          "output_type": "display_data",
          "data": {
            "application/javascript": [
              "window[\"71a81584-6ef6-11ea-a626-0242ac1c0002\"] = google.colab.output.setActiveOutputArea(window[\"71a7eece-6ef6-11ea-a626-0242ac1c0002\"]);\n",
              "//# sourceURL=js_a2676499cf"
            ],
            "text/plain": [
              "<IPython.core.display.Javascript object>"
            ]
          },
          "metadata": {
            "tags": [
              "id10-1-0",
              "outputarea_id10"
            ]
          }
        },
        {
          "output_type": "display_data",
          "data": {
            "application/javascript": [
              "window[\"71be05e2-6ef6-11ea-a626-0242ac1c0002\"] = google.colab.output.setActiveOutputArea(window[\"71a7c610-6ef6-11ea-a626-0242ac1c0002\"]);\n",
              "//# sourceURL=js_758447afa2"
            ],
            "text/plain": [
              "<IPython.core.display.Javascript object>"
            ]
          },
          "metadata": {
            "tags": [
              "id10-1-0",
              "outputarea_id10"
            ]
          }
        },
        {
          "output_type": "display_data",
          "data": {
            "application/javascript": [
              "window[\"71bef84e-6ef6-11ea-a626-0242ac1c0002\"] = google.colab.output.getActiveOutputArea();\n",
              "//# sourceURL=js_84382ff673"
            ],
            "text/plain": [
              "<IPython.core.display.Javascript object>"
            ]
          },
          "metadata": {
            "tags": [
              "id10-2-0",
              "outputarea_id10"
            ]
          }
        },
        {
          "output_type": "display_data",
          "data": {
            "application/javascript": [
              "window[\"71bf35d4-6ef6-11ea-a626-0242ac1c0002\"] = document.querySelector(\"#id10-2-0\");\n",
              "//# sourceURL=js_cd3166dfbc"
            ],
            "text/plain": [
              "<IPython.core.display.Javascript object>"
            ]
          },
          "metadata": {
            "tags": [
              "id10-2-0",
              "outputarea_id10"
            ]
          }
        },
        {
          "output_type": "display_data",
          "data": {
            "application/javascript": [
              "window[\"71bf70a8-6ef6-11ea-a626-0242ac1c0002\"] = google.colab.output.setActiveOutputArea(window[\"71bf35d4-6ef6-11ea-a626-0242ac1c0002\"]);\n",
              "//# sourceURL=js_ae37ac494c"
            ],
            "text/plain": [
              "<IPython.core.display.Javascript object>"
            ]
          },
          "metadata": {
            "tags": [
              "id10-2-0",
              "outputarea_id10"
            ]
          }
        },
        {
          "output_type": "stream",
          "text": [
            "{LSTM} Train Epoch: 13 [0/785 (0%)]\tLoss: 0.161714\n",
            "{LSTM} Train Epoch: 13 [128/785 (14%)]\tLoss: 0.228416\n",
            "{LSTM} Train Epoch: 13 [256/785 (29%)]\tLoss: 0.305489\n",
            "{LSTM} Train Epoch: 13 [384/785 (43%)]\tLoss: 0.153773\n",
            "{LSTM} Train Epoch: 13 [512/785 (57%)]\tLoss: 0.185672\n",
            "{LSTM} Train Epoch: 13 [640/785 (71%)]\tLoss: 0.233138\n",
            "{LSTM} Train Epoch: 13 [102/785 (86%)]\tLoss: 0.224998\n",
            "\n",
            "{LSTM} Validation set: Average loss: 4.2018, Accuracy: 19/87 (22%)\n",
            "\n"
          ],
          "name": "stdout"
        },
        {
          "output_type": "display_data",
          "data": {
            "application/javascript": [
              "window[\"73011c50-6ef6-11ea-a626-0242ac1c0002\"] = google.colab.output.setActiveOutputArea(window[\"71bef84e-6ef6-11ea-a626-0242ac1c0002\"]);\n",
              "//# sourceURL=js_f3567b14ee"
            ],
            "text/plain": [
              "<IPython.core.display.Javascript object>"
            ]
          },
          "metadata": {
            "tags": [
              "id10-2-0",
              "outputarea_id10"
            ]
          }
        },
        {
          "output_type": "display_data",
          "data": {
            "application/javascript": [
              "window[\"73022546-6ef6-11ea-a626-0242ac1c0002\"] = google.colab.output.getActiveOutputArea();\n",
              "//# sourceURL=js_cdbbdf5119"
            ],
            "text/plain": [
              "<IPython.core.display.Javascript object>"
            ]
          },
          "metadata": {
            "tags": [
              "id10-1-0",
              "outputarea_id10"
            ]
          }
        },
        {
          "output_type": "display_data",
          "data": {
            "application/javascript": [
              "window[\"730253a4-6ef6-11ea-a626-0242ac1c0002\"] = document.querySelector(\"#id10-1-0\");\n",
              "//# sourceURL=js_db3a29401a"
            ],
            "text/plain": [
              "<IPython.core.display.Javascript object>"
            ]
          },
          "metadata": {
            "tags": [
              "id10-1-0",
              "outputarea_id10"
            ]
          }
        },
        {
          "output_type": "display_data",
          "data": {
            "application/javascript": [
              "window[\"730286f8-6ef6-11ea-a626-0242ac1c0002\"] = google.colab.output.setActiveOutputArea(window[\"730253a4-6ef6-11ea-a626-0242ac1c0002\"]);\n",
              "//# sourceURL=js_8cbca9d3cb"
            ],
            "text/plain": [
              "<IPython.core.display.Javascript object>"
            ]
          },
          "metadata": {
            "tags": [
              "id10-1-0",
              "outputarea_id10"
            ]
          }
        },
        {
          "output_type": "display_data",
          "data": {
            "application/javascript": [
              "window[\"731a2e5c-6ef6-11ea-a626-0242ac1c0002\"] = google.colab.output.setActiveOutputArea(window[\"73022546-6ef6-11ea-a626-0242ac1c0002\"]);\n",
              "//# sourceURL=js_d15ff9d957"
            ],
            "text/plain": [
              "<IPython.core.display.Javascript object>"
            ]
          },
          "metadata": {
            "tags": [
              "id10-1-0",
              "outputarea_id10"
            ]
          }
        },
        {
          "output_type": "display_data",
          "data": {
            "application/javascript": [
              "window[\"731b39be-6ef6-11ea-a626-0242ac1c0002\"] = google.colab.output.getActiveOutputArea();\n",
              "//# sourceURL=js_d60c1447a8"
            ],
            "text/plain": [
              "<IPython.core.display.Javascript object>"
            ]
          },
          "metadata": {
            "tags": [
              "id10-2-0",
              "outputarea_id10"
            ]
          }
        },
        {
          "output_type": "display_data",
          "data": {
            "application/javascript": [
              "window[\"731b6e2a-6ef6-11ea-a626-0242ac1c0002\"] = document.querySelector(\"#id10-2-0\");\n",
              "//# sourceURL=js_d99a01ed41"
            ],
            "text/plain": [
              "<IPython.core.display.Javascript object>"
            ]
          },
          "metadata": {
            "tags": [
              "id10-2-0",
              "outputarea_id10"
            ]
          }
        },
        {
          "output_type": "display_data",
          "data": {
            "application/javascript": [
              "window[\"731ba4e4-6ef6-11ea-a626-0242ac1c0002\"] = google.colab.output.setActiveOutputArea(window[\"731b6e2a-6ef6-11ea-a626-0242ac1c0002\"]);\n",
              "//# sourceURL=js_eff1dc71aa"
            ],
            "text/plain": [
              "<IPython.core.display.Javascript object>"
            ]
          },
          "metadata": {
            "tags": [
              "id10-2-0",
              "outputarea_id10"
            ]
          }
        },
        {
          "output_type": "stream",
          "text": [
            "{LSTM} Train Epoch: 14 [0/785 (0%)]\tLoss: 0.152947\n",
            "{LSTM} Train Epoch: 14 [128/785 (14%)]\tLoss: 0.175962\n",
            "{LSTM} Train Epoch: 14 [256/785 (29%)]\tLoss: 0.135920\n",
            "{LSTM} Train Epoch: 14 [384/785 (43%)]\tLoss: 0.128848\n",
            "{LSTM} Train Epoch: 14 [512/785 (57%)]\tLoss: 0.101918\n",
            "{LSTM} Train Epoch: 14 [640/785 (71%)]\tLoss: 0.123177\n",
            "{LSTM} Train Epoch: 14 [102/785 (86%)]\tLoss: 0.254110\n",
            "\n",
            "{LSTM} Validation set: Average loss: 3.8548, Accuracy: 21/87 (24%)\n",
            "\n"
          ],
          "name": "stdout"
        },
        {
          "output_type": "display_data",
          "data": {
            "application/javascript": [
              "window[\"745c8b0c-6ef6-11ea-a626-0242ac1c0002\"] = google.colab.output.setActiveOutputArea(window[\"731b39be-6ef6-11ea-a626-0242ac1c0002\"]);\n",
              "//# sourceURL=js_b9412d9689"
            ],
            "text/plain": [
              "<IPython.core.display.Javascript object>"
            ]
          },
          "metadata": {
            "tags": [
              "id10-2-0",
              "outputarea_id10"
            ]
          }
        },
        {
          "output_type": "display_data",
          "data": {
            "application/javascript": [
              "window[\"745d666c-6ef6-11ea-a626-0242ac1c0002\"] = google.colab.output.getActiveOutputArea();\n",
              "//# sourceURL=js_787d95f412"
            ],
            "text/plain": [
              "<IPython.core.display.Javascript object>"
            ]
          },
          "metadata": {
            "tags": [
              "id10-1-0",
              "outputarea_id10"
            ]
          }
        },
        {
          "output_type": "display_data",
          "data": {
            "application/javascript": [
              "window[\"745d8eee-6ef6-11ea-a626-0242ac1c0002\"] = document.querySelector(\"#id10-1-0\");\n",
              "//# sourceURL=js_2ff139335a"
            ],
            "text/plain": [
              "<IPython.core.display.Javascript object>"
            ]
          },
          "metadata": {
            "tags": [
              "id10-1-0",
              "outputarea_id10"
            ]
          }
        },
        {
          "output_type": "display_data",
          "data": {
            "application/javascript": [
              "window[\"745db392-6ef6-11ea-a626-0242ac1c0002\"] = google.colab.output.setActiveOutputArea(window[\"745d8eee-6ef6-11ea-a626-0242ac1c0002\"]);\n",
              "//# sourceURL=js_2b95cd2a45"
            ],
            "text/plain": [
              "<IPython.core.display.Javascript object>"
            ]
          },
          "metadata": {
            "tags": [
              "id10-1-0",
              "outputarea_id10"
            ]
          }
        },
        {
          "output_type": "display_data",
          "data": {
            "application/javascript": [
              "window[\"74735ee0-6ef6-11ea-a626-0242ac1c0002\"] = google.colab.output.setActiveOutputArea(window[\"745d666c-6ef6-11ea-a626-0242ac1c0002\"]);\n",
              "//# sourceURL=js_d2bdf6aa82"
            ],
            "text/plain": [
              "<IPython.core.display.Javascript object>"
            ]
          },
          "metadata": {
            "tags": [
              "id10-1-0",
              "outputarea_id10"
            ]
          }
        },
        {
          "output_type": "display_data",
          "data": {
            "application/javascript": [
              "window[\"747454bc-6ef6-11ea-a626-0242ac1c0002\"] = google.colab.output.getActiveOutputArea();\n",
              "//# sourceURL=js_1c86ee6fc1"
            ],
            "text/plain": [
              "<IPython.core.display.Javascript object>"
            ]
          },
          "metadata": {
            "tags": [
              "id10-2-0",
              "outputarea_id10"
            ]
          }
        },
        {
          "output_type": "display_data",
          "data": {
            "application/javascript": [
              "window[\"747479d8-6ef6-11ea-a626-0242ac1c0002\"] = document.querySelector(\"#id10-2-0\");\n",
              "//# sourceURL=js_d039b4a2e6"
            ],
            "text/plain": [
              "<IPython.core.display.Javascript object>"
            ]
          },
          "metadata": {
            "tags": [
              "id10-2-0",
              "outputarea_id10"
            ]
          }
        },
        {
          "output_type": "display_data",
          "data": {
            "application/javascript": [
              "window[\"74749e54-6ef6-11ea-a626-0242ac1c0002\"] = google.colab.output.setActiveOutputArea(window[\"747479d8-6ef6-11ea-a626-0242ac1c0002\"]);\n",
              "//# sourceURL=js_d6ae72c008"
            ],
            "text/plain": [
              "<IPython.core.display.Javascript object>"
            ]
          },
          "metadata": {
            "tags": [
              "id10-2-0",
              "outputarea_id10"
            ]
          }
        },
        {
          "output_type": "stream",
          "text": [
            "{LSTM} Train Epoch: 15 [0/785 (0%)]\tLoss: 0.185221\n",
            "{LSTM} Train Epoch: 15 [128/785 (14%)]\tLoss: 0.091370\n",
            "{LSTM} Train Epoch: 15 [256/785 (29%)]\tLoss: 0.139565\n",
            "{LSTM} Train Epoch: 15 [384/785 (43%)]\tLoss: 0.135453\n",
            "{LSTM} Train Epoch: 15 [512/785 (57%)]\tLoss: 0.193436\n",
            "{LSTM} Train Epoch: 15 [640/785 (71%)]\tLoss: 0.169698\n",
            "{LSTM} Train Epoch: 15 [102/785 (86%)]\tLoss: 0.092991\n",
            "\n",
            "{LSTM} Validation set: Average loss: 4.0912, Accuracy: 20/87 (23%)\n",
            "\n"
          ],
          "name": "stdout"
        },
        {
          "output_type": "display_data",
          "data": {
            "application/javascript": [
              "window[\"75b62684-6ef6-11ea-a626-0242ac1c0002\"] = google.colab.output.setActiveOutputArea(window[\"747454bc-6ef6-11ea-a626-0242ac1c0002\"]);\n",
              "//# sourceURL=js_141ffdd306"
            ],
            "text/plain": [
              "<IPython.core.display.Javascript object>"
            ]
          },
          "metadata": {
            "tags": [
              "id10-2-0",
              "outputarea_id10"
            ]
          }
        },
        {
          "output_type": "display_data",
          "data": {
            "application/javascript": [
              "window[\"75b7813c-6ef6-11ea-a626-0242ac1c0002\"] = google.colab.output.getActiveOutputArea();\n",
              "//# sourceURL=js_46e058c3c3"
            ],
            "text/plain": [
              "<IPython.core.display.Javascript object>"
            ]
          },
          "metadata": {
            "tags": [
              "id10-1-0",
              "outputarea_id10"
            ]
          }
        },
        {
          "output_type": "display_data",
          "data": {
            "application/javascript": [
              "window[\"75b7ba58-6ef6-11ea-a626-0242ac1c0002\"] = document.querySelector(\"#id10-1-0\");\n",
              "//# sourceURL=js_63b164859a"
            ],
            "text/plain": [
              "<IPython.core.display.Javascript object>"
            ]
          },
          "metadata": {
            "tags": [
              "id10-1-0",
              "outputarea_id10"
            ]
          }
        },
        {
          "output_type": "display_data",
          "data": {
            "application/javascript": [
              "window[\"75b8017a-6ef6-11ea-a626-0242ac1c0002\"] = google.colab.output.setActiveOutputArea(window[\"75b7ba58-6ef6-11ea-a626-0242ac1c0002\"]);\n",
              "//# sourceURL=js_2d061baafc"
            ],
            "text/plain": [
              "<IPython.core.display.Javascript object>"
            ]
          },
          "metadata": {
            "tags": [
              "id10-1-0",
              "outputarea_id10"
            ]
          }
        },
        {
          "output_type": "display_data",
          "data": {
            "application/javascript": [
              "window[\"75cd6f24-6ef6-11ea-a626-0242ac1c0002\"] = google.colab.output.setActiveOutputArea(window[\"75b7813c-6ef6-11ea-a626-0242ac1c0002\"]);\n",
              "//# sourceURL=js_8dcd7b159e"
            ],
            "text/plain": [
              "<IPython.core.display.Javascript object>"
            ]
          },
          "metadata": {
            "tags": [
              "id10-1-0",
              "outputarea_id10"
            ]
          }
        },
        {
          "output_type": "display_data",
          "data": {
            "application/javascript": [
              "window[\"75ceca54-6ef6-11ea-a626-0242ac1c0002\"] = google.colab.output.getActiveOutputArea();\n",
              "//# sourceURL=js_537e7c4170"
            ],
            "text/plain": [
              "<IPython.core.display.Javascript object>"
            ]
          },
          "metadata": {
            "tags": [
              "id10-2-0",
              "outputarea_id10"
            ]
          }
        },
        {
          "output_type": "display_data",
          "data": {
            "application/javascript": [
              "window[\"75cf02b2-6ef6-11ea-a626-0242ac1c0002\"] = document.querySelector(\"#id10-2-0\");\n",
              "//# sourceURL=js_0837af4ce2"
            ],
            "text/plain": [
              "<IPython.core.display.Javascript object>"
            ]
          },
          "metadata": {
            "tags": [
              "id10-2-0",
              "outputarea_id10"
            ]
          }
        },
        {
          "output_type": "display_data",
          "data": {
            "application/javascript": [
              "window[\"75cf375a-6ef6-11ea-a626-0242ac1c0002\"] = google.colab.output.setActiveOutputArea(window[\"75cf02b2-6ef6-11ea-a626-0242ac1c0002\"]);\n",
              "//# sourceURL=js_6bf92c780e"
            ],
            "text/plain": [
              "<IPython.core.display.Javascript object>"
            ]
          },
          "metadata": {
            "tags": [
              "id10-2-0",
              "outputarea_id10"
            ]
          }
        },
        {
          "output_type": "stream",
          "text": [
            "{LSTM} Train Epoch: 16 [0/785 (0%)]\tLoss: 0.129044\n",
            "{LSTM} Train Epoch: 16 [128/785 (14%)]\tLoss: 0.215738\n",
            "{LSTM} Train Epoch: 16 [256/785 (29%)]\tLoss: 0.080435\n",
            "{LSTM} Train Epoch: 16 [384/785 (43%)]\tLoss: 0.097949\n",
            "{LSTM} Train Epoch: 16 [512/785 (57%)]\tLoss: 0.151896\n",
            "{LSTM} Train Epoch: 16 [640/785 (71%)]\tLoss: 0.157494\n",
            "{LSTM} Train Epoch: 16 [102/785 (86%)]\tLoss: 0.057564\n",
            "\n",
            "{LSTM} Validation set: Average loss: 4.1135, Accuracy: 21/87 (24%)\n",
            "\n"
          ],
          "name": "stdout"
        },
        {
          "output_type": "display_data",
          "data": {
            "application/javascript": [
              "window[\"771049ec-6ef6-11ea-a626-0242ac1c0002\"] = google.colab.output.setActiveOutputArea(window[\"75ceca54-6ef6-11ea-a626-0242ac1c0002\"]);\n",
              "//# sourceURL=js_ffb13953c6"
            ],
            "text/plain": [
              "<IPython.core.display.Javascript object>"
            ]
          },
          "metadata": {
            "tags": [
              "id10-2-0",
              "outputarea_id10"
            ]
          }
        },
        {
          "output_type": "display_data",
          "data": {
            "application/javascript": [
              "window[\"7711b80e-6ef6-11ea-a626-0242ac1c0002\"] = google.colab.output.getActiveOutputArea();\n",
              "//# sourceURL=js_c1fa988414"
            ],
            "text/plain": [
              "<IPython.core.display.Javascript object>"
            ]
          },
          "metadata": {
            "tags": [
              "id10-1-0",
              "outputarea_id10"
            ]
          }
        },
        {
          "output_type": "display_data",
          "data": {
            "application/javascript": [
              "window[\"7711e31a-6ef6-11ea-a626-0242ac1c0002\"] = document.querySelector(\"#id10-1-0\");\n",
              "//# sourceURL=js_24a044e1db"
            ],
            "text/plain": [
              "<IPython.core.display.Javascript object>"
            ]
          },
          "metadata": {
            "tags": [
              "id10-1-0",
              "outputarea_id10"
            ]
          }
        },
        {
          "output_type": "display_data",
          "data": {
            "application/javascript": [
              "window[\"771212ae-6ef6-11ea-a626-0242ac1c0002\"] = google.colab.output.setActiveOutputArea(window[\"7711e31a-6ef6-11ea-a626-0242ac1c0002\"]);\n",
              "//# sourceURL=js_1ece7cd781"
            ],
            "text/plain": [
              "<IPython.core.display.Javascript object>"
            ]
          },
          "metadata": {
            "tags": [
              "id10-1-0",
              "outputarea_id10"
            ]
          }
        },
        {
          "output_type": "display_data",
          "data": {
            "application/javascript": [
              "window[\"77283584-6ef6-11ea-a626-0242ac1c0002\"] = google.colab.output.setActiveOutputArea(window[\"7711b80e-6ef6-11ea-a626-0242ac1c0002\"]);\n",
              "//# sourceURL=js_13f088a7d7"
            ],
            "text/plain": [
              "<IPython.core.display.Javascript object>"
            ]
          },
          "metadata": {
            "tags": [
              "id10-1-0",
              "outputarea_id10"
            ]
          }
        },
        {
          "output_type": "display_data",
          "data": {
            "application/javascript": [
              "window[\"7728f7e4-6ef6-11ea-a626-0242ac1c0002\"] = google.colab.output.getActiveOutputArea();\n",
              "//# sourceURL=js_e8d066704e"
            ],
            "text/plain": [
              "<IPython.core.display.Javascript object>"
            ]
          },
          "metadata": {
            "tags": [
              "id10-2-0",
              "outputarea_id10"
            ]
          }
        },
        {
          "output_type": "display_data",
          "data": {
            "application/javascript": [
              "window[\"77291ee0-6ef6-11ea-a626-0242ac1c0002\"] = document.querySelector(\"#id10-2-0\");\n",
              "//# sourceURL=js_e988aacf49"
            ],
            "text/plain": [
              "<IPython.core.display.Javascript object>"
            ]
          },
          "metadata": {
            "tags": [
              "id10-2-0",
              "outputarea_id10"
            ]
          }
        },
        {
          "output_type": "display_data",
          "data": {
            "application/javascript": [
              "window[\"772943a2-6ef6-11ea-a626-0242ac1c0002\"] = google.colab.output.setActiveOutputArea(window[\"77291ee0-6ef6-11ea-a626-0242ac1c0002\"]);\n",
              "//# sourceURL=js_0c0c5d2c5c"
            ],
            "text/plain": [
              "<IPython.core.display.Javascript object>"
            ]
          },
          "metadata": {
            "tags": [
              "id10-2-0",
              "outputarea_id10"
            ]
          }
        },
        {
          "output_type": "stream",
          "text": [
            "{LSTM} Train Epoch: 17 [0/785 (0%)]\tLoss: 0.131269\n",
            "{LSTM} Train Epoch: 17 [128/785 (14%)]\tLoss: 0.102799\n",
            "{LSTM} Train Epoch: 17 [256/785 (29%)]\tLoss: 0.187692\n",
            "{LSTM} Train Epoch: 17 [384/785 (43%)]\tLoss: 0.110978\n",
            "{LSTM} Train Epoch: 17 [512/785 (57%)]\tLoss: 0.114246\n",
            "{LSTM} Train Epoch: 17 [640/785 (71%)]\tLoss: 0.156930\n",
            "{LSTM} Train Epoch: 17 [102/785 (86%)]\tLoss: 0.104283\n",
            "\n",
            "{LSTM} Validation set: Average loss: 4.1647, Accuracy: 18/87 (21%)\n",
            "\n"
          ],
          "name": "stdout"
        },
        {
          "output_type": "display_data",
          "data": {
            "application/javascript": [
              "window[\"786a568e-6ef6-11ea-a626-0242ac1c0002\"] = google.colab.output.setActiveOutputArea(window[\"7728f7e4-6ef6-11ea-a626-0242ac1c0002\"]);\n",
              "//# sourceURL=js_45b3c483b5"
            ],
            "text/plain": [
              "<IPython.core.display.Javascript object>"
            ]
          },
          "metadata": {
            "tags": [
              "id10-2-0",
              "outputarea_id10"
            ]
          }
        },
        {
          "output_type": "display_data",
          "data": {
            "application/javascript": [
              "window[\"786af47c-6ef6-11ea-a626-0242ac1c0002\"] = google.colab.output.getActiveOutputArea();\n",
              "//# sourceURL=js_96f4591238"
            ],
            "text/plain": [
              "<IPython.core.display.Javascript object>"
            ]
          },
          "metadata": {
            "tags": [
              "id10-1-0",
              "outputarea_id10"
            ]
          }
        },
        {
          "output_type": "display_data",
          "data": {
            "application/javascript": [
              "window[\"786b217c-6ef6-11ea-a626-0242ac1c0002\"] = document.querySelector(\"#id10-1-0\");\n",
              "//# sourceURL=js_4f03eafaaf"
            ],
            "text/plain": [
              "<IPython.core.display.Javascript object>"
            ]
          },
          "metadata": {
            "tags": [
              "id10-1-0",
              "outputarea_id10"
            ]
          }
        },
        {
          "output_type": "display_data",
          "data": {
            "application/javascript": [
              "window[\"786b488c-6ef6-11ea-a626-0242ac1c0002\"] = google.colab.output.setActiveOutputArea(window[\"786b217c-6ef6-11ea-a626-0242ac1c0002\"]);\n",
              "//# sourceURL=js_9e5c752cd3"
            ],
            "text/plain": [
              "<IPython.core.display.Javascript object>"
            ]
          },
          "metadata": {
            "tags": [
              "id10-1-0",
              "outputarea_id10"
            ]
          }
        },
        {
          "output_type": "display_data",
          "data": {
            "application/javascript": [
              "window[\"78809a70-6ef6-11ea-a626-0242ac1c0002\"] = google.colab.output.setActiveOutputArea(window[\"786af47c-6ef6-11ea-a626-0242ac1c0002\"]);\n",
              "//# sourceURL=js_4199da5d2c"
            ],
            "text/plain": [
              "<IPython.core.display.Javascript object>"
            ]
          },
          "metadata": {
            "tags": [
              "id10-1-0",
              "outputarea_id10"
            ]
          }
        },
        {
          "output_type": "display_data",
          "data": {
            "application/javascript": [
              "window[\"78815c80-6ef6-11ea-a626-0242ac1c0002\"] = google.colab.output.getActiveOutputArea();\n",
              "//# sourceURL=js_956fe163cd"
            ],
            "text/plain": [
              "<IPython.core.display.Javascript object>"
            ]
          },
          "metadata": {
            "tags": [
              "id10-2-0",
              "outputarea_id10"
            ]
          }
        },
        {
          "output_type": "display_data",
          "data": {
            "application/javascript": [
              "window[\"78818ce6-6ef6-11ea-a626-0242ac1c0002\"] = document.querySelector(\"#id10-2-0\");\n",
              "//# sourceURL=js_7ebfa90589"
            ],
            "text/plain": [
              "<IPython.core.display.Javascript object>"
            ]
          },
          "metadata": {
            "tags": [
              "id10-2-0",
              "outputarea_id10"
            ]
          }
        },
        {
          "output_type": "display_data",
          "data": {
            "application/javascript": [
              "window[\"7881bc2a-6ef6-11ea-a626-0242ac1c0002\"] = google.colab.output.setActiveOutputArea(window[\"78818ce6-6ef6-11ea-a626-0242ac1c0002\"]);\n",
              "//# sourceURL=js_6aefdbb165"
            ],
            "text/plain": [
              "<IPython.core.display.Javascript object>"
            ]
          },
          "metadata": {
            "tags": [
              "id10-2-0",
              "outputarea_id10"
            ]
          }
        },
        {
          "output_type": "stream",
          "text": [
            "{LSTM} Train Epoch: 18 [0/785 (0%)]\tLoss: 0.042589\n",
            "{LSTM} Train Epoch: 18 [128/785 (14%)]\tLoss: 0.054762\n",
            "{LSTM} Train Epoch: 18 [256/785 (29%)]\tLoss: 0.135456\n",
            "{LSTM} Train Epoch: 18 [384/785 (43%)]\tLoss: 0.123284\n",
            "{LSTM} Train Epoch: 18 [512/785 (57%)]\tLoss: 0.100699\n",
            "{LSTM} Train Epoch: 18 [640/785 (71%)]\tLoss: 0.132321\n",
            "{LSTM} Train Epoch: 18 [102/785 (86%)]\tLoss: 0.215161\n",
            "\n",
            "{LSTM} Validation set: Average loss: 4.4772, Accuracy: 21/87 (24%)\n",
            "\n"
          ],
          "name": "stdout"
        },
        {
          "output_type": "display_data",
          "data": {
            "application/javascript": [
              "window[\"79c197f4-6ef6-11ea-a626-0242ac1c0002\"] = google.colab.output.setActiveOutputArea(window[\"78815c80-6ef6-11ea-a626-0242ac1c0002\"]);\n",
              "//# sourceURL=js_57bf280469"
            ],
            "text/plain": [
              "<IPython.core.display.Javascript object>"
            ]
          },
          "metadata": {
            "tags": [
              "id10-2-0",
              "outputarea_id10"
            ]
          }
        },
        {
          "output_type": "display_data",
          "data": {
            "application/javascript": [
              "window[\"79c21ec2-6ef6-11ea-a626-0242ac1c0002\"] = google.colab.output.getActiveOutputArea();\n",
              "//# sourceURL=js_4ed8d91e97"
            ],
            "text/plain": [
              "<IPython.core.display.Javascript object>"
            ]
          },
          "metadata": {
            "tags": [
              "id10-1-0",
              "outputarea_id10"
            ]
          }
        },
        {
          "output_type": "display_data",
          "data": {
            "application/javascript": [
              "window[\"79c23efc-6ef6-11ea-a626-0242ac1c0002\"] = document.querySelector(\"#id10-1-0\");\n",
              "//# sourceURL=js_7f310d5a12"
            ],
            "text/plain": [
              "<IPython.core.display.Javascript object>"
            ]
          },
          "metadata": {
            "tags": [
              "id10-1-0",
              "outputarea_id10"
            ]
          }
        },
        {
          "output_type": "display_data",
          "data": {
            "application/javascript": [
              "window[\"79c2677e-6ef6-11ea-a626-0242ac1c0002\"] = google.colab.output.setActiveOutputArea(window[\"79c23efc-6ef6-11ea-a626-0242ac1c0002\"]);\n",
              "//# sourceURL=js_201acad8be"
            ],
            "text/plain": [
              "<IPython.core.display.Javascript object>"
            ]
          },
          "metadata": {
            "tags": [
              "id10-1-0",
              "outputarea_id10"
            ]
          }
        },
        {
          "output_type": "display_data",
          "data": {
            "application/javascript": [
              "window[\"79d8249c-6ef6-11ea-a626-0242ac1c0002\"] = google.colab.output.setActiveOutputArea(window[\"79c21ec2-6ef6-11ea-a626-0242ac1c0002\"]);\n",
              "//# sourceURL=js_3336e951bf"
            ],
            "text/plain": [
              "<IPython.core.display.Javascript object>"
            ]
          },
          "metadata": {
            "tags": [
              "id10-1-0",
              "outputarea_id10"
            ]
          }
        },
        {
          "output_type": "display_data",
          "data": {
            "application/javascript": [
              "window[\"79d8a2aa-6ef6-11ea-a626-0242ac1c0002\"] = google.colab.output.getActiveOutputArea();\n",
              "//# sourceURL=js_37174251c5"
            ],
            "text/plain": [
              "<IPython.core.display.Javascript object>"
            ]
          },
          "metadata": {
            "tags": [
              "id10-2-0",
              "outputarea_id10"
            ]
          }
        },
        {
          "output_type": "display_data",
          "data": {
            "application/javascript": [
              "window[\"79d8c028-6ef6-11ea-a626-0242ac1c0002\"] = document.querySelector(\"#id10-2-0\");\n",
              "//# sourceURL=js_49c392e3a3"
            ],
            "text/plain": [
              "<IPython.core.display.Javascript object>"
            ]
          },
          "metadata": {
            "tags": [
              "id10-2-0",
              "outputarea_id10"
            ]
          }
        },
        {
          "output_type": "display_data",
          "data": {
            "application/javascript": [
              "window[\"79d8daea-6ef6-11ea-a626-0242ac1c0002\"] = google.colab.output.setActiveOutputArea(window[\"79d8c028-6ef6-11ea-a626-0242ac1c0002\"]);\n",
              "//# sourceURL=js_15c4ba5677"
            ],
            "text/plain": [
              "<IPython.core.display.Javascript object>"
            ]
          },
          "metadata": {
            "tags": [
              "id10-2-0",
              "outputarea_id10"
            ]
          }
        },
        {
          "output_type": "stream",
          "text": [
            "{LSTM} Train Epoch: 19 [0/785 (0%)]\tLoss: 0.162088\n",
            "{LSTM} Train Epoch: 19 [128/785 (14%)]\tLoss: 0.104621\n",
            "{LSTM} Train Epoch: 19 [256/785 (29%)]\tLoss: 0.159360\n",
            "{LSTM} Train Epoch: 19 [384/785 (43%)]\tLoss: 0.057348\n",
            "{LSTM} Train Epoch: 19 [512/785 (57%)]\tLoss: 0.175513\n",
            "{LSTM} Train Epoch: 19 [640/785 (71%)]\tLoss: 0.071287\n",
            "{LSTM} Train Epoch: 19 [102/785 (86%)]\tLoss: 0.066450\n",
            "\n",
            "{LSTM} Validation set: Average loss: 4.4774, Accuracy: 21/87 (24%)\n",
            "\n"
          ],
          "name": "stdout"
        },
        {
          "output_type": "display_data",
          "data": {
            "application/javascript": [
              "window[\"7b1a024e-6ef6-11ea-a626-0242ac1c0002\"] = google.colab.output.setActiveOutputArea(window[\"79d8a2aa-6ef6-11ea-a626-0242ac1c0002\"]);\n",
              "//# sourceURL=js_152d90b0f1"
            ],
            "text/plain": [
              "<IPython.core.display.Javascript object>"
            ]
          },
          "metadata": {
            "tags": [
              "id10-2-0",
              "outputarea_id10"
            ]
          }
        },
        {
          "output_type": "display_data",
          "data": {
            "application/javascript": [
              "window[\"7b1a87c8-6ef6-11ea-a626-0242ac1c0002\"] = google.colab.output.getActiveOutputArea();\n",
              "//# sourceURL=js_c3f79dc1bd"
            ],
            "text/plain": [
              "<IPython.core.display.Javascript object>"
            ]
          },
          "metadata": {
            "tags": [
              "id10-1-0",
              "outputarea_id10"
            ]
          }
        },
        {
          "output_type": "display_data",
          "data": {
            "application/javascript": [
              "window[\"7b1aa4c4-6ef6-11ea-a626-0242ac1c0002\"] = document.querySelector(\"#id10-1-0\");\n",
              "//# sourceURL=js_efe3d6d374"
            ],
            "text/plain": [
              "<IPython.core.display.Javascript object>"
            ]
          },
          "metadata": {
            "tags": [
              "id10-1-0",
              "outputarea_id10"
            ]
          }
        },
        {
          "output_type": "display_data",
          "data": {
            "application/javascript": [
              "window[\"7b1ac1d4-6ef6-11ea-a626-0242ac1c0002\"] = google.colab.output.setActiveOutputArea(window[\"7b1aa4c4-6ef6-11ea-a626-0242ac1c0002\"]);\n",
              "//# sourceURL=js_a81e6008a6"
            ],
            "text/plain": [
              "<IPython.core.display.Javascript object>"
            ]
          },
          "metadata": {
            "tags": [
              "id10-1-0",
              "outputarea_id10"
            ]
          }
        },
        {
          "output_type": "display_data",
          "data": {
            "application/javascript": [
              "window[\"7b2fb9b8-6ef6-11ea-a626-0242ac1c0002\"] = google.colab.output.setActiveOutputArea(window[\"7b1a87c8-6ef6-11ea-a626-0242ac1c0002\"]);\n",
              "//# sourceURL=js_c7f481d717"
            ],
            "text/plain": [
              "<IPython.core.display.Javascript object>"
            ]
          },
          "metadata": {
            "tags": [
              "id10-1-0",
              "outputarea_id10"
            ]
          }
        },
        {
          "output_type": "display_data",
          "data": {
            "application/javascript": [
              "window[\"7b30374e-6ef6-11ea-a626-0242ac1c0002\"] = google.colab.output.getActiveOutputArea();\n",
              "//# sourceURL=js_878c57f2a1"
            ],
            "text/plain": [
              "<IPython.core.display.Javascript object>"
            ]
          },
          "metadata": {
            "tags": [
              "id10-2-0",
              "outputarea_id10"
            ]
          }
        },
        {
          "output_type": "display_data",
          "data": {
            "application/javascript": [
              "window[\"7b3052ba-6ef6-11ea-a626-0242ac1c0002\"] = document.querySelector(\"#id10-2-0\");\n",
              "//# sourceURL=js_ac450d3780"
            ],
            "text/plain": [
              "<IPython.core.display.Javascript object>"
            ]
          },
          "metadata": {
            "tags": [
              "id10-2-0",
              "outputarea_id10"
            ]
          }
        },
        {
          "output_type": "display_data",
          "data": {
            "application/javascript": [
              "window[\"7b306f70-6ef6-11ea-a626-0242ac1c0002\"] = google.colab.output.setActiveOutputArea(window[\"7b3052ba-6ef6-11ea-a626-0242ac1c0002\"]);\n",
              "//# sourceURL=js_55b7159686"
            ],
            "text/plain": [
              "<IPython.core.display.Javascript object>"
            ]
          },
          "metadata": {
            "tags": [
              "id10-2-0",
              "outputarea_id10"
            ]
          }
        },
        {
          "output_type": "stream",
          "text": [
            "{LSTM} Train Epoch: 20 [0/785 (0%)]\tLoss: 0.100935\n",
            "{LSTM} Train Epoch: 20 [128/785 (14%)]\tLoss: 0.141846\n",
            "{LSTM} Train Epoch: 20 [256/785 (29%)]\tLoss: 0.113645\n",
            "{LSTM} Train Epoch: 20 [384/785 (43%)]\tLoss: 0.054854\n",
            "{LSTM} Train Epoch: 20 [512/785 (57%)]\tLoss: 0.147437\n",
            "{LSTM} Train Epoch: 20 [640/785 (71%)]\tLoss: 0.058354\n",
            "{LSTM} Train Epoch: 20 [102/785 (86%)]\tLoss: 0.175570\n",
            "\n",
            "{LSTM} Validation set: Average loss: 4.5815, Accuracy: 23/87 (26%)\n",
            "\n"
          ],
          "name": "stdout"
        },
        {
          "output_type": "display_data",
          "data": {
            "application/javascript": [
              "window[\"7c6fdad8-6ef6-11ea-a626-0242ac1c0002\"] = google.colab.output.setActiveOutputArea(window[\"7b30374e-6ef6-11ea-a626-0242ac1c0002\"]);\n",
              "//# sourceURL=js_54e50e6425"
            ],
            "text/plain": [
              "<IPython.core.display.Javascript object>"
            ]
          },
          "metadata": {
            "tags": [
              "id10-2-0",
              "outputarea_id10"
            ]
          }
        },
        {
          "output_type": "display_data",
          "data": {
            "application/javascript": [
              "window[\"7c70b02a-6ef6-11ea-a626-0242ac1c0002\"] = google.colab.output.getActiveOutputArea();\n",
              "//# sourceURL=js_f64f41b3f2"
            ],
            "text/plain": [
              "<IPython.core.display.Javascript object>"
            ]
          },
          "metadata": {
            "tags": [
              "id10-1-0",
              "outputarea_id10"
            ]
          }
        },
        {
          "output_type": "display_data",
          "data": {
            "application/javascript": [
              "window[\"7c70e28e-6ef6-11ea-a626-0242ac1c0002\"] = document.querySelector(\"#id10-1-0\");\n",
              "//# sourceURL=js_9db9b5c0b7"
            ],
            "text/plain": [
              "<IPython.core.display.Javascript object>"
            ]
          },
          "metadata": {
            "tags": [
              "id10-1-0",
              "outputarea_id10"
            ]
          }
        },
        {
          "output_type": "display_data",
          "data": {
            "application/javascript": [
              "window[\"7c711ae2-6ef6-11ea-a626-0242ac1c0002\"] = google.colab.output.setActiveOutputArea(window[\"7c70e28e-6ef6-11ea-a626-0242ac1c0002\"]);\n",
              "//# sourceURL=js_029ec5d9f1"
            ],
            "text/plain": [
              "<IPython.core.display.Javascript object>"
            ]
          },
          "metadata": {
            "tags": [
              "id10-1-0",
              "outputarea_id10"
            ]
          }
        },
        {
          "output_type": "display_data",
          "data": {
            "application/javascript": [
              "window[\"7c86d4ae-6ef6-11ea-a626-0242ac1c0002\"] = google.colab.output.setActiveOutputArea(window[\"7c70b02a-6ef6-11ea-a626-0242ac1c0002\"]);\n",
              "//# sourceURL=js_04d98241d8"
            ],
            "text/plain": [
              "<IPython.core.display.Javascript object>"
            ]
          },
          "metadata": {
            "tags": [
              "id10-1-0",
              "outputarea_id10"
            ]
          }
        },
        {
          "output_type": "display_data",
          "data": {
            "application/javascript": [
              "window[\"7c87b6e4-6ef6-11ea-a626-0242ac1c0002\"] = google.colab.output.getActiveOutputArea();\n",
              "//# sourceURL=js_23558ad5d9"
            ],
            "text/plain": [
              "<IPython.core.display.Javascript object>"
            ]
          },
          "metadata": {
            "tags": [
              "id10-2-0",
              "outputarea_id10"
            ]
          }
        },
        {
          "output_type": "display_data",
          "data": {
            "application/javascript": [
              "window[\"7c87e77c-6ef6-11ea-a626-0242ac1c0002\"] = document.querySelector(\"#id10-2-0\");\n",
              "//# sourceURL=js_a2c855b1a7"
            ],
            "text/plain": [
              "<IPython.core.display.Javascript object>"
            ]
          },
          "metadata": {
            "tags": [
              "id10-2-0",
              "outputarea_id10"
            ]
          }
        },
        {
          "output_type": "display_data",
          "data": {
            "application/javascript": [
              "window[\"7c8811d4-6ef6-11ea-a626-0242ac1c0002\"] = google.colab.output.setActiveOutputArea(window[\"7c87e77c-6ef6-11ea-a626-0242ac1c0002\"]);\n",
              "//# sourceURL=js_6051f31d19"
            ],
            "text/plain": [
              "<IPython.core.display.Javascript object>"
            ]
          },
          "metadata": {
            "tags": [
              "id10-2-0",
              "outputarea_id10"
            ]
          }
        },
        {
          "output_type": "stream",
          "text": [
            "{LSTM} Train Epoch: 21 [0/785 (0%)]\tLoss: 0.033213\n",
            "{LSTM} Train Epoch: 21 [128/785 (14%)]\tLoss: 0.055772\n",
            "{LSTM} Train Epoch: 21 [256/785 (29%)]\tLoss: 0.090205\n",
            "{LSTM} Train Epoch: 21 [384/785 (43%)]\tLoss: 0.092223\n",
            "{LSTM} Train Epoch: 21 [512/785 (57%)]\tLoss: 0.145126\n",
            "{LSTM} Train Epoch: 21 [640/785 (71%)]\tLoss: 0.101823\n",
            "{LSTM} Train Epoch: 21 [102/785 (86%)]\tLoss: 0.003094\n",
            "\n",
            "{LSTM} Validation set: Average loss: 4.5360, Accuracy: 23/87 (26%)\n",
            "\n"
          ],
          "name": "stdout"
        },
        {
          "output_type": "display_data",
          "data": {
            "application/javascript": [
              "window[\"7dc95c74-6ef6-11ea-a626-0242ac1c0002\"] = google.colab.output.setActiveOutputArea(window[\"7c87b6e4-6ef6-11ea-a626-0242ac1c0002\"]);\n",
              "//# sourceURL=js_118ebfe9f6"
            ],
            "text/plain": [
              "<IPython.core.display.Javascript object>"
            ]
          },
          "metadata": {
            "tags": [
              "id10-2-0",
              "outputarea_id10"
            ]
          }
        },
        {
          "output_type": "display_data",
          "data": {
            "application/javascript": [
              "window[\"7dca4bde-6ef6-11ea-a626-0242ac1c0002\"] = google.colab.output.getActiveOutputArea();\n",
              "//# sourceURL=js_77bb5c3c24"
            ],
            "text/plain": [
              "<IPython.core.display.Javascript object>"
            ]
          },
          "metadata": {
            "tags": [
              "id10-1-0",
              "outputarea_id10"
            ]
          }
        },
        {
          "output_type": "display_data",
          "data": {
            "application/javascript": [
              "window[\"7dca7b36-6ef6-11ea-a626-0242ac1c0002\"] = document.querySelector(\"#id10-1-0\");\n",
              "//# sourceURL=js_dfdc1d7332"
            ],
            "text/plain": [
              "<IPython.core.display.Javascript object>"
            ]
          },
          "metadata": {
            "tags": [
              "id10-1-0",
              "outputarea_id10"
            ]
          }
        },
        {
          "output_type": "display_data",
          "data": {
            "application/javascript": [
              "window[\"7dcaa8fe-6ef6-11ea-a626-0242ac1c0002\"] = google.colab.output.setActiveOutputArea(window[\"7dca7b36-6ef6-11ea-a626-0242ac1c0002\"]);\n",
              "//# sourceURL=js_b9972c3540"
            ],
            "text/plain": [
              "<IPython.core.display.Javascript object>"
            ]
          },
          "metadata": {
            "tags": [
              "id10-1-0",
              "outputarea_id10"
            ]
          }
        },
        {
          "output_type": "display_data",
          "data": {
            "application/javascript": [
              "window[\"7de28352-6ef6-11ea-a626-0242ac1c0002\"] = google.colab.output.setActiveOutputArea(window[\"7dca4bde-6ef6-11ea-a626-0242ac1c0002\"]);\n",
              "//# sourceURL=js_48c444fa57"
            ],
            "text/plain": [
              "<IPython.core.display.Javascript object>"
            ]
          },
          "metadata": {
            "tags": [
              "id10-1-0",
              "outputarea_id10"
            ]
          }
        },
        {
          "output_type": "display_data",
          "data": {
            "application/javascript": [
              "window[\"7de377bc-6ef6-11ea-a626-0242ac1c0002\"] = google.colab.output.getActiveOutputArea();\n",
              "//# sourceURL=js_a50f869c77"
            ],
            "text/plain": [
              "<IPython.core.display.Javascript object>"
            ]
          },
          "metadata": {
            "tags": [
              "id10-2-0",
              "outputarea_id10"
            ]
          }
        },
        {
          "output_type": "display_data",
          "data": {
            "application/javascript": [
              "window[\"7de3a732-6ef6-11ea-a626-0242ac1c0002\"] = document.querySelector(\"#id10-2-0\");\n",
              "//# sourceURL=js_2a15704591"
            ],
            "text/plain": [
              "<IPython.core.display.Javascript object>"
            ]
          },
          "metadata": {
            "tags": [
              "id10-2-0",
              "outputarea_id10"
            ]
          }
        },
        {
          "output_type": "display_data",
          "data": {
            "application/javascript": [
              "window[\"7de3ce38-6ef6-11ea-a626-0242ac1c0002\"] = google.colab.output.setActiveOutputArea(window[\"7de3a732-6ef6-11ea-a626-0242ac1c0002\"]);\n",
              "//# sourceURL=js_c82c65ce39"
            ],
            "text/plain": [
              "<IPython.core.display.Javascript object>"
            ]
          },
          "metadata": {
            "tags": [
              "id10-2-0",
              "outputarea_id10"
            ]
          }
        },
        {
          "output_type": "stream",
          "text": [
            "\n",
            "{LSTM} Test set: Average loss: 5.5067, Accuracy: 6/96 (6%)\n",
            "\n",
            "\n"
          ],
          "name": "stdout"
        },
        {
          "output_type": "display_data",
          "data": {
            "application/javascript": [
              "window[\"7def378c-6ef6-11ea-a626-0242ac1c0002\"] = google.colab.output.setActiveOutputArea(window[\"7de377bc-6ef6-11ea-a626-0242ac1c0002\"]);\n",
              "//# sourceURL=js_942db6f131"
            ],
            "text/plain": [
              "<IPython.core.display.Javascript object>"
            ]
          },
          "metadata": {
            "tags": [
              "id10-2-0",
              "outputarea_id10"
            ]
          }
        },
        {
          "output_type": "display_data",
          "data": {
            "application/javascript": [
              "window[\"7f7e03da-6ef6-11ea-a626-0242ac1c0002\"] = google.colab.output.getActiveOutputArea();\n",
              "//# sourceURL=js_97a9f146ad"
            ],
            "text/plain": [
              "<IPython.core.display.Javascript object>"
            ]
          },
          "metadata": {
            "tags": [
              "id10-0-0",
              "outputarea_id10"
            ]
          }
        },
        {
          "output_type": "display_data",
          "data": {
            "application/javascript": [
              "window[\"7f7e4264-6ef6-11ea-a626-0242ac1c0002\"] = document.querySelector(\"#id10-0-0\");\n",
              "//# sourceURL=js_fc18ea1447"
            ],
            "text/plain": [
              "<IPython.core.display.Javascript object>"
            ]
          },
          "metadata": {
            "tags": [
              "id10-0-0",
              "outputarea_id10"
            ]
          }
        },
        {
          "output_type": "display_data",
          "data": {
            "application/javascript": [
              "window[\"7f7e7d60-6ef6-11ea-a626-0242ac1c0002\"] = google.colab.output.setActiveOutputArea(window[\"7f7e4264-6ef6-11ea-a626-0242ac1c0002\"]);\n",
              "//# sourceURL=js_552d1e2f76"
            ],
            "text/plain": [
              "<IPython.core.display.Javascript object>"
            ]
          },
          "metadata": {
            "tags": [
              "id10-0-0",
              "outputarea_id10"
            ]
          }
        },
        {
          "output_type": "stream",
          "text": [
            "Models written to ['/gdrive/My Drive/COMP762_IntentionMining/out/AIM_LSTM_DECA_within_0.9_2020-03-26_001234.joblib']\n"
          ],
          "name": "stdout"
        },
        {
          "output_type": "display_data",
          "data": {
            "application/javascript": [
              "window[\"7f7f0c4e-6ef6-11ea-a626-0242ac1c0002\"] = google.colab.output.setActiveOutputArea(window[\"7f7e03da-6ef6-11ea-a626-0242ac1c0002\"]);\n",
              "//# sourceURL=js_989daa1470"
            ],
            "text/plain": [
              "<IPython.core.display.Javascript object>"
            ]
          },
          "metadata": {
            "tags": [
              "id10-0-0",
              "outputarea_id10"
            ]
          }
        },
        {
          "output_type": "display_data",
          "data": {
            "application/javascript": [
              "window[\"7f892396-6ef6-11ea-a626-0242ac1c0002\"] = google.colab.output.getActiveOutputArea();\n",
              "//# sourceURL=js_43537a0545"
            ],
            "text/plain": [
              "<IPython.core.display.Javascript object>"
            ]
          },
          "metadata": {
            "tags": [
              "id10-0-0",
              "outputarea_id10"
            ]
          }
        },
        {
          "output_type": "display_data",
          "data": {
            "application/javascript": [
              "window[\"7f89569a-6ef6-11ea-a626-0242ac1c0002\"] = document.querySelector(\"#id10-0-0\");\n",
              "//# sourceURL=js_ffe7944d31"
            ],
            "text/plain": [
              "<IPython.core.display.Javascript object>"
            ]
          },
          "metadata": {
            "tags": [
              "id10-0-0",
              "outputarea_id10"
            ]
          }
        },
        {
          "output_type": "display_data",
          "data": {
            "application/javascript": [
              "window[\"7f898318-6ef6-11ea-a626-0242ac1c0002\"] = google.colab.output.setActiveOutputArea(window[\"7f89569a-6ef6-11ea-a626-0242ac1c0002\"]);\n",
              "//# sourceURL=js_1d6c5ecde7"
            ],
            "text/plain": [
              "<IPython.core.display.Javascript object>"
            ]
          },
          "metadata": {
            "tags": [
              "id10-0-0",
              "outputarea_id10"
            ]
          }
        },
        {
          "output_type": "stream",
          "text": [
            "Updated /gdrive/My Drive/COMP762_IntentionMining/data/AIM_LSTM_DECA_within_0.9.joblib\n"
          ],
          "name": "stdout"
        },
        {
          "output_type": "display_data",
          "data": {
            "application/javascript": [
              "window[\"7f8a0be4-6ef6-11ea-a626-0242ac1c0002\"] = google.colab.output.setActiveOutputArea(window[\"7f892396-6ef6-11ea-a626-0242ac1c0002\"]);\n",
              "//# sourceURL=js_a705477449"
            ],
            "text/plain": [
              "<IPython.core.display.Javascript object>"
            ]
          },
          "metadata": {
            "tags": [
              "id10-0-0",
              "outputarea_id10"
            ]
          }
        },
        {
          "output_type": "display_data",
          "data": {
            "application/javascript": [
              "window[\"80e2a140-6ef6-11ea-a626-0242ac1c0002\"] = google.colab.output.getActiveOutputArea();\n",
              "//# sourceURL=js_61cbc05d28"
            ],
            "text/plain": [
              "<IPython.core.display.Javascript object>"
            ]
          },
          "metadata": {
            "tags": [
              "id10-1-0",
              "outputarea_id10"
            ]
          }
        },
        {
          "output_type": "display_data",
          "data": {
            "application/javascript": [
              "window[\"80e2cbde-6ef6-11ea-a626-0242ac1c0002\"] = document.querySelector(\"#id10-1-0\");\n",
              "//# sourceURL=js_0cc97e7c54"
            ],
            "text/plain": [
              "<IPython.core.display.Javascript object>"
            ]
          },
          "metadata": {
            "tags": [
              "id10-1-0",
              "outputarea_id10"
            ]
          }
        },
        {
          "output_type": "display_data",
          "data": {
            "application/javascript": [
              "window[\"80e2f988-6ef6-11ea-a626-0242ac1c0002\"] = google.colab.output.setActiveOutputArea(window[\"80e2cbde-6ef6-11ea-a626-0242ac1c0002\"]);\n",
              "//# sourceURL=js_593ba62a08"
            ],
            "text/plain": [
              "<IPython.core.display.Javascript object>"
            ]
          },
          "metadata": {
            "tags": [
              "id10-1-0",
              "outputarea_id10"
            ]
          }
        },
        {
          "output_type": "display_data",
          "data": {
            "application/javascript": [
              "window[\"80f7de48-6ef6-11ea-a626-0242ac1c0002\"] = google.colab.output.setActiveOutputArea(window[\"80e2a140-6ef6-11ea-a626-0242ac1c0002\"]);\n",
              "//# sourceURL=js_700d243c36"
            ],
            "text/plain": [
              "<IPython.core.display.Javascript object>"
            ]
          },
          "metadata": {
            "tags": [
              "id10-1-0",
              "outputarea_id10"
            ]
          }
        },
        {
          "output_type": "display_data",
          "data": {
            "application/javascript": [
              "window[\"80f8d528-6ef6-11ea-a626-0242ac1c0002\"] = google.colab.output.getActiveOutputArea();\n",
              "//# sourceURL=js_6defcbf8a0"
            ],
            "text/plain": [
              "<IPython.core.display.Javascript object>"
            ]
          },
          "metadata": {
            "tags": [
              "id10-2-0",
              "outputarea_id10"
            ]
          }
        },
        {
          "output_type": "display_data",
          "data": {
            "application/javascript": [
              "window[\"80f8fcd8-6ef6-11ea-a626-0242ac1c0002\"] = document.querySelector(\"#id10-2-0\");\n",
              "//# sourceURL=js_b384a5d8b3"
            ],
            "text/plain": [
              "<IPython.core.display.Javascript object>"
            ]
          },
          "metadata": {
            "tags": [
              "id10-2-0",
              "outputarea_id10"
            ]
          }
        },
        {
          "output_type": "display_data",
          "data": {
            "application/javascript": [
              "window[\"80f92492-6ef6-11ea-a626-0242ac1c0002\"] = google.colab.output.setActiveOutputArea(window[\"80f8fcd8-6ef6-11ea-a626-0242ac1c0002\"]);\n",
              "//# sourceURL=js_1e705ee0b2"
            ],
            "text/plain": [
              "<IPython.core.display.Javascript object>"
            ]
          },
          "metadata": {
            "tags": [
              "id10-2-0",
              "outputarea_id10"
            ]
          }
        },
        {
          "output_type": "stream",
          "text": [
            "{CNN} Train Epoch: 1 [0/785 (0%)]\tLoss: 14.514368\n",
            "{CNN} Train Epoch: 1 [128/785 (14%)]\tLoss: 7.481918\n",
            "{CNN} Train Epoch: 1 [256/785 (29%)]\tLoss: 6.991713\n",
            "{CNN} Train Epoch: 1 [384/785 (43%)]\tLoss: 5.218980\n",
            "{CNN} Train Epoch: 1 [512/785 (57%)]\tLoss: 6.056833\n",
            "{CNN} Train Epoch: 1 [640/785 (71%)]\tLoss: 3.528871\n",
            "{CNN} Train Epoch: 1 [102/785 (86%)]\tLoss: 2.988820\n",
            "\n",
            "{CNN} Validation set: Average loss: 103.1644, Accuracy: 0/87 (0%)\n",
            "\n"
          ],
          "name": "stdout"
        },
        {
          "output_type": "display_data",
          "data": {
            "application/javascript": [
              "window[\"8114fa50-6ef6-11ea-a626-0242ac1c0002\"] = google.colab.output.setActiveOutputArea(window[\"80f8d528-6ef6-11ea-a626-0242ac1c0002\"]);\n",
              "//# sourceURL=js_59b342a62e"
            ],
            "text/plain": [
              "<IPython.core.display.Javascript object>"
            ]
          },
          "metadata": {
            "tags": [
              "id10-2-0",
              "outputarea_id10"
            ]
          }
        },
        {
          "output_type": "display_data",
          "data": {
            "application/javascript": [
              "window[\"8116b796-6ef6-11ea-a626-0242ac1c0002\"] = google.colab.output.getActiveOutputArea();\n",
              "//# sourceURL=js_9fa76141ee"
            ],
            "text/plain": [
              "<IPython.core.display.Javascript object>"
            ]
          },
          "metadata": {
            "tags": [
              "id10-1-0",
              "outputarea_id10"
            ]
          }
        },
        {
          "output_type": "display_data",
          "data": {
            "application/javascript": [
              "window[\"81170dfe-6ef6-11ea-a626-0242ac1c0002\"] = document.querySelector(\"#id10-1-0\");\n",
              "//# sourceURL=js_49a122b1c4"
            ],
            "text/plain": [
              "<IPython.core.display.Javascript object>"
            ]
          },
          "metadata": {
            "tags": [
              "id10-1-0",
              "outputarea_id10"
            ]
          }
        },
        {
          "output_type": "display_data",
          "data": {
            "application/javascript": [
              "window[\"8117519c-6ef6-11ea-a626-0242ac1c0002\"] = google.colab.output.setActiveOutputArea(window[\"81170dfe-6ef6-11ea-a626-0242ac1c0002\"]);\n",
              "//# sourceURL=js_d9cc10497c"
            ],
            "text/plain": [
              "<IPython.core.display.Javascript object>"
            ]
          },
          "metadata": {
            "tags": [
              "id10-1-0",
              "outputarea_id10"
            ]
          }
        },
        {
          "output_type": "display_data",
          "data": {
            "application/javascript": [
              "window[\"812e2660-6ef6-11ea-a626-0242ac1c0002\"] = google.colab.output.setActiveOutputArea(window[\"8116b796-6ef6-11ea-a626-0242ac1c0002\"]);\n",
              "//# sourceURL=js_b6ad4ec42b"
            ],
            "text/plain": [
              "<IPython.core.display.Javascript object>"
            ]
          },
          "metadata": {
            "tags": [
              "id10-1-0",
              "outputarea_id10"
            ]
          }
        },
        {
          "output_type": "display_data",
          "data": {
            "application/javascript": [
              "window[\"812f8fbe-6ef6-11ea-a626-0242ac1c0002\"] = google.colab.output.getActiveOutputArea();\n",
              "//# sourceURL=js_38afec827c"
            ],
            "text/plain": [
              "<IPython.core.display.Javascript object>"
            ]
          },
          "metadata": {
            "tags": [
              "id10-2-0",
              "outputarea_id10"
            ]
          }
        },
        {
          "output_type": "display_data",
          "data": {
            "application/javascript": [
              "window[\"812fbfc0-6ef6-11ea-a626-0242ac1c0002\"] = document.querySelector(\"#id10-2-0\");\n",
              "//# sourceURL=js_c7df23f5b7"
            ],
            "text/plain": [
              "<IPython.core.display.Javascript object>"
            ]
          },
          "metadata": {
            "tags": [
              "id10-2-0",
              "outputarea_id10"
            ]
          }
        },
        {
          "output_type": "display_data",
          "data": {
            "application/javascript": [
              "window[\"812ff8b4-6ef6-11ea-a626-0242ac1c0002\"] = google.colab.output.setActiveOutputArea(window[\"812fbfc0-6ef6-11ea-a626-0242ac1c0002\"]);\n",
              "//# sourceURL=js_d4039cffa6"
            ],
            "text/plain": [
              "<IPython.core.display.Javascript object>"
            ]
          },
          "metadata": {
            "tags": [
              "id10-2-0",
              "outputarea_id10"
            ]
          }
        },
        {
          "output_type": "stream",
          "text": [
            "{CNN} Train Epoch: 2 [0/785 (0%)]\tLoss: 5.440619\n",
            "{CNN} Train Epoch: 2 [128/785 (14%)]\tLoss: 6.339695\n",
            "{CNN} Train Epoch: 2 [256/785 (29%)]\tLoss: 3.272485\n",
            "{CNN} Train Epoch: 2 [384/785 (43%)]\tLoss: 3.018907\n",
            "{CNN} Train Epoch: 2 [512/785 (57%)]\tLoss: 4.704645\n",
            "{CNN} Train Epoch: 2 [640/785 (71%)]\tLoss: 3.194541\n",
            "{CNN} Train Epoch: 2 [102/785 (86%)]\tLoss: 3.344444\n",
            "\n",
            "{CNN} Validation set: Average loss: 128.7750, Accuracy: 0/87 (0%)\n",
            "\n"
          ],
          "name": "stdout"
        },
        {
          "output_type": "display_data",
          "data": {
            "application/javascript": [
              "window[\"8149aff2-6ef6-11ea-a626-0242ac1c0002\"] = google.colab.output.setActiveOutputArea(window[\"812f8fbe-6ef6-11ea-a626-0242ac1c0002\"]);\n",
              "//# sourceURL=js_2660f8e108"
            ],
            "text/plain": [
              "<IPython.core.display.Javascript object>"
            ]
          },
          "metadata": {
            "tags": [
              "id10-2-0",
              "outputarea_id10"
            ]
          }
        },
        {
          "output_type": "display_data",
          "data": {
            "application/javascript": [
              "window[\"814ac61c-6ef6-11ea-a626-0242ac1c0002\"] = google.colab.output.getActiveOutputArea();\n",
              "//# sourceURL=js_8ca596a0eb"
            ],
            "text/plain": [
              "<IPython.core.display.Javascript object>"
            ]
          },
          "metadata": {
            "tags": [
              "id10-1-0",
              "outputarea_id10"
            ]
          }
        },
        {
          "output_type": "display_data",
          "data": {
            "application/javascript": [
              "window[\"814b0348-6ef6-11ea-a626-0242ac1c0002\"] = document.querySelector(\"#id10-1-0\");\n",
              "//# sourceURL=js_5386f66e5d"
            ],
            "text/plain": [
              "<IPython.core.display.Javascript object>"
            ]
          },
          "metadata": {
            "tags": [
              "id10-1-0",
              "outputarea_id10"
            ]
          }
        },
        {
          "output_type": "display_data",
          "data": {
            "application/javascript": [
              "window[\"814b44fc-6ef6-11ea-a626-0242ac1c0002\"] = google.colab.output.setActiveOutputArea(window[\"814b0348-6ef6-11ea-a626-0242ac1c0002\"]);\n",
              "//# sourceURL=js_7e3d2b3f81"
            ],
            "text/plain": [
              "<IPython.core.display.Javascript object>"
            ]
          },
          "metadata": {
            "tags": [
              "id10-1-0",
              "outputarea_id10"
            ]
          }
        },
        {
          "output_type": "display_data",
          "data": {
            "application/javascript": [
              "window[\"81622f78-6ef6-11ea-a626-0242ac1c0002\"] = google.colab.output.setActiveOutputArea(window[\"814ac61c-6ef6-11ea-a626-0242ac1c0002\"]);\n",
              "//# sourceURL=js_a828d30522"
            ],
            "text/plain": [
              "<IPython.core.display.Javascript object>"
            ]
          },
          "metadata": {
            "tags": [
              "id10-1-0",
              "outputarea_id10"
            ]
          }
        },
        {
          "output_type": "display_data",
          "data": {
            "application/javascript": [
              "window[\"8163d08a-6ef6-11ea-a626-0242ac1c0002\"] = google.colab.output.getActiveOutputArea();\n",
              "//# sourceURL=js_ee36298427"
            ],
            "text/plain": [
              "<IPython.core.display.Javascript object>"
            ]
          },
          "metadata": {
            "tags": [
              "id10-2-0",
              "outputarea_id10"
            ]
          }
        },
        {
          "output_type": "display_data",
          "data": {
            "application/javascript": [
              "window[\"81640c1c-6ef6-11ea-a626-0242ac1c0002\"] = document.querySelector(\"#id10-2-0\");\n",
              "//# sourceURL=js_6844b91d76"
            ],
            "text/plain": [
              "<IPython.core.display.Javascript object>"
            ]
          },
          "metadata": {
            "tags": [
              "id10-2-0",
              "outputarea_id10"
            ]
          }
        },
        {
          "output_type": "display_data",
          "data": {
            "application/javascript": [
              "window[\"81643f02-6ef6-11ea-a626-0242ac1c0002\"] = google.colab.output.setActiveOutputArea(window[\"81640c1c-6ef6-11ea-a626-0242ac1c0002\"]);\n",
              "//# sourceURL=js_dc70a2db4a"
            ],
            "text/plain": [
              "<IPython.core.display.Javascript object>"
            ]
          },
          "metadata": {
            "tags": [
              "id10-2-0",
              "outputarea_id10"
            ]
          }
        },
        {
          "output_type": "stream",
          "text": [
            "{CNN} Train Epoch: 3 [0/785 (0%)]\tLoss: 3.498946\n",
            "{CNN} Train Epoch: 3 [128/785 (14%)]\tLoss: 5.428066\n",
            "{CNN} Train Epoch: 3 [256/785 (29%)]\tLoss: 2.704495\n",
            "{CNN} Train Epoch: 3 [384/785 (43%)]\tLoss: 2.773367\n",
            "{CNN} Train Epoch: 3 [512/785 (57%)]\tLoss: 3.329252\n",
            "{CNN} Train Epoch: 3 [640/785 (71%)]\tLoss: 3.083489\n",
            "{CNN} Train Epoch: 3 [102/785 (86%)]\tLoss: 2.826229\n",
            "\n",
            "{CNN} Validation set: Average loss: 117.5267, Accuracy: 6/87 (7%)\n",
            "\n"
          ],
          "name": "stdout"
        },
        {
          "output_type": "display_data",
          "data": {
            "application/javascript": [
              "window[\"817db400-6ef6-11ea-a626-0242ac1c0002\"] = google.colab.output.setActiveOutputArea(window[\"8163d08a-6ef6-11ea-a626-0242ac1c0002\"]);\n",
              "//# sourceURL=js_1635f6d057"
            ],
            "text/plain": [
              "<IPython.core.display.Javascript object>"
            ]
          },
          "metadata": {
            "tags": [
              "id10-2-0",
              "outputarea_id10"
            ]
          }
        },
        {
          "output_type": "display_data",
          "data": {
            "application/javascript": [
              "window[\"817f0026-6ef6-11ea-a626-0242ac1c0002\"] = google.colab.output.getActiveOutputArea();\n",
              "//# sourceURL=js_4c133f195b"
            ],
            "text/plain": [
              "<IPython.core.display.Javascript object>"
            ]
          },
          "metadata": {
            "tags": [
              "id10-1-0",
              "outputarea_id10"
            ]
          }
        },
        {
          "output_type": "display_data",
          "data": {
            "application/javascript": [
              "window[\"817f436a-6ef6-11ea-a626-0242ac1c0002\"] = document.querySelector(\"#id10-1-0\");\n",
              "//# sourceURL=js_6b75c8bd73"
            ],
            "text/plain": [
              "<IPython.core.display.Javascript object>"
            ]
          },
          "metadata": {
            "tags": [
              "id10-1-0",
              "outputarea_id10"
            ]
          }
        },
        {
          "output_type": "display_data",
          "data": {
            "application/javascript": [
              "window[\"817f78e4-6ef6-11ea-a626-0242ac1c0002\"] = google.colab.output.setActiveOutputArea(window[\"817f436a-6ef6-11ea-a626-0242ac1c0002\"]);\n",
              "//# sourceURL=js_68586f3a97"
            ],
            "text/plain": [
              "<IPython.core.display.Javascript object>"
            ]
          },
          "metadata": {
            "tags": [
              "id10-1-0",
              "outputarea_id10"
            ]
          }
        },
        {
          "output_type": "display_data",
          "data": {
            "application/javascript": [
              "window[\"8194ada4-6ef6-11ea-a626-0242ac1c0002\"] = google.colab.output.setActiveOutputArea(window[\"817f0026-6ef6-11ea-a626-0242ac1c0002\"]);\n",
              "//# sourceURL=js_90cd043453"
            ],
            "text/plain": [
              "<IPython.core.display.Javascript object>"
            ]
          },
          "metadata": {
            "tags": [
              "id10-1-0",
              "outputarea_id10"
            ]
          }
        },
        {
          "output_type": "display_data",
          "data": {
            "application/javascript": [
              "window[\"8195c66c-6ef6-11ea-a626-0242ac1c0002\"] = google.colab.output.getActiveOutputArea();\n",
              "//# sourceURL=js_5969d6ef59"
            ],
            "text/plain": [
              "<IPython.core.display.Javascript object>"
            ]
          },
          "metadata": {
            "tags": [
              "id10-2-0",
              "outputarea_id10"
            ]
          }
        },
        {
          "output_type": "display_data",
          "data": {
            "application/javascript": [
              "window[\"8195fbe6-6ef6-11ea-a626-0242ac1c0002\"] = document.querySelector(\"#id10-2-0\");\n",
              "//# sourceURL=js_a9f6b5a5ea"
            ],
            "text/plain": [
              "<IPython.core.display.Javascript object>"
            ]
          },
          "metadata": {
            "tags": [
              "id10-2-0",
              "outputarea_id10"
            ]
          }
        },
        {
          "output_type": "display_data",
          "data": {
            "application/javascript": [
              "window[\"819630c0-6ef6-11ea-a626-0242ac1c0002\"] = google.colab.output.setActiveOutputArea(window[\"8195fbe6-6ef6-11ea-a626-0242ac1c0002\"]);\n",
              "//# sourceURL=js_872bea0a7e"
            ],
            "text/plain": [
              "<IPython.core.display.Javascript object>"
            ]
          },
          "metadata": {
            "tags": [
              "id10-2-0",
              "outputarea_id10"
            ]
          }
        },
        {
          "output_type": "stream",
          "text": [
            "{CNN} Train Epoch: 4 [0/785 (0%)]\tLoss: 3.466085\n",
            "{CNN} Train Epoch: 4 [128/785 (14%)]\tLoss: 3.132490\n",
            "{CNN} Train Epoch: 4 [256/785 (29%)]\tLoss: 1.766389\n",
            "{CNN} Train Epoch: 4 [384/785 (43%)]\tLoss: 5.524879\n",
            "{CNN} Train Epoch: 4 [512/785 (57%)]\tLoss: 2.011267\n",
            "{CNN} Train Epoch: 4 [640/785 (71%)]\tLoss: 1.850140\n",
            "{CNN} Train Epoch: 4 [102/785 (86%)]\tLoss: 2.417959\n",
            "\n",
            "{CNN} Validation set: Average loss: 100.6181, Accuracy: 19/87 (22%)\n",
            "\n"
          ],
          "name": "stdout"
        },
        {
          "output_type": "display_data",
          "data": {
            "application/javascript": [
              "window[\"81b016ca-6ef6-11ea-a626-0242ac1c0002\"] = google.colab.output.setActiveOutputArea(window[\"8195c66c-6ef6-11ea-a626-0242ac1c0002\"]);\n",
              "//# sourceURL=js_4394de4551"
            ],
            "text/plain": [
              "<IPython.core.display.Javascript object>"
            ]
          },
          "metadata": {
            "tags": [
              "id10-2-0",
              "outputarea_id10"
            ]
          }
        },
        {
          "output_type": "display_data",
          "data": {
            "application/javascript": [
              "window[\"81b122d6-6ef6-11ea-a626-0242ac1c0002\"] = google.colab.output.getActiveOutputArea();\n",
              "//# sourceURL=js_99df8fd08f"
            ],
            "text/plain": [
              "<IPython.core.display.Javascript object>"
            ]
          },
          "metadata": {
            "tags": [
              "id10-1-0",
              "outputarea_id10"
            ]
          }
        },
        {
          "output_type": "display_data",
          "data": {
            "application/javascript": [
              "window[\"81b142ca-6ef6-11ea-a626-0242ac1c0002\"] = document.querySelector(\"#id10-1-0\");\n",
              "//# sourceURL=js_cfc1c34dea"
            ],
            "text/plain": [
              "<IPython.core.display.Javascript object>"
            ]
          },
          "metadata": {
            "tags": [
              "id10-1-0",
              "outputarea_id10"
            ]
          }
        },
        {
          "output_type": "display_data",
          "data": {
            "application/javascript": [
              "window[\"81b16052-6ef6-11ea-a626-0242ac1c0002\"] = google.colab.output.setActiveOutputArea(window[\"81b142ca-6ef6-11ea-a626-0242ac1c0002\"]);\n",
              "//# sourceURL=js_6fc6c77909"
            ],
            "text/plain": [
              "<IPython.core.display.Javascript object>"
            ]
          },
          "metadata": {
            "tags": [
              "id10-1-0",
              "outputarea_id10"
            ]
          }
        },
        {
          "output_type": "display_data",
          "data": {
            "application/javascript": [
              "window[\"81c6bce0-6ef6-11ea-a626-0242ac1c0002\"] = google.colab.output.setActiveOutputArea(window[\"81b122d6-6ef6-11ea-a626-0242ac1c0002\"]);\n",
              "//# sourceURL=js_49bf105c65"
            ],
            "text/plain": [
              "<IPython.core.display.Javascript object>"
            ]
          },
          "metadata": {
            "tags": [
              "id10-1-0",
              "outputarea_id10"
            ]
          }
        },
        {
          "output_type": "display_data",
          "data": {
            "application/javascript": [
              "window[\"81c79e94-6ef6-11ea-a626-0242ac1c0002\"] = google.colab.output.getActiveOutputArea();\n",
              "//# sourceURL=js_29fec861d2"
            ],
            "text/plain": [
              "<IPython.core.display.Javascript object>"
            ]
          },
          "metadata": {
            "tags": [
              "id10-2-0",
              "outputarea_id10"
            ]
          }
        },
        {
          "output_type": "display_data",
          "data": {
            "application/javascript": [
              "window[\"81c7cad6-6ef6-11ea-a626-0242ac1c0002\"] = document.querySelector(\"#id10-2-0\");\n",
              "//# sourceURL=js_0821e7a207"
            ],
            "text/plain": [
              "<IPython.core.display.Javascript object>"
            ]
          },
          "metadata": {
            "tags": [
              "id10-2-0",
              "outputarea_id10"
            ]
          }
        },
        {
          "output_type": "display_data",
          "data": {
            "application/javascript": [
              "window[\"81c7f48e-6ef6-11ea-a626-0242ac1c0002\"] = google.colab.output.setActiveOutputArea(window[\"81c7cad6-6ef6-11ea-a626-0242ac1c0002\"]);\n",
              "//# sourceURL=js_e3cbffbd81"
            ],
            "text/plain": [
              "<IPython.core.display.Javascript object>"
            ]
          },
          "metadata": {
            "tags": [
              "id10-2-0",
              "outputarea_id10"
            ]
          }
        },
        {
          "output_type": "stream",
          "text": [
            "{CNN} Train Epoch: 5 [0/785 (0%)]\tLoss: 4.345589\n",
            "{CNN} Train Epoch: 5 [128/785 (14%)]\tLoss: 2.826072\n",
            "{CNN} Train Epoch: 5 [256/785 (29%)]\tLoss: 1.344850\n",
            "{CNN} Train Epoch: 5 [384/785 (43%)]\tLoss: 2.050788\n",
            "{CNN} Train Epoch: 5 [512/785 (57%)]\tLoss: 2.381523\n",
            "{CNN} Train Epoch: 5 [640/785 (71%)]\tLoss: 2.378855\n",
            "{CNN} Train Epoch: 5 [102/785 (86%)]\tLoss: 2.316128\n",
            "\n",
            "{CNN} Validation set: Average loss: 89.0762, Accuracy: 2/87 (2%)\n",
            "\n"
          ],
          "name": "stdout"
        },
        {
          "output_type": "display_data",
          "data": {
            "application/javascript": [
              "window[\"81e14498-6ef6-11ea-a626-0242ac1c0002\"] = google.colab.output.setActiveOutputArea(window[\"81c79e94-6ef6-11ea-a626-0242ac1c0002\"]);\n",
              "//# sourceURL=js_fa3a3343a7"
            ],
            "text/plain": [
              "<IPython.core.display.Javascript object>"
            ]
          },
          "metadata": {
            "tags": [
              "id10-2-0",
              "outputarea_id10"
            ]
          }
        },
        {
          "output_type": "display_data",
          "data": {
            "application/javascript": [
              "window[\"81e1ee66-6ef6-11ea-a626-0242ac1c0002\"] = google.colab.output.getActiveOutputArea();\n",
              "//# sourceURL=js_efc98409d0"
            ],
            "text/plain": [
              "<IPython.core.display.Javascript object>"
            ]
          },
          "metadata": {
            "tags": [
              "id10-1-0",
              "outputarea_id10"
            ]
          }
        },
        {
          "output_type": "display_data",
          "data": {
            "application/javascript": [
              "window[\"81e211fc-6ef6-11ea-a626-0242ac1c0002\"] = document.querySelector(\"#id10-1-0\");\n",
              "//# sourceURL=js_88f7352047"
            ],
            "text/plain": [
              "<IPython.core.display.Javascript object>"
            ]
          },
          "metadata": {
            "tags": [
              "id10-1-0",
              "outputarea_id10"
            ]
          }
        },
        {
          "output_type": "display_data",
          "data": {
            "application/javascript": [
              "window[\"81e2333a-6ef6-11ea-a626-0242ac1c0002\"] = google.colab.output.setActiveOutputArea(window[\"81e211fc-6ef6-11ea-a626-0242ac1c0002\"]);\n",
              "//# sourceURL=js_2f227e925a"
            ],
            "text/plain": [
              "<IPython.core.display.Javascript object>"
            ]
          },
          "metadata": {
            "tags": [
              "id10-1-0",
              "outputarea_id10"
            ]
          }
        },
        {
          "output_type": "display_data",
          "data": {
            "application/javascript": [
              "window[\"81f845ee-6ef6-11ea-a626-0242ac1c0002\"] = google.colab.output.setActiveOutputArea(window[\"81e1ee66-6ef6-11ea-a626-0242ac1c0002\"]);\n",
              "//# sourceURL=js_b34a6ed903"
            ],
            "text/plain": [
              "<IPython.core.display.Javascript object>"
            ]
          },
          "metadata": {
            "tags": [
              "id10-1-0",
              "outputarea_id10"
            ]
          }
        },
        {
          "output_type": "display_data",
          "data": {
            "application/javascript": [
              "window[\"81f99192-6ef6-11ea-a626-0242ac1c0002\"] = google.colab.output.getActiveOutputArea();\n",
              "//# sourceURL=js_6659a92102"
            ],
            "text/plain": [
              "<IPython.core.display.Javascript object>"
            ]
          },
          "metadata": {
            "tags": [
              "id10-2-0",
              "outputarea_id10"
            ]
          }
        },
        {
          "output_type": "display_data",
          "data": {
            "application/javascript": [
              "window[\"81f9c2b6-6ef6-11ea-a626-0242ac1c0002\"] = document.querySelector(\"#id10-2-0\");\n",
              "//# sourceURL=js_c0caae2019"
            ],
            "text/plain": [
              "<IPython.core.display.Javascript object>"
            ]
          },
          "metadata": {
            "tags": [
              "id10-2-0",
              "outputarea_id10"
            ]
          }
        },
        {
          "output_type": "display_data",
          "data": {
            "application/javascript": [
              "window[\"81f9fb50-6ef6-11ea-a626-0242ac1c0002\"] = google.colab.output.setActiveOutputArea(window[\"81f9c2b6-6ef6-11ea-a626-0242ac1c0002\"]);\n",
              "//# sourceURL=js_ed9d8858e6"
            ],
            "text/plain": [
              "<IPython.core.display.Javascript object>"
            ]
          },
          "metadata": {
            "tags": [
              "id10-2-0",
              "outputarea_id10"
            ]
          }
        },
        {
          "output_type": "stream",
          "text": [
            "{CNN} Train Epoch: 6 [0/785 (0%)]\tLoss: 2.447751\n",
            "{CNN} Train Epoch: 6 [128/785 (14%)]\tLoss: 1.368393\n",
            "{CNN} Train Epoch: 6 [256/785 (29%)]\tLoss: 2.501271\n",
            "{CNN} Train Epoch: 6 [384/785 (43%)]\tLoss: 1.717656\n",
            "{CNN} Train Epoch: 6 [512/785 (57%)]\tLoss: 2.548100\n",
            "{CNN} Train Epoch: 6 [640/785 (71%)]\tLoss: 1.194715\n",
            "{CNN} Train Epoch: 6 [102/785 (86%)]\tLoss: 0.761876\n",
            "\n",
            "{CNN} Validation set: Average loss: 79.2188, Accuracy: 10/87 (11%)\n",
            "\n"
          ],
          "name": "stdout"
        },
        {
          "output_type": "display_data",
          "data": {
            "application/javascript": [
              "window[\"8213af32-6ef6-11ea-a626-0242ac1c0002\"] = google.colab.output.setActiveOutputArea(window[\"81f99192-6ef6-11ea-a626-0242ac1c0002\"]);\n",
              "//# sourceURL=js_8d420be15d"
            ],
            "text/plain": [
              "<IPython.core.display.Javascript object>"
            ]
          },
          "metadata": {
            "tags": [
              "id10-2-0",
              "outputarea_id10"
            ]
          }
        },
        {
          "output_type": "display_data",
          "data": {
            "application/javascript": [
              "window[\"8214c4b2-6ef6-11ea-a626-0242ac1c0002\"] = google.colab.output.getActiveOutputArea();\n",
              "//# sourceURL=js_60452f5ea3"
            ],
            "text/plain": [
              "<IPython.core.display.Javascript object>"
            ]
          },
          "metadata": {
            "tags": [
              "id10-1-0",
              "outputarea_id10"
            ]
          }
        },
        {
          "output_type": "display_data",
          "data": {
            "application/javascript": [
              "window[\"8214fda6-6ef6-11ea-a626-0242ac1c0002\"] = document.querySelector(\"#id10-1-0\");\n",
              "//# sourceURL=js_351636b063"
            ],
            "text/plain": [
              "<IPython.core.display.Javascript object>"
            ]
          },
          "metadata": {
            "tags": [
              "id10-1-0",
              "outputarea_id10"
            ]
          }
        },
        {
          "output_type": "display_data",
          "data": {
            "application/javascript": [
              "window[\"821532e4-6ef6-11ea-a626-0242ac1c0002\"] = google.colab.output.setActiveOutputArea(window[\"8214fda6-6ef6-11ea-a626-0242ac1c0002\"]);\n",
              "//# sourceURL=js_8a0a212099"
            ],
            "text/plain": [
              "<IPython.core.display.Javascript object>"
            ]
          },
          "metadata": {
            "tags": [
              "id10-1-0",
              "outputarea_id10"
            ]
          }
        },
        {
          "output_type": "display_data",
          "data": {
            "application/javascript": [
              "window[\"822a9170-6ef6-11ea-a626-0242ac1c0002\"] = google.colab.output.setActiveOutputArea(window[\"8214c4b2-6ef6-11ea-a626-0242ac1c0002\"]);\n",
              "//# sourceURL=js_08770e241b"
            ],
            "text/plain": [
              "<IPython.core.display.Javascript object>"
            ]
          },
          "metadata": {
            "tags": [
              "id10-1-0",
              "outputarea_id10"
            ]
          }
        },
        {
          "output_type": "display_data",
          "data": {
            "application/javascript": [
              "window[\"822beb60-6ef6-11ea-a626-0242ac1c0002\"] = google.colab.output.getActiveOutputArea();\n",
              "//# sourceURL=js_d580ac45d6"
            ],
            "text/plain": [
              "<IPython.core.display.Javascript object>"
            ]
          },
          "metadata": {
            "tags": [
              "id10-2-0",
              "outputarea_id10"
            ]
          }
        },
        {
          "output_type": "display_data",
          "data": {
            "application/javascript": [
              "window[\"822c2620-6ef6-11ea-a626-0242ac1c0002\"] = document.querySelector(\"#id10-2-0\");\n",
              "//# sourceURL=js_2a438cd935"
            ],
            "text/plain": [
              "<IPython.core.display.Javascript object>"
            ]
          },
          "metadata": {
            "tags": [
              "id10-2-0",
              "outputarea_id10"
            ]
          }
        },
        {
          "output_type": "display_data",
          "data": {
            "application/javascript": [
              "window[\"822c54ce-6ef6-11ea-a626-0242ac1c0002\"] = google.colab.output.setActiveOutputArea(window[\"822c2620-6ef6-11ea-a626-0242ac1c0002\"]);\n",
              "//# sourceURL=js_4d8795dddf"
            ],
            "text/plain": [
              "<IPython.core.display.Javascript object>"
            ]
          },
          "metadata": {
            "tags": [
              "id10-2-0",
              "outputarea_id10"
            ]
          }
        },
        {
          "output_type": "stream",
          "text": [
            "{CNN} Train Epoch: 7 [0/785 (0%)]\tLoss: 1.213120\n",
            "{CNN} Train Epoch: 7 [128/785 (14%)]\tLoss: 1.489160\n",
            "{CNN} Train Epoch: 7 [256/785 (29%)]\tLoss: 1.919839\n",
            "{CNN} Train Epoch: 7 [384/785 (43%)]\tLoss: 1.137604\n",
            "{CNN} Train Epoch: 7 [512/785 (57%)]\tLoss: 2.014461\n",
            "{CNN} Train Epoch: 7 [640/785 (71%)]\tLoss: 2.232061\n",
            "{CNN} Train Epoch: 7 [102/785 (86%)]\tLoss: 0.729978\n",
            "\n",
            "{CNN} Validation set: Average loss: 70.8787, Accuracy: 5/87 (6%)\n",
            "\n"
          ],
          "name": "stdout"
        },
        {
          "output_type": "display_data",
          "data": {
            "application/javascript": [
              "window[\"82460e3c-6ef6-11ea-a626-0242ac1c0002\"] = google.colab.output.setActiveOutputArea(window[\"822beb60-6ef6-11ea-a626-0242ac1c0002\"]);\n",
              "//# sourceURL=js_c8cec7d724"
            ],
            "text/plain": [
              "<IPython.core.display.Javascript object>"
            ]
          },
          "metadata": {
            "tags": [
              "id10-2-0",
              "outputarea_id10"
            ]
          }
        },
        {
          "output_type": "display_data",
          "data": {
            "application/javascript": [
              "window[\"82471c14-6ef6-11ea-a626-0242ac1c0002\"] = google.colab.output.getActiveOutputArea();\n",
              "//# sourceURL=js_20170e43f3"
            ],
            "text/plain": [
              "<IPython.core.display.Javascript object>"
            ]
          },
          "metadata": {
            "tags": [
              "id10-1-0",
              "outputarea_id10"
            ]
          }
        },
        {
          "output_type": "display_data",
          "data": {
            "application/javascript": [
              "window[\"82475094-6ef6-11ea-a626-0242ac1c0002\"] = document.querySelector(\"#id10-1-0\");\n",
              "//# sourceURL=js_217583ca62"
            ],
            "text/plain": [
              "<IPython.core.display.Javascript object>"
            ]
          },
          "metadata": {
            "tags": [
              "id10-1-0",
              "outputarea_id10"
            ]
          }
        },
        {
          "output_type": "display_data",
          "data": {
            "application/javascript": [
              "window[\"824784b0-6ef6-11ea-a626-0242ac1c0002\"] = google.colab.output.setActiveOutputArea(window[\"82475094-6ef6-11ea-a626-0242ac1c0002\"]);\n",
              "//# sourceURL=js_ef2b7bc361"
            ],
            "text/plain": [
              "<IPython.core.display.Javascript object>"
            ]
          },
          "metadata": {
            "tags": [
              "id10-1-0",
              "outputarea_id10"
            ]
          }
        },
        {
          "output_type": "display_data",
          "data": {
            "application/javascript": [
              "window[\"825d8224-6ef6-11ea-a626-0242ac1c0002\"] = google.colab.output.setActiveOutputArea(window[\"82471c14-6ef6-11ea-a626-0242ac1c0002\"]);\n",
              "//# sourceURL=js_effe4f0861"
            ],
            "text/plain": [
              "<IPython.core.display.Javascript object>"
            ]
          },
          "metadata": {
            "tags": [
              "id10-1-0",
              "outputarea_id10"
            ]
          }
        },
        {
          "output_type": "display_data",
          "data": {
            "application/javascript": [
              "window[\"825ed804-6ef6-11ea-a626-0242ac1c0002\"] = google.colab.output.getActiveOutputArea();\n",
              "//# sourceURL=js_8b11a9f610"
            ],
            "text/plain": [
              "<IPython.core.display.Javascript object>"
            ]
          },
          "metadata": {
            "tags": [
              "id10-2-0",
              "outputarea_id10"
            ]
          }
        },
        {
          "output_type": "display_data",
          "data": {
            "application/javascript": [
              "window[\"825f1116-6ef6-11ea-a626-0242ac1c0002\"] = document.querySelector(\"#id10-2-0\");\n",
              "//# sourceURL=js_f6acc0488e"
            ],
            "text/plain": [
              "<IPython.core.display.Javascript object>"
            ]
          },
          "metadata": {
            "tags": [
              "id10-2-0",
              "outputarea_id10"
            ]
          }
        },
        {
          "output_type": "display_data",
          "data": {
            "application/javascript": [
              "window[\"825f3b46-6ef6-11ea-a626-0242ac1c0002\"] = google.colab.output.setActiveOutputArea(window[\"825f1116-6ef6-11ea-a626-0242ac1c0002\"]);\n",
              "//# sourceURL=js_9c19d0bfac"
            ],
            "text/plain": [
              "<IPython.core.display.Javascript object>"
            ]
          },
          "metadata": {
            "tags": [
              "id10-2-0",
              "outputarea_id10"
            ]
          }
        },
        {
          "output_type": "stream",
          "text": [
            "{CNN} Train Epoch: 8 [0/785 (0%)]\tLoss: 0.872275\n",
            "{CNN} Train Epoch: 8 [128/785 (14%)]\tLoss: 0.804081\n",
            "{CNN} Train Epoch: 8 [256/785 (29%)]\tLoss: 1.301910\n",
            "{CNN} Train Epoch: 8 [384/785 (43%)]\tLoss: 1.328562\n",
            "{CNN} Train Epoch: 8 [512/785 (57%)]\tLoss: 1.174572\n",
            "{CNN} Train Epoch: 8 [640/785 (71%)]\tLoss: 2.673525\n",
            "{CNN} Train Epoch: 8 [102/785 (86%)]\tLoss: 1.449317\n",
            "\n",
            "{CNN} Validation set: Average loss: 61.9840, Accuracy: 9/87 (10%)\n",
            "\n"
          ],
          "name": "stdout"
        },
        {
          "output_type": "display_data",
          "data": {
            "application/javascript": [
              "window[\"8278ca70-6ef6-11ea-a626-0242ac1c0002\"] = google.colab.output.setActiveOutputArea(window[\"825ed804-6ef6-11ea-a626-0242ac1c0002\"]);\n",
              "//# sourceURL=js_11a8795d54"
            ],
            "text/plain": [
              "<IPython.core.display.Javascript object>"
            ]
          },
          "metadata": {
            "tags": [
              "id10-2-0",
              "outputarea_id10"
            ]
          }
        },
        {
          "output_type": "display_data",
          "data": {
            "application/javascript": [
              "window[\"827a599e-6ef6-11ea-a626-0242ac1c0002\"] = google.colab.output.getActiveOutputArea();\n",
              "//# sourceURL=js_427027b8f7"
            ],
            "text/plain": [
              "<IPython.core.display.Javascript object>"
            ]
          },
          "metadata": {
            "tags": [
              "id10-1-0",
              "outputarea_id10"
            ]
          }
        },
        {
          "output_type": "display_data",
          "data": {
            "application/javascript": [
              "window[\"827a9274-6ef6-11ea-a626-0242ac1c0002\"] = document.querySelector(\"#id10-1-0\");\n",
              "//# sourceURL=js_00759f40c1"
            ],
            "text/plain": [
              "<IPython.core.display.Javascript object>"
            ]
          },
          "metadata": {
            "tags": [
              "id10-1-0",
              "outputarea_id10"
            ]
          }
        },
        {
          "output_type": "display_data",
          "data": {
            "application/javascript": [
              "window[\"827acd3e-6ef6-11ea-a626-0242ac1c0002\"] = google.colab.output.setActiveOutputArea(window[\"827a9274-6ef6-11ea-a626-0242ac1c0002\"]);\n",
              "//# sourceURL=js_199c0d9ad3"
            ],
            "text/plain": [
              "<IPython.core.display.Javascript object>"
            ]
          },
          "metadata": {
            "tags": [
              "id10-1-0",
              "outputarea_id10"
            ]
          }
        },
        {
          "output_type": "display_data",
          "data": {
            "application/javascript": [
              "window[\"8290538e-6ef6-11ea-a626-0242ac1c0002\"] = google.colab.output.setActiveOutputArea(window[\"827a599e-6ef6-11ea-a626-0242ac1c0002\"]);\n",
              "//# sourceURL=js_8dbda9f9a9"
            ],
            "text/plain": [
              "<IPython.core.display.Javascript object>"
            ]
          },
          "metadata": {
            "tags": [
              "id10-1-0",
              "outputarea_id10"
            ]
          }
        },
        {
          "output_type": "display_data",
          "data": {
            "application/javascript": [
              "window[\"82915a4a-6ef6-11ea-a626-0242ac1c0002\"] = google.colab.output.getActiveOutputArea();\n",
              "//# sourceURL=js_92032ca106"
            ],
            "text/plain": [
              "<IPython.core.display.Javascript object>"
            ]
          },
          "metadata": {
            "tags": [
              "id10-2-0",
              "outputarea_id10"
            ]
          }
        },
        {
          "output_type": "display_data",
          "data": {
            "application/javascript": [
              "window[\"82918e20-6ef6-11ea-a626-0242ac1c0002\"] = document.querySelector(\"#id10-2-0\");\n",
              "//# sourceURL=js_96df05ce27"
            ],
            "text/plain": [
              "<IPython.core.display.Javascript object>"
            ]
          },
          "metadata": {
            "tags": [
              "id10-2-0",
              "outputarea_id10"
            ]
          }
        },
        {
          "output_type": "display_data",
          "data": {
            "application/javascript": [
              "window[\"8291c4e4-6ef6-11ea-a626-0242ac1c0002\"] = google.colab.output.setActiveOutputArea(window[\"82918e20-6ef6-11ea-a626-0242ac1c0002\"]);\n",
              "//# sourceURL=js_f6e91e5dc9"
            ],
            "text/plain": [
              "<IPython.core.display.Javascript object>"
            ]
          },
          "metadata": {
            "tags": [
              "id10-2-0",
              "outputarea_id10"
            ]
          }
        },
        {
          "output_type": "stream",
          "text": [
            "{CNN} Train Epoch: 9 [0/785 (0%)]\tLoss: 1.089986\n",
            "{CNN} Train Epoch: 9 [128/785 (14%)]\tLoss: 1.308941\n",
            "{CNN} Train Epoch: 9 [256/785 (29%)]\tLoss: 1.280181\n",
            "{CNN} Train Epoch: 9 [384/785 (43%)]\tLoss: 1.108323\n",
            "{CNN} Train Epoch: 9 [512/785 (57%)]\tLoss: 1.277547\n",
            "{CNN} Train Epoch: 9 [640/785 (71%)]\tLoss: 0.798032\n",
            "{CNN} Train Epoch: 9 [102/785 (86%)]\tLoss: 3.559162\n",
            "\n",
            "{CNN} Validation set: Average loss: 53.2194, Accuracy: 5/87 (6%)\n",
            "\n"
          ],
          "name": "stdout"
        },
        {
          "output_type": "display_data",
          "data": {
            "application/javascript": [
              "window[\"82abb89a-6ef6-11ea-a626-0242ac1c0002\"] = google.colab.output.setActiveOutputArea(window[\"82915a4a-6ef6-11ea-a626-0242ac1c0002\"]);\n",
              "//# sourceURL=js_2658ae11b9"
            ],
            "text/plain": [
              "<IPython.core.display.Javascript object>"
            ]
          },
          "metadata": {
            "tags": [
              "id10-2-0",
              "outputarea_id10"
            ]
          }
        },
        {
          "output_type": "display_data",
          "data": {
            "application/javascript": [
              "window[\"82ac8bbc-6ef6-11ea-a626-0242ac1c0002\"] = google.colab.output.getActiveOutputArea();\n",
              "//# sourceURL=js_c816fa46c4"
            ],
            "text/plain": [
              "<IPython.core.display.Javascript object>"
            ]
          },
          "metadata": {
            "tags": [
              "id10-1-0",
              "outputarea_id10"
            ]
          }
        },
        {
          "output_type": "display_data",
          "data": {
            "application/javascript": [
              "window[\"82acafa2-6ef6-11ea-a626-0242ac1c0002\"] = document.querySelector(\"#id10-1-0\");\n",
              "//# sourceURL=js_07909841a5"
            ],
            "text/plain": [
              "<IPython.core.display.Javascript object>"
            ]
          },
          "metadata": {
            "tags": [
              "id10-1-0",
              "outputarea_id10"
            ]
          }
        },
        {
          "output_type": "display_data",
          "data": {
            "application/javascript": [
              "window[\"82ace102-6ef6-11ea-a626-0242ac1c0002\"] = google.colab.output.setActiveOutputArea(window[\"82acafa2-6ef6-11ea-a626-0242ac1c0002\"]);\n",
              "//# sourceURL=js_f196189a0a"
            ],
            "text/plain": [
              "<IPython.core.display.Javascript object>"
            ]
          },
          "metadata": {
            "tags": [
              "id10-1-0",
              "outputarea_id10"
            ]
          }
        },
        {
          "output_type": "display_data",
          "data": {
            "application/javascript": [
              "window[\"82c2c85a-6ef6-11ea-a626-0242ac1c0002\"] = google.colab.output.setActiveOutputArea(window[\"82ac8bbc-6ef6-11ea-a626-0242ac1c0002\"]);\n",
              "//# sourceURL=js_fc0a550cf0"
            ],
            "text/plain": [
              "<IPython.core.display.Javascript object>"
            ]
          },
          "metadata": {
            "tags": [
              "id10-1-0",
              "outputarea_id10"
            ]
          }
        },
        {
          "output_type": "display_data",
          "data": {
            "application/javascript": [
              "window[\"82c3ade2-6ef6-11ea-a626-0242ac1c0002\"] = google.colab.output.getActiveOutputArea();\n",
              "//# sourceURL=js_b0bb286441"
            ],
            "text/plain": [
              "<IPython.core.display.Javascript object>"
            ]
          },
          "metadata": {
            "tags": [
              "id10-2-0",
              "outputarea_id10"
            ]
          }
        },
        {
          "output_type": "display_data",
          "data": {
            "application/javascript": [
              "window[\"82c3e0c8-6ef6-11ea-a626-0242ac1c0002\"] = document.querySelector(\"#id10-2-0\");\n",
              "//# sourceURL=js_879dc051b3"
            ],
            "text/plain": [
              "<IPython.core.display.Javascript object>"
            ]
          },
          "metadata": {
            "tags": [
              "id10-2-0",
              "outputarea_id10"
            ]
          }
        },
        {
          "output_type": "display_data",
          "data": {
            "application/javascript": [
              "window[\"82c4111a-6ef6-11ea-a626-0242ac1c0002\"] = google.colab.output.setActiveOutputArea(window[\"82c3e0c8-6ef6-11ea-a626-0242ac1c0002\"]);\n",
              "//# sourceURL=js_42319f57bb"
            ],
            "text/plain": [
              "<IPython.core.display.Javascript object>"
            ]
          },
          "metadata": {
            "tags": [
              "id10-2-0",
              "outputarea_id10"
            ]
          }
        },
        {
          "output_type": "stream",
          "text": [
            "{CNN} Train Epoch: 10 [0/785 (0%)]\tLoss: 1.235974\n",
            "{CNN} Train Epoch: 10 [128/785 (14%)]\tLoss: 1.016247\n",
            "{CNN} Train Epoch: 10 [256/785 (29%)]\tLoss: 0.729227\n",
            "{CNN} Train Epoch: 10 [384/785 (43%)]\tLoss: 1.413062\n",
            "{CNN} Train Epoch: 10 [512/785 (57%)]\tLoss: 1.795150\n",
            "{CNN} Train Epoch: 10 [640/785 (71%)]\tLoss: 1.049803\n",
            "{CNN} Train Epoch: 10 [102/785 (86%)]\tLoss: 1.289049\n",
            "\n",
            "{CNN} Validation set: Average loss: 40.3586, Accuracy: 9/87 (10%)\n",
            "\n"
          ],
          "name": "stdout"
        },
        {
          "output_type": "display_data",
          "data": {
            "application/javascript": [
              "window[\"82dd7c40-6ef6-11ea-a626-0242ac1c0002\"] = google.colab.output.setActiveOutputArea(window[\"82c3ade2-6ef6-11ea-a626-0242ac1c0002\"]);\n",
              "//# sourceURL=js_329d86b27d"
            ],
            "text/plain": [
              "<IPython.core.display.Javascript object>"
            ]
          },
          "metadata": {
            "tags": [
              "id10-2-0",
              "outputarea_id10"
            ]
          }
        },
        {
          "output_type": "display_data",
          "data": {
            "application/javascript": [
              "window[\"82de6e5c-6ef6-11ea-a626-0242ac1c0002\"] = google.colab.output.getActiveOutputArea();\n",
              "//# sourceURL=js_2c65a22fcc"
            ],
            "text/plain": [
              "<IPython.core.display.Javascript object>"
            ]
          },
          "metadata": {
            "tags": [
              "id10-1-0",
              "outputarea_id10"
            ]
          }
        },
        {
          "output_type": "display_data",
          "data": {
            "application/javascript": [
              "window[\"82de9972-6ef6-11ea-a626-0242ac1c0002\"] = document.querySelector(\"#id10-1-0\");\n",
              "//# sourceURL=js_ff90bfdc14"
            ],
            "text/plain": [
              "<IPython.core.display.Javascript object>"
            ]
          },
          "metadata": {
            "tags": [
              "id10-1-0",
              "outputarea_id10"
            ]
          }
        },
        {
          "output_type": "display_data",
          "data": {
            "application/javascript": [
              "window[\"82dec64a-6ef6-11ea-a626-0242ac1c0002\"] = google.colab.output.setActiveOutputArea(window[\"82de9972-6ef6-11ea-a626-0242ac1c0002\"]);\n",
              "//# sourceURL=js_4f0b41a988"
            ],
            "text/plain": [
              "<IPython.core.display.Javascript object>"
            ]
          },
          "metadata": {
            "tags": [
              "id10-1-0",
              "outputarea_id10"
            ]
          }
        },
        {
          "output_type": "display_data",
          "data": {
            "application/javascript": [
              "window[\"82f46838-6ef6-11ea-a626-0242ac1c0002\"] = google.colab.output.setActiveOutputArea(window[\"82de6e5c-6ef6-11ea-a626-0242ac1c0002\"]);\n",
              "//# sourceURL=js_76c01e3e3e"
            ],
            "text/plain": [
              "<IPython.core.display.Javascript object>"
            ]
          },
          "metadata": {
            "tags": [
              "id10-1-0",
              "outputarea_id10"
            ]
          }
        },
        {
          "output_type": "display_data",
          "data": {
            "application/javascript": [
              "window[\"82f55d06-6ef6-11ea-a626-0242ac1c0002\"] = google.colab.output.getActiveOutputArea();\n",
              "//# sourceURL=js_a50bc47e29"
            ],
            "text/plain": [
              "<IPython.core.display.Javascript object>"
            ]
          },
          "metadata": {
            "tags": [
              "id10-2-0",
              "outputarea_id10"
            ]
          }
        },
        {
          "output_type": "display_data",
          "data": {
            "application/javascript": [
              "window[\"82f5908c-6ef6-11ea-a626-0242ac1c0002\"] = document.querySelector(\"#id10-2-0\");\n",
              "//# sourceURL=js_8f5c0f7684"
            ],
            "text/plain": [
              "<IPython.core.display.Javascript object>"
            ]
          },
          "metadata": {
            "tags": [
              "id10-2-0",
              "outputarea_id10"
            ]
          }
        },
        {
          "output_type": "display_data",
          "data": {
            "application/javascript": [
              "window[\"82f5bcd8-6ef6-11ea-a626-0242ac1c0002\"] = google.colab.output.setActiveOutputArea(window[\"82f5908c-6ef6-11ea-a626-0242ac1c0002\"]);\n",
              "//# sourceURL=js_c31d5ea052"
            ],
            "text/plain": [
              "<IPython.core.display.Javascript object>"
            ]
          },
          "metadata": {
            "tags": [
              "id10-2-0",
              "outputarea_id10"
            ]
          }
        },
        {
          "output_type": "stream",
          "text": [
            "{CNN} Train Epoch: 11 [0/785 (0%)]\tLoss: 0.994768\n",
            "{CNN} Train Epoch: 11 [128/785 (14%)]\tLoss: 0.996747\n",
            "{CNN} Train Epoch: 11 [256/785 (29%)]\tLoss: 0.858661\n",
            "{CNN} Train Epoch: 11 [384/785 (43%)]\tLoss: 1.100563\n",
            "{CNN} Train Epoch: 11 [512/785 (57%)]\tLoss: 0.548827\n",
            "{CNN} Train Epoch: 11 [640/785 (71%)]\tLoss: 0.783248\n",
            "{CNN} Train Epoch: 11 [102/785 (86%)]\tLoss: 0.890163\n",
            "\n",
            "{CNN} Validation set: Average loss: 33.6893, Accuracy: 18/87 (21%)\n",
            "\n"
          ],
          "name": "stdout"
        },
        {
          "output_type": "display_data",
          "data": {
            "application/javascript": [
              "window[\"830f2c22-6ef6-11ea-a626-0242ac1c0002\"] = google.colab.output.setActiveOutputArea(window[\"82f55d06-6ef6-11ea-a626-0242ac1c0002\"]);\n",
              "//# sourceURL=js_59937fb755"
            ],
            "text/plain": [
              "<IPython.core.display.Javascript object>"
            ]
          },
          "metadata": {
            "tags": [
              "id10-2-0",
              "outputarea_id10"
            ]
          }
        },
        {
          "output_type": "display_data",
          "data": {
            "application/javascript": [
              "window[\"83100da4-6ef6-11ea-a626-0242ac1c0002\"] = google.colab.output.getActiveOutputArea();\n",
              "//# sourceURL=js_c358d7e10b"
            ],
            "text/plain": [
              "<IPython.core.display.Javascript object>"
            ]
          },
          "metadata": {
            "tags": [
              "id10-1-0",
              "outputarea_id10"
            ]
          }
        },
        {
          "output_type": "display_data",
          "data": {
            "application/javascript": [
              "window[\"83103676-6ef6-11ea-a626-0242ac1c0002\"] = document.querySelector(\"#id10-1-0\");\n",
              "//# sourceURL=js_d25de7e9f1"
            ],
            "text/plain": [
              "<IPython.core.display.Javascript object>"
            ]
          },
          "metadata": {
            "tags": [
              "id10-1-0",
              "outputarea_id10"
            ]
          }
        },
        {
          "output_type": "display_data",
          "data": {
            "application/javascript": [
              "window[\"83106178-6ef6-11ea-a626-0242ac1c0002\"] = google.colab.output.setActiveOutputArea(window[\"83103676-6ef6-11ea-a626-0242ac1c0002\"]);\n",
              "//# sourceURL=js_996c2c51fe"
            ],
            "text/plain": [
              "<IPython.core.display.Javascript object>"
            ]
          },
          "metadata": {
            "tags": [
              "id10-1-0",
              "outputarea_id10"
            ]
          }
        },
        {
          "output_type": "display_data",
          "data": {
            "application/javascript": [
              "window[\"832641d2-6ef6-11ea-a626-0242ac1c0002\"] = google.colab.output.setActiveOutputArea(window[\"83100da4-6ef6-11ea-a626-0242ac1c0002\"]);\n",
              "//# sourceURL=js_9cdbab71e0"
            ],
            "text/plain": [
              "<IPython.core.display.Javascript object>"
            ]
          },
          "metadata": {
            "tags": [
              "id10-1-0",
              "outputarea_id10"
            ]
          }
        },
        {
          "output_type": "display_data",
          "data": {
            "application/javascript": [
              "window[\"832717e2-6ef6-11ea-a626-0242ac1c0002\"] = google.colab.output.getActiveOutputArea();\n",
              "//# sourceURL=js_0d78ad3d0d"
            ],
            "text/plain": [
              "<IPython.core.display.Javascript object>"
            ]
          },
          "metadata": {
            "tags": [
              "id10-2-0",
              "outputarea_id10"
            ]
          }
        },
        {
          "output_type": "display_data",
          "data": {
            "application/javascript": [
              "window[\"8327424e-6ef6-11ea-a626-0242ac1c0002\"] = document.querySelector(\"#id10-2-0\");\n",
              "//# sourceURL=js_ae8c7d8c5c"
            ],
            "text/plain": [
              "<IPython.core.display.Javascript object>"
            ]
          },
          "metadata": {
            "tags": [
              "id10-2-0",
              "outputarea_id10"
            ]
          }
        },
        {
          "output_type": "display_data",
          "data": {
            "application/javascript": [
              "window[\"83276a12-6ef6-11ea-a626-0242ac1c0002\"] = google.colab.output.setActiveOutputArea(window[\"8327424e-6ef6-11ea-a626-0242ac1c0002\"]);\n",
              "//# sourceURL=js_1317e22047"
            ],
            "text/plain": [
              "<IPython.core.display.Javascript object>"
            ]
          },
          "metadata": {
            "tags": [
              "id10-2-0",
              "outputarea_id10"
            ]
          }
        },
        {
          "output_type": "stream",
          "text": [
            "{CNN} Train Epoch: 12 [0/785 (0%)]\tLoss: 0.594210\n",
            "{CNN} Train Epoch: 12 [128/785 (14%)]\tLoss: 0.788012\n",
            "{CNN} Train Epoch: 12 [256/785 (29%)]\tLoss: 0.958041\n",
            "{CNN} Train Epoch: 12 [384/785 (43%)]\tLoss: 0.789600\n",
            "{CNN} Train Epoch: 12 [512/785 (57%)]\tLoss: 0.691792\n",
            "{CNN} Train Epoch: 12 [640/785 (71%)]\tLoss: 0.917998\n",
            "{CNN} Train Epoch: 12 [102/785 (86%)]\tLoss: 0.470047\n",
            "\n",
            "{CNN} Validation set: Average loss: 30.6930, Accuracy: 9/87 (10%)\n",
            "\n"
          ],
          "name": "stdout"
        },
        {
          "output_type": "display_data",
          "data": {
            "application/javascript": [
              "window[\"834161c4-6ef6-11ea-a626-0242ac1c0002\"] = google.colab.output.setActiveOutputArea(window[\"832717e2-6ef6-11ea-a626-0242ac1c0002\"]);\n",
              "//# sourceURL=js_004443303d"
            ],
            "text/plain": [
              "<IPython.core.display.Javascript object>"
            ]
          },
          "metadata": {
            "tags": [
              "id10-2-0",
              "outputarea_id10"
            ]
          }
        },
        {
          "output_type": "display_data",
          "data": {
            "application/javascript": [
              "window[\"83429b8e-6ef6-11ea-a626-0242ac1c0002\"] = google.colab.output.getActiveOutputArea();\n",
              "//# sourceURL=js_9515c94a84"
            ],
            "text/plain": [
              "<IPython.core.display.Javascript object>"
            ]
          },
          "metadata": {
            "tags": [
              "id10-1-0",
              "outputarea_id10"
            ]
          }
        },
        {
          "output_type": "display_data",
          "data": {
            "application/javascript": [
              "window[\"8342f124-6ef6-11ea-a626-0242ac1c0002\"] = document.querySelector(\"#id10-1-0\");\n",
              "//# sourceURL=js_853dea1d44"
            ],
            "text/plain": [
              "<IPython.core.display.Javascript object>"
            ]
          },
          "metadata": {
            "tags": [
              "id10-1-0",
              "outputarea_id10"
            ]
          }
        },
        {
          "output_type": "display_data",
          "data": {
            "application/javascript": [
              "window[\"83432f86-6ef6-11ea-a626-0242ac1c0002\"] = google.colab.output.setActiveOutputArea(window[\"8342f124-6ef6-11ea-a626-0242ac1c0002\"]);\n",
              "//# sourceURL=js_14b5fa19c5"
            ],
            "text/plain": [
              "<IPython.core.display.Javascript object>"
            ]
          },
          "metadata": {
            "tags": [
              "id10-1-0",
              "outputarea_id10"
            ]
          }
        },
        {
          "output_type": "display_data",
          "data": {
            "application/javascript": [
              "window[\"8359217e-6ef6-11ea-a626-0242ac1c0002\"] = google.colab.output.setActiveOutputArea(window[\"83429b8e-6ef6-11ea-a626-0242ac1c0002\"]);\n",
              "//# sourceURL=js_f3ffdf2ebe"
            ],
            "text/plain": [
              "<IPython.core.display.Javascript object>"
            ]
          },
          "metadata": {
            "tags": [
              "id10-1-0",
              "outputarea_id10"
            ]
          }
        },
        {
          "output_type": "display_data",
          "data": {
            "application/javascript": [
              "window[\"835a5f76-6ef6-11ea-a626-0242ac1c0002\"] = google.colab.output.getActiveOutputArea();\n",
              "//# sourceURL=js_e5bcc50777"
            ],
            "text/plain": [
              "<IPython.core.display.Javascript object>"
            ]
          },
          "metadata": {
            "tags": [
              "id10-2-0",
              "outputarea_id10"
            ]
          }
        },
        {
          "output_type": "display_data",
          "data": {
            "application/javascript": [
              "window[\"835a9158-6ef6-11ea-a626-0242ac1c0002\"] = document.querySelector(\"#id10-2-0\");\n",
              "//# sourceURL=js_0b7368c32a"
            ],
            "text/plain": [
              "<IPython.core.display.Javascript object>"
            ]
          },
          "metadata": {
            "tags": [
              "id10-2-0",
              "outputarea_id10"
            ]
          }
        },
        {
          "output_type": "display_data",
          "data": {
            "application/javascript": [
              "window[\"835abb1a-6ef6-11ea-a626-0242ac1c0002\"] = google.colab.output.setActiveOutputArea(window[\"835a9158-6ef6-11ea-a626-0242ac1c0002\"]);\n",
              "//# sourceURL=js_495a3e31e7"
            ],
            "text/plain": [
              "<IPython.core.display.Javascript object>"
            ]
          },
          "metadata": {
            "tags": [
              "id10-2-0",
              "outputarea_id10"
            ]
          }
        },
        {
          "output_type": "stream",
          "text": [
            "{CNN} Train Epoch: 13 [0/785 (0%)]\tLoss: 0.739281\n",
            "{CNN} Train Epoch: 13 [128/785 (14%)]\tLoss: 0.490757\n",
            "{CNN} Train Epoch: 13 [256/785 (29%)]\tLoss: 0.455280\n",
            "{CNN} Train Epoch: 13 [384/785 (43%)]\tLoss: 0.593503\n",
            "{CNN} Train Epoch: 13 [512/785 (57%)]\tLoss: 0.750565\n",
            "{CNN} Train Epoch: 13 [640/785 (71%)]\tLoss: 0.370988\n",
            "{CNN} Train Epoch: 13 [102/785 (86%)]\tLoss: 0.203816\n",
            "\n",
            "{CNN} Validation set: Average loss: 27.7809, Accuracy: 11/87 (13%)\n",
            "\n"
          ],
          "name": "stdout"
        },
        {
          "output_type": "display_data",
          "data": {
            "application/javascript": [
              "window[\"83747118-6ef6-11ea-a626-0242ac1c0002\"] = google.colab.output.setActiveOutputArea(window[\"835a5f76-6ef6-11ea-a626-0242ac1c0002\"]);\n",
              "//# sourceURL=js_4f858438ad"
            ],
            "text/plain": [
              "<IPython.core.display.Javascript object>"
            ]
          },
          "metadata": {
            "tags": [
              "id10-2-0",
              "outputarea_id10"
            ]
          }
        },
        {
          "output_type": "display_data",
          "data": {
            "application/javascript": [
              "window[\"83762aee-6ef6-11ea-a626-0242ac1c0002\"] = google.colab.output.getActiveOutputArea();\n",
              "//# sourceURL=js_51d714cdba"
            ],
            "text/plain": [
              "<IPython.core.display.Javascript object>"
            ]
          },
          "metadata": {
            "tags": [
              "id10-1-0",
              "outputarea_id10"
            ]
          }
        },
        {
          "output_type": "display_data",
          "data": {
            "application/javascript": [
              "window[\"837652b2-6ef6-11ea-a626-0242ac1c0002\"] = document.querySelector(\"#id10-1-0\");\n",
              "//# sourceURL=js_23973b8646"
            ],
            "text/plain": [
              "<IPython.core.display.Javascript object>"
            ]
          },
          "metadata": {
            "tags": [
              "id10-1-0",
              "outputarea_id10"
            ]
          }
        },
        {
          "output_type": "display_data",
          "data": {
            "application/javascript": [
              "window[\"83767800-6ef6-11ea-a626-0242ac1c0002\"] = google.colab.output.setActiveOutputArea(window[\"837652b2-6ef6-11ea-a626-0242ac1c0002\"]);\n",
              "//# sourceURL=js_21469fc18b"
            ],
            "text/plain": [
              "<IPython.core.display.Javascript object>"
            ]
          },
          "metadata": {
            "tags": [
              "id10-1-0",
              "outputarea_id10"
            ]
          }
        },
        {
          "output_type": "display_data",
          "data": {
            "application/javascript": [
              "window[\"838bdad8-6ef6-11ea-a626-0242ac1c0002\"] = google.colab.output.setActiveOutputArea(window[\"83762aee-6ef6-11ea-a626-0242ac1c0002\"]);\n",
              "//# sourceURL=js_75ca97faa0"
            ],
            "text/plain": [
              "<IPython.core.display.Javascript object>"
            ]
          },
          "metadata": {
            "tags": [
              "id10-1-0",
              "outputarea_id10"
            ]
          }
        },
        {
          "output_type": "display_data",
          "data": {
            "application/javascript": [
              "window[\"838ca12a-6ef6-11ea-a626-0242ac1c0002\"] = google.colab.output.getActiveOutputArea();\n",
              "//# sourceURL=js_12f9aa0218"
            ],
            "text/plain": [
              "<IPython.core.display.Javascript object>"
            ]
          },
          "metadata": {
            "tags": [
              "id10-2-0",
              "outputarea_id10"
            ]
          }
        },
        {
          "output_type": "display_data",
          "data": {
            "application/javascript": [
              "window[\"838cc8f8-6ef6-11ea-a626-0242ac1c0002\"] = document.querySelector(\"#id10-2-0\");\n",
              "//# sourceURL=js_cf58a0fb73"
            ],
            "text/plain": [
              "<IPython.core.display.Javascript object>"
            ]
          },
          "metadata": {
            "tags": [
              "id10-2-0",
              "outputarea_id10"
            ]
          }
        },
        {
          "output_type": "display_data",
          "data": {
            "application/javascript": [
              "window[\"838cf5da-6ef6-11ea-a626-0242ac1c0002\"] = google.colab.output.setActiveOutputArea(window[\"838cc8f8-6ef6-11ea-a626-0242ac1c0002\"]);\n",
              "//# sourceURL=js_43f840a7cc"
            ],
            "text/plain": [
              "<IPython.core.display.Javascript object>"
            ]
          },
          "metadata": {
            "tags": [
              "id10-2-0",
              "outputarea_id10"
            ]
          }
        },
        {
          "output_type": "stream",
          "text": [
            "{CNN} Train Epoch: 14 [0/785 (0%)]\tLoss: 0.405284\n",
            "{CNN} Train Epoch: 14 [128/785 (14%)]\tLoss: 0.644101\n",
            "{CNN} Train Epoch: 14 [256/785 (29%)]\tLoss: 0.823927\n",
            "{CNN} Train Epoch: 14 [384/785 (43%)]\tLoss: 0.349654\n",
            "{CNN} Train Epoch: 14 [512/785 (57%)]\tLoss: 0.411410\n",
            "{CNN} Train Epoch: 14 [640/785 (71%)]\tLoss: 0.421552\n",
            "{CNN} Train Epoch: 14 [102/785 (86%)]\tLoss: 0.305654\n",
            "\n",
            "{CNN} Validation set: Average loss: 26.3695, Accuracy: 12/87 (14%)\n",
            "\n"
          ],
          "name": "stdout"
        },
        {
          "output_type": "display_data",
          "data": {
            "application/javascript": [
              "window[\"83a6d162-6ef6-11ea-a626-0242ac1c0002\"] = google.colab.output.setActiveOutputArea(window[\"838ca12a-6ef6-11ea-a626-0242ac1c0002\"]);\n",
              "//# sourceURL=js_075d57d0f5"
            ],
            "text/plain": [
              "<IPython.core.display.Javascript object>"
            ]
          },
          "metadata": {
            "tags": [
              "id10-2-0",
              "outputarea_id10"
            ]
          }
        },
        {
          "output_type": "display_data",
          "data": {
            "application/javascript": [
              "window[\"83a7cb44-6ef6-11ea-a626-0242ac1c0002\"] = google.colab.output.getActiveOutputArea();\n",
              "//# sourceURL=js_fae335d85b"
            ],
            "text/plain": [
              "<IPython.core.display.Javascript object>"
            ]
          },
          "metadata": {
            "tags": [
              "id10-1-0",
              "outputarea_id10"
            ]
          }
        },
        {
          "output_type": "display_data",
          "data": {
            "application/javascript": [
              "window[\"83a7f9ca-6ef6-11ea-a626-0242ac1c0002\"] = document.querySelector(\"#id10-1-0\");\n",
              "//# sourceURL=js_5720d9bdc1"
            ],
            "text/plain": [
              "<IPython.core.display.Javascript object>"
            ]
          },
          "metadata": {
            "tags": [
              "id10-1-0",
              "outputarea_id10"
            ]
          }
        },
        {
          "output_type": "display_data",
          "data": {
            "application/javascript": [
              "window[\"83a824ea-6ef6-11ea-a626-0242ac1c0002\"] = google.colab.output.setActiveOutputArea(window[\"83a7f9ca-6ef6-11ea-a626-0242ac1c0002\"]);\n",
              "//# sourceURL=js_234d337b6a"
            ],
            "text/plain": [
              "<IPython.core.display.Javascript object>"
            ]
          },
          "metadata": {
            "tags": [
              "id10-1-0",
              "outputarea_id10"
            ]
          }
        },
        {
          "output_type": "display_data",
          "data": {
            "application/javascript": [
              "window[\"83bf8c3e-6ef6-11ea-a626-0242ac1c0002\"] = google.colab.output.setActiveOutputArea(window[\"83a7cb44-6ef6-11ea-a626-0242ac1c0002\"]);\n",
              "//# sourceURL=js_4a97d573cc"
            ],
            "text/plain": [
              "<IPython.core.display.Javascript object>"
            ]
          },
          "metadata": {
            "tags": [
              "id10-1-0",
              "outputarea_id10"
            ]
          }
        },
        {
          "output_type": "display_data",
          "data": {
            "application/javascript": [
              "window[\"83c053f8-6ef6-11ea-a626-0242ac1c0002\"] = google.colab.output.getActiveOutputArea();\n",
              "//# sourceURL=js_b3a4af0b4b"
            ],
            "text/plain": [
              "<IPython.core.display.Javascript object>"
            ]
          },
          "metadata": {
            "tags": [
              "id10-2-0",
              "outputarea_id10"
            ]
          }
        },
        {
          "output_type": "display_data",
          "data": {
            "application/javascript": [
              "window[\"83c07b1c-6ef6-11ea-a626-0242ac1c0002\"] = document.querySelector(\"#id10-2-0\");\n",
              "//# sourceURL=js_434d93bcef"
            ],
            "text/plain": [
              "<IPython.core.display.Javascript object>"
            ]
          },
          "metadata": {
            "tags": [
              "id10-2-0",
              "outputarea_id10"
            ]
          }
        },
        {
          "output_type": "display_data",
          "data": {
            "application/javascript": [
              "window[\"83c0a15a-6ef6-11ea-a626-0242ac1c0002\"] = google.colab.output.setActiveOutputArea(window[\"83c07b1c-6ef6-11ea-a626-0242ac1c0002\"]);\n",
              "//# sourceURL=js_2ee97c26a1"
            ],
            "text/plain": [
              "<IPython.core.display.Javascript object>"
            ]
          },
          "metadata": {
            "tags": [
              "id10-2-0",
              "outputarea_id10"
            ]
          }
        },
        {
          "output_type": "stream",
          "text": [
            "{CNN} Train Epoch: 15 [0/785 (0%)]\tLoss: 0.456797\n",
            "{CNN} Train Epoch: 15 [128/785 (14%)]\tLoss: 0.353157\n",
            "{CNN} Train Epoch: 15 [256/785 (29%)]\tLoss: 0.414366\n",
            "{CNN} Train Epoch: 15 [384/785 (43%)]\tLoss: 0.533321\n",
            "{CNN} Train Epoch: 15 [512/785 (57%)]\tLoss: 0.397317\n",
            "{CNN} Train Epoch: 15 [640/785 (71%)]\tLoss: 0.227204\n",
            "{CNN} Train Epoch: 15 [102/785 (86%)]\tLoss: 0.347753\n",
            "\n",
            "{CNN} Validation set: Average loss: 24.8600, Accuracy: 11/87 (13%)\n",
            "\n"
          ],
          "name": "stdout"
        },
        {
          "output_type": "display_data",
          "data": {
            "application/javascript": [
              "window[\"83da1f4a-6ef6-11ea-a626-0242ac1c0002\"] = google.colab.output.setActiveOutputArea(window[\"83c053f8-6ef6-11ea-a626-0242ac1c0002\"]);\n",
              "//# sourceURL=js_780ef1d487"
            ],
            "text/plain": [
              "<IPython.core.display.Javascript object>"
            ]
          },
          "metadata": {
            "tags": [
              "id10-2-0",
              "outputarea_id10"
            ]
          }
        },
        {
          "output_type": "display_data",
          "data": {
            "application/javascript": [
              "window[\"83dafd48-6ef6-11ea-a626-0242ac1c0002\"] = google.colab.output.getActiveOutputArea();\n",
              "//# sourceURL=js_b1ec5cea85"
            ],
            "text/plain": [
              "<IPython.core.display.Javascript object>"
            ]
          },
          "metadata": {
            "tags": [
              "id10-1-0",
              "outputarea_id10"
            ]
          }
        },
        {
          "output_type": "display_data",
          "data": {
            "application/javascript": [
              "window[\"83db249e-6ef6-11ea-a626-0242ac1c0002\"] = document.querySelector(\"#id10-1-0\");\n",
              "//# sourceURL=js_2933fd9a8a"
            ],
            "text/plain": [
              "<IPython.core.display.Javascript object>"
            ]
          },
          "metadata": {
            "tags": [
              "id10-1-0",
              "outputarea_id10"
            ]
          }
        },
        {
          "output_type": "display_data",
          "data": {
            "application/javascript": [
              "window[\"83db4db6-6ef6-11ea-a626-0242ac1c0002\"] = google.colab.output.setActiveOutputArea(window[\"83db249e-6ef6-11ea-a626-0242ac1c0002\"]);\n",
              "//# sourceURL=js_8e7aa8c3da"
            ],
            "text/plain": [
              "<IPython.core.display.Javascript object>"
            ]
          },
          "metadata": {
            "tags": [
              "id10-1-0",
              "outputarea_id10"
            ]
          }
        },
        {
          "output_type": "display_data",
          "data": {
            "application/javascript": [
              "window[\"83f433a8-6ef6-11ea-a626-0242ac1c0002\"] = google.colab.output.setActiveOutputArea(window[\"83dafd48-6ef6-11ea-a626-0242ac1c0002\"]);\n",
              "//# sourceURL=js_0c1a5c3cb6"
            ],
            "text/plain": [
              "<IPython.core.display.Javascript object>"
            ]
          },
          "metadata": {
            "tags": [
              "id10-1-0",
              "outputarea_id10"
            ]
          }
        },
        {
          "output_type": "display_data",
          "data": {
            "application/javascript": [
              "window[\"83f5153e-6ef6-11ea-a626-0242ac1c0002\"] = google.colab.output.getActiveOutputArea();\n",
              "//# sourceURL=js_4754249db3"
            ],
            "text/plain": [
              "<IPython.core.display.Javascript object>"
            ]
          },
          "metadata": {
            "tags": [
              "id10-2-0",
              "outputarea_id10"
            ]
          }
        },
        {
          "output_type": "display_data",
          "data": {
            "application/javascript": [
              "window[\"83f547f2-6ef6-11ea-a626-0242ac1c0002\"] = document.querySelector(\"#id10-2-0\");\n",
              "//# sourceURL=js_c1081a428b"
            ],
            "text/plain": [
              "<IPython.core.display.Javascript object>"
            ]
          },
          "metadata": {
            "tags": [
              "id10-2-0",
              "outputarea_id10"
            ]
          }
        },
        {
          "output_type": "display_data",
          "data": {
            "application/javascript": [
              "window[\"83f57858-6ef6-11ea-a626-0242ac1c0002\"] = google.colab.output.setActiveOutputArea(window[\"83f547f2-6ef6-11ea-a626-0242ac1c0002\"]);\n",
              "//# sourceURL=js_ebd53caddc"
            ],
            "text/plain": [
              "<IPython.core.display.Javascript object>"
            ]
          },
          "metadata": {
            "tags": [
              "id10-2-0",
              "outputarea_id10"
            ]
          }
        },
        {
          "output_type": "stream",
          "text": [
            "{CNN} Train Epoch: 16 [0/785 (0%)]\tLoss: 0.255173\n",
            "{CNN} Train Epoch: 16 [128/785 (14%)]\tLoss: 0.349236\n",
            "{CNN} Train Epoch: 16 [256/785 (29%)]\tLoss: 0.488133\n",
            "{CNN} Train Epoch: 16 [384/785 (43%)]\tLoss: 0.267676\n",
            "{CNN} Train Epoch: 16 [512/785 (57%)]\tLoss: 0.525555\n",
            "{CNN} Train Epoch: 16 [640/785 (71%)]\tLoss: 0.346559\n",
            "{CNN} Train Epoch: 16 [102/785 (86%)]\tLoss: 0.811605\n",
            "\n",
            "{CNN} Validation set: Average loss: 24.0139, Accuracy: 9/87 (10%)\n",
            "\n"
          ],
          "name": "stdout"
        },
        {
          "output_type": "display_data",
          "data": {
            "application/javascript": [
              "window[\"840ff638-6ef6-11ea-a626-0242ac1c0002\"] = google.colab.output.setActiveOutputArea(window[\"83f5153e-6ef6-11ea-a626-0242ac1c0002\"]);\n",
              "//# sourceURL=js_03df4c0312"
            ],
            "text/plain": [
              "<IPython.core.display.Javascript object>"
            ]
          },
          "metadata": {
            "tags": [
              "id10-2-0",
              "outputarea_id10"
            ]
          }
        },
        {
          "output_type": "display_data",
          "data": {
            "application/javascript": [
              "window[\"84118b10-6ef6-11ea-a626-0242ac1c0002\"] = google.colab.output.getActiveOutputArea();\n",
              "//# sourceURL=js_a9be5efb5a"
            ],
            "text/plain": [
              "<IPython.core.display.Javascript object>"
            ]
          },
          "metadata": {
            "tags": [
              "id10-1-0",
              "outputarea_id10"
            ]
          }
        },
        {
          "output_type": "display_data",
          "data": {
            "application/javascript": [
              "window[\"8411cdc8-6ef6-11ea-a626-0242ac1c0002\"] = document.querySelector(\"#id10-1-0\");\n",
              "//# sourceURL=js_bb0b74cb24"
            ],
            "text/plain": [
              "<IPython.core.display.Javascript object>"
            ]
          },
          "metadata": {
            "tags": [
              "id10-1-0",
              "outputarea_id10"
            ]
          }
        },
        {
          "output_type": "display_data",
          "data": {
            "application/javascript": [
              "window[\"8411fa1e-6ef6-11ea-a626-0242ac1c0002\"] = google.colab.output.setActiveOutputArea(window[\"8411cdc8-6ef6-11ea-a626-0242ac1c0002\"]);\n",
              "//# sourceURL=js_08503d666b"
            ],
            "text/plain": [
              "<IPython.core.display.Javascript object>"
            ]
          },
          "metadata": {
            "tags": [
              "id10-1-0",
              "outputarea_id10"
            ]
          }
        },
        {
          "output_type": "display_data",
          "data": {
            "application/javascript": [
              "window[\"842a06d6-6ef6-11ea-a626-0242ac1c0002\"] = google.colab.output.setActiveOutputArea(window[\"84118b10-6ef6-11ea-a626-0242ac1c0002\"]);\n",
              "//# sourceURL=js_b25f33e4e6"
            ],
            "text/plain": [
              "<IPython.core.display.Javascript object>"
            ]
          },
          "metadata": {
            "tags": [
              "id10-1-0",
              "outputarea_id10"
            ]
          }
        },
        {
          "output_type": "display_data",
          "data": {
            "application/javascript": [
              "window[\"842b46b8-6ef6-11ea-a626-0242ac1c0002\"] = google.colab.output.getActiveOutputArea();\n",
              "//# sourceURL=js_284cde76da"
            ],
            "text/plain": [
              "<IPython.core.display.Javascript object>"
            ]
          },
          "metadata": {
            "tags": [
              "id10-2-0",
              "outputarea_id10"
            ]
          }
        },
        {
          "output_type": "display_data",
          "data": {
            "application/javascript": [
              "window[\"842b714c-6ef6-11ea-a626-0242ac1c0002\"] = document.querySelector(\"#id10-2-0\");\n",
              "//# sourceURL=js_9432399532"
            ],
            "text/plain": [
              "<IPython.core.display.Javascript object>"
            ]
          },
          "metadata": {
            "tags": [
              "id10-2-0",
              "outputarea_id10"
            ]
          }
        },
        {
          "output_type": "display_data",
          "data": {
            "application/javascript": [
              "window[\"842b99e2-6ef6-11ea-a626-0242ac1c0002\"] = google.colab.output.setActiveOutputArea(window[\"842b714c-6ef6-11ea-a626-0242ac1c0002\"]);\n",
              "//# sourceURL=js_f07d6fa1f0"
            ],
            "text/plain": [
              "<IPython.core.display.Javascript object>"
            ]
          },
          "metadata": {
            "tags": [
              "id10-2-0",
              "outputarea_id10"
            ]
          }
        },
        {
          "output_type": "stream",
          "text": [
            "{CNN} Train Epoch: 17 [0/785 (0%)]\tLoss: 0.382510\n",
            "{CNN} Train Epoch: 17 [128/785 (14%)]\tLoss: 0.299365\n",
            "{CNN} Train Epoch: 17 [256/785 (29%)]\tLoss: 0.279792\n",
            "{CNN} Train Epoch: 17 [384/785 (43%)]\tLoss: 0.284512\n",
            "{CNN} Train Epoch: 17 [512/785 (57%)]\tLoss: 0.490273\n",
            "{CNN} Train Epoch: 17 [640/785 (71%)]\tLoss: 0.390117\n",
            "{CNN} Train Epoch: 17 [102/785 (86%)]\tLoss: 0.092236\n",
            "\n",
            "{CNN} Validation set: Average loss: 23.6708, Accuracy: 11/87 (13%)\n",
            "\n"
          ],
          "name": "stdout"
        },
        {
          "output_type": "display_data",
          "data": {
            "application/javascript": [
              "window[\"84452d08-6ef6-11ea-a626-0242ac1c0002\"] = google.colab.output.setActiveOutputArea(window[\"842b46b8-6ef6-11ea-a626-0242ac1c0002\"]);\n",
              "//# sourceURL=js_114c4bdcfe"
            ],
            "text/plain": [
              "<IPython.core.display.Javascript object>"
            ]
          },
          "metadata": {
            "tags": [
              "id10-2-0",
              "outputarea_id10"
            ]
          }
        },
        {
          "output_type": "display_data",
          "data": {
            "application/javascript": [
              "window[\"8445f4d6-6ef6-11ea-a626-0242ac1c0002\"] = google.colab.output.getActiveOutputArea();\n",
              "//# sourceURL=js_254fbd3918"
            ],
            "text/plain": [
              "<IPython.core.display.Javascript object>"
            ]
          },
          "metadata": {
            "tags": [
              "id10-1-0",
              "outputarea_id10"
            ]
          }
        },
        {
          "output_type": "display_data",
          "data": {
            "application/javascript": [
              "window[\"84461dee-6ef6-11ea-a626-0242ac1c0002\"] = document.querySelector(\"#id10-1-0\");\n",
              "//# sourceURL=js_881a6111dd"
            ],
            "text/plain": [
              "<IPython.core.display.Javascript object>"
            ]
          },
          "metadata": {
            "tags": [
              "id10-1-0",
              "outputarea_id10"
            ]
          }
        },
        {
          "output_type": "display_data",
          "data": {
            "application/javascript": [
              "window[\"84464a58-6ef6-11ea-a626-0242ac1c0002\"] = google.colab.output.setActiveOutputArea(window[\"84461dee-6ef6-11ea-a626-0242ac1c0002\"]);\n",
              "//# sourceURL=js_22eaf2440b"
            ],
            "text/plain": [
              "<IPython.core.display.Javascript object>"
            ]
          },
          "metadata": {
            "tags": [
              "id10-1-0",
              "outputarea_id10"
            ]
          }
        },
        {
          "output_type": "display_data",
          "data": {
            "application/javascript": [
              "window[\"845ca866-6ef6-11ea-a626-0242ac1c0002\"] = google.colab.output.setActiveOutputArea(window[\"8445f4d6-6ef6-11ea-a626-0242ac1c0002\"]);\n",
              "//# sourceURL=js_1420308eb1"
            ],
            "text/plain": [
              "<IPython.core.display.Javascript object>"
            ]
          },
          "metadata": {
            "tags": [
              "id10-1-0",
              "outputarea_id10"
            ]
          }
        },
        {
          "output_type": "display_data",
          "data": {
            "application/javascript": [
              "window[\"845e4806-6ef6-11ea-a626-0242ac1c0002\"] = google.colab.output.getActiveOutputArea();\n",
              "//# sourceURL=js_d57a4435a0"
            ],
            "text/plain": [
              "<IPython.core.display.Javascript object>"
            ]
          },
          "metadata": {
            "tags": [
              "id10-2-0",
              "outputarea_id10"
            ]
          }
        },
        {
          "output_type": "display_data",
          "data": {
            "application/javascript": [
              "window[\"845e9216-6ef6-11ea-a626-0242ac1c0002\"] = document.querySelector(\"#id10-2-0\");\n",
              "//# sourceURL=js_5bb087478a"
            ],
            "text/plain": [
              "<IPython.core.display.Javascript object>"
            ]
          },
          "metadata": {
            "tags": [
              "id10-2-0",
              "outputarea_id10"
            ]
          }
        },
        {
          "output_type": "display_data",
          "data": {
            "application/javascript": [
              "window[\"845ebee4-6ef6-11ea-a626-0242ac1c0002\"] = google.colab.output.setActiveOutputArea(window[\"845e9216-6ef6-11ea-a626-0242ac1c0002\"]);\n",
              "//# sourceURL=js_ae31bf1804"
            ],
            "text/plain": [
              "<IPython.core.display.Javascript object>"
            ]
          },
          "metadata": {
            "tags": [
              "id10-2-0",
              "outputarea_id10"
            ]
          }
        },
        {
          "output_type": "stream",
          "text": [
            "{CNN} Train Epoch: 18 [0/785 (0%)]\tLoss: 0.259605\n",
            "{CNN} Train Epoch: 18 [128/785 (14%)]\tLoss: 0.343090\n",
            "{CNN} Train Epoch: 18 [256/785 (29%)]\tLoss: 0.478697\n",
            "{CNN} Train Epoch: 18 [384/785 (43%)]\tLoss: 0.208345\n",
            "{CNN} Train Epoch: 18 [512/785 (57%)]\tLoss: 0.220387\n",
            "{CNN} Train Epoch: 18 [640/785 (71%)]\tLoss: 0.476933\n",
            "{CNN} Train Epoch: 18 [102/785 (86%)]\tLoss: 0.359351\n",
            "\n",
            "{CNN} Validation set: Average loss: 24.2366, Accuracy: 14/87 (16%)\n",
            "\n"
          ],
          "name": "stdout"
        },
        {
          "output_type": "display_data",
          "data": {
            "application/javascript": [
              "window[\"8478f3ea-6ef6-11ea-a626-0242ac1c0002\"] = google.colab.output.setActiveOutputArea(window[\"845e4806-6ef6-11ea-a626-0242ac1c0002\"]);\n",
              "//# sourceURL=js_ee8112fc2c"
            ],
            "text/plain": [
              "<IPython.core.display.Javascript object>"
            ]
          },
          "metadata": {
            "tags": [
              "id10-2-0",
              "outputarea_id10"
            ]
          }
        },
        {
          "output_type": "display_data",
          "data": {
            "application/javascript": [
              "window[\"8479f0d8-6ef6-11ea-a626-0242ac1c0002\"] = google.colab.output.getActiveOutputArea();\n",
              "//# sourceURL=js_53d0e849d8"
            ],
            "text/plain": [
              "<IPython.core.display.Javascript object>"
            ]
          },
          "metadata": {
            "tags": [
              "id10-1-0",
              "outputarea_id10"
            ]
          }
        },
        {
          "output_type": "display_data",
          "data": {
            "application/javascript": [
              "window[\"847a29e0-6ef6-11ea-a626-0242ac1c0002\"] = document.querySelector(\"#id10-1-0\");\n",
              "//# sourceURL=js_c5e04cecd8"
            ],
            "text/plain": [
              "<IPython.core.display.Javascript object>"
            ]
          },
          "metadata": {
            "tags": [
              "id10-1-0",
              "outputarea_id10"
            ]
          }
        },
        {
          "output_type": "display_data",
          "data": {
            "application/javascript": [
              "window[\"847a632e-6ef6-11ea-a626-0242ac1c0002\"] = google.colab.output.setActiveOutputArea(window[\"847a29e0-6ef6-11ea-a626-0242ac1c0002\"]);\n",
              "//# sourceURL=js_54174f01fb"
            ],
            "text/plain": [
              "<IPython.core.display.Javascript object>"
            ]
          },
          "metadata": {
            "tags": [
              "id10-1-0",
              "outputarea_id10"
            ]
          }
        },
        {
          "output_type": "display_data",
          "data": {
            "application/javascript": [
              "window[\"84907f38-6ef6-11ea-a626-0242ac1c0002\"] = google.colab.output.setActiveOutputArea(window[\"8479f0d8-6ef6-11ea-a626-0242ac1c0002\"]);\n",
              "//# sourceURL=js_ce0faaf4db"
            ],
            "text/plain": [
              "<IPython.core.display.Javascript object>"
            ]
          },
          "metadata": {
            "tags": [
              "id10-1-0",
              "outputarea_id10"
            ]
          }
        },
        {
          "output_type": "display_data",
          "data": {
            "application/javascript": [
              "window[\"84913c5c-6ef6-11ea-a626-0242ac1c0002\"] = google.colab.output.getActiveOutputArea();\n",
              "//# sourceURL=js_78de855487"
            ],
            "text/plain": [
              "<IPython.core.display.Javascript object>"
            ]
          },
          "metadata": {
            "tags": [
              "id10-2-0",
              "outputarea_id10"
            ]
          }
        },
        {
          "output_type": "display_data",
          "data": {
            "application/javascript": [
              "window[\"84916588-6ef6-11ea-a626-0242ac1c0002\"] = document.querySelector(\"#id10-2-0\");\n",
              "//# sourceURL=js_d6ba89ac99"
            ],
            "text/plain": [
              "<IPython.core.display.Javascript object>"
            ]
          },
          "metadata": {
            "tags": [
              "id10-2-0",
              "outputarea_id10"
            ]
          }
        },
        {
          "output_type": "display_data",
          "data": {
            "application/javascript": [
              "window[\"84918e96-6ef6-11ea-a626-0242ac1c0002\"] = google.colab.output.setActiveOutputArea(window[\"84916588-6ef6-11ea-a626-0242ac1c0002\"]);\n",
              "//# sourceURL=js_23cc11f944"
            ],
            "text/plain": [
              "<IPython.core.display.Javascript object>"
            ]
          },
          "metadata": {
            "tags": [
              "id10-2-0",
              "outputarea_id10"
            ]
          }
        },
        {
          "output_type": "stream",
          "text": [
            "{CNN} Train Epoch: 19 [0/785 (0%)]\tLoss: 0.360214\n",
            "{CNN} Train Epoch: 19 [128/785 (14%)]\tLoss: 0.275638\n",
            "{CNN} Train Epoch: 19 [256/785 (29%)]\tLoss: 0.269047\n",
            "{CNN} Train Epoch: 19 [384/785 (43%)]\tLoss: 0.219366\n",
            "{CNN} Train Epoch: 19 [512/785 (57%)]\tLoss: 0.395209\n",
            "{CNN} Train Epoch: 19 [640/785 (71%)]\tLoss: 0.364885\n",
            "{CNN} Train Epoch: 19 [102/785 (86%)]\tLoss: 0.087046\n",
            "\n",
            "{CNN} Validation set: Average loss: 22.8569, Accuracy: 15/87 (17%)\n",
            "\n"
          ],
          "name": "stdout"
        },
        {
          "output_type": "display_data",
          "data": {
            "application/javascript": [
              "window[\"84aaf552-6ef6-11ea-a626-0242ac1c0002\"] = google.colab.output.setActiveOutputArea(window[\"84913c5c-6ef6-11ea-a626-0242ac1c0002\"]);\n",
              "//# sourceURL=js_8e7806b568"
            ],
            "text/plain": [
              "<IPython.core.display.Javascript object>"
            ]
          },
          "metadata": {
            "tags": [
              "id10-2-0",
              "outputarea_id10"
            ]
          }
        },
        {
          "output_type": "display_data",
          "data": {
            "application/javascript": [
              "window[\"84ac1a9a-6ef6-11ea-a626-0242ac1c0002\"] = google.colab.output.getActiveOutputArea();\n",
              "//# sourceURL=js_4625237ab7"
            ],
            "text/plain": [
              "<IPython.core.display.Javascript object>"
            ]
          },
          "metadata": {
            "tags": [
              "id10-1-0",
              "outputarea_id10"
            ]
          }
        },
        {
          "output_type": "display_data",
          "data": {
            "application/javascript": [
              "window[\"84ac736e-6ef6-11ea-a626-0242ac1c0002\"] = document.querySelector(\"#id10-1-0\");\n",
              "//# sourceURL=js_3bcf224b3e"
            ],
            "text/plain": [
              "<IPython.core.display.Javascript object>"
            ]
          },
          "metadata": {
            "tags": [
              "id10-1-0",
              "outputarea_id10"
            ]
          }
        },
        {
          "output_type": "display_data",
          "data": {
            "application/javascript": [
              "window[\"84acd020-6ef6-11ea-a626-0242ac1c0002\"] = google.colab.output.setActiveOutputArea(window[\"84ac736e-6ef6-11ea-a626-0242ac1c0002\"]);\n",
              "//# sourceURL=js_d053795016"
            ],
            "text/plain": [
              "<IPython.core.display.Javascript object>"
            ]
          },
          "metadata": {
            "tags": [
              "id10-1-0",
              "outputarea_id10"
            ]
          }
        },
        {
          "output_type": "display_data",
          "data": {
            "application/javascript": [
              "window[\"84e0990a-6ef6-11ea-a626-0242ac1c0002\"] = google.colab.output.setActiveOutputArea(window[\"84ac1a9a-6ef6-11ea-a626-0242ac1c0002\"]);\n",
              "//# sourceURL=js_ee21580baa"
            ],
            "text/plain": [
              "<IPython.core.display.Javascript object>"
            ]
          },
          "metadata": {
            "tags": [
              "id10-1-0",
              "outputarea_id10"
            ]
          }
        },
        {
          "output_type": "display_data",
          "data": {
            "application/javascript": [
              "window[\"84e18b8a-6ef6-11ea-a626-0242ac1c0002\"] = google.colab.output.getActiveOutputArea();\n",
              "//# sourceURL=js_6c0d1b21f9"
            ],
            "text/plain": [
              "<IPython.core.display.Javascript object>"
            ]
          },
          "metadata": {
            "tags": [
              "id10-2-0",
              "outputarea_id10"
            ]
          }
        },
        {
          "output_type": "display_data",
          "data": {
            "application/javascript": [
              "window[\"84e1b77c-6ef6-11ea-a626-0242ac1c0002\"] = document.querySelector(\"#id10-2-0\");\n",
              "//# sourceURL=js_2d397144e0"
            ],
            "text/plain": [
              "<IPython.core.display.Javascript object>"
            ]
          },
          "metadata": {
            "tags": [
              "id10-2-0",
              "outputarea_id10"
            ]
          }
        },
        {
          "output_type": "display_data",
          "data": {
            "application/javascript": [
              "window[\"84e1df36-6ef6-11ea-a626-0242ac1c0002\"] = google.colab.output.setActiveOutputArea(window[\"84e1b77c-6ef6-11ea-a626-0242ac1c0002\"]);\n",
              "//# sourceURL=js_4db4dacede"
            ],
            "text/plain": [
              "<IPython.core.display.Javascript object>"
            ]
          },
          "metadata": {
            "tags": [
              "id10-2-0",
              "outputarea_id10"
            ]
          }
        },
        {
          "output_type": "stream",
          "text": [
            "{CNN} Train Epoch: 20 [0/785 (0%)]\tLoss: 0.301950\n",
            "{CNN} Train Epoch: 20 [128/785 (14%)]\tLoss: 0.315001\n",
            "{CNN} Train Epoch: 20 [256/785 (29%)]\tLoss: 0.275397\n",
            "{CNN} Train Epoch: 20 [384/785 (43%)]\tLoss: 0.161804\n",
            "{CNN} Train Epoch: 20 [512/785 (57%)]\tLoss: 0.126186\n",
            "{CNN} Train Epoch: 20 [640/785 (71%)]\tLoss: 0.154540\n",
            "{CNN} Train Epoch: 20 [102/785 (86%)]\tLoss: 0.290732\n",
            "\n",
            "{CNN} Validation set: Average loss: 21.8958, Accuracy: 15/87 (17%)\n",
            "\n"
          ],
          "name": "stdout"
        },
        {
          "output_type": "display_data",
          "data": {
            "application/javascript": [
              "window[\"84fb469c-6ef6-11ea-a626-0242ac1c0002\"] = google.colab.output.setActiveOutputArea(window[\"84e18b8a-6ef6-11ea-a626-0242ac1c0002\"]);\n",
              "//# sourceURL=js_1b59031607"
            ],
            "text/plain": [
              "<IPython.core.display.Javascript object>"
            ]
          },
          "metadata": {
            "tags": [
              "id10-2-0",
              "outputarea_id10"
            ]
          }
        },
        {
          "output_type": "display_data",
          "data": {
            "application/javascript": [
              "window[\"84fc8fb6-6ef6-11ea-a626-0242ac1c0002\"] = google.colab.output.getActiveOutputArea();\n",
              "//# sourceURL=js_0181c8674d"
            ],
            "text/plain": [
              "<IPython.core.display.Javascript object>"
            ]
          },
          "metadata": {
            "tags": [
              "id10-1-0",
              "outputarea_id10"
            ]
          }
        },
        {
          "output_type": "display_data",
          "data": {
            "application/javascript": [
              "window[\"84fcc90e-6ef6-11ea-a626-0242ac1c0002\"] = document.querySelector(\"#id10-1-0\");\n",
              "//# sourceURL=js_a119622013"
            ],
            "text/plain": [
              "<IPython.core.display.Javascript object>"
            ]
          },
          "metadata": {
            "tags": [
              "id10-1-0",
              "outputarea_id10"
            ]
          }
        },
        {
          "output_type": "display_data",
          "data": {
            "application/javascript": [
              "window[\"84fd06e4-6ef6-11ea-a626-0242ac1c0002\"] = google.colab.output.setActiveOutputArea(window[\"84fcc90e-6ef6-11ea-a626-0242ac1c0002\"]);\n",
              "//# sourceURL=js_7e49b2a1f1"
            ],
            "text/plain": [
              "<IPython.core.display.Javascript object>"
            ]
          },
          "metadata": {
            "tags": [
              "id10-1-0",
              "outputarea_id10"
            ]
          }
        },
        {
          "output_type": "display_data",
          "data": {
            "application/javascript": [
              "window[\"85142144-6ef6-11ea-a626-0242ac1c0002\"] = google.colab.output.setActiveOutputArea(window[\"84fc8fb6-6ef6-11ea-a626-0242ac1c0002\"]);\n",
              "//# sourceURL=js_66982a273d"
            ],
            "text/plain": [
              "<IPython.core.display.Javascript object>"
            ]
          },
          "metadata": {
            "tags": [
              "id10-1-0",
              "outputarea_id10"
            ]
          }
        },
        {
          "output_type": "display_data",
          "data": {
            "application/javascript": [
              "window[\"851514d2-6ef6-11ea-a626-0242ac1c0002\"] = google.colab.output.getActiveOutputArea();\n",
              "//# sourceURL=js_2dccd4426a"
            ],
            "text/plain": [
              "<IPython.core.display.Javascript object>"
            ]
          },
          "metadata": {
            "tags": [
              "id10-2-0",
              "outputarea_id10"
            ]
          }
        },
        {
          "output_type": "display_data",
          "data": {
            "application/javascript": [
              "window[\"851538ea-6ef6-11ea-a626-0242ac1c0002\"] = document.querySelector(\"#id10-2-0\");\n",
              "//# sourceURL=js_4c06af5753"
            ],
            "text/plain": [
              "<IPython.core.display.Javascript object>"
            ]
          },
          "metadata": {
            "tags": [
              "id10-2-0",
              "outputarea_id10"
            ]
          }
        },
        {
          "output_type": "display_data",
          "data": {
            "application/javascript": [
              "window[\"851563ba-6ef6-11ea-a626-0242ac1c0002\"] = google.colab.output.setActiveOutputArea(window[\"851538ea-6ef6-11ea-a626-0242ac1c0002\"]);\n",
              "//# sourceURL=js_47efbd4cd6"
            ],
            "text/plain": [
              "<IPython.core.display.Javascript object>"
            ]
          },
          "metadata": {
            "tags": [
              "id10-2-0",
              "outputarea_id10"
            ]
          }
        },
        {
          "output_type": "stream",
          "text": [
            "{CNN} Train Epoch: 21 [0/785 (0%)]\tLoss: 0.382232\n",
            "{CNN} Train Epoch: 21 [128/785 (14%)]\tLoss: 0.348286\n",
            "{CNN} Train Epoch: 21 [256/785 (29%)]\tLoss: 0.162908\n",
            "{CNN} Train Epoch: 21 [384/785 (43%)]\tLoss: 0.230928\n",
            "{CNN} Train Epoch: 21 [512/785 (57%)]\tLoss: 0.154957\n",
            "{CNN} Train Epoch: 21 [640/785 (71%)]\tLoss: 0.308364\n",
            "{CNN} Train Epoch: 21 [102/785 (86%)]\tLoss: 0.017792\n",
            "\n",
            "{CNN} Validation set: Average loss: 21.1265, Accuracy: 15/87 (17%)\n",
            "\n"
          ],
          "name": "stdout"
        },
        {
          "output_type": "display_data",
          "data": {
            "application/javascript": [
              "window[\"852f34e8-6ef6-11ea-a626-0242ac1c0002\"] = google.colab.output.setActiveOutputArea(window[\"851514d2-6ef6-11ea-a626-0242ac1c0002\"]);\n",
              "//# sourceURL=js_f50c89d8a1"
            ],
            "text/plain": [
              "<IPython.core.display.Javascript object>"
            ]
          },
          "metadata": {
            "tags": [
              "id10-2-0",
              "outputarea_id10"
            ]
          }
        },
        {
          "output_type": "display_data",
          "data": {
            "application/javascript": [
              "window[\"853024f2-6ef6-11ea-a626-0242ac1c0002\"] = google.colab.output.getActiveOutputArea();\n",
              "//# sourceURL=js_2e8aa0de99"
            ],
            "text/plain": [
              "<IPython.core.display.Javascript object>"
            ]
          },
          "metadata": {
            "tags": [
              "id10-1-0",
              "outputarea_id10"
            ]
          }
        },
        {
          "output_type": "display_data",
          "data": {
            "application/javascript": [
              "window[\"85305210-6ef6-11ea-a626-0242ac1c0002\"] = document.querySelector(\"#id10-1-0\");\n",
              "//# sourceURL=js_ec5cace3f6"
            ],
            "text/plain": [
              "<IPython.core.display.Javascript object>"
            ]
          },
          "metadata": {
            "tags": [
              "id10-1-0",
              "outputarea_id10"
            ]
          }
        },
        {
          "output_type": "display_data",
          "data": {
            "application/javascript": [
              "window[\"85307c40-6ef6-11ea-a626-0242ac1c0002\"] = google.colab.output.setActiveOutputArea(window[\"85305210-6ef6-11ea-a626-0242ac1c0002\"]);\n",
              "//# sourceURL=js_0dd53e354c"
            ],
            "text/plain": [
              "<IPython.core.display.Javascript object>"
            ]
          },
          "metadata": {
            "tags": [
              "id10-1-0",
              "outputarea_id10"
            ]
          }
        },
        {
          "output_type": "display_data",
          "data": {
            "image/png": "[encoded data removed]",
            "text/plain": [
              "<Figure size 432x288 with 1 Axes>"
            ]
          },
          "metadata": {
            "tags": [
              "id10-1-0",
              "outputarea_id10",
              "user_output"
            ]
          }
        },
        {
          "output_type": "display_data",
          "data": {
            "application/javascript": [
              "window[\"85483cb8-6ef6-11ea-a626-0242ac1c0002\"] = google.colab.output.setActiveOutputArea(window[\"853024f2-6ef6-11ea-a626-0242ac1c0002\"]);\n",
              "//# sourceURL=js_4efe59dc92"
            ],
            "text/plain": [
              "<IPython.core.display.Javascript object>"
            ]
          },
          "metadata": {
            "tags": [
              "id10-1-0",
              "outputarea_id10"
            ]
          }
        },
        {
          "output_type": "display_data",
          "data": {
            "application/javascript": [
              "window[\"854930d2-6ef6-11ea-a626-0242ac1c0002\"] = google.colab.output.getActiveOutputArea();\n",
              "//# sourceURL=js_49e32e3c83"
            ],
            "text/plain": [
              "<IPython.core.display.Javascript object>"
            ]
          },
          "metadata": {
            "tags": [
              "id10-2-0",
              "outputarea_id10"
            ]
          }
        },
        {
          "output_type": "display_data",
          "data": {
            "application/javascript": [
              "window[\"85495e72-6ef6-11ea-a626-0242ac1c0002\"] = document.querySelector(\"#id10-2-0\");\n",
              "//# sourceURL=js_9b51e85e3c"
            ],
            "text/plain": [
              "<IPython.core.display.Javascript object>"
            ]
          },
          "metadata": {
            "tags": [
              "id10-2-0",
              "outputarea_id10"
            ]
          }
        },
        {
          "output_type": "display_data",
          "data": {
            "application/javascript": [
              "window[\"854986ae-6ef6-11ea-a626-0242ac1c0002\"] = google.colab.output.setActiveOutputArea(window[\"85495e72-6ef6-11ea-a626-0242ac1c0002\"]);\n",
              "//# sourceURL=js_6a1e785282"
            ],
            "text/plain": [
              "<IPython.core.display.Javascript object>"
            ]
          },
          "metadata": {
            "tags": [
              "id10-2-0",
              "outputarea_id10"
            ]
          }
        },
        {
          "output_type": "stream",
          "text": [
            "\n",
            "{CNN} Test set: Average loss: 26.8824, Accuracy: 1/96 (1%)\n",
            "\n",
            "\n"
          ],
          "name": "stdout"
        },
        {
          "output_type": "display_data",
          "data": {
            "application/javascript": [
              "window[\"854b3418-6ef6-11ea-a626-0242ac1c0002\"] = google.colab.output.setActiveOutputArea(window[\"854930d2-6ef6-11ea-a626-0242ac1c0002\"]);\n",
              "//# sourceURL=js_633611126d"
            ],
            "text/plain": [
              "<IPython.core.display.Javascript object>"
            ]
          },
          "metadata": {
            "tags": [
              "id10-2-0",
              "outputarea_id10"
            ]
          }
        },
        {
          "output_type": "display_data",
          "data": {
            "application/javascript": [
              "window[\"86d5b9ac-6ef6-11ea-a626-0242ac1c0002\"] = google.colab.output.getActiveOutputArea();\n",
              "//# sourceURL=js_eada77f553"
            ],
            "text/plain": [
              "<IPython.core.display.Javascript object>"
            ]
          },
          "metadata": {
            "tags": [
              "id10-0-0",
              "outputarea_id10"
            ]
          }
        },
        {
          "output_type": "display_data",
          "data": {
            "application/javascript": [
              "window[\"86d5e49a-6ef6-11ea-a626-0242ac1c0002\"] = document.querySelector(\"#id10-0-0\");\n",
              "//# sourceURL=js_5fd4f9f60a"
            ],
            "text/plain": [
              "<IPython.core.display.Javascript object>"
            ]
          },
          "metadata": {
            "tags": [
              "id10-0-0",
              "outputarea_id10"
            ]
          }
        },
        {
          "output_type": "display_data",
          "data": {
            "application/javascript": [
              "window[\"86d60d62-6ef6-11ea-a626-0242ac1c0002\"] = google.colab.output.setActiveOutputArea(window[\"86d5e49a-6ef6-11ea-a626-0242ac1c0002\"]);\n",
              "//# sourceURL=js_c0fb88a955"
            ],
            "text/plain": [
              "<IPython.core.display.Javascript object>"
            ]
          },
          "metadata": {
            "tags": [
              "id10-0-0",
              "outputarea_id10"
            ]
          }
        },
        {
          "output_type": "stream",
          "text": [
            "Models written to ['/gdrive/My Drive/COMP762_IntentionMining/out/AIM_CNN_DECA_within_0.9_2020-03-26_001246.joblib']\n"
          ],
          "name": "stdout"
        },
        {
          "output_type": "display_data",
          "data": {
            "application/javascript": [
              "window[\"86d69a5c-6ef6-11ea-a626-0242ac1c0002\"] = google.colab.output.setActiveOutputArea(window[\"86d5b9ac-6ef6-11ea-a626-0242ac1c0002\"]);\n",
              "//# sourceURL=js_e703fbf4e5"
            ],
            "text/plain": [
              "<IPython.core.display.Javascript object>"
            ]
          },
          "metadata": {
            "tags": [
              "id10-0-0",
              "outputarea_id10"
            ]
          }
        },
        {
          "output_type": "display_data",
          "data": {
            "application/javascript": [
              "window[\"86dd9208-6ef6-11ea-a626-0242ac1c0002\"] = google.colab.output.getActiveOutputArea();\n",
              "//# sourceURL=js_3fde874ef7"
            ],
            "text/plain": [
              "<IPython.core.display.Javascript object>"
            ]
          },
          "metadata": {
            "tags": [
              "id10-0-0",
              "outputarea_id10"
            ]
          }
        },
        {
          "output_type": "display_data",
          "data": {
            "application/javascript": [
              "window[\"86dddc9a-6ef6-11ea-a626-0242ac1c0002\"] = document.querySelector(\"#id10-0-0\");\n",
              "//# sourceURL=js_5598cb0eb9"
            ],
            "text/plain": [
              "<IPython.core.display.Javascript object>"
            ]
          },
          "metadata": {
            "tags": [
              "id10-0-0",
              "outputarea_id10"
            ]
          }
        },
        {
          "output_type": "display_data",
          "data": {
            "application/javascript": [
              "window[\"86de0be8-6ef6-11ea-a626-0242ac1c0002\"] = google.colab.output.setActiveOutputArea(window[\"86dddc9a-6ef6-11ea-a626-0242ac1c0002\"]);\n",
              "//# sourceURL=js_68cd390f22"
            ],
            "text/plain": [
              "<IPython.core.display.Javascript object>"
            ]
          },
          "metadata": {
            "tags": [
              "id10-0-0",
              "outputarea_id10"
            ]
          }
        },
        {
          "output_type": "stream",
          "text": [
            "Updated /gdrive/My Drive/COMP762_IntentionMining/data/AIM_CNN_DECA_within_0.9.joblib\n"
          ],
          "name": "stdout"
        },
        {
          "output_type": "display_data",
          "data": {
            "application/javascript": [
              "window[\"86deefd6-6ef6-11ea-a626-0242ac1c0002\"] = google.colab.output.setActiveOutputArea(window[\"86dd9208-6ef6-11ea-a626-0242ac1c0002\"]);\n",
              "//# sourceURL=js_9ea7649322"
            ],
            "text/plain": [
              "<IPython.core.display.Javascript object>"
            ]
          },
          "metadata": {
            "tags": [
              "id10-0-0",
              "outputarea_id10"
            ]
          }
        },
        {
          "output_type": "error",
          "ename": "ValueError",
          "evalue": "ignored",
          "traceback": [
            "\u001b[0;31m---------------------------------------------------------------------------\u001b[0m",
            "\u001b[0;31mValueError\u001b[0m                                Traceback (most recent call last)",
            "\u001b[0;32m<ipython-input-25-ac33d2b65a05>\u001b[0m in \u001b[0;36m<module>\u001b[0;34m()\u001b[0m\n\u001b[1;32m     24\u001b[0m \u001b[0mTrain_AIM_CNN\u001b[0m\u001b[0;34m(\u001b[0m\u001b[0mtrain_valid_set\u001b[0m\u001b[0;34m,\u001b[0m \u001b[0mtest_set\u001b[0m\u001b[0;34m,\u001b[0m \u001b[0mproject\u001b[0m \u001b[0;34m+\u001b[0m \u001b[0;34m\"_within_0.9\"\u001b[0m\u001b[0;34m,\u001b[0m \u001b[0mgrid\u001b[0m\u001b[0;34m)\u001b[0m\u001b[0;34m\u001b[0m\u001b[0;34m\u001b[0m\u001b[0m\n\u001b[1;32m     25\u001b[0m \u001b[0;34m\u001b[0m\u001b[0m\n\u001b[0;32m---> 26\u001b[0;31m \u001b[0mdrive\u001b[0m\u001b[0;34m.\u001b[0m\u001b[0mflush_and_unmount\u001b[0m\u001b[0;34m(\u001b[0m\u001b[0;34m)\u001b[0m\u001b[0;34m\u001b[0m\u001b[0;34m\u001b[0m\u001b[0m\n\u001b[0m\u001b[1;32m     27\u001b[0m \u001b[0;34m\u001b[0m\u001b[0m\n\u001b[1;32m     28\u001b[0m \u001b[0;31m# # Cross projects (Bootstrap, Docker, Tensorflow, VSCode, and DECA) within 90% train/valid and 10% test\u001b[0m\u001b[0;34m\u001b[0m\u001b[0;34m\u001b[0m\u001b[0;34m\u001b[0m\u001b[0m\n",
            "\u001b[0;32m/usr/local/lib/python3.6/dist-packages/google/colab/drive.py\u001b[0m in \u001b[0;36mflush_and_unmount\u001b[0;34m(timeout_ms)\u001b[0m\n\u001b[1;32m     87\u001b[0m     \u001b[0mprint\u001b[0m\u001b[0;34m(\u001b[0m\u001b[0;34m'flush_and_unmount: out: {}\\nerr: {}'\u001b[0m\u001b[0;34m.\u001b[0m\u001b[0mformat\u001b[0m\u001b[0;34m(\u001b[0m\u001b[0mout\u001b[0m\u001b[0;34m,\u001b[0m \u001b[0merr\u001b[0m\u001b[0;34m)\u001b[0m\u001b[0;34m)\u001b[0m\u001b[0;34m\u001b[0m\u001b[0;34m\u001b[0m\u001b[0m\n\u001b[1;32m     88\u001b[0m   \u001b[0;32mif\u001b[0m \u001b[0mp\u001b[0m\u001b[0;34m.\u001b[0m\u001b[0mreturncode\u001b[0m\u001b[0;34m:\u001b[0m\u001b[0;34m\u001b[0m\u001b[0;34m\u001b[0m\u001b[0m\n\u001b[0;32m---> 89\u001b[0;31m     \u001b[0;32mraise\u001b[0m \u001b[0mValueError\u001b[0m\u001b[0;34m(\u001b[0m\u001b[0;34m'flush_and_unmount failed'\u001b[0m\u001b[0;34m)\u001b[0m\u001b[0;34m\u001b[0m\u001b[0;34m\u001b[0m\u001b[0m\n\u001b[0m\u001b[1;32m     90\u001b[0m \u001b[0;34m\u001b[0m\u001b[0m\n\u001b[1;32m     91\u001b[0m \u001b[0;34m\u001b[0m\u001b[0m\n",
            "\u001b[0;31mValueError\u001b[0m: flush_and_unmount failed"
          ]
        }
      ]
    },
    {
      "cell_type": "code",
      "metadata": {
        "id": "GEaY04s_GW0u",
        "cellView": "form"
      },
      "source": [
        "# @title [OLD; COMMENTED OUT]\n",
        "\n",
        "# import matplotlib.pyplot as plt\n",
        "\n",
        "# test_set = StanfordFiles(test_projects)\n",
        "# test_set.shuffle()\n",
        "# train_valid_set.Preprocess(test_set)\n",
        "\n",
        "# for model_name in models:\n",
        "#   models[model_name]['tfidf'].preprocessor = lambda x: x\n",
        "#   models[model_name]['tfidf'].tokenizer = lambda sent: [str(t) for t in sent.tokens]\n",
        "#   prediction = models[model_name].predict(train_valid_set.processed)\n",
        "\n",
        "#   # train\n",
        "#   train_count = 0;\n",
        "#   for lab, pre in zip(train_valid_set.labels, prediction):\n",
        "#     if label_to_int[lab] == pre:\n",
        "#       train_count = 1 + train_count\n",
        "#   prediction = models[model_name].predict(test_set.processed)\n",
        "\n",
        "#   # test\n",
        "#   test_count = 0;\n",
        "#   for lab, pre in zip(test_set.labels, prediction):\n",
        "#     if label_to_int[lab] == pre:\n",
        "#       test_count = 1 + test_count\n",
        "\n",
        "#   #print\n",
        "#   print(hits[model_name], train_count / len(train_valid_set.processed), test_count / len(test_set.processed))\n",
        "\n",
        "# #prediction = models['NaiveBayes'].predict(test_set.processed)"
      ],
      "execution_count": null,
      "outputs": []
    }
  ]
}